{
 "cells": [
  {
   "cell_type": "code",
   "id": "initial_id",
   "metadata": {
    "collapsed": true,
    "ExecuteTime": {
     "end_time": "2025-09-21T13:11:22.653060Z",
     "start_time": "2025-09-21T13:11:22.440909Z"
    }
   },
   "source": [
    "import pandas as pd\n",
    "import os\n",
    "import shutil\n",
    "from datetime import datetime\n",
    "\n",
    "# === CONFIG ===\n",
    "TRIPLES_FILE = \"../data/kg/triples/movie_kg_triples.tsv\"\n",
    "OUTPUT_FILE = \"../data/output/top10_recommended.txt\"\n",
    "BACKUP_DIR = \"../data/output/backups\"  # folder for backups\n",
    "PREDICATE_REVIEW = \"ex:predictedReview\"\n",
    "PREDICATE_NAME = \"schema:name\"\n",
    "PREDICATE_YEAR = \"schema:datePublished\"\n",
    "\n",
    "# ensure backup directory exists\n",
    "os.makedirs(BACKUP_DIR, exist_ok=True)\n",
    "\n",
    "# === LOAD ===\n",
    "df = pd.read_csv(TRIPLES_FILE, sep=\"\\t\", header=None, names=[\"subject\", \"predicate\", \"object\"])\n",
    "\n",
    "# === STEP 1: filter predicted reviews ===\n",
    "pred_df = df[df[\"predicate\"] == PREDICATE_REVIEW].copy()\n",
    "pred_df[\"score\"] = pred_df[\"object\"].str.extract(r\"([\\d.]+)\").astype(float)\n",
    "\n",
    "# === STEP 2: get movie titles ===\n",
    "title_map = df[df[\"predicate\"] == PREDICATE_NAME].set_index(\"subject\")[\"object\"].to_dict()\n",
    "\n",
    "# === STEP 3: get release years ===\n",
    "year_map = df[df[\"predicate\"] == PREDICATE_YEAR].set_index(\"subject\")[\"object\"].to_dict()\n",
    "\n",
    "# === STEP 4: enrich and sort ===\n",
    "pred_df[\"title\"] = pred_df[\"subject\"].map(title_map)\n",
    "pred_df[\"year\"] = pred_df[\"subject\"].map(year_map)\n",
    "\n",
    "# clean year values like \"published_1999\" → \"1999\"\n",
    "pred_df[\"year\"] = pred_df[\"year\"].str.extract(r\"(\\d{4})\")\n",
    "\n",
    "top10 = pred_df.sort_values(\"score\", ascending=False).head(10)\n",
    "\n",
    "# === FORMAT OUTPUT ===\n",
    "lines = [\"Recommended movies:\"]\n",
    "for _, row in top10.iterrows():\n",
    "    if pd.notna(row[\"title\"]) and pd.notna(row[\"year\"]):\n",
    "        lines.append(f\"{row['title']} ({row['year']})\")\n",
    "\n",
    "# print to console\n",
    "print(\"\\n\".join(lines))\n",
    "\n",
    "# === HANDLE BACKUP ===\n",
    "if os.path.exists(OUTPUT_FILE):\n",
    "    ts = datetime.now().strftime(\"%Y%m%d_%H%M%S\")\n",
    "    backup_file = os.path.join(BACKUP_DIR, f\"top10_recommended_backup_{ts}.txt\")\n",
    "    shutil.move(OUTPUT_FILE, backup_file)\n",
    "    print(f\"Previous file backed up as {backup_file}\")\n",
    "\n",
    "# save new recommendations\n",
    "with open(OUTPUT_FILE, \"w\", encoding=\"utf-8\") as f:\n",
    "    f.write(\"\\n\".join(lines))\n",
    "\n",
    "print(f\"New recommendations saved to {OUTPUT_FILE}\")"
   ],
   "outputs": [
    {
     "name": "stdout",
     "output_type": "stream",
     "text": [
      "Recommended movies:\n",
      "The Passion of the Christ (2004)\n",
      "28 Weeks Later (2007)\n",
      "Titanic (1997)\n",
      "Black Panther (2018)\n",
      "Wickie the Mighty Viking (2009)\n",
      "Scary Stories to Tell in the Dark (2019)\n",
      "Sweeney Todd: The Demon Barber of Fleet Street (2007)\n",
      "Rudolph the Red-Nosed Reindeer: The Movie (1998)\n",
      "The Watch (2012)\n",
      "Jack and Jill (2011)\n",
      "Previous file backed up as ../data/output/backups/top10_recommended_backup_20250921_151122.txt\n",
      "New recommendations saved to ../data/output/top10_recommended.txt\n"
     ]
    }
   ],
   "execution_count": 4
  }
 ],
 "metadata": {
  "kernelspec": {
   "display_name": "Python 3",
   "language": "python",
   "name": "python3"
  },
  "language_info": {
   "codemirror_mode": {
    "name": "ipython",
    "version": 2
   },
   "file_extension": ".py",
   "mimetype": "text/x-python",
   "name": "python",
   "nbconvert_exporter": "python",
   "pygments_lexer": "ipython2",
   "version": "2.7.6"
  }
 },
 "nbformat": 4,
 "nbformat_minor": 5
}
