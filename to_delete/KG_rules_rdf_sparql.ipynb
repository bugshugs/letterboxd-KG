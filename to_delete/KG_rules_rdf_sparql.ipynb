{
 "cells": [
  {
   "cell_type": "markdown",
   "id": "6997aab4",
   "metadata": {},
   "source": [
    "# Film-KG: RDF/SPARQL Regeln materialisieren"
   ]
  },
  {
   "cell_type": "markdown",
   "id": "19859c1c",
   "metadata": {},
   "source": [
    "Dieses Notebook lädt deine Tripeldatei, erstellt zwei Regeln und materialisiert die Kanten:\n",
    "\n",
    "1. **SAME_UNIVERSE**: Zwei Filme teilen sich (kanonisch) mindestens eine Figur → `:SAME_UNIVERSE`  \n",
    "2. **CREATIVE_PAIR (Director×Actor)**: Regisseur und Schauspieler haben ≥2 gemeinsame Filme → `:CREATIVE_PAIR {roles: [\"Director\",\"Actor\"], co_works:n}`\n",
    "\n",
    "> **Hinweis:** Passe ggf. den Pfad zu deiner Tripeldatei an. Standardmäßig wird `/mnt/data/movie_kg_triples.tsv` erwartet (Subject \\t Predicate \\t Object).\n"
   ]
  },
  {
   "cell_type": "code",
   "id": "8306b34c",
   "metadata": {
    "ExecuteTime": {
     "end_time": "2025-09-14T23:45:13.191673Z",
     "start_time": "2025-09-14T23:45:12.795659Z"
    }
   },
   "source": [
    "# (1) Setup: Bibliotheken importieren\n",
    "!python -c \"import rdflib\" 2>/dev/null || pip -q install rdflib==7.0.0\n",
    "\n",
    "from rdflib import Graph, Namespace, URIRef, Literal\n",
    "from rdflib.namespace import RDF, RDFS, XSD\n",
    "from pathlib import Path\n",
    "\n",
    "DATA_PATH = Path(\"../data/kg/triples/movie_kg_triples.tsv\")  # ggf. anpassen\n",
    "OUT_DIR = Path(\"outputs\")\n",
    "OUT_DIR.mkdir(exist_ok=True, parents=True)\n",
    "\n",
    "print(\"Benutze Datendatei:\", DATA_PATH.resolve())\n",
    "print(\"Output-Verzeichnis:\", OUT_DIR.resolve())\n"
   ],
   "outputs": [
    {
     "name": "stdout",
     "output_type": "stream",
     "text": [
      "Benutze Datendatei: /Users/tschaffel/PycharmProjects/letterboxd-KG/data/kg/triples/movie_kg_triples.tsv\n",
      "Output-Verzeichnis: /Users/tschaffel/PycharmProjects/letterboxd-KG/data/kg/outputs\n"
     ]
    }
   ],
   "execution_count": 3
  },
  {
   "cell_type": "code",
   "id": "791306fd",
   "metadata": {
    "ExecuteTime": {
     "end_time": "2025-09-14T23:48:55.306359Z",
     "start_time": "2025-09-14T23:48:54.552652Z"
    }
   },
   "source": [
    "# (2) Tripel laden (TSV: S\\tP\\tO) in einen RDFLib-Graphen\n",
    "g = Graph()\n",
    "\n",
    "SCHEMA = Namespace(\"http://schema.org/\")\n",
    "EX     = Namespace(\"http://example.org/\")\n",
    "g.bind(\"schema\", SCHEMA)\n",
    "g.bind(\"ex\", EX)\n",
    "g.bind(\"rdf\", RDF)\n",
    "\n",
    "prefix_map = {\n",
    "    \"schema\": str(SCHEMA),\n",
    "    \"rdf\": str(RDF),\n",
    "    \"rdfs\": str(RDFS),\n",
    "    \"xsd\": str(XSD),\n",
    "}\n",
    "\n",
    "from rdflib import URIRef, Literal\n",
    "\n",
    "def parse_term(term: str):\n",
    "    term = term.strip()\n",
    "    # 1) explizites Literal\n",
    "    if len(term) >= 2 and term[0] == '\"' and term[-1] == '\"':\n",
    "        return Literal(term[1:-1])\n",
    "    # 2) absolute URI\n",
    "    if term.startswith(\"http://\") or term.startswith(\"https://\"):\n",
    "        return URIRef(term)\n",
    "    # 3) QName\n",
    "    if \":\" in term:\n",
    "        pfx, local = term.split(\":\", 1)\n",
    "        if pfx in prefix_map:\n",
    "            return URIRef(prefix_map[pfx] + local)\n",
    "    # 4) sonst als Literal (z.B. Personenname ohne Quotes)\n",
    "    return Literal(term)\n",
    "\n",
    "count = 0\n",
    "with DATA_PATH.open(\"r\", encoding=\"utf-8\") as f:\n",
    "    for line in f:\n",
    "        line = line.strip()\n",
    "        if not line or line.startswith(\"#\"):\n",
    "            continue\n",
    "        parts = line.split(\"\\t\")\n",
    "        if len(parts) != 3:\n",
    "            continue\n",
    "        s, p, o = map(parse_term, parts)\n",
    "        g.add((s, p, o))\n",
    "        count += 1\n",
    "\n",
    "print(f\"Geladene Tripel: {count}\")\n",
    "print(\"Beispiel-Tripel:\")\n",
    "for i, (s,p,o) in enumerate(g):\n",
    "    print(\"-\", s, p, o)\n",
    "    if i >= 4:\n",
    "        break\n"
   ],
   "outputs": [
    {
     "name": "stdout",
     "output_type": "stream",
     "text": [
      "Geladene Tripel: 58601\n",
      "Beispiel-Tripel:\n",
      "- movie496 http://schema.org/actor person1123205\n",
      "- person52366 http://schema.org/name Andrew Bryniarski\n",
      "- company27711 ex:country US\n",
      "- movie19164 http://schema.org/genre genre12\n",
      "- movie492719 http://schema.org/character Yuko Tani (voice)\n"
     ]
    }
   ],
   "execution_count": 6
  },
  {
   "cell_type": "markdown",
   "id": "82f32e32",
   "metadata": {},
   "source": [
    "## Regel 1: `:SAME_UNIVERSE` über geteilte Figur (mit Kanonisierung)"
   ]
  },
  {
   "cell_type": "code",
   "id": "190e54f5",
   "metadata": {
    "ExecuteTime": {
     "end_time": "2025-09-15T00:23:48.269257Z",
     "start_time": "2025-09-14T23:49:09.668236Z"
    }
   },
   "source": [
    "# (3) SAME_UNIVERSE konstruieren\n",
    "same_universe_q = 'PREFIX schema: <http://schema.org/>\\nPREFIX ex:     <http://kg.local/>\\n\\nCONSTRUCT {\\n  ?f1 ex:SAME_UNIVERSE ?f2 .\\n}\\nWHERE {\\n  ?f1 schema:character ?ch1 .\\n  ?f2 schema:character ?ch2 .\\n  FILTER(?f1 != ?f2)\\n\\n  # Kanonisierung: Klammerzusätze entfernen (z.B. \"(voice)\"), trimmen, lower-case\\n  BIND( LCASE(STR(REPLACE(STR(?ch1), \"\\\\\\\\s*\\\\\\\\([^)]*\\\\\\\\)\", \"\"))) AS ?canon1 )\\n  BIND( LCASE(STR(REPLACE(STR(?ch2), \"\\\\\\\\s*\\\\\\\\([^)]*\\\\\\\\)\", \"\"))) AS ?canon2 )\\n\\n  FILTER(STRLEN(STR(?canon1)) > 0)\\n  FILTER(?canon1 = ?canon2)\\n}\\n'\n",
    "\n",
    "su_graph = g.query(same_universe_q).graph\n",
    "print(\"SAME_UNIVERSE-Kanten:\", len(su_graph))\n",
    "su_path = OUT_DIR / \"derived_same_universe.ttl\"\n",
    "su_graph.serialize(destination=str(su_path), format=\"turtle\")\n",
    "print(\"Gespeichert:\", su_path.resolve())\n",
    "\n",
    "# Optional: in den Hauptgraphen materialisieren\n",
    "for t in su_graph:\n",
    "    g.add(t)\n",
    "\n",
    "print(\"Gesamttripel nach Materialisierung:\", len(g))\n"
   ],
   "outputs": [
    {
     "ename": "KeyboardInterrupt",
     "evalue": "",
     "output_type": "error",
     "traceback": [
      "\u001B[0;31m---------------------------------------------------------------------------\u001B[0m",
      "\u001B[0;31mKeyboardInterrupt\u001B[0m                         Traceback (most recent call last)",
      "Cell \u001B[0;32mIn[7], line 4\u001B[0m\n\u001B[1;32m      1\u001B[0m \u001B[38;5;66;03m# (3) SAME_UNIVERSE konstruieren\u001B[39;00m\n\u001B[1;32m      2\u001B[0m same_universe_q \u001B[38;5;241m=\u001B[39m \u001B[38;5;124m'\u001B[39m\u001B[38;5;124mPREFIX schema: <http://schema.org/>\u001B[39m\u001B[38;5;130;01m\\n\u001B[39;00m\u001B[38;5;124mPREFIX ex:     <http://kg.local/>\u001B[39m\u001B[38;5;130;01m\\n\u001B[39;00m\u001B[38;5;130;01m\\n\u001B[39;00m\u001B[38;5;124mCONSTRUCT \u001B[39m\u001B[38;5;124m{\u001B[39m\u001B[38;5;130;01m\\n\u001B[39;00m\u001B[38;5;124m  ?f1 ex:SAME_UNIVERSE ?f2 .\u001B[39m\u001B[38;5;130;01m\\n\u001B[39;00m\u001B[38;5;124m}\u001B[39m\u001B[38;5;130;01m\\n\u001B[39;00m\u001B[38;5;124mWHERE \u001B[39m\u001B[38;5;124m{\u001B[39m\u001B[38;5;130;01m\\n\u001B[39;00m\u001B[38;5;124m  ?f1 schema:character ?ch1 .\u001B[39m\u001B[38;5;130;01m\\n\u001B[39;00m\u001B[38;5;124m  ?f2 schema:character ?ch2 .\u001B[39m\u001B[38;5;130;01m\\n\u001B[39;00m\u001B[38;5;124m  FILTER(?f1 != ?f2)\u001B[39m\u001B[38;5;130;01m\\n\u001B[39;00m\u001B[38;5;130;01m\\n\u001B[39;00m\u001B[38;5;124m  # Kanonisierung: Klammerzusätze entfernen (z.B. \u001B[39m\u001B[38;5;124m\"\u001B[39m\u001B[38;5;124m(voice)\u001B[39m\u001B[38;5;124m\"\u001B[39m\u001B[38;5;124m), trimmen, lower-case\u001B[39m\u001B[38;5;130;01m\\n\u001B[39;00m\u001B[38;5;124m  BIND( LCASE(STR(REPLACE(STR(?ch1), \u001B[39m\u001B[38;5;124m\"\u001B[39m\u001B[38;5;130;01m\\\\\u001B[39;00m\u001B[38;5;130;01m\\\\\u001B[39;00m\u001B[38;5;124ms*\u001B[39m\u001B[38;5;130;01m\\\\\u001B[39;00m\u001B[38;5;130;01m\\\\\u001B[39;00m\u001B[38;5;124m([^)]*\u001B[39m\u001B[38;5;130;01m\\\\\u001B[39;00m\u001B[38;5;130;01m\\\\\u001B[39;00m\u001B[38;5;124m)\u001B[39m\u001B[38;5;124m\"\u001B[39m\u001B[38;5;124m, \u001B[39m\u001B[38;5;124m\"\u001B[39m\u001B[38;5;124m\"\u001B[39m\u001B[38;5;124m))) AS ?canon1 )\u001B[39m\u001B[38;5;130;01m\\n\u001B[39;00m\u001B[38;5;124m  BIND( LCASE(STR(REPLACE(STR(?ch2), \u001B[39m\u001B[38;5;124m\"\u001B[39m\u001B[38;5;130;01m\\\\\u001B[39;00m\u001B[38;5;130;01m\\\\\u001B[39;00m\u001B[38;5;124ms*\u001B[39m\u001B[38;5;130;01m\\\\\u001B[39;00m\u001B[38;5;130;01m\\\\\u001B[39;00m\u001B[38;5;124m([^)]*\u001B[39m\u001B[38;5;130;01m\\\\\u001B[39;00m\u001B[38;5;130;01m\\\\\u001B[39;00m\u001B[38;5;124m)\u001B[39m\u001B[38;5;124m\"\u001B[39m\u001B[38;5;124m, \u001B[39m\u001B[38;5;124m\"\u001B[39m\u001B[38;5;124m\"\u001B[39m\u001B[38;5;124m))) AS ?canon2 )\u001B[39m\u001B[38;5;130;01m\\n\u001B[39;00m\u001B[38;5;130;01m\\n\u001B[39;00m\u001B[38;5;124m  FILTER(STRLEN(STR(?canon1)) > 0)\u001B[39m\u001B[38;5;130;01m\\n\u001B[39;00m\u001B[38;5;124m  FILTER(?canon1 = ?canon2)\u001B[39m\u001B[38;5;130;01m\\n\u001B[39;00m\u001B[38;5;124m}\u001B[39m\u001B[38;5;130;01m\\n\u001B[39;00m\u001B[38;5;124m'\u001B[39m\n\u001B[0;32m----> 4\u001B[0m su_graph \u001B[38;5;241m=\u001B[39m g\u001B[38;5;241m.\u001B[39mquery(same_universe_q)\u001B[38;5;241m.\u001B[39mgraph\n\u001B[1;32m      5\u001B[0m \u001B[38;5;28mprint\u001B[39m(\u001B[38;5;124m\"\u001B[39m\u001B[38;5;124mSAME_UNIVERSE-Kanten:\u001B[39m\u001B[38;5;124m\"\u001B[39m, \u001B[38;5;28mlen\u001B[39m(su_graph))\n\u001B[1;32m      6\u001B[0m su_path \u001B[38;5;241m=\u001B[39m OUT_DIR \u001B[38;5;241m/\u001B[39m \u001B[38;5;124m\"\u001B[39m\u001B[38;5;124mderived_same_universe.ttl\u001B[39m\u001B[38;5;124m\"\u001B[39m\n",
      "File \u001B[0;32m/opt/anaconda3/lib/python3.13/site-packages/rdflib/graph.py:1632\u001B[0m, in \u001B[0;36mGraph.query\u001B[0;34m(self, query_object, processor, result, initNs, initBindings, use_store_provided, **kwargs)\u001B[0m\n\u001B[1;32m   1629\u001B[0m     processor \u001B[38;5;241m=\u001B[39m plugin\u001B[38;5;241m.\u001B[39mget(processor, query\u001B[38;5;241m.\u001B[39mProcessor)(\u001B[38;5;28mself\u001B[39m)\n\u001B[1;32m   1631\u001B[0m \u001B[38;5;66;03m# type error: Argument 1 to \"Result\" has incompatible type \"Mapping[str, Any]\"; expected \"str\"\u001B[39;00m\n\u001B[0;32m-> 1632\u001B[0m \u001B[38;5;28;01mreturn\u001B[39;00m result(processor\u001B[38;5;241m.\u001B[39mquery(query_object, initBindings, initNs, \u001B[38;5;241m*\u001B[39m\u001B[38;5;241m*\u001B[39mkwargs))\n",
      "File \u001B[0;32m/opt/anaconda3/lib/python3.13/site-packages/rdflib/plugins/sparql/processor.py:147\u001B[0m, in \u001B[0;36mSPARQLProcessor.query\u001B[0;34m(self, strOrQuery, initBindings, initNs, base, DEBUG)\u001B[0m\n\u001B[1;32m    144\u001B[0m \u001B[38;5;28;01mif\u001B[39;00m \u001B[38;5;28misinstance\u001B[39m(strOrQuery, \u001B[38;5;28mstr\u001B[39m):\n\u001B[1;32m    145\u001B[0m     strOrQuery \u001B[38;5;241m=\u001B[39m translateQuery(parseQuery(strOrQuery), base, initNs)\n\u001B[0;32m--> 147\u001B[0m \u001B[38;5;28;01mreturn\u001B[39;00m evalQuery(\u001B[38;5;28mself\u001B[39m\u001B[38;5;241m.\u001B[39mgraph, strOrQuery, initBindings, base)\n",
      "File \u001B[0;32m/opt/anaconda3/lib/python3.13/site-packages/rdflib/plugins/sparql/evaluate.py:685\u001B[0m, in \u001B[0;36mevalQuery\u001B[0;34m(graph, query, initBindings, base)\u001B[0m\n\u001B[1;32m    679\u001B[0m ctx \u001B[38;5;241m=\u001B[39m QueryContext(\n\u001B[1;32m    680\u001B[0m     graph, initBindings\u001B[38;5;241m=\u001B[39minitBindings, datasetClause\u001B[38;5;241m=\u001B[39mmain\u001B[38;5;241m.\u001B[39mdatasetClause\n\u001B[1;32m    681\u001B[0m )\n\u001B[1;32m    683\u001B[0m ctx\u001B[38;5;241m.\u001B[39mprologue \u001B[38;5;241m=\u001B[39m query\u001B[38;5;241m.\u001B[39mprologue\n\u001B[0;32m--> 685\u001B[0m \u001B[38;5;28;01mreturn\u001B[39;00m evalPart(ctx, main)\n",
      "File \u001B[0;32m/opt/anaconda3/lib/python3.13/site-packages/rdflib/plugins/sparql/evaluate.py:332\u001B[0m, in \u001B[0;36mevalPart\u001B[0;34m(ctx, part)\u001B[0m\n\u001B[1;32m    330\u001B[0m     \u001B[38;5;28;01mreturn\u001B[39;00m evalAskQuery(ctx, part)\n\u001B[1;32m    331\u001B[0m \u001B[38;5;28;01melif\u001B[39;00m part\u001B[38;5;241m.\u001B[39mname \u001B[38;5;241m==\u001B[39m \u001B[38;5;124m\"\u001B[39m\u001B[38;5;124mConstructQuery\u001B[39m\u001B[38;5;124m\"\u001B[39m:\n\u001B[0;32m--> 332\u001B[0m     \u001B[38;5;28;01mreturn\u001B[39;00m evalConstructQuery(ctx, part)\n\u001B[1;32m    334\u001B[0m \u001B[38;5;28;01melif\u001B[39;00m part\u001B[38;5;241m.\u001B[39mname \u001B[38;5;241m==\u001B[39m \u001B[38;5;124m\"\u001B[39m\u001B[38;5;124mServiceGraphPattern\u001B[39m\u001B[38;5;124m\"\u001B[39m:\n\u001B[1;32m    335\u001B[0m     \u001B[38;5;28;01mreturn\u001B[39;00m evalServiceQuery(ctx, part)\n",
      "File \u001B[0;32m/opt/anaconda3/lib/python3.13/site-packages/rdflib/plugins/sparql/evaluate.py:609\u001B[0m, in \u001B[0;36mevalConstructQuery\u001B[0;34m(ctx, query)\u001B[0m\n\u001B[1;32m    605\u001B[0m     template \u001B[38;5;241m=\u001B[39m query\u001B[38;5;241m.\u001B[39mp\u001B[38;5;241m.\u001B[39mp\u001B[38;5;241m.\u001B[39mtriples  \u001B[38;5;66;03m# query->project->bgp ...\u001B[39;00m\n\u001B[1;32m    607\u001B[0m graph \u001B[38;5;241m=\u001B[39m Graph()\n\u001B[0;32m--> 609\u001B[0m \u001B[38;5;28;01mfor\u001B[39;00m c \u001B[38;5;129;01min\u001B[39;00m evalPart(ctx, query\u001B[38;5;241m.\u001B[39mp):\n\u001B[1;32m    610\u001B[0m     graph \u001B[38;5;241m+\u001B[39m\u001B[38;5;241m=\u001B[39m _fillTemplate(template, c)\n\u001B[1;32m    612\u001B[0m res: Dict[\u001B[38;5;28mstr\u001B[39m, Union[\u001B[38;5;28mstr\u001B[39m, Graph]] \u001B[38;5;241m=\u001B[39m {}\n",
      "File \u001B[0;32m/opt/anaconda3/lib/python3.13/site-packages/rdflib/plugins/sparql/evaluate.py:574\u001B[0m, in \u001B[0;36m<genexpr>\u001B[0;34m(.0)\u001B[0m\n\u001B[1;32m    572\u001B[0m \u001B[38;5;28;01mdef\u001B[39;00m\u001B[38;5;250m \u001B[39m\u001B[38;5;21mevalProject\u001B[39m(ctx: QueryContext, project: CompValue):\n\u001B[1;32m    573\u001B[0m     res \u001B[38;5;241m=\u001B[39m evalPart(ctx, project\u001B[38;5;241m.\u001B[39mp)\n\u001B[0;32m--> 574\u001B[0m     \u001B[38;5;28;01mreturn\u001B[39;00m (row\u001B[38;5;241m.\u001B[39mproject(project\u001B[38;5;241m.\u001B[39mPV) \u001B[38;5;28;01mfor\u001B[39;00m row \u001B[38;5;129;01min\u001B[39;00m res)\n",
      "File \u001B[0;32m/opt/anaconda3/lib/python3.13/site-packages/rdflib/plugins/sparql/evaluate.py:214\u001B[0m, in \u001B[0;36mevalFilter\u001B[0;34m(ctx, part)\u001B[0m\n\u001B[1;32m    209\u001B[0m \u001B[38;5;28;01mdef\u001B[39;00m\u001B[38;5;250m \u001B[39m\u001B[38;5;21mevalFilter\u001B[39m(\n\u001B[1;32m    210\u001B[0m     ctx: QueryContext, part: CompValue\n\u001B[1;32m    211\u001B[0m ) \u001B[38;5;241m-\u001B[39m\u001B[38;5;241m>\u001B[39m Generator[FrozenBindings, \u001B[38;5;28;01mNone\u001B[39;00m, \u001B[38;5;28;01mNone\u001B[39;00m]:\n\u001B[1;32m    212\u001B[0m     \u001B[38;5;66;03m# TODO: Deal with dict returned from evalPart!\u001B[39;00m\n\u001B[1;32m    213\u001B[0m     \u001B[38;5;28;01mfor\u001B[39;00m c \u001B[38;5;129;01min\u001B[39;00m evalPart(ctx, part\u001B[38;5;241m.\u001B[39mp):\n\u001B[0;32m--> 214\u001B[0m         \u001B[38;5;28;01mif\u001B[39;00m _ebv(\n\u001B[1;32m    215\u001B[0m             part\u001B[38;5;241m.\u001B[39mexpr,\n\u001B[1;32m    216\u001B[0m             c\u001B[38;5;241m.\u001B[39mforget(ctx, _except\u001B[38;5;241m=\u001B[39mpart\u001B[38;5;241m.\u001B[39m_vars) \u001B[38;5;28;01mif\u001B[39;00m \u001B[38;5;129;01mnot\u001B[39;00m part\u001B[38;5;241m.\u001B[39mno_isolated_scope \u001B[38;5;28;01melse\u001B[39;00m c,\n\u001B[1;32m    217\u001B[0m         ):\n\u001B[1;32m    218\u001B[0m             \u001B[38;5;28;01myield\u001B[39;00m c\n",
      "File \u001B[0;32m/opt/anaconda3/lib/python3.13/site-packages/rdflib/plugins/sparql/evalutils.py:88\u001B[0m, in \u001B[0;36m_ebv\u001B[0;34m(expr, ctx)\u001B[0m\n\u001B[1;32m     86\u001B[0m \u001B[38;5;28;01mif\u001B[39;00m \u001B[38;5;28misinstance\u001B[39m(expr, Expr):\n\u001B[1;32m     87\u001B[0m     \u001B[38;5;28;01mtry\u001B[39;00m:\n\u001B[0;32m---> 88\u001B[0m         \u001B[38;5;28;01mreturn\u001B[39;00m EBV(expr\u001B[38;5;241m.\u001B[39meval(ctx))\n\u001B[1;32m     89\u001B[0m     \u001B[38;5;28;01mexcept\u001B[39;00m SPARQLError:\n\u001B[1;32m     90\u001B[0m         \u001B[38;5;28;01mreturn\u001B[39;00m \u001B[38;5;28;01mFalse\u001B[39;00m  \u001B[38;5;66;03m# filter error == False\u001B[39;00m\n",
      "File \u001B[0;32m/opt/anaconda3/lib/python3.13/site-packages/rdflib/plugins/sparql/parserutils.py:226\u001B[0m, in \u001B[0;36mExpr.eval\u001B[0;34m(self, ctx)\u001B[0m\n\u001B[1;32m    224\u001B[0m     \u001B[38;5;28mself\u001B[39m\u001B[38;5;241m.\u001B[39mctx: Optional[Union[Mapping, FrozenBindings]] \u001B[38;5;241m=\u001B[39m ctx\n\u001B[1;32m    225\u001B[0m     \u001B[38;5;66;03m# type error: \"None\" not callable\u001B[39;00m\n\u001B[0;32m--> 226\u001B[0m     \u001B[38;5;28;01mreturn\u001B[39;00m \u001B[38;5;28mself\u001B[39m\u001B[38;5;241m.\u001B[39m_evalfn(ctx)  \u001B[38;5;66;03m# type: ignore[misc]\u001B[39;00m\n\u001B[1;32m    227\u001B[0m \u001B[38;5;28;01mexcept\u001B[39;00m SPARQLError \u001B[38;5;28;01mas\u001B[39;00m e:\n\u001B[1;32m    228\u001B[0m     \u001B[38;5;28;01mreturn\u001B[39;00m e\n",
      "File \u001B[0;32m/opt/anaconda3/lib/python3.13/site-packages/rdflib/plugins/sparql/operators.py:934\u001B[0m, in \u001B[0;36mConditionalAndExpression\u001B[0;34m(e, ctx)\u001B[0m\n\u001B[1;32m    928\u001B[0m \u001B[38;5;28;01mdef\u001B[39;00m\u001B[38;5;250m \u001B[39m\u001B[38;5;21mConditionalAndExpression\u001B[39m(\n\u001B[1;32m    929\u001B[0m     e: Expr, ctx: Union[QueryContext, FrozenBindings]\n\u001B[1;32m    930\u001B[0m ) \u001B[38;5;241m-\u001B[39m\u001B[38;5;241m>\u001B[39m Literal:\n\u001B[1;32m    931\u001B[0m     \u001B[38;5;66;03m# TODO: handle returned errors\u001B[39;00m\n\u001B[1;32m    933\u001B[0m     expr \u001B[38;5;241m=\u001B[39m e\u001B[38;5;241m.\u001B[39mexpr\n\u001B[0;32m--> 934\u001B[0m     other \u001B[38;5;241m=\u001B[39m e\u001B[38;5;241m.\u001B[39mother\n\u001B[1;32m    936\u001B[0m     \u001B[38;5;66;03m# because of the way the add-expr production handled operator precedence\u001B[39;00m\n\u001B[1;32m    937\u001B[0m     \u001B[38;5;66;03m# we sometimes have nothing to do\u001B[39;00m\n\u001B[1;32m    938\u001B[0m     \u001B[38;5;28;01mif\u001B[39;00m other \u001B[38;5;129;01mis\u001B[39;00m \u001B[38;5;28;01mNone\u001B[39;00m:\n",
      "File \u001B[0;32m/opt/anaconda3/lib/python3.13/site-packages/rdflib/plugins/sparql/parserutils.py:195\u001B[0m, in \u001B[0;36mCompValue.__getattr__\u001B[0;34m(self, a)\u001B[0m\n\u001B[1;32m    193\u001B[0m     \u001B[38;5;28;01mraise\u001B[39;00m \u001B[38;5;167;01mAttributeError\u001B[39;00m()\n\u001B[1;32m    194\u001B[0m \u001B[38;5;28;01mtry\u001B[39;00m:\n\u001B[0;32m--> 195\u001B[0m     \u001B[38;5;28;01mreturn\u001B[39;00m \u001B[38;5;28mself\u001B[39m[a]\n\u001B[1;32m    196\u001B[0m \u001B[38;5;28;01mexcept\u001B[39;00m \u001B[38;5;167;01mKeyError\u001B[39;00m:\n\u001B[1;32m    197\u001B[0m     \u001B[38;5;66;03m# raise AttributeError('no such attribute '+a)\u001B[39;00m\n\u001B[1;32m    198\u001B[0m     \u001B[38;5;28;01mreturn\u001B[39;00m \u001B[38;5;28;01mNone\u001B[39;00m\n",
      "File \u001B[0;32m/opt/anaconda3/lib/python3.13/site-packages/rdflib/plugins/sparql/parserutils.py:183\u001B[0m, in \u001B[0;36mCompValue.__getitem__\u001B[0;34m(self, a)\u001B[0m\n\u001B[1;32m    182\u001B[0m \u001B[38;5;28;01mdef\u001B[39;00m\u001B[38;5;250m \u001B[39m\u001B[38;5;21m__getitem__\u001B[39m(\u001B[38;5;28mself\u001B[39m, a):\n\u001B[0;32m--> 183\u001B[0m     \u001B[38;5;28;01mreturn\u001B[39;00m \u001B[38;5;28mself\u001B[39m\u001B[38;5;241m.\u001B[39m_value(OrderedDict\u001B[38;5;241m.\u001B[39m\u001B[38;5;21m__getitem__\u001B[39m(\u001B[38;5;28mself\u001B[39m, a))\n",
      "File \u001B[0;32m/opt/anaconda3/lib/python3.13/site-packages/rdflib/plugins/sparql/parserutils.py:178\u001B[0m, in \u001B[0;36mCompValue._value\u001B[0;34m(self, val, variables, errors)\u001B[0m\n\u001B[1;32m    174\u001B[0m \u001B[38;5;28;01mdef\u001B[39;00m\u001B[38;5;250m \u001B[39m\u001B[38;5;21m_value\u001B[39m(\n\u001B[1;32m    175\u001B[0m     \u001B[38;5;28mself\u001B[39m, val: _ValT, variables: \u001B[38;5;28mbool\u001B[39m \u001B[38;5;241m=\u001B[39m \u001B[38;5;28;01mFalse\u001B[39;00m, errors: \u001B[38;5;28mbool\u001B[39m \u001B[38;5;241m=\u001B[39m \u001B[38;5;28;01mFalse\u001B[39;00m\n\u001B[1;32m    176\u001B[0m ) \u001B[38;5;241m-\u001B[39m\u001B[38;5;241m>\u001B[39m Union[_ValT, Any]:\n\u001B[1;32m    177\u001B[0m     \u001B[38;5;28;01mif\u001B[39;00m \u001B[38;5;28mself\u001B[39m\u001B[38;5;241m.\u001B[39mctx \u001B[38;5;129;01mis\u001B[39;00m \u001B[38;5;129;01mnot\u001B[39;00m \u001B[38;5;28;01mNone\u001B[39;00m:\n\u001B[0;32m--> 178\u001B[0m         \u001B[38;5;28;01mreturn\u001B[39;00m value(\u001B[38;5;28mself\u001B[39m\u001B[38;5;241m.\u001B[39mctx, val, variables)\n\u001B[1;32m    179\u001B[0m     \u001B[38;5;28;01melse\u001B[39;00m:\n\u001B[1;32m    180\u001B[0m         \u001B[38;5;28;01mreturn\u001B[39;00m val\n",
      "File \u001B[0;32m/opt/anaconda3/lib/python3.13/site-packages/rdflib/plugins/sparql/parserutils.py:81\u001B[0m, in \u001B[0;36mvalue\u001B[0;34m(ctx, val, variables, errors)\u001B[0m\n\u001B[1;32m     78\u001B[0m     \u001B[38;5;28;01mraise\u001B[39;00m \u001B[38;5;167;01mException\u001B[39;00m(\u001B[38;5;124m\"\u001B[39m\u001B[38;5;124mWhat do I do with this CompValue? \u001B[39m\u001B[38;5;132;01m%s\u001B[39;00m\u001B[38;5;124m\"\u001B[39m \u001B[38;5;241m%\u001B[39m val)\n\u001B[1;32m     80\u001B[0m \u001B[38;5;28;01melif\u001B[39;00m \u001B[38;5;28misinstance\u001B[39m(val, \u001B[38;5;28mlist\u001B[39m):\n\u001B[0;32m---> 81\u001B[0m     \u001B[38;5;28;01mreturn\u001B[39;00m [value(ctx, x, variables, errors) \u001B[38;5;28;01mfor\u001B[39;00m x \u001B[38;5;129;01min\u001B[39;00m val]\n\u001B[1;32m     83\u001B[0m \u001B[38;5;28;01melif\u001B[39;00m \u001B[38;5;28misinstance\u001B[39m(val, (BNode, Variable)):\n\u001B[1;32m     84\u001B[0m     r \u001B[38;5;241m=\u001B[39m ctx\u001B[38;5;241m.\u001B[39mget(val)\n",
      "File \u001B[0;32m/opt/anaconda3/lib/python3.13/site-packages/rdflib/plugins/sparql/parserutils.py:76\u001B[0m, in \u001B[0;36mvalue\u001B[0;34m(ctx, val, variables, errors)\u001B[0m\n\u001B[1;32m     63\u001B[0m \u001B[38;5;250m\u001B[39m\u001B[38;5;124;03m\"\"\"\u001B[39;00m\n\u001B[1;32m     64\u001B[0m \u001B[38;5;124;03mutility function for evaluating something...\u001B[39;00m\n\u001B[1;32m     65\u001B[0m \n\u001B[0;32m   (...)\u001B[0m\n\u001B[1;32m     72\u001B[0m \n\u001B[1;32m     73\u001B[0m \u001B[38;5;124;03m\"\"\"\u001B[39;00m\n\u001B[1;32m     75\u001B[0m \u001B[38;5;28;01mif\u001B[39;00m \u001B[38;5;28misinstance\u001B[39m(val, Expr):\n\u001B[0;32m---> 76\u001B[0m     \u001B[38;5;28;01mreturn\u001B[39;00m val\u001B[38;5;241m.\u001B[39meval(ctx)  \u001B[38;5;66;03m# recurse?\u001B[39;00m\n\u001B[1;32m     77\u001B[0m \u001B[38;5;28;01melif\u001B[39;00m \u001B[38;5;28misinstance\u001B[39m(val, CompValue):\n\u001B[1;32m     78\u001B[0m     \u001B[38;5;28;01mraise\u001B[39;00m \u001B[38;5;167;01mException\u001B[39;00m(\u001B[38;5;124m\"\u001B[39m\u001B[38;5;124mWhat do I do with this CompValue? \u001B[39m\u001B[38;5;132;01m%s\u001B[39;00m\u001B[38;5;124m\"\u001B[39m \u001B[38;5;241m%\u001B[39m val)\n",
      "File \u001B[0;32m/opt/anaconda3/lib/python3.13/site-packages/rdflib/plugins/sparql/parserutils.py:226\u001B[0m, in \u001B[0;36mExpr.eval\u001B[0;34m(self, ctx)\u001B[0m\n\u001B[1;32m    224\u001B[0m     \u001B[38;5;28mself\u001B[39m\u001B[38;5;241m.\u001B[39mctx: Optional[Union[Mapping, FrozenBindings]] \u001B[38;5;241m=\u001B[39m ctx\n\u001B[1;32m    225\u001B[0m     \u001B[38;5;66;03m# type error: \"None\" not callable\u001B[39;00m\n\u001B[0;32m--> 226\u001B[0m     \u001B[38;5;28;01mreturn\u001B[39;00m \u001B[38;5;28mself\u001B[39m\u001B[38;5;241m.\u001B[39m_evalfn(ctx)  \u001B[38;5;66;03m# type: ignore[misc]\u001B[39;00m\n\u001B[1;32m    227\u001B[0m \u001B[38;5;28;01mexcept\u001B[39;00m SPARQLError \u001B[38;5;28;01mas\u001B[39;00m e:\n\u001B[1;32m    228\u001B[0m     \u001B[38;5;28;01mreturn\u001B[39;00m e\n",
      "File \u001B[0;32m/opt/anaconda3/lib/python3.13/site-packages/rdflib/plugins/sparql/operators.py:925\u001B[0m, in \u001B[0;36mRelationalExpression\u001B[0;34m(e, ctx)\u001B[0m\n\u001B[1;32m    923\u001B[0m \u001B[38;5;28;01mexcept\u001B[39;00m \u001B[38;5;167;01mTypeError\u001B[39;00m \u001B[38;5;28;01mas\u001B[39;00m te:\n\u001B[1;32m    924\u001B[0m     \u001B[38;5;28;01mraise\u001B[39;00m SPARQLError(\u001B[38;5;241m*\u001B[39mte\u001B[38;5;241m.\u001B[39margs)\n\u001B[0;32m--> 925\u001B[0m \u001B[38;5;28;01mreturn\u001B[39;00m Literal(r)\n",
      "File \u001B[0;32m/opt/anaconda3/lib/python3.13/site-packages/rdflib/term.py:706\u001B[0m, in \u001B[0;36mLiteral.__new__\u001B[0;34m(cls, lexical_or_value, lang, datatype, normalize)\u001B[0m\n\u001B[1;32m    703\u001B[0m     lexical_or_value \u001B[38;5;241m=\u001B[39m _strip_and_collapse_whitespace(lexical_or_value)\n\u001B[1;32m    705\u001B[0m \u001B[38;5;28;01mtry\u001B[39;00m:\n\u001B[0;32m--> 706\u001B[0m     inst: Literal \u001B[38;5;241m=\u001B[39m \u001B[38;5;28mstr\u001B[39m\u001B[38;5;241m.\u001B[39m\u001B[38;5;21m__new__\u001B[39m(\u001B[38;5;28mcls\u001B[39m, lexical_or_value)\n\u001B[1;32m    707\u001B[0m \u001B[38;5;28;01mexcept\u001B[39;00m \u001B[38;5;167;01mUnicodeDecodeError\u001B[39;00m:\n\u001B[1;32m    708\u001B[0m     inst \u001B[38;5;241m=\u001B[39m \u001B[38;5;28mstr\u001B[39m\u001B[38;5;241m.\u001B[39m\u001B[38;5;21m__new__\u001B[39m(\u001B[38;5;28mcls\u001B[39m, lexical_or_value, \u001B[38;5;124m\"\u001B[39m\u001B[38;5;124mutf-8\u001B[39m\u001B[38;5;124m\"\u001B[39m)\n",
      "\u001B[0;31mKeyboardInterrupt\u001B[0m: "
     ]
    }
   ],
   "execution_count": 7
  },
  {
   "cell_type": "markdown",
   "id": "985cbd11",
   "metadata": {},
   "source": [
    "## Regel 2: `:CREATIVE_PAIR` (Director × Actor, ≥2 gemeinsame Filme)"
   ]
  },
  {
   "cell_type": "code",
   "execution_count": null,
   "id": "e6adb624",
   "metadata": {},
   "outputs": [],
   "source": [
    "creative_pair_q = 'PREFIX schema: <http://schema.org/>\\nPREFIX ex:     <http://kg.local/>\\n\\nCONSTRUCT {\\n  ?d ex:CREATIVE_PAIR ?a .\\n  ?d ex:creativePairRoles \"Director,Actor\" .\\n  ?d ex:creativePairCount ?n .\\n}\\nWHERE {\\n  SELECT ?d ?a (COUNT(DISTINCT ?f) AS ?n)\\n  WHERE {\\n    ?f schema:director ?d .\\n    ?f schema:actor    ?a .\\n  }\\n  GROUP BY ?d ?a\\n  HAVING (?n >= 2)\\n}\\n'\n",
    "cp_graph = g.query(creative_pair_q).graph\n",
    "cp_edges = sum(1 for (s,p,o) in cp_graph if str(p).endswith(\"CREATIVE_PAIR\"))\n",
    "print(\"CREATIVE_PAIR-Kanten:\", cp_edges)\n",
    "cp_path = OUT_DIR / \"derived_creative_pair.ttl\"\n",
    "cp_graph.serialize(destination=str(cp_path), format=\"turtle\")\n",
    "print(\"Gespeichert:\", cp_path.resolve())\n",
    "\n",
    "# Optional: Materialisieren in Hauptgraph\n",
    "for t in cp_graph:\n",
    "    g.add(t)\n",
    "\n",
    "print(\"Gesamttripel nach Materialisierung:\", len(g))\n"
   ]
  },
  {
   "cell_type": "markdown",
   "id": "4019726e",
   "metadata": {},
   "source": [
    "## (Optional) Transitive Exploration über `:SAME_UNIVERSE`"
   ]
  },
  {
   "cell_type": "code",
   "execution_count": null,
   "id": "183dd183",
   "metadata": {},
   "outputs": [],
   "source": [
    "demo_q = 'PREFIX ex:     <http://kg.local/>\\nSELECT DISTINCT ?g WHERE {\\n  VALUES ?seed { ex:movie123 }    # <--- anpassen!\\n  ?seed ex:SAME_UNIVERSE+ ?g .\\n}\\nLIMIT 50\\n'\n",
    "try:\n",
    "    for row in g.query(demo_q):\n",
    "        print(row)\n",
    "except Exception as e:\n",
    "    print(\"Hinweis: Passe zuerst den Seed an. Fehler:\", e)\n"
   ]
  },
  {
   "cell_type": "markdown",
   "id": "726dc958",
   "metadata": {},
   "source": [
    "## Ergebnisse speichern"
   ]
  },
  {
   "cell_type": "code",
   "execution_count": null,
   "id": "0113f346",
   "metadata": {},
   "outputs": [],
   "source": [
    "all_path = OUT_DIR / \"graph_with_derived.ttl\"\n",
    "g.serialize(destination=str(all_path), format=\"turtle\")\n",
    "print(\"Gesamter Graph inkl. abgeleiteter Kanten gespeichert nach:\", all_path.resolve())\n"
   ]
  },
  {
   "cell_type": "markdown",
   "id": "298a3bcf",
   "metadata": {},
   "source": [
    "### Hinweise\n",
    "- Für stabilere Kanten: Notebook regelmäßig (z. B. nightly) laufen lassen.\n",
    "- Für Debugbarkeit: Zusätzliche Metadaten an Knoten anhängen (z. B. `creativePairRoles`, `creativePairCount`). Edge-Eigenschaften sind in RDF nicht nativ; Alternativen: Reifikation, RDF* oder Named Graphs.\n",
    "- Falls du später `schema:composer` importierst, lässt sich die CREATIVE_PAIR-Regel 1:1 auf (Director×Composer) übertragen.\n"
   ]
  }
 ],
 "metadata": {
  "kernelspec": {
   "name": "python3",
   "language": "python",
   "display_name": "Python 3 (ipykernel)"
  }
 },
 "nbformat": 4,
 "nbformat_minor": 5
}
