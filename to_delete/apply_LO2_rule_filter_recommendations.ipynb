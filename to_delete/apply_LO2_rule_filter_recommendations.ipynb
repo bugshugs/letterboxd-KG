{
 "cells": [
  {
   "cell_type": "markdown",
   "id": "3dee4998",
   "metadata": {},
   "source": [
    "\n",
    "# LO2: Logic Rule — Exclude Already-Watched Movies from Recommendations\n",
    "\n",
    "This notebook applies a simple **logical rule** to your recommendation candidates:\n",
    "\n",
    "> **Rule (formal):** `recommendedFor(u, m) :- candidateFor(m, u) ∧ ¬ watched(u, m)`\n",
    "\n",
    "It filters out any movie that is already in your `watched.csv`.  \n",
    "Sources used from your project:\n",
    "- `data/letterboxd_export/watched.csv`\n",
    "- `data/kg/tmdb_rerank_with_embedding_results_movies_only.csv`\n",
    "\n",
    "Outputs:\n",
    "- `data/kg/rerank_filtered_by_LO2.csv` — filtered recommendations\n",
    "- (Optional) `data/kg/recommended_materialized.ttl` — RDF materialization of `:recommendedFor` triples\n"
   ]
  },
  {
   "cell_type": "code",
   "id": "800e1273",
   "metadata": {
    "ExecuteTime": {
     "end_time": "2025-09-04T00:19:57.224747Z",
     "start_time": "2025-09-04T00:19:56.711487Z"
    }
   },
   "source": [
    "\n",
    "import os\n",
    "import pandas as pd\n",
    "from pathlib import Path\n",
    "\n",
    "# Resolve project root automatically if notebook is moved inside the repo\n",
    "# Assumes this notebook lives somewhere under the repo root.\n",
    "here = Path.cwd()\n",
    "# Try to detect the repo root by looking for the 'data' directory:\n",
    "candidate = here\n",
    "while candidate != candidate.parent and not (candidate / \"data\").exists():\n",
    "    candidate = candidate.parent\n",
    "project_root = candidate if (candidate / \"data\").exists() else Path(\"../logical\")\n",
    "\n",
    "print(\"Detected project_root:\", project_root.resolve())\n",
    "\n",
    "# File paths (relative to project root)\n",
    "watched_path = project_root / \"data\" / \"letterboxd_export\" / \"watched.csv\"\n",
    "candidates_path = project_root / \"data\" / \"kg\" / \"tmdb_rerank_with_embedding_results_movies_only.csv\"\n",
    "output_csv = project_root / \"data\" / \"kg\" / \"rerank_filtered_by_LO2.csv\"\n"
   ],
   "outputs": [
    {
     "name": "stdout",
     "output_type": "stream",
     "text": [
      "Detected project_root: /Users/tschaffel/PycharmProjects/letterboxd-KG\n"
     ]
    }
   ],
   "execution_count": 1
  },
  {
   "cell_type": "markdown",
   "id": "1754aaf4",
   "metadata": {},
   "source": [
    "## Load Data"
   ]
  },
  {
   "cell_type": "code",
   "id": "9dadd622",
   "metadata": {
    "ExecuteTime": {
     "end_time": "2025-09-04T00:20:10.061721Z",
     "start_time": "2025-09-04T00:20:09.843108Z"
    }
   },
   "source": [
    "\n",
    "watched = pd.read_csv(watched_path)\n",
    "recs = pd.read_csv(candidates_path)\n",
    "\n",
    "print(\"watched.csv columns:\", list(watched.columns))\n",
    "print(\"candidates.csv columns:\", list(recs.columns))\n",
    "\n",
    "# Try to infer the TMDB/movie id column names\n",
    "watched_id_col = None\n",
    "for c in watched.columns:\n",
    "    if c.lower() in [\"tmdbid\", \"tmdb_id\", \"movieid\", \"movie_id\", \"id\"]:\n",
    "        watched_id_col = c\n",
    "        break\n",
    "\n",
    "recs_id_col = None\n",
    "for c in recs.columns:\n",
    "    if c.lower() in [\"tmdbid\", \"tmdb_id\", \"movieid\", \"movie_id\", \"id\"]:\n",
    "        recs_id_col = c\n",
    "        break\n",
    "\n",
    "assert watched_id_col is not None, \"Could not find a movie id column in watched.csv\"\n",
    "assert recs_id_col is not None, \"Could not find a movie id column in candidates CSV\"\n",
    "\n",
    "print(\"Using watched id column:\", watched_id_col)\n",
    "print(\"Using recommendations id column:\", recs_id_col)\n"
   ],
   "outputs": [
    {
     "name": "stdout",
     "output_type": "stream",
     "text": [
      "watched.csv columns: ['Date', 'Name', 'Year', 'Letterboxd URI']\n",
      "candidates.csv columns: ['candidate_id', 'candidate_title', 'year', 'cos', 'meta', 'final', 'seed', 'comp_genres', 'comp_keywords', 'comp_cast', 'comp_director', 'comp_runtime', 'comp_language', 'comp_popularity', 'comp_vote']\n"
     ]
    },
    {
     "ename": "AssertionError",
     "evalue": "Could not find a movie id column in watched.csv",
     "output_type": "error",
     "traceback": [
      "\u001B[0;31m---------------------------------------------------------------------------\u001B[0m",
      "\u001B[0;31mAssertionError\u001B[0m                            Traceback (most recent call last)",
      "Cell \u001B[0;32mIn[2], line 20\u001B[0m\n\u001B[1;32m     17\u001B[0m         recs_id_col \u001B[38;5;241m=\u001B[39m c\n\u001B[1;32m     18\u001B[0m         \u001B[38;5;28;01mbreak\u001B[39;00m\n\u001B[0;32m---> 20\u001B[0m \u001B[38;5;28;01massert\u001B[39;00m watched_id_col \u001B[38;5;129;01mis\u001B[39;00m \u001B[38;5;129;01mnot\u001B[39;00m \u001B[38;5;28;01mNone\u001B[39;00m, \u001B[38;5;124m\"\u001B[39m\u001B[38;5;124mCould not find a movie id column in watched.csv\u001B[39m\u001B[38;5;124m\"\u001B[39m\n\u001B[1;32m     21\u001B[0m \u001B[38;5;28;01massert\u001B[39;00m recs_id_col \u001B[38;5;129;01mis\u001B[39;00m \u001B[38;5;129;01mnot\u001B[39;00m \u001B[38;5;28;01mNone\u001B[39;00m, \u001B[38;5;124m\"\u001B[39m\u001B[38;5;124mCould not find a movie id column in candidates CSV\u001B[39m\u001B[38;5;124m\"\u001B[39m\n\u001B[1;32m     23\u001B[0m \u001B[38;5;28mprint\u001B[39m(\u001B[38;5;124m\"\u001B[39m\u001B[38;5;124mUsing watched id column:\u001B[39m\u001B[38;5;124m\"\u001B[39m, watched_id_col)\n",
      "\u001B[0;31mAssertionError\u001B[0m: Could not find a movie id column in watched.csv"
     ]
    }
   ],
   "execution_count": 2
  },
  {
   "cell_type": "markdown",
   "id": "f42cab16",
   "metadata": {},
   "source": [
    "## Normalize IDs"
   ]
  },
  {
   "cell_type": "code",
   "execution_count": null,
   "id": "b2b6e97c",
   "metadata": {},
   "outputs": [],
   "source": [
    "\n",
    "def _to_int_series(s):\n",
    "    # robust parsing: drop NAs, handle floats-as-ids (e.g., '123.0')\n",
    "    return pd.to_numeric(s, errors=\"coerce\").dropna().astype(int)\n",
    "\n",
    "watched_ids = set(_to_int_series(watched[watched_id_col]))\n",
    "candidate_ids = _to_int_series(recs[recs_id_col])\n",
    "\n",
    "print(f\"Unique watched ids: {len(watched_ids)}\")\n",
    "print(f\"Candidate rows: {len(candidate_ids)} (unique: {len(set(candidate_ids))})\")\n"
   ]
  },
  {
   "cell_type": "markdown",
   "id": "4e27c285",
   "metadata": {},
   "source": [
    "## Apply Logical Rule Filter"
   ]
  },
  {
   "cell_type": "code",
   "execution_count": null,
   "id": "4e2d8a3a",
   "metadata": {},
   "outputs": [],
   "source": [
    "\n",
    "# Logical rule:\n",
    "# recommendedFor(u, m) :- candidateFor(m, u) ∧ ¬ watched(u, m)\n",
    "mask_not_watched = ~candidate_ids.isin(watched_ids)\n",
    "filtered_recs = recs.loc[mask_not_watched].copy()\n",
    "\n",
    "print(\"Filtered recommendations:\", len(filtered_recs), \" / original:\", len(recs))\n",
    "filtered_recs.head(10)\n"
   ]
  },
  {
   "cell_type": "markdown",
   "id": "95254f3e",
   "metadata": {},
   "source": [
    "## Save Filtered Recommendations"
   ]
  },
  {
   "cell_type": "code",
   "execution_count": null,
   "id": "3c1fecf3",
   "metadata": {},
   "outputs": [],
   "source": [
    "\n",
    "output_csv.parent.mkdir(parents=True, exist_ok=True)\n",
    "filtered_recs.to_csv(output_csv, index=False)\n",
    "print(\"Saved:\", output_csv.resolve())\n"
   ]
  },
  {
   "cell_type": "markdown",
   "id": "39af0b00",
   "metadata": {},
   "source": [
    "\n",
    "## (Optional) Materialize `:recommendedFor` Triples (RDF)\n",
    "\n",
    "If you want to **demonstrate LO2 inside the KG**, you can materialize a triple for each filtered recommendation:\n",
    "\n",
    "```\n",
    ":movie_<ID> :recommendedFor :user_tobias .\n",
    "```\n",
    "\n",
    "Run the cell below to create `data/kg/recommended_materialized.ttl`.\n"
   ]
  },
  {
   "cell_type": "code",
   "execution_count": null,
   "id": "260a8921",
   "metadata": {},
   "outputs": [],
   "source": [
    "\n",
    "try:\n",
    "    from rdflib import Graph, Namespace, URIRef, Literal, RDF\n",
    "    \n",
    "    EX = Namespace(\"http://example.org/\")\n",
    "    g = Graph()\n",
    "    g.bind(\"ex\", EX)\n",
    "    \n",
    "    user = EX.user_tobias\n",
    "    \n",
    "    # materialize recommendedFor only for filtered_recs\n",
    "    id_series = _to_int_series(filtered_recs[recs_id_col]).astype(str)\n",
    "    for mid in id_series:\n",
    "        m = URIRef(f\"http://example.org/movie_{mid}\")\n",
    "        g.add((m, RDF.type, EX.Movie))\n",
    "        g.add((m, EX.recommendedFor, user))\n",
    "    \n",
    "    ttl_out = project_root / \"data\" / \"kg\" / \"recommended_materialized.ttl\"\n",
    "    g.serialize(destination=str(ttl_out), format=\"turtle\")\n",
    "    print(\"Wrote TTL:\", ttl_out.resolve())\n",
    "except Exception as e:\n",
    "    print(\"Skipping RDF materialization (rdflib not available or error):\", e)\n"
   ]
  },
  {
   "cell_type": "markdown",
   "id": "0ce89417",
   "metadata": {},
   "source": [
    "## Before/After Summary"
   ]
  },
  {
   "cell_type": "code",
   "execution_count": null,
   "id": "ba53a9f9",
   "metadata": {},
   "outputs": [],
   "source": [
    "\n",
    "summary = {\n",
    "    \"candidates_total\": len(recs),\n",
    "    \"candidates_unique\": int(recs[recs_id_col].nunique()),\n",
    "    \"watched_total\": len(watched),\n",
    "    \"watched_unique_ids\": len(watched_ids),\n",
    "    \"filtered_total\": len(filtered_recs),\n",
    "    \"filtered_unique\": int(filtered_recs[recs_id_col].nunique()),\n",
    "    \"removed_by_rule\": int(len(recs) - len(filtered_recs)),\n",
    "}\n",
    "summary\n"
   ]
  }
 ],
 "metadata": {
  "kernelspec": {
   "name": "python3",
   "language": "python",
   "display_name": "Python 3 (ipykernel)"
  }
 },
 "nbformat": 4,
 "nbformat_minor": 5
}
