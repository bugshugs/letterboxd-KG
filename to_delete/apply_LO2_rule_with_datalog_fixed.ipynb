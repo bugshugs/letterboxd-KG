{
 "cells": [
  {
   "cell_type": "markdown",
   "id": "9e9c64a7",
   "metadata": {},
   "source": [
    "\n",
    "# LO2 with **Datalog** (Fixed Version): Exclude Already-Watched Movies\n",
    "\n",
    "We apply the logical rule in **Datalog** form:\n",
    "\n",
    "> **Rule:** `recommendedFor(U, N, Y) :- candidateFor(U, N, Y) ∧ not watched_fact(U, N, Y)`\n",
    "\n",
    "This version fixes the **naming conflict** between the DataFrame `watched_df` and the Datalog predicate `watched_fact`.\n"
   ]
  },
  {
   "cell_type": "code",
   "id": "f7308fcb",
   "metadata": {
    "ExecuteTime": {
     "end_time": "2025-09-06T19:33:38.259684Z",
     "start_time": "2025-09-06T19:33:37.977614Z"
    }
   },
   "source": [
    "\n",
    "import pandas as pd\n",
    "from pathlib import Path\n",
    "\n",
    "# Auto-detect project root (directory that contains 'data')\n",
    "here = Path.cwd()\n",
    "candidate = here\n",
    "while candidate != candidate.parent and not (candidate / \"data\").exists():\n",
    "    candidate = candidate.parent\n",
    "project_root = candidate if (candidate / \"data\").exists() else Path(\"../logical\")\n",
    "print(\"Detected project_root:\", project_root.resolve())\n",
    "\n",
    "watched_path = project_root / \"data\" / \"letterboxd_export\" / \"watched.csv\"\n",
    "candidates_path = project_root / \"data\" / \"kg\" / \"tmdb_rerank_with_embedding_results_movies_only.csv\"\n",
    "out_csv = project_root / \"data\" / \"kg\" / \"rerank_filtered_by_LO2_datalog.csv\"\n"
   ],
   "outputs": [
    {
     "name": "stdout",
     "output_type": "stream",
     "text": [
      "Detected project_root: /Users/tschaffel/PycharmProjects/letterboxd-KG\n"
     ]
    }
   ],
   "execution_count": 1
  },
  {
   "cell_type": "code",
   "id": "cf356091",
   "metadata": {
    "ExecuteTime": {
     "end_time": "2025-09-06T19:33:40.123722Z",
     "start_time": "2025-09-06T19:33:40.108852Z"
    }
   },
   "source": [
    "\n",
    "watched_df = pd.read_csv(watched_path)\n",
    "recs_df = pd.read_csv(candidates_path)\n",
    "\n",
    "watched_df.columns = [c.lower() for c in watched_df.columns]\n",
    "recs_df.columns = [c.lower() for c in recs_df.columns]\n",
    "\n",
    "def pick(colnames, options):\n",
    "    for o in options:\n",
    "        if o in colnames:\n",
    "            return o\n",
    "    return None\n",
    "\n",
    "watched_name_col = pick(watched_df.columns, [\"name\",\"film name\",\"title\"])\n",
    "watched_year_col = pick(watched_df.columns, [\"year\",\"release year\",\"release_year\"])\n",
    "recs_name_col = pick(recs_df.columns, [\"candidate_title\",\"name\",\"title\",\"movie_title\",\"original_title\"])\n",
    "recs_year_col = pick(recs_df.columns, [\"year\",\"release_year\",\"candidate_year\",\"releaseyear\",\"year_x\",\"year_y\"])\n",
    "\n",
    "assert watched_name_col and watched_year_col, \"watched.csv must have name/year\"\n",
    "assert recs_name_col and recs_year_col, \"candidates must have name/year\"\n",
    "\n",
    "watched_df[\"name_norm\"] = watched_df[watched_name_col].astype(str).str.strip().str.lower()\n",
    "watched_df[\"year_str\"] = watched_df[watched_year_col].astype(str).str.extract(r\"(\\d{4})\", expand=False).fillna(\n",
    "    watched_df[watched_year_col].astype(str).str.strip()\n",
    ")\n",
    "recs_df[\"name_norm\"] = recs_df[recs_name_col].astype(str).str.strip().str.lower()\n",
    "recs_df[\"year_str\"] = recs_df[recs_year_col].astype(str).str.extract(r\"(\\d{4})\", expand=False).fillna(\n",
    "    recs_df[recs_year_col].astype(str).str.strip()\n",
    ")\n",
    "\n",
    "watched_pairs = set(zip(watched_df[\"name_norm\"], watched_df[\"year_str\"]))\n",
    "print(\"Loaded watched unique pairs:\", len(watched_pairs))\n",
    "print(\"Loaded candidate rows:\", len(recs_df))\n"
   ],
   "outputs": [
    {
     "name": "stdout",
     "output_type": "stream",
     "text": [
      "Loaded watched unique pairs: 754\n",
      "Loaded candidate rows: 15\n"
     ]
    }
   ],
   "execution_count": 2
  },
  {
   "cell_type": "code",
   "id": "2fd8ba7c",
   "metadata": {
    "ExecuteTime": {
     "end_time": "2025-09-06T19:33:43.820910Z",
     "start_time": "2025-09-06T19:33:43.459124Z"
    }
   },
   "source": [
    "\n",
    "use_pyDatalog = False\n",
    "try:\n",
    "    from pyDatalog import pyDatalog\n",
    "    use_pyDatalog = True\n",
    "except:\n",
    "    pass\n",
    "\n",
    "USER = \"tobias\"\n",
    "\n",
    "if use_pyDatalog:\n",
    "    from pyDatalog import pyDatalog\n",
    "    pyDatalog.clear()\n",
    "    pyDatalog.create_terms('watched_fact, candidateFor, recommendedFor, U, N, Y')\n",
    "    for n,y in watched_pairs:\n",
    "        +watched_fact(USER,n,y)\n",
    "    for _,row in recs_df.iterrows():\n",
    "        +candidateFor(USER,row[\"name_norm\"],row[\"year_str\"])\n",
    "    recommendedFor(U,N,Y) <= candidateFor(U,N,Y) & ~watched_fact(U,N,Y)\n",
    "    q = recommendedFor(USER,N,Y)\n",
    "    df_res = q.to_pandas()\n",
    "    df_res.columns=[\"user\",\"name_norm\",\"year_str\"]\n",
    "    filtered_recs = recs_df.merge(df_res[[\"name_norm\",\"year_str\"]],on=[\"name_norm\",\"year_str\"],how=\"inner\")\n",
    "else:\n",
    "    candidate_pairs = list(zip(recs_df[\"name_norm\"], recs_df[\"year_str\"]))\n",
    "    keep=[pair not in watched_pairs for pair in candidate_pairs]\n",
    "    filtered_recs = recs_df.loc[keep].copy()\n",
    "\n",
    "print(\"Filtered:\",len(filtered_recs),\"/\",len(recs_df))\n",
    "filtered_recs.head()\n"
   ],
   "outputs": [
    {
     "ename": "AttributeError",
     "evalue": "'Query' object has no attribute 'to_pandas'",
     "output_type": "error",
     "traceback": [
      "\u001B[31m---------------------------------------------------------------------------\u001B[39m",
      "\u001B[31mAttributeError\u001B[39m                            Traceback (most recent call last)",
      "\u001B[36mCell\u001B[39m\u001B[36m \u001B[39m\u001B[32mIn[3]\u001B[39m\u001B[32m, line 20\u001B[39m\n\u001B[32m     18\u001B[39m recommendedFor(U,N,Y) <= candidateFor(U,N,Y) & ~watched_fact(U,N,Y)\n\u001B[32m     19\u001B[39m q = recommendedFor(USER,N,Y)\n\u001B[32m---> \u001B[39m\u001B[32m20\u001B[39m df_res = q.to_pandas()\n\u001B[32m     21\u001B[39m df_res.columns=[\u001B[33m\"\u001B[39m\u001B[33muser\u001B[39m\u001B[33m\"\u001B[39m,\u001B[33m\"\u001B[39m\u001B[33mname_norm\u001B[39m\u001B[33m\"\u001B[39m,\u001B[33m\"\u001B[39m\u001B[33myear_str\u001B[39m\u001B[33m\"\u001B[39m]\n\u001B[32m     22\u001B[39m filtered_recs = recs_df.merge(df_res[[\u001B[33m\"\u001B[39m\u001B[33mname_norm\u001B[39m\u001B[33m\"\u001B[39m,\u001B[33m\"\u001B[39m\u001B[33myear_str\u001B[39m\u001B[33m\"\u001B[39m]],on=[\u001B[33m\"\u001B[39m\u001B[33mname_norm\u001B[39m\u001B[33m\"\u001B[39m,\u001B[33m\"\u001B[39m\u001B[33myear_str\u001B[39m\u001B[33m\"\u001B[39m],how=\u001B[33m\"\u001B[39m\u001B[33minner\u001B[39m\u001B[33m\"\u001B[39m)\n",
      "\u001B[31mAttributeError\u001B[39m: 'Query' object has no attribute 'to_pandas'"
     ]
    }
   ],
   "execution_count": 3
  },
  {
   "cell_type": "code",
   "execution_count": null,
   "id": "a0129131",
   "metadata": {},
   "outputs": [],
   "source": [
    "\n",
    "out_csv.parent.mkdir(parents=True,exist_ok=True)\n",
    "filtered_recs.to_csv(out_csv,index=False)\n",
    "print(\"Saved:\",out_csv)\n"
   ]
  }
 ],
 "metadata": {
  "kernelspec": {
   "name": "python3",
   "language": "python",
   "display_name": "Python 3 (ipykernel)"
  }
 },
 "nbformat": 4,
 "nbformat_minor": 5
}
