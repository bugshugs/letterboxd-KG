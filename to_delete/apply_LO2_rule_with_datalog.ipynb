{
 "cells": [
  {
   "cell_type": "markdown",
   "id": "935e6058",
   "metadata": {},
   "source": [
    "\n",
    "# LO2 with **Datalog**: Exclude Already-Watched Movies from Recommendations\n",
    "\n",
    "We apply the logical rule in **Datalog** form:\n",
    "\n",
    "> **Rule:** `recommendedFor(U, N, Y) :- candidateFor(U, N, Y) ∧ not watched(U, N, Y)`\n",
    "\n",
    "This notebook tries to use `pyDatalog` for a declarative specification. If `pyDatalog` isn't available\n",
    "in the current environment, it falls back to a tiny in-notebook Datalog-style evaluator that\n",
    "implements the same rule for this specific use case.\n",
    "\n",
    "**Inputs**\n",
    "- `data/letterboxd_export/watched.csv` (must contain columns like `Name`, `Year`)\n",
    "- `data/kg/tmdb_rerank_with_embedding_results_movies_only.csv` (may contain `candidate_title` instead of `Name`; we auto-detect)\n",
    "\n",
    "**Outputs**\n",
    "- `data/kg/rerank_filtered_by_LO2_datalog.csv` — filtered recommendations via Datalog\n",
    "- (optional) `data/kg/recommended_materialized_datalog.ttl` — RDF triples `:recommendedFor`\n"
   ]
  },
  {
   "cell_type": "code",
   "id": "4f41938b",
   "metadata": {
    "ExecuteTime": {
     "end_time": "2025-09-06T19:29:57.854770Z",
     "start_time": "2025-09-06T19:29:57.570837Z"
    }
   },
   "source": [
    "\n",
    "import pandas as pd\n",
    "from pathlib import Path\n",
    "\n",
    "# Auto-detect project root (directory that contains 'data')\n",
    "here = Path.cwd()\n",
    "candidate = here\n",
    "while candidate != candidate.parent and not (candidate / \"data\").exists():\n",
    "    candidate = candidate.parent\n",
    "project_root = candidate if (candidate / \"data\").exists() else Path(\"../logical\")\n",
    "print(\"Detected project_root:\", project_root.resolve())\n",
    "\n",
    "watched_path = project_root / \"data\" / \"letterboxd_export\" / \"watched.csv\"\n",
    "candidates_path = project_root / \"data\" / \"kg\" / \"tmdb_rerank_with_embedding_results_movies_only.csv\"\n",
    "out_csv = project_root / \"data\" / \"kg\" / \"rerank_filtered_by_LO2_datalog.csv\"\n"
   ],
   "outputs": [
    {
     "name": "stdout",
     "output_type": "stream",
     "text": [
      "Detected project_root: /Users/tschaffel/PycharmProjects/letterboxd-KG\n"
     ]
    }
   ],
   "execution_count": 1
  },
  {
   "cell_type": "markdown",
   "id": "638ccb22",
   "metadata": {},
   "source": [
    "## Load & Normalize Data"
   ]
  },
  {
   "cell_type": "code",
   "id": "f456f0a3",
   "metadata": {
    "ExecuteTime": {
     "end_time": "2025-09-06T19:29:59.535179Z",
     "start_time": "2025-09-06T19:29:59.514421Z"
    }
   },
   "source": [
    "\n",
    "watched = pd.read_csv(watched_path)\n",
    "recs = pd.read_csv(candidates_path)\n",
    "\n",
    "# Normalize column names\n",
    "watched.columns = [c.lower() for c in watched.columns]\n",
    "recs.columns = [c.lower() for c in recs.columns]\n",
    "\n",
    "def pick(colnames, options):\n",
    "    for o in options:\n",
    "        if o in colnames:\n",
    "            return o\n",
    "    return None\n",
    "\n",
    "# Pick columns for watched.csv (keep defaults but robust to variants)\n",
    "watched_name_col = pick(watched.columns, [\"name\",\"film name\",\"title\"])\n",
    "watched_year_col = pick(watched.columns, [\"year\",\"release year\",\"release_year\"])\n",
    "assert watched_name_col is not None, \"watched.csv must include a 'Name' (or 'Film Name'/'Title') column\"\n",
    "assert watched_year_col is not None, \"watched.csv must include a 'Year' (or 'Release Year') column\"\n",
    "\n",
    "# Pick columns for candidates CSV (support 'candidate_title')\n",
    "recs_name_col = pick(recs.columns, [\"candidate_title\",\"name\",\"title\",\"movie_title\",\"original_title\"])\n",
    "recs_year_col = pick(recs.columns, [\"year\",\"release_year\",\"candidate_year\",\"releaseyear\",\"year_x\",\"year_y\"])\n",
    "assert recs_name_col is not None, \"candidates CSV must include a candidate title column (e.g., 'candidate_title'/'Name'/'Title')\"\n",
    "assert recs_year_col is not None, \"candidates CSV must include a year column (e.g., 'year'/'release_year')\"\n",
    "\n",
    "print(\"watched uses:\", watched_name_col, \"/\", watched_year_col)\n",
    "print(\"candidates use:\", recs_name_col, \"/\", recs_year_col)\n",
    "\n",
    "# Normalize values\n",
    "watched[\"name_norm\"] = watched[watched_name_col].astype(str).str.strip().str.lower()\n",
    "watched[\"year_str\"] = watched[watched_year_col].astype(str).str.extract(r\"(\\d{4})\", expand=False).fillna(\n",
    "    watched[watched_year_col].astype(str).str.strip()\n",
    ")\n",
    "\n",
    "recs[\"name_norm\"] = recs[recs_name_col].astype(str).str.strip().str.lower()\n",
    "recs[\"year_str\"] = recs[recs_year_col].astype(str).str.extract(r\"(\\d{4})\", expand=False).fillna(\n",
    "    recs[recs_year_col].astype(str).str.strip()\n",
    ")\n",
    "\n",
    "watched_pairs = set(zip(watched[\"name_norm\"], watched[\"year_str\"]))\n",
    "print(\"Loaded watched unique pairs:\", len(watched_pairs))\n",
    "print(\"Loaded candidate rows:\", len(recs))\n",
    "recs.head(3)\n"
   ],
   "outputs": [
    {
     "name": "stdout",
     "output_type": "stream",
     "text": [
      "watched uses: name / year\n",
      "candidates use: candidate_title / year\n",
      "Loaded watched unique pairs: 754\n",
      "Loaded candidate rows: 15\n"
     ]
    },
    {
     "data": {
      "text/plain": [
       "   candidate_id               candidate_title    year     cos    meta   final  \\\n",
       "0          1924                      Superman  1978.0  0.4339  0.4698  0.4483   \n",
       "1          1498  Teenage Mutant Ninja Turtles  1990.0  0.3336  0.4414  0.3767   \n",
       "2         11868                       Dracula  1958.0  0.3113  0.4735  0.3762   \n",
       "\n",
       "                           seed  comp_genres  comp_keywords  comp_cast  \\\n",
       "0                 Black Panther          1.0         0.1304        0.0   \n",
       "1  Teenage Mutant Ninja Turtles          0.8         0.3182        0.0   \n",
       "2                       Dracula          1.0         0.1364        0.0   \n",
       "\n",
       "   comp_director  comp_runtime  comp_language  comp_popularity  comp_vote  \\\n",
       "0            0.0        0.9560            1.0           0.9719     0.9457   \n",
       "1            0.0        0.9651            1.0           0.7857     0.8055   \n",
       "2            0.0        0.9651            1.0           0.9900     0.9695   \n",
       "\n",
       "                      name_norm year_str  \n",
       "0                      superman     1978  \n",
       "1  teenage mutant ninja turtles     1990  \n",
       "2                       dracula     1958  "
      ],
      "text/html": [
       "<div>\n",
       "<style scoped>\n",
       "    .dataframe tbody tr th:only-of-type {\n",
       "        vertical-align: middle;\n",
       "    }\n",
       "\n",
       "    .dataframe tbody tr th {\n",
       "        vertical-align: top;\n",
       "    }\n",
       "\n",
       "    .dataframe thead th {\n",
       "        text-align: right;\n",
       "    }\n",
       "</style>\n",
       "<table border=\"1\" class=\"dataframe\">\n",
       "  <thead>\n",
       "    <tr style=\"text-align: right;\">\n",
       "      <th></th>\n",
       "      <th>candidate_id</th>\n",
       "      <th>candidate_title</th>\n",
       "      <th>year</th>\n",
       "      <th>cos</th>\n",
       "      <th>meta</th>\n",
       "      <th>final</th>\n",
       "      <th>seed</th>\n",
       "      <th>comp_genres</th>\n",
       "      <th>comp_keywords</th>\n",
       "      <th>comp_cast</th>\n",
       "      <th>comp_director</th>\n",
       "      <th>comp_runtime</th>\n",
       "      <th>comp_language</th>\n",
       "      <th>comp_popularity</th>\n",
       "      <th>comp_vote</th>\n",
       "      <th>name_norm</th>\n",
       "      <th>year_str</th>\n",
       "    </tr>\n",
       "  </thead>\n",
       "  <tbody>\n",
       "    <tr>\n",
       "      <th>0</th>\n",
       "      <td>1924</td>\n",
       "      <td>Superman</td>\n",
       "      <td>1978.0</td>\n",
       "      <td>0.4339</td>\n",
       "      <td>0.4698</td>\n",
       "      <td>0.4483</td>\n",
       "      <td>Black Panther</td>\n",
       "      <td>1.0</td>\n",
       "      <td>0.1304</td>\n",
       "      <td>0.0</td>\n",
       "      <td>0.0</td>\n",
       "      <td>0.9560</td>\n",
       "      <td>1.0</td>\n",
       "      <td>0.9719</td>\n",
       "      <td>0.9457</td>\n",
       "      <td>superman</td>\n",
       "      <td>1978</td>\n",
       "    </tr>\n",
       "    <tr>\n",
       "      <th>1</th>\n",
       "      <td>1498</td>\n",
       "      <td>Teenage Mutant Ninja Turtles</td>\n",
       "      <td>1990.0</td>\n",
       "      <td>0.3336</td>\n",
       "      <td>0.4414</td>\n",
       "      <td>0.3767</td>\n",
       "      <td>Teenage Mutant Ninja Turtles</td>\n",
       "      <td>0.8</td>\n",
       "      <td>0.3182</td>\n",
       "      <td>0.0</td>\n",
       "      <td>0.0</td>\n",
       "      <td>0.9651</td>\n",
       "      <td>1.0</td>\n",
       "      <td>0.7857</td>\n",
       "      <td>0.8055</td>\n",
       "      <td>teenage mutant ninja turtles</td>\n",
       "      <td>1990</td>\n",
       "    </tr>\n",
       "    <tr>\n",
       "      <th>2</th>\n",
       "      <td>11868</td>\n",
       "      <td>Dracula</td>\n",
       "      <td>1958.0</td>\n",
       "      <td>0.3113</td>\n",
       "      <td>0.4735</td>\n",
       "      <td>0.3762</td>\n",
       "      <td>Dracula</td>\n",
       "      <td>1.0</td>\n",
       "      <td>0.1364</td>\n",
       "      <td>0.0</td>\n",
       "      <td>0.0</td>\n",
       "      <td>0.9651</td>\n",
       "      <td>1.0</td>\n",
       "      <td>0.9900</td>\n",
       "      <td>0.9695</td>\n",
       "      <td>dracula</td>\n",
       "      <td>1958</td>\n",
       "    </tr>\n",
       "  </tbody>\n",
       "</table>\n",
       "</div>"
      ]
     },
     "execution_count": 2,
     "metadata": {},
     "output_type": "execute_result"
    }
   ],
   "execution_count": 2
  },
  {
   "cell_type": "markdown",
   "id": "4e8b4e9a",
   "metadata": {},
   "source": [
    "## Datalog Approach (pyDatalog if available)"
   ]
  },
  {
   "cell_type": "code",
   "id": "e99449e9",
   "metadata": {
    "ExecuteTime": {
     "end_time": "2025-09-06T19:30:43.028204Z",
     "start_time": "2025-09-06T19:30:42.802950Z"
    }
   },
   "source": [
    "\n",
    "use_pyDatalog = False\n",
    "try:\n",
    "    from pyDatalog import pyDatalog\n",
    "    use_pyDatalog = True\n",
    "    print(\"pyDatalog is available — using it.\")\n",
    "except Exception as e:\n",
    "    print(\"pyDatalog not available, will use a tiny fallback evaluator. Error:\", e)\n"
   ],
   "outputs": [
    {
     "name": "stdout",
     "output_type": "stream",
     "text": [
      "pyDatalog is available — using it.\n"
     ]
    }
   ],
   "execution_count": 3
  },
  {
   "cell_type": "code",
   "id": "9aefcd64",
   "metadata": {
    "ExecuteTime": {
     "end_time": "2025-09-06T19:30:45.401892Z",
     "start_time": "2025-09-06T19:30:45.173908Z"
    }
   },
   "source": [
    "\n",
    "USER = \"tobias\"\n",
    "\n",
    "if use_pyDatalog:\n",
    "    from pyDatalog import pyDatalog\n",
    "    pyDatalog.clear()\n",
    "    pyDatalog.create_terms('watched, candidateFor, recommendedFor, U, N, Y')\n",
    "    \n",
    "    # Add EDB facts\n",
    "    for n, y in watched_pairs:\n",
    "        +watched(USER, n, y)\n",
    "    for _, row in recs.iterrows():\n",
    "        +candidateFor(USER, row[\"name_norm\"], row[\"year_str\"])\n",
    "    \n",
    "    # Stratified negation-as-failure rule\n",
    "    recommendedFor(U, N, Y) <= candidateFor(U, N, Y) & ~watched(U, N, Y)\n",
    "    \n",
    "    # Query results\n",
    "    q = recommendedFor(USER, N, Y)\n",
    "    df_res = q.to_pandas()\n",
    "    df_res.columns = [\"user\", \"name_norm\", \"year_str\"]\n",
    "    # Join back to original recs to keep all columns\n",
    "    filtered_recs = recs.merge(df_res[[\"name_norm\",\"year_str\"]], on=[\"name_norm\",\"year_str\"], how=\"inner\")\n",
    "else:\n",
    "    # Fallback: Tiny evaluator for the same rule in this specific case.\n",
    "    # recommendedFor := candidateFor - watched  (by (name_norm, year_str))\n",
    "    candidate_pairs = list(zip(recs[\"name_norm\"], recs[\"year_str\"]))\n",
    "    keep_mask = [pair not in watched_pairs for pair in candidate_pairs]\n",
    "    filtered_recs = recs.loc[keep_mask].copy()\n",
    "\n",
    "print(\"Filtered recommendations via Datalog rule:\", len(filtered_recs), \" / original:\", len(recs))\n",
    "filtered_recs.head(10)\n"
   ],
   "outputs": [
    {
     "ename": "TypeError",
     "evalue": "'DataFrame' object is not callable",
     "output_type": "error",
     "traceback": [
      "\u001B[31m---------------------------------------------------------------------------\u001B[39m",
      "\u001B[31mTypeError\u001B[39m                                 Traceback (most recent call last)",
      "\u001B[36mCell\u001B[39m\u001B[36m \u001B[39m\u001B[32mIn[4]\u001B[39m\u001B[32m, line 10\u001B[39m\n\u001B[32m      8\u001B[39m \u001B[38;5;66;03m# Add EDB facts\u001B[39;00m\n\u001B[32m      9\u001B[39m \u001B[38;5;28;01mfor\u001B[39;00m n, y \u001B[38;5;129;01min\u001B[39;00m watched_pairs:\n\u001B[32m---> \u001B[39m\u001B[32m10\u001B[39m     +watched(USER, n, y)\n\u001B[32m     11\u001B[39m \u001B[38;5;28;01mfor\u001B[39;00m _, row \u001B[38;5;129;01min\u001B[39;00m recs.iterrows():\n\u001B[32m     12\u001B[39m     +candidateFor(USER, row[\u001B[33m\"\u001B[39m\u001B[33mname_norm\u001B[39m\u001B[33m\"\u001B[39m], row[\u001B[33m\"\u001B[39m\u001B[33myear_str\u001B[39m\u001B[33m\"\u001B[39m])\n",
      "\u001B[31mTypeError\u001B[39m: 'DataFrame' object is not callable"
     ]
    }
   ],
   "execution_count": 4
  },
  {
   "cell_type": "markdown",
   "id": "02f68c05",
   "metadata": {},
   "source": [
    "## Save Results"
   ]
  },
  {
   "cell_type": "code",
   "execution_count": null,
   "id": "dbf25157",
   "metadata": {},
   "outputs": [],
   "source": [
    "\n",
    "out_csv.parent.mkdir(parents=True, exist_ok=True)\n",
    "filtered_recs.to_csv(out_csv, index=False)\n",
    "print(\"Saved:\", out_csv.resolve())\n"
   ]
  },
  {
   "cell_type": "markdown",
   "id": "758584e1",
   "metadata": {},
   "source": [
    "## (Optional) Materialize `:recommendedFor` Triples (RDF)"
   ]
  },
  {
   "cell_type": "code",
   "execution_count": null,
   "id": "f3020e66",
   "metadata": {},
   "outputs": [],
   "source": [
    "\n",
    "try:\n",
    "    from rdflib import Graph, Namespace, URIRef, Literal, RDF\n",
    "\n",
    "    EX = Namespace(\"http://example.org/\")\n",
    "    g = Graph()\n",
    "    g.bind(\"ex\", EX)\n",
    "\n",
    "    user = EX.user_tobias\n",
    "\n",
    "    for _, row in filtered_recs.iterrows():\n",
    "        movie_uri = URIRef(f\"http://example.org/movie/{row['name_norm']}_{row['year_str']}\")\n",
    "        g.add((movie_uri, RDF.type, EX.Movie))\n",
    "        g.add((movie_uri, EX.recommendedFor, user))\n",
    "        label = row.get(recs_name_col, row['name_norm'])\n",
    "        g.add((movie_uri, EX.label, Literal(f\"{label} ({row['year_str']})\")))\n",
    "\n",
    "    ttl_out = project_root / \"data\" / \"kg\" / \"recommended_materialized_datalog.ttl\"\n",
    "    g.serialize(destination=str(ttl_out), format=\"turtle\")\n",
    "    print(\"Wrote TTL:\", ttl_out.resolve())\n",
    "except Exception as e:\n",
    "    print(\"Skipping RDF materialization:\", e)\n"
   ]
  },
  {
   "cell_type": "markdown",
   "id": "330f2e89",
   "metadata": {},
   "source": [
    "## Quick Summary"
   ]
  },
  {
   "cell_type": "code",
   "execution_count": null,
   "id": "df10168c",
   "metadata": {},
   "outputs": [],
   "source": [
    "\n",
    "summary = {\n",
    "    \"candidates_total\": len(recs),\n",
    "    \"watched_total\": int(len(watched)),\n",
    "    \"watched_unique_pairs\": int(len(watched_pairs)),\n",
    "    \"filtered_total\": int(len(filtered_recs)),\n",
    "    \"removed_by_rule\": int(len(recs) - len(filtered_recs)),\n",
    "    \"used_engine\": \"pyDatalog\" if use_pyDatalog else \"fallback (set-difference)\"\n",
    "}\n",
    "summary\n"
   ]
  }
 ],
 "metadata": {
  "kernelspec": {
   "name": "python3",
   "language": "python",
   "display_name": "Python 3 (ipykernel)"
  }
 },
 "nbformat": 4,
 "nbformat_minor": 5
}
