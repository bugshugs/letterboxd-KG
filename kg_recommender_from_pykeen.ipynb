{
 "cells": [
  {
   "cell_type": "markdown",
   "id": "bb77ce8d",
   "metadata": {},
   "source": [
    "# KG Recommender with PyKEEN (TransE)\n",
    "\n",
    "This notebook:\n",
    "1) Loads your triples (`movie_kg_triples.tsv`)\n",
    "2) Trains **TransE** with PyKEEN\n",
    "3) Extracts **entity** and **relation** embeddings\n",
    "4) Builds a **user vector** from your ratings/likes\n",
    "5) Composes and **scores a new movie** in embedding space\n",
    "\n",
    "> Update paths as needed for your project layout."
   ]
  },
  {
   "cell_type": "code",
   "id": "a09bfbd4",
   "metadata": {
    "ExecuteTime": {
     "end_time": "2025-08-07T22:14:55.123343Z",
     "start_time": "2025-08-07T22:14:51.856423Z"
    }
   },
   "source": [
    "import pandas as pd\n",
    "import numpy as np\n",
    "import torch\n",
    "from pykeen.pipeline import pipeline\n",
    "from pykeen.triples import TriplesFactory\n",
    "from pathlib import Path\n",
    "\n",
    "pd.set_option(\"display.max_colwidth\", 200)\n",
    "print(\"PyTorch:\", torch.__version__)"
   ],
   "outputs": [
    {
     "name": "stdout",
     "output_type": "stream",
     "text": [
      "PyTorch: 2.8.0\n"
     ]
    }
   ],
   "execution_count": 1
  },
  {
   "cell_type": "code",
   "id": "3d670be9",
   "metadata": {
    "ExecuteTime": {
     "end_time": "2025-08-07T22:14:57.588184Z",
     "start_time": "2025-08-07T22:14:57.581530Z"
    }
   },
   "source": [
    "# Path to your triples. Adjust if needed.\n",
    "# If you run this notebook right after downloading, the example here expects your project layout.\n",
    "# For quick testing in this environment, we also show a fallback to the uploaded file.\n",
    "default_path = Path('data/kg/movie_kg_triples.tsv')\n",
    "uploaded_path = Path('/mnt/data/movie_kg_triples.tsv')\n",
    "\n",
    "triples_path = default_path if default_path.exists() else uploaded_path\n",
    "print(\"Using triples from:\", triples_path)"
   ],
   "outputs": [
    {
     "name": "stdout",
     "output_type": "stream",
     "text": [
      "Using triples from: data/kg/movie_kg_triples.tsv\n"
     ]
    }
   ],
   "execution_count": 2
  },
  {
   "cell_type": "code",
   "id": "ed7f07bd",
   "metadata": {
    "ExecuteTime": {
     "end_time": "2025-08-07T22:15:08.690699Z",
     "start_time": "2025-08-07T22:15:08.421813Z"
    }
   },
   "source": [
    "# Load triples into a PyKEEN TriplesFactory\n",
    "tf = TriplesFactory.from_path(str(triples_path))\n",
    "print(f\"Loaded {len(tf.triples)} triples. Entities: {tf.num_entities}, Relations: {tf.num_relations}\")"
   ],
   "outputs": [
    {
     "name": "stderr",
     "output_type": "stream",
     "text": [
      "Reconstructing all label-based triples. This is expensive and rarely needed.\n"
     ]
    },
    {
     "name": "stdout",
     "output_type": "stream",
     "text": [
      "Loaded 40919 triples. Entities: 19807, Relations: 21\n"
     ]
    }
   ],
   "execution_count": 3
  },
  {
   "cell_type": "code",
   "id": "1a419fb8",
   "metadata": {
    "ExecuteTime": {
     "end_time": "2025-08-07T22:18:00.021036Z",
     "start_time": "2025-08-07T22:15:16.553436Z"
    }
   },
   "source": [
    "# Split and train TransE\n",
    "train_tf, test_tf = tf.split([0.8, 0.2])\n",
    "result = pipeline(\n",
    "    model='TransE',\n",
    "    training=train_tf,\n",
    "    testing=test_tf,\n",
    "    training_kwargs=dict(num_epochs=100),\n",
    "    random_seed=42,\n",
    "    device='cuda' if torch.cuda.is_available() else 'cpu',\n",
    ")"
   ],
   "outputs": [
    {
     "name": "stderr",
     "output_type": "stream",
     "text": [
      "using automatically assigned random_state=291028210\n",
      "/opt/anaconda3/lib/python3.13/site-packages/torch/utils/data/dataloader.py:684: UserWarning: 'pin_memory' argument is set as true but not supported on MPS now, then device pinned memory won't be used.\n",
      "  warnings.warn(warn_msg)\n"
     ]
    },
    {
     "data": {
      "text/plain": [
       "Training epochs on cpu:   0%|          | 0/100 [00:00<?, ?epoch/s]"
      ],
      "application/vnd.jupyter.widget-view+json": {
       "version_major": 2,
       "version_minor": 0,
       "model_id": "75030a83a70f4c4dbcdf91171dc98042"
      }
     },
     "metadata": {},
     "output_type": "display_data"
    },
    {
     "data": {
      "text/plain": [
       "Training batches on cpu:   0%|          | 0.00/128 [00:00<?, ?batch/s]"
      ],
      "application/vnd.jupyter.widget-view+json": {
       "version_major": 2,
       "version_minor": 0,
       "model_id": "4f9eab41ef6442ca9abae60b4f82f3f8"
      }
     },
     "metadata": {},
     "output_type": "display_data"
    },
    {
     "data": {
      "text/plain": [
       "Training batches on cpu:   0%|          | 0.00/128 [00:00<?, ?batch/s]"
      ],
      "application/vnd.jupyter.widget-view+json": {
       "version_major": 2,
       "version_minor": 0,
       "model_id": "fd2664b77b374a86867734e3f71fa8bc"
      }
     },
     "metadata": {},
     "output_type": "display_data"
    },
    {
     "data": {
      "text/plain": [
       "Training batches on cpu:   0%|          | 0.00/128 [00:00<?, ?batch/s]"
      ],
      "application/vnd.jupyter.widget-view+json": {
       "version_major": 2,
       "version_minor": 0,
       "model_id": "d57c5194fd3e469e82b2c9851e52e4eb"
      }
     },
     "metadata": {},
     "output_type": "display_data"
    },
    {
     "data": {
      "text/plain": [
       "Training batches on cpu:   0%|          | 0.00/128 [00:00<?, ?batch/s]"
      ],
      "application/vnd.jupyter.widget-view+json": {
       "version_major": 2,
       "version_minor": 0,
       "model_id": "13f581e97f8f40beb35ca3b10f2f9c72"
      }
     },
     "metadata": {},
     "output_type": "display_data"
    },
    {
     "data": {
      "text/plain": [
       "Training batches on cpu:   0%|          | 0.00/128 [00:00<?, ?batch/s]"
      ],
      "application/vnd.jupyter.widget-view+json": {
       "version_major": 2,
       "version_minor": 0,
       "model_id": "700c3ceb01db4469990c9a2daed3fa39"
      }
     },
     "metadata": {},
     "output_type": "display_data"
    },
    {
     "data": {
      "text/plain": [
       "Training batches on cpu:   0%|          | 0.00/128 [00:00<?, ?batch/s]"
      ],
      "application/vnd.jupyter.widget-view+json": {
       "version_major": 2,
       "version_minor": 0,
       "model_id": "415068ccf8a24a2eb7d068196b8ae69d"
      }
     },
     "metadata": {},
     "output_type": "display_data"
    },
    {
     "data": {
      "text/plain": [
       "Training batches on cpu:   0%|          | 0.00/128 [00:00<?, ?batch/s]"
      ],
      "application/vnd.jupyter.widget-view+json": {
       "version_major": 2,
       "version_minor": 0,
       "model_id": "79dd0728832e4fe68479bed560d5abe9"
      }
     },
     "metadata": {},
     "output_type": "display_data"
    },
    {
     "data": {
      "text/plain": [
       "Training batches on cpu:   0%|          | 0.00/128 [00:00<?, ?batch/s]"
      ],
      "application/vnd.jupyter.widget-view+json": {
       "version_major": 2,
       "version_minor": 0,
       "model_id": "28f35f15fec8456ca9223c3e63aa952d"
      }
     },
     "metadata": {},
     "output_type": "display_data"
    },
    {
     "data": {
      "text/plain": [
       "Training batches on cpu:   0%|          | 0.00/128 [00:00<?, ?batch/s]"
      ],
      "application/vnd.jupyter.widget-view+json": {
       "version_major": 2,
       "version_minor": 0,
       "model_id": "f5fbe571057040cbb0674f09d270e2b3"
      }
     },
     "metadata": {},
     "output_type": "display_data"
    },
    {
     "data": {
      "text/plain": [
       "Training batches on cpu:   0%|          | 0.00/128 [00:00<?, ?batch/s]"
      ],
      "application/vnd.jupyter.widget-view+json": {
       "version_major": 2,
       "version_minor": 0,
       "model_id": "543e8aae526a433e9b9b9e7127baa98e"
      }
     },
     "metadata": {},
     "output_type": "display_data"
    },
    {
     "data": {
      "text/plain": [
       "Training batches on cpu:   0%|          | 0.00/128 [00:00<?, ?batch/s]"
      ],
      "application/vnd.jupyter.widget-view+json": {
       "version_major": 2,
       "version_minor": 0,
       "model_id": "49a18b6a524f4163b99a5a385750ea14"
      }
     },
     "metadata": {},
     "output_type": "display_data"
    },
    {
     "data": {
      "text/plain": [
       "Training batches on cpu:   0%|          | 0.00/128 [00:00<?, ?batch/s]"
      ],
      "application/vnd.jupyter.widget-view+json": {
       "version_major": 2,
       "version_minor": 0,
       "model_id": "2455d2fccb4a40e18fc7b8fdae773865"
      }
     },
     "metadata": {},
     "output_type": "display_data"
    },
    {
     "data": {
      "text/plain": [
       "Training batches on cpu:   0%|          | 0.00/128 [00:00<?, ?batch/s]"
      ],
      "application/vnd.jupyter.widget-view+json": {
       "version_major": 2,
       "version_minor": 0,
       "model_id": "4445b2949d9940239c76c3270198a9a8"
      }
     },
     "metadata": {},
     "output_type": "display_data"
    },
    {
     "data": {
      "text/plain": [
       "Training batches on cpu:   0%|          | 0.00/128 [00:00<?, ?batch/s]"
      ],
      "application/vnd.jupyter.widget-view+json": {
       "version_major": 2,
       "version_minor": 0,
       "model_id": "2a2bada346664daf98287e0cbf42fbbd"
      }
     },
     "metadata": {},
     "output_type": "display_data"
    },
    {
     "data": {
      "text/plain": [
       "Training batches on cpu:   0%|          | 0.00/128 [00:00<?, ?batch/s]"
      ],
      "application/vnd.jupyter.widget-view+json": {
       "version_major": 2,
       "version_minor": 0,
       "model_id": "4ef23911e7a74404a89a4ccd8d1996e1"
      }
     },
     "metadata": {},
     "output_type": "display_data"
    },
    {
     "data": {
      "text/plain": [
       "Training batches on cpu:   0%|          | 0.00/128 [00:00<?, ?batch/s]"
      ],
      "application/vnd.jupyter.widget-view+json": {
       "version_major": 2,
       "version_minor": 0,
       "model_id": "8f33533a918e4c80888001b5ef462062"
      }
     },
     "metadata": {},
     "output_type": "display_data"
    },
    {
     "data": {
      "text/plain": [
       "Training batches on cpu:   0%|          | 0.00/128 [00:00<?, ?batch/s]"
      ],
      "application/vnd.jupyter.widget-view+json": {
       "version_major": 2,
       "version_minor": 0,
       "model_id": "a722e1f5c4ef4634827d618a8259e4d2"
      }
     },
     "metadata": {},
     "output_type": "display_data"
    },
    {
     "data": {
      "text/plain": [
       "Training batches on cpu:   0%|          | 0.00/128 [00:00<?, ?batch/s]"
      ],
      "application/vnd.jupyter.widget-view+json": {
       "version_major": 2,
       "version_minor": 0,
       "model_id": "6fb20034c9414e28aa7847aab5982d21"
      }
     },
     "metadata": {},
     "output_type": "display_data"
    },
    {
     "data": {
      "text/plain": [
       "Training batches on cpu:   0%|          | 0.00/128 [00:00<?, ?batch/s]"
      ],
      "application/vnd.jupyter.widget-view+json": {
       "version_major": 2,
       "version_minor": 0,
       "model_id": "f7519e64497c4b7d9dac5228f3ba9a32"
      }
     },
     "metadata": {},
     "output_type": "display_data"
    },
    {
     "data": {
      "text/plain": [
       "Training batches on cpu:   0%|          | 0.00/128 [00:00<?, ?batch/s]"
      ],
      "application/vnd.jupyter.widget-view+json": {
       "version_major": 2,
       "version_minor": 0,
       "model_id": "e663044d981a4914b7fc041e0ace6520"
      }
     },
     "metadata": {},
     "output_type": "display_data"
    },
    {
     "data": {
      "text/plain": [
       "Training batches on cpu:   0%|          | 0.00/128 [00:00<?, ?batch/s]"
      ],
      "application/vnd.jupyter.widget-view+json": {
       "version_major": 2,
       "version_minor": 0,
       "model_id": "62b81d6e5b7246d389c742b5503bca28"
      }
     },
     "metadata": {},
     "output_type": "display_data"
    },
    {
     "data": {
      "text/plain": [
       "Training batches on cpu:   0%|          | 0.00/128 [00:00<?, ?batch/s]"
      ],
      "application/vnd.jupyter.widget-view+json": {
       "version_major": 2,
       "version_minor": 0,
       "model_id": "717a4ac8973a4147ac6a98a70a529c56"
      }
     },
     "metadata": {},
     "output_type": "display_data"
    },
    {
     "data": {
      "text/plain": [
       "Training batches on cpu:   0%|          | 0.00/128 [00:00<?, ?batch/s]"
      ],
      "application/vnd.jupyter.widget-view+json": {
       "version_major": 2,
       "version_minor": 0,
       "model_id": "74b8a37c2b804e18b20c12e200dee8fa"
      }
     },
     "metadata": {},
     "output_type": "display_data"
    },
    {
     "data": {
      "text/plain": [
       "Training batches on cpu:   0%|          | 0.00/128 [00:00<?, ?batch/s]"
      ],
      "application/vnd.jupyter.widget-view+json": {
       "version_major": 2,
       "version_minor": 0,
       "model_id": "297ee296686643dc9ef6da3bbf198886"
      }
     },
     "metadata": {},
     "output_type": "display_data"
    },
    {
     "data": {
      "text/plain": [
       "Training batches on cpu:   0%|          | 0.00/128 [00:00<?, ?batch/s]"
      ],
      "application/vnd.jupyter.widget-view+json": {
       "version_major": 2,
       "version_minor": 0,
       "model_id": "69c66de6ae0942bcbd5816a0e794de4b"
      }
     },
     "metadata": {},
     "output_type": "display_data"
    },
    {
     "data": {
      "text/plain": [
       "Training batches on cpu:   0%|          | 0.00/128 [00:00<?, ?batch/s]"
      ],
      "application/vnd.jupyter.widget-view+json": {
       "version_major": 2,
       "version_minor": 0,
       "model_id": "794445f2a1744852af70874b54904112"
      }
     },
     "metadata": {},
     "output_type": "display_data"
    },
    {
     "data": {
      "text/plain": [
       "Training batches on cpu:   0%|          | 0.00/128 [00:00<?, ?batch/s]"
      ],
      "application/vnd.jupyter.widget-view+json": {
       "version_major": 2,
       "version_minor": 0,
       "model_id": "a5baa8133e864ab4b3c4b094df5f8572"
      }
     },
     "metadata": {},
     "output_type": "display_data"
    },
    {
     "data": {
      "text/plain": [
       "Training batches on cpu:   0%|          | 0.00/128 [00:00<?, ?batch/s]"
      ],
      "application/vnd.jupyter.widget-view+json": {
       "version_major": 2,
       "version_minor": 0,
       "model_id": "d565b28e792349d0a6907b462f9234e0"
      }
     },
     "metadata": {},
     "output_type": "display_data"
    },
    {
     "data": {
      "text/plain": [
       "Training batches on cpu:   0%|          | 0.00/128 [00:00<?, ?batch/s]"
      ],
      "application/vnd.jupyter.widget-view+json": {
       "version_major": 2,
       "version_minor": 0,
       "model_id": "3662dadabdba440ba8de5f629b28016d"
      }
     },
     "metadata": {},
     "output_type": "display_data"
    },
    {
     "data": {
      "text/plain": [
       "Training batches on cpu:   0%|          | 0.00/128 [00:00<?, ?batch/s]"
      ],
      "application/vnd.jupyter.widget-view+json": {
       "version_major": 2,
       "version_minor": 0,
       "model_id": "7177c3e10faa4fec81beb5efc1dd181d"
      }
     },
     "metadata": {},
     "output_type": "display_data"
    },
    {
     "data": {
      "text/plain": [
       "Training batches on cpu:   0%|          | 0.00/128 [00:00<?, ?batch/s]"
      ],
      "application/vnd.jupyter.widget-view+json": {
       "version_major": 2,
       "version_minor": 0,
       "model_id": "a997b7089adf4543a95d691f5bde2d6f"
      }
     },
     "metadata": {},
     "output_type": "display_data"
    },
    {
     "data": {
      "text/plain": [
       "Training batches on cpu:   0%|          | 0.00/128 [00:00<?, ?batch/s]"
      ],
      "application/vnd.jupyter.widget-view+json": {
       "version_major": 2,
       "version_minor": 0,
       "model_id": "c7e3ee9f47854ceead7974ae7dcc38a2"
      }
     },
     "metadata": {},
     "output_type": "display_data"
    },
    {
     "data": {
      "text/plain": [
       "Training batches on cpu:   0%|          | 0.00/128 [00:00<?, ?batch/s]"
      ],
      "application/vnd.jupyter.widget-view+json": {
       "version_major": 2,
       "version_minor": 0,
       "model_id": "e7fe66ed479c4b45a7bc935e0d5e7e96"
      }
     },
     "metadata": {},
     "output_type": "display_data"
    },
    {
     "data": {
      "text/plain": [
       "Training batches on cpu:   0%|          | 0.00/128 [00:00<?, ?batch/s]"
      ],
      "application/vnd.jupyter.widget-view+json": {
       "version_major": 2,
       "version_minor": 0,
       "model_id": "62c2d914ab264d14bfd05c47ea1b3eea"
      }
     },
     "metadata": {},
     "output_type": "display_data"
    },
    {
     "data": {
      "text/plain": [
       "Training batches on cpu:   0%|          | 0.00/128 [00:00<?, ?batch/s]"
      ],
      "application/vnd.jupyter.widget-view+json": {
       "version_major": 2,
       "version_minor": 0,
       "model_id": "b0bdb4616b9d456ab0ab85948afce3d6"
      }
     },
     "metadata": {},
     "output_type": "display_data"
    },
    {
     "data": {
      "text/plain": [
       "Training batches on cpu:   0%|          | 0.00/128 [00:00<?, ?batch/s]"
      ],
      "application/vnd.jupyter.widget-view+json": {
       "version_major": 2,
       "version_minor": 0,
       "model_id": "9467e2515b5e4caf97a62764b792d285"
      }
     },
     "metadata": {},
     "output_type": "display_data"
    },
    {
     "data": {
      "text/plain": [
       "Training batches on cpu:   0%|          | 0.00/128 [00:00<?, ?batch/s]"
      ],
      "application/vnd.jupyter.widget-view+json": {
       "version_major": 2,
       "version_minor": 0,
       "model_id": "494afb56e6424da89bc8d2aa2d422eda"
      }
     },
     "metadata": {},
     "output_type": "display_data"
    },
    {
     "data": {
      "text/plain": [
       "Training batches on cpu:   0%|          | 0.00/128 [00:00<?, ?batch/s]"
      ],
      "application/vnd.jupyter.widget-view+json": {
       "version_major": 2,
       "version_minor": 0,
       "model_id": "d9ca2656eb5d49ffb0bac94e53a4d81b"
      }
     },
     "metadata": {},
     "output_type": "display_data"
    },
    {
     "data": {
      "text/plain": [
       "Training batches on cpu:   0%|          | 0.00/128 [00:00<?, ?batch/s]"
      ],
      "application/vnd.jupyter.widget-view+json": {
       "version_major": 2,
       "version_minor": 0,
       "model_id": "823ec1ccbc8648ad86ad11be4c095981"
      }
     },
     "metadata": {},
     "output_type": "display_data"
    },
    {
     "data": {
      "text/plain": [
       "Training batches on cpu:   0%|          | 0.00/128 [00:00<?, ?batch/s]"
      ],
      "application/vnd.jupyter.widget-view+json": {
       "version_major": 2,
       "version_minor": 0,
       "model_id": "ebadb01b2c1b42cbae2c0dc65170a60a"
      }
     },
     "metadata": {},
     "output_type": "display_data"
    },
    {
     "data": {
      "text/plain": [
       "Training batches on cpu:   0%|          | 0.00/128 [00:00<?, ?batch/s]"
      ],
      "application/vnd.jupyter.widget-view+json": {
       "version_major": 2,
       "version_minor": 0,
       "model_id": "53c84b8a34634706acd68109a9ce4b31"
      }
     },
     "metadata": {},
     "output_type": "display_data"
    },
    {
     "data": {
      "text/plain": [
       "Training batches on cpu:   0%|          | 0.00/128 [00:00<?, ?batch/s]"
      ],
      "application/vnd.jupyter.widget-view+json": {
       "version_major": 2,
       "version_minor": 0,
       "model_id": "287b20960b5b4c8882fba6ec32893b48"
      }
     },
     "metadata": {},
     "output_type": "display_data"
    },
    {
     "data": {
      "text/plain": [
       "Training batches on cpu:   0%|          | 0.00/128 [00:00<?, ?batch/s]"
      ],
      "application/vnd.jupyter.widget-view+json": {
       "version_major": 2,
       "version_minor": 0,
       "model_id": "bb8d3716ae174a268802d04c00c7ec0e"
      }
     },
     "metadata": {},
     "output_type": "display_data"
    },
    {
     "data": {
      "text/plain": [
       "Training batches on cpu:   0%|          | 0.00/128 [00:00<?, ?batch/s]"
      ],
      "application/vnd.jupyter.widget-view+json": {
       "version_major": 2,
       "version_minor": 0,
       "model_id": "885aaced94f9459a9764c08d8a1e5ffa"
      }
     },
     "metadata": {},
     "output_type": "display_data"
    },
    {
     "data": {
      "text/plain": [
       "Training batches on cpu:   0%|          | 0.00/128 [00:00<?, ?batch/s]"
      ],
      "application/vnd.jupyter.widget-view+json": {
       "version_major": 2,
       "version_minor": 0,
       "model_id": "c58f895ecdc14a2880ee96d43f3db421"
      }
     },
     "metadata": {},
     "output_type": "display_data"
    },
    {
     "data": {
      "text/plain": [
       "Training batches on cpu:   0%|          | 0.00/128 [00:00<?, ?batch/s]"
      ],
      "application/vnd.jupyter.widget-view+json": {
       "version_major": 2,
       "version_minor": 0,
       "model_id": "8963a13ccf9b4a0880e0f30acc1b4a99"
      }
     },
     "metadata": {},
     "output_type": "display_data"
    },
    {
     "data": {
      "text/plain": [
       "Training batches on cpu:   0%|          | 0.00/128 [00:00<?, ?batch/s]"
      ],
      "application/vnd.jupyter.widget-view+json": {
       "version_major": 2,
       "version_minor": 0,
       "model_id": "c56ebc764fc746e3a07b6456b894231d"
      }
     },
     "metadata": {},
     "output_type": "display_data"
    },
    {
     "data": {
      "text/plain": [
       "Training batches on cpu:   0%|          | 0.00/128 [00:00<?, ?batch/s]"
      ],
      "application/vnd.jupyter.widget-view+json": {
       "version_major": 2,
       "version_minor": 0,
       "model_id": "dea4fd5c97bd419e886b61a36d4b2a63"
      }
     },
     "metadata": {},
     "output_type": "display_data"
    },
    {
     "data": {
      "text/plain": [
       "Training batches on cpu:   0%|          | 0.00/128 [00:00<?, ?batch/s]"
      ],
      "application/vnd.jupyter.widget-view+json": {
       "version_major": 2,
       "version_minor": 0,
       "model_id": "8f1073f188af4e9cbb890f3f4a583f2e"
      }
     },
     "metadata": {},
     "output_type": "display_data"
    },
    {
     "data": {
      "text/plain": [
       "Training batches on cpu:   0%|          | 0.00/128 [00:00<?, ?batch/s]"
      ],
      "application/vnd.jupyter.widget-view+json": {
       "version_major": 2,
       "version_minor": 0,
       "model_id": "84dbdaf4c73a4c1988e66d62aad39f1a"
      }
     },
     "metadata": {},
     "output_type": "display_data"
    },
    {
     "data": {
      "text/plain": [
       "Training batches on cpu:   0%|          | 0.00/128 [00:00<?, ?batch/s]"
      ],
      "application/vnd.jupyter.widget-view+json": {
       "version_major": 2,
       "version_minor": 0,
       "model_id": "63b62db37ef74827b98e44aa096ba36b"
      }
     },
     "metadata": {},
     "output_type": "display_data"
    },
    {
     "data": {
      "text/plain": [
       "Training batches on cpu:   0%|          | 0.00/128 [00:00<?, ?batch/s]"
      ],
      "application/vnd.jupyter.widget-view+json": {
       "version_major": 2,
       "version_minor": 0,
       "model_id": "467b3136a28944b58d52bad4b14bf29e"
      }
     },
     "metadata": {},
     "output_type": "display_data"
    },
    {
     "data": {
      "text/plain": [
       "Training batches on cpu:   0%|          | 0.00/128 [00:00<?, ?batch/s]"
      ],
      "application/vnd.jupyter.widget-view+json": {
       "version_major": 2,
       "version_minor": 0,
       "model_id": "65d182ea362344d3a5b6843a6cb9f05b"
      }
     },
     "metadata": {},
     "output_type": "display_data"
    },
    {
     "data": {
      "text/plain": [
       "Training batches on cpu:   0%|          | 0.00/128 [00:00<?, ?batch/s]"
      ],
      "application/vnd.jupyter.widget-view+json": {
       "version_major": 2,
       "version_minor": 0,
       "model_id": "8081166b53224df6a3f9acd7693bc029"
      }
     },
     "metadata": {},
     "output_type": "display_data"
    },
    {
     "data": {
      "text/plain": [
       "Training batches on cpu:   0%|          | 0.00/128 [00:00<?, ?batch/s]"
      ],
      "application/vnd.jupyter.widget-view+json": {
       "version_major": 2,
       "version_minor": 0,
       "model_id": "ecd635bccbbb42d58d11a201f3287507"
      }
     },
     "metadata": {},
     "output_type": "display_data"
    },
    {
     "data": {
      "text/plain": [
       "Training batches on cpu:   0%|          | 0.00/128 [00:00<?, ?batch/s]"
      ],
      "application/vnd.jupyter.widget-view+json": {
       "version_major": 2,
       "version_minor": 0,
       "model_id": "f56e44c7c5404bfe83fe0215ec4904ef"
      }
     },
     "metadata": {},
     "output_type": "display_data"
    },
    {
     "data": {
      "text/plain": [
       "Training batches on cpu:   0%|          | 0.00/128 [00:00<?, ?batch/s]"
      ],
      "application/vnd.jupyter.widget-view+json": {
       "version_major": 2,
       "version_minor": 0,
       "model_id": "a444b50defe64f3c9c998b42964e9a9f"
      }
     },
     "metadata": {},
     "output_type": "display_data"
    },
    {
     "data": {
      "text/plain": [
       "Training batches on cpu:   0%|          | 0.00/128 [00:00<?, ?batch/s]"
      ],
      "application/vnd.jupyter.widget-view+json": {
       "version_major": 2,
       "version_minor": 0,
       "model_id": "bb7949af57114c838004031d8ce8928e"
      }
     },
     "metadata": {},
     "output_type": "display_data"
    },
    {
     "data": {
      "text/plain": [
       "Training batches on cpu:   0%|          | 0.00/128 [00:00<?, ?batch/s]"
      ],
      "application/vnd.jupyter.widget-view+json": {
       "version_major": 2,
       "version_minor": 0,
       "model_id": "5da0b078fc334c8987f240bd9ed60187"
      }
     },
     "metadata": {},
     "output_type": "display_data"
    },
    {
     "data": {
      "text/plain": [
       "Training batches on cpu:   0%|          | 0.00/128 [00:00<?, ?batch/s]"
      ],
      "application/vnd.jupyter.widget-view+json": {
       "version_major": 2,
       "version_minor": 0,
       "model_id": "60b7504edbf343ef8de5f6440a6725e2"
      }
     },
     "metadata": {},
     "output_type": "display_data"
    },
    {
     "data": {
      "text/plain": [
       "Training batches on cpu:   0%|          | 0.00/128 [00:00<?, ?batch/s]"
      ],
      "application/vnd.jupyter.widget-view+json": {
       "version_major": 2,
       "version_minor": 0,
       "model_id": "5ef687436683425a96ca6db6bcf1f9de"
      }
     },
     "metadata": {},
     "output_type": "display_data"
    },
    {
     "data": {
      "text/plain": [
       "Training batches on cpu:   0%|          | 0.00/128 [00:00<?, ?batch/s]"
      ],
      "application/vnd.jupyter.widget-view+json": {
       "version_major": 2,
       "version_minor": 0,
       "model_id": "84d3e801c38a481baaf9ee99a8f1e1d2"
      }
     },
     "metadata": {},
     "output_type": "display_data"
    },
    {
     "data": {
      "text/plain": [
       "Training batches on cpu:   0%|          | 0.00/128 [00:00<?, ?batch/s]"
      ],
      "application/vnd.jupyter.widget-view+json": {
       "version_major": 2,
       "version_minor": 0,
       "model_id": "3500cd1bb6a34ac3a5f0607b278de69f"
      }
     },
     "metadata": {},
     "output_type": "display_data"
    },
    {
     "data": {
      "text/plain": [
       "Training batches on cpu:   0%|          | 0.00/128 [00:00<?, ?batch/s]"
      ],
      "application/vnd.jupyter.widget-view+json": {
       "version_major": 2,
       "version_minor": 0,
       "model_id": "11b9a14f4c3d4a25aeacf3084e6b2a45"
      }
     },
     "metadata": {},
     "output_type": "display_data"
    },
    {
     "data": {
      "text/plain": [
       "Training batches on cpu:   0%|          | 0.00/128 [00:00<?, ?batch/s]"
      ],
      "application/vnd.jupyter.widget-view+json": {
       "version_major": 2,
       "version_minor": 0,
       "model_id": "57b0166e92504ea787844b7fd305108d"
      }
     },
     "metadata": {},
     "output_type": "display_data"
    },
    {
     "data": {
      "text/plain": [
       "Training batches on cpu:   0%|          | 0.00/128 [00:00<?, ?batch/s]"
      ],
      "application/vnd.jupyter.widget-view+json": {
       "version_major": 2,
       "version_minor": 0,
       "model_id": "974529b35d8145228bbca17fe1005b9b"
      }
     },
     "metadata": {},
     "output_type": "display_data"
    },
    {
     "data": {
      "text/plain": [
       "Training batches on cpu:   0%|          | 0.00/128 [00:00<?, ?batch/s]"
      ],
      "application/vnd.jupyter.widget-view+json": {
       "version_major": 2,
       "version_minor": 0,
       "model_id": "b4fe6567fd4a45748ca8e8697d5f9e45"
      }
     },
     "metadata": {},
     "output_type": "display_data"
    },
    {
     "data": {
      "text/plain": [
       "Training batches on cpu:   0%|          | 0.00/128 [00:00<?, ?batch/s]"
      ],
      "application/vnd.jupyter.widget-view+json": {
       "version_major": 2,
       "version_minor": 0,
       "model_id": "34da979c481e44f8941476a9d31a3175"
      }
     },
     "metadata": {},
     "output_type": "display_data"
    },
    {
     "data": {
      "text/plain": [
       "Training batches on cpu:   0%|          | 0.00/128 [00:00<?, ?batch/s]"
      ],
      "application/vnd.jupyter.widget-view+json": {
       "version_major": 2,
       "version_minor": 0,
       "model_id": "82b89600cdd44bb18b663fd6a9343db1"
      }
     },
     "metadata": {},
     "output_type": "display_data"
    },
    {
     "data": {
      "text/plain": [
       "Training batches on cpu:   0%|          | 0.00/128 [00:00<?, ?batch/s]"
      ],
      "application/vnd.jupyter.widget-view+json": {
       "version_major": 2,
       "version_minor": 0,
       "model_id": "0a8ace20528f451a8df6b8db15d053b1"
      }
     },
     "metadata": {},
     "output_type": "display_data"
    },
    {
     "data": {
      "text/plain": [
       "Training batches on cpu:   0%|          | 0.00/128 [00:00<?, ?batch/s]"
      ],
      "application/vnd.jupyter.widget-view+json": {
       "version_major": 2,
       "version_minor": 0,
       "model_id": "19b96f321dfd465a9a0b71f80cb98243"
      }
     },
     "metadata": {},
     "output_type": "display_data"
    },
    {
     "data": {
      "text/plain": [
       "Training batches on cpu:   0%|          | 0.00/128 [00:00<?, ?batch/s]"
      ],
      "application/vnd.jupyter.widget-view+json": {
       "version_major": 2,
       "version_minor": 0,
       "model_id": "9a0e6f23fd144c6fabe546051f22cd74"
      }
     },
     "metadata": {},
     "output_type": "display_data"
    },
    {
     "data": {
      "text/plain": [
       "Training batches on cpu:   0%|          | 0.00/128 [00:00<?, ?batch/s]"
      ],
      "application/vnd.jupyter.widget-view+json": {
       "version_major": 2,
       "version_minor": 0,
       "model_id": "535d8e76956d4f3790b36cf39f503b97"
      }
     },
     "metadata": {},
     "output_type": "display_data"
    },
    {
     "data": {
      "text/plain": [
       "Training batches on cpu:   0%|          | 0.00/128 [00:00<?, ?batch/s]"
      ],
      "application/vnd.jupyter.widget-view+json": {
       "version_major": 2,
       "version_minor": 0,
       "model_id": "7e74dca1d3ce4a3989cf9ea754e0ad82"
      }
     },
     "metadata": {},
     "output_type": "display_data"
    },
    {
     "data": {
      "text/plain": [
       "Training batches on cpu:   0%|          | 0.00/128 [00:00<?, ?batch/s]"
      ],
      "application/vnd.jupyter.widget-view+json": {
       "version_major": 2,
       "version_minor": 0,
       "model_id": "adcbad38778d470080d42450d1ac7c3f"
      }
     },
     "metadata": {},
     "output_type": "display_data"
    },
    {
     "data": {
      "text/plain": [
       "Training batches on cpu:   0%|          | 0.00/128 [00:00<?, ?batch/s]"
      ],
      "application/vnd.jupyter.widget-view+json": {
       "version_major": 2,
       "version_minor": 0,
       "model_id": "4ce4d7b712ec4f01b176d079c7e038e7"
      }
     },
     "metadata": {},
     "output_type": "display_data"
    },
    {
     "data": {
      "text/plain": [
       "Training batches on cpu:   0%|          | 0.00/128 [00:00<?, ?batch/s]"
      ],
      "application/vnd.jupyter.widget-view+json": {
       "version_major": 2,
       "version_minor": 0,
       "model_id": "49ac5ee8211444b19c97f683b7844f6d"
      }
     },
     "metadata": {},
     "output_type": "display_data"
    },
    {
     "data": {
      "text/plain": [
       "Training batches on cpu:   0%|          | 0.00/128 [00:00<?, ?batch/s]"
      ],
      "application/vnd.jupyter.widget-view+json": {
       "version_major": 2,
       "version_minor": 0,
       "model_id": "e60a2de99f974b989679fc8214c60fac"
      }
     },
     "metadata": {},
     "output_type": "display_data"
    },
    {
     "data": {
      "text/plain": [
       "Training batches on cpu:   0%|          | 0.00/128 [00:00<?, ?batch/s]"
      ],
      "application/vnd.jupyter.widget-view+json": {
       "version_major": 2,
       "version_minor": 0,
       "model_id": "b8531ff87b84443ba061ee4123cd9253"
      }
     },
     "metadata": {},
     "output_type": "display_data"
    },
    {
     "data": {
      "text/plain": [
       "Training batches on cpu:   0%|          | 0.00/128 [00:00<?, ?batch/s]"
      ],
      "application/vnd.jupyter.widget-view+json": {
       "version_major": 2,
       "version_minor": 0,
       "model_id": "978d78d6293c4997af2a01c134c731d8"
      }
     },
     "metadata": {},
     "output_type": "display_data"
    },
    {
     "data": {
      "text/plain": [
       "Training batches on cpu:   0%|          | 0.00/128 [00:00<?, ?batch/s]"
      ],
      "application/vnd.jupyter.widget-view+json": {
       "version_major": 2,
       "version_minor": 0,
       "model_id": "4d35cf1c17074f9588e7ceb2161abf18"
      }
     },
     "metadata": {},
     "output_type": "display_data"
    },
    {
     "data": {
      "text/plain": [
       "Training batches on cpu:   0%|          | 0.00/128 [00:00<?, ?batch/s]"
      ],
      "application/vnd.jupyter.widget-view+json": {
       "version_major": 2,
       "version_minor": 0,
       "model_id": "bd42c4c5660f450d8482339246615bd2"
      }
     },
     "metadata": {},
     "output_type": "display_data"
    },
    {
     "data": {
      "text/plain": [
       "Training batches on cpu:   0%|          | 0.00/128 [00:00<?, ?batch/s]"
      ],
      "application/vnd.jupyter.widget-view+json": {
       "version_major": 2,
       "version_minor": 0,
       "model_id": "ed8915f4b4fe4edb8ef33ed2391abb6b"
      }
     },
     "metadata": {},
     "output_type": "display_data"
    },
    {
     "data": {
      "text/plain": [
       "Training batches on cpu:   0%|          | 0.00/128 [00:00<?, ?batch/s]"
      ],
      "application/vnd.jupyter.widget-view+json": {
       "version_major": 2,
       "version_minor": 0,
       "model_id": "7400fcc485e145b2953db31208d706ae"
      }
     },
     "metadata": {},
     "output_type": "display_data"
    },
    {
     "data": {
      "text/plain": [
       "Training batches on cpu:   0%|          | 0.00/128 [00:00<?, ?batch/s]"
      ],
      "application/vnd.jupyter.widget-view+json": {
       "version_major": 2,
       "version_minor": 0,
       "model_id": "958fb949ff7b4a5197890cdaf6188db2"
      }
     },
     "metadata": {},
     "output_type": "display_data"
    },
    {
     "data": {
      "text/plain": [
       "Training batches on cpu:   0%|          | 0.00/128 [00:00<?, ?batch/s]"
      ],
      "application/vnd.jupyter.widget-view+json": {
       "version_major": 2,
       "version_minor": 0,
       "model_id": "83fc8677c53b4f10946295426e93ccf6"
      }
     },
     "metadata": {},
     "output_type": "display_data"
    },
    {
     "data": {
      "text/plain": [
       "Training batches on cpu:   0%|          | 0.00/128 [00:00<?, ?batch/s]"
      ],
      "application/vnd.jupyter.widget-view+json": {
       "version_major": 2,
       "version_minor": 0,
       "model_id": "a2afb06615b7477a960b43c0b458cacf"
      }
     },
     "metadata": {},
     "output_type": "display_data"
    },
    {
     "data": {
      "text/plain": [
       "Training batches on cpu:   0%|          | 0.00/128 [00:00<?, ?batch/s]"
      ],
      "application/vnd.jupyter.widget-view+json": {
       "version_major": 2,
       "version_minor": 0,
       "model_id": "1a1630862c154968b018fcec74d13a37"
      }
     },
     "metadata": {},
     "output_type": "display_data"
    },
    {
     "data": {
      "text/plain": [
       "Training batches on cpu:   0%|          | 0.00/128 [00:00<?, ?batch/s]"
      ],
      "application/vnd.jupyter.widget-view+json": {
       "version_major": 2,
       "version_minor": 0,
       "model_id": "a672d6b6d1d44836b5561e08a7fa7502"
      }
     },
     "metadata": {},
     "output_type": "display_data"
    },
    {
     "data": {
      "text/plain": [
       "Training batches on cpu:   0%|          | 0.00/128 [00:00<?, ?batch/s]"
      ],
      "application/vnd.jupyter.widget-view+json": {
       "version_major": 2,
       "version_minor": 0,
       "model_id": "6e2cdd37ca564fb1b6aa9a3b3b70707c"
      }
     },
     "metadata": {},
     "output_type": "display_data"
    },
    {
     "data": {
      "text/plain": [
       "Training batches on cpu:   0%|          | 0.00/128 [00:00<?, ?batch/s]"
      ],
      "application/vnd.jupyter.widget-view+json": {
       "version_major": 2,
       "version_minor": 0,
       "model_id": "b569c09dc5ad46c5a769b2dde5007b68"
      }
     },
     "metadata": {},
     "output_type": "display_data"
    },
    {
     "data": {
      "text/plain": [
       "Training batches on cpu:   0%|          | 0.00/128 [00:00<?, ?batch/s]"
      ],
      "application/vnd.jupyter.widget-view+json": {
       "version_major": 2,
       "version_minor": 0,
       "model_id": "2e7133b67ef7450796cf662d0c3ad7cb"
      }
     },
     "metadata": {},
     "output_type": "display_data"
    },
    {
     "data": {
      "text/plain": [
       "Training batches on cpu:   0%|          | 0.00/128 [00:00<?, ?batch/s]"
      ],
      "application/vnd.jupyter.widget-view+json": {
       "version_major": 2,
       "version_minor": 0,
       "model_id": "f52f33ab02de41e096524a0a42418357"
      }
     },
     "metadata": {},
     "output_type": "display_data"
    },
    {
     "data": {
      "text/plain": [
       "Training batches on cpu:   0%|          | 0.00/128 [00:00<?, ?batch/s]"
      ],
      "application/vnd.jupyter.widget-view+json": {
       "version_major": 2,
       "version_minor": 0,
       "model_id": "65f22271b18f4c36aa31c087daaf1d16"
      }
     },
     "metadata": {},
     "output_type": "display_data"
    },
    {
     "data": {
      "text/plain": [
       "Training batches on cpu:   0%|          | 0.00/128 [00:00<?, ?batch/s]"
      ],
      "application/vnd.jupyter.widget-view+json": {
       "version_major": 2,
       "version_minor": 0,
       "model_id": "156cbbe8fae94c65928d7fe34500eb6a"
      }
     },
     "metadata": {},
     "output_type": "display_data"
    },
    {
     "data": {
      "text/plain": [
       "Training batches on cpu:   0%|          | 0.00/128 [00:00<?, ?batch/s]"
      ],
      "application/vnd.jupyter.widget-view+json": {
       "version_major": 2,
       "version_minor": 0,
       "model_id": "b198f64d11d5480f9618932b57db580a"
      }
     },
     "metadata": {},
     "output_type": "display_data"
    },
    {
     "data": {
      "text/plain": [
       "Training batches on cpu:   0%|          | 0.00/128 [00:00<?, ?batch/s]"
      ],
      "application/vnd.jupyter.widget-view+json": {
       "version_major": 2,
       "version_minor": 0,
       "model_id": "c53146f89bcb4f7b9463c446ad8f3384"
      }
     },
     "metadata": {},
     "output_type": "display_data"
    },
    {
     "data": {
      "text/plain": [
       "Training batches on cpu:   0%|          | 0.00/128 [00:00<?, ?batch/s]"
      ],
      "application/vnd.jupyter.widget-view+json": {
       "version_major": 2,
       "version_minor": 0,
       "model_id": "64629d6f51734733afd92f0166066540"
      }
     },
     "metadata": {},
     "output_type": "display_data"
    },
    {
     "data": {
      "text/plain": [
       "Training batches on cpu:   0%|          | 0.00/128 [00:00<?, ?batch/s]"
      ],
      "application/vnd.jupyter.widget-view+json": {
       "version_major": 2,
       "version_minor": 0,
       "model_id": "436d9f95b6b64947aa9613bb48269d80"
      }
     },
     "metadata": {},
     "output_type": "display_data"
    },
    {
     "data": {
      "text/plain": [
       "Training batches on cpu:   0%|          | 0.00/128 [00:00<?, ?batch/s]"
      ],
      "application/vnd.jupyter.widget-view+json": {
       "version_major": 2,
       "version_minor": 0,
       "model_id": "7eb32edae98c46e4943eb2b7c7d8f370"
      }
     },
     "metadata": {},
     "output_type": "display_data"
    },
    {
     "name": "stderr",
     "output_type": "stream",
     "text": [
      "WARNING:pykeen.utils:Using automatic batch size on device.type='cpu' can cause unexplained out-of-memory crashes. Therefore, we use a conservative small batch_size=32. Performance may be improved by explicitly specifying a larger batch size.\n"
     ]
    },
    {
     "data": {
      "text/plain": [
       "Evaluating on cpu:   0%|          | 0.00/8.18k [00:00<?, ?triple/s]"
      ],
      "application/vnd.jupyter.widget-view+json": {
       "version_major": 2,
       "version_minor": 0,
       "model_id": "5ee88e40e507400491040c90ca5b6d2e"
      }
     },
     "metadata": {},
     "output_type": "display_data"
    },
    {
     "name": "stderr",
     "output_type": "stream",
     "text": [
      "WARNING:torch_max_mem.api:Encountered tensors on device_types={'cpu'} while only ['cuda'] are considered safe for automatic memory utilization maximization. This may lead to undocumented crashes (but can be safe, too).\n",
      "INFO:pykeen.evaluation.evaluator:Evaluation took 54.25s seconds\n"
     ]
    }
   ],
   "execution_count": 4
  },
  {
   "cell_type": "code",
   "id": "962408b0",
   "metadata": {
    "ExecuteTime": {
     "end_time": "2025-08-07T22:19:12.193886Z",
     "start_time": "2025-08-07T22:19:12.174590Z"
    }
   },
   "source": [
    "# Extract embeddings\n",
    "entity_rep = result.model.entity_representations[0]\n",
    "relation_rep = result.model.relation_representations[0]\n",
    "\n",
    "entity_embeds = entity_rep(torch.arange(tf.num_entities)).detach().cpu().numpy()\n",
    "relation_embeds = relation_rep(torch.arange(tf.num_relations)).detach().cpu().numpy()\n",
    "\n",
    "entity_df = pd.DataFrame(entity_embeds, index=tf.entity_labeling.label_to_id.keys())\n",
    "relation_df = pd.DataFrame(relation_embeds, index=tf.relation_labeling.label_to_id.keys())\n",
    "\n",
    "print(\"Entity embedding shape:\", entity_df.shape)\n",
    "print(\"Relation embedding shape:\", relation_df.shape)"
   ],
   "outputs": [
    {
     "name": "stdout",
     "output_type": "stream",
     "text": [
      "Entity embedding shape: (19807, 50)\n",
      "Relation embedding shape: (21, 50)\n"
     ]
    }
   ],
   "execution_count": 5
  },
  {
   "cell_type": "code",
   "id": "b6aa4e06",
   "metadata": {
    "ExecuteTime": {
     "end_time": "2025-08-07T22:19:19.538574Z",
     "start_time": "2025-08-07T22:19:19.478273Z"
    }
   },
   "source": [
    "# Parse ratings, likes, names from triples file for profile building\n",
    "triples_df = pd.read_csv(triples_path, sep='\\t', header=None, names=['head', 'relation', 'tail'])\n",
    "\n",
    "def parse_rating(v):\n",
    "    import re\n",
    "    m = re.match(r'personalVote_([0-9.]+)', str(v))\n",
    "    return float(m.group(1)) if m else None\n",
    "\n",
    "ratings = triples_df[triples_df['relation'] == 'schema:review']\n",
    "likes = triples_df[triples_df['relation'] == 'ex:liked']\n",
    "names = triples_df[triples_df['relation'] == 'schema:name']\n",
    "\n",
    "movie2rating = dict(zip(ratings['head'], ratings['tail'].map(parse_rating)))\n",
    "movie2liked = dict(zip(likes['head'], likes['tail'].map(lambda x: str(x).lower() == 'liked_yes')))\n",
    "id2name = dict(zip(names['head'], names['tail']))\n",
    "\n",
    "valid_ratings = [v for v in movie2rating.values() if v is not None]\n",
    "rmin, rmax = (min(valid_ratings), max(valid_ratings)) if valid_ratings else (0.0, 1.0)\n",
    "denom = (rmax - rmin) if rmax > rmin else 1.0\n",
    "\n",
    "def weight(movie, like_bonus=0.15):\n",
    "    r = movie2rating.get(movie)\n",
    "    if r is None: return 0.0\n",
    "    w = (r - rmin) / denom\n",
    "    if movie2liked.get(movie, False):\n",
    "        w += like_bonus\n",
    "    return max(0.0, w)\n",
    "\n",
    "weighted_vecs = []\n",
    "for movie in entity_df.index:\n",
    "    if movie in movie2rating and movie in entity_df.index:\n",
    "        w = weight(movie)\n",
    "        if w > 0:\n",
    "            weighted_vecs.append(w * entity_df.loc[movie].values)\n",
    "\n",
    "if not weighted_vecs:\n",
    "    raise RuntimeError(\"No weighted movies found. Check that your triples contain schema:review values.\")\n",
    "user_vec = np.mean(weighted_vecs, axis=0)\n",
    "user_vec = user_vec / (np.linalg.norm(user_vec) + 1e-12)\n",
    "print(\"User vector created. Norm:\", np.linalg.norm(user_vec))"
   ],
   "outputs": [
    {
     "name": "stdout",
     "output_type": "stream",
     "text": [
      "User vector created. Norm: 1.0\n"
     ]
    }
   ],
   "execution_count": 6
  },
  {
   "cell_type": "code",
   "id": "50999e85",
   "metadata": {
    "ExecuteTime": {
     "end_time": "2025-08-07T22:57:19.482621Z",
     "start_time": "2025-08-07T22:57:19.466671Z"
    }
   },
   "source": [
    "# Compose a new (unseen) movie embedding via TransE translations\n",
    "def translate_neighbor_to_movie(neighbor_id, relation_label):\n",
    "    if neighbor_id not in entity_df.index or relation_label not in relation_df.index:\n",
    "        return None\n",
    "    # TransE: movie + r ≈ neighbor  => movie ≈ neighbor - r\n",
    "    return entity_df.loc[neighbor_id].values - relation_df.loc[relation_label].values\n",
    "\n",
    "# Example inputs (replace with your own test)\n",
    "actors = [\"Joaqin Phoenix\", \"Charles Dance\"]\n",
    "directors = [\"Kevin Bacon\"]\n",
    "genres = [\"Horror\"]      # ensure your KG has an entity labeled 'Action'; else leave empty or adjust\n",
    "language = [\"dk\"]        # ensure language token exists as an entity if you want to include it\n",
    "\n",
    "# Resolve names -> ids\n",
    "name2id = {v: k for k, v in id2name.items()}\n",
    "actor_ids = [name2id.get(n) for n in actors if name2id.get(n) in entity_df.index]\n",
    "director_ids = [name2id.get(n) for n in directors if name2id.get(n) in entity_df.index]\n",
    "genre_ids = [n for n in genres if n in entity_df.index]\n",
    "lang_ids = [n for n in language if n in entity_df.index]\n",
    "\n",
    "parts = []\n",
    "for aid in actor_ids:\n",
    "    v = translate_neighbor_to_movie(aid, \"schema:actor\")\n",
    "    if v is not None: parts.append(v)\n",
    "for did in director_ids:\n",
    "    v = translate_neighbor_to_movie(did, \"schema:director\")\n",
    "    if v is not None: parts.append(v)\n",
    "for gid in genre_ids:\n",
    "    v = translate_neighbor_to_movie(gid, \"schema:genre\")\n",
    "    if v is not None: parts.append(v)\n",
    "for lid in lang_ids:\n",
    "    v = translate_neighbor_to_movie(lid, \"ex:originalLanguage\")\n",
    "    if v is not None: parts.append(v)\n",
    "\n",
    "if not parts:\n",
    "    print(\"⚠️ No components found for the new movie. Check that the chosen names/labels exist in your KG.\")\n",
    "else:\n",
    "    new_movie_vec = np.mean(parts, axis=0)\n",
    "    new_movie_vec = new_movie_vec / (np.linalg.norm(new_movie_vec) + 1e-12)\n",
    "    cosine = float(np.dot(user_vec, new_movie_vec))\n",
    "    print(f\"New movie similarity score: {cosine:.4f}\")"
   ],
   "outputs": [
    {
     "name": "stdout",
     "output_type": "stream",
     "text": [
      "New movie similarity score: 0.7430\n"
     ]
    }
   ],
   "execution_count": 17
  },
  {
   "metadata": {},
   "cell_type": "code",
   "outputs": [],
   "execution_count": null,
   "source": [
    "'''\n",
    "The code in the previous cells is in big parts AI generated by the free and paid version of ChatGPT and was afterwards adapted by me.\n",
    "These following prompts were used:\n",
    "\n",
    "\n",
    "    \"what i originally wanted to do was create new movie recommendations based on these data. can I do this, for example deriving info on liked actors/directors and applying this info to a new list on movies that is currently not in the data yet?\"\n",
    "\n",
    "\n",
    "    \"Lets start from scratch - having only my movie_kg_triples.tsv file, can you generate a script that uses PyKEEN for exactly the things your script did before? only now I want a Jupyter notebook file (.ipynb) that I can include in my project.\"\n",
    "\n",
    "\n",
    "'''"
   ],
   "id": "7bab530e42d19e24"
  }
 ],
 "metadata": {
  "kernelspec": {
   "name": "python3",
   "language": "python",
   "display_name": "Python 3 (ipykernel)"
  }
 },
 "nbformat": 4,
 "nbformat_minor": 5
}
