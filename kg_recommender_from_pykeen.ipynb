{
 "cells": [
  {
   "cell_type": "markdown",
   "id": "bb77ce8d",
   "metadata": {},
   "source": [
    "# KG Recommender with PyKEEN (TransE)\n",
    "\n",
    "This notebook:\n",
    "1) Loads your triples (`movie_kg_triples.tsv`)\n",
    "2) Trains **TransE** with PyKEEN\n",
    "3) Extracts **entity** and **relation** embeddings\n",
    "4) Builds a **user vector** from your ratings/likes\n",
    "5) Composes and **scores a new movie** in embedding space\n",
    "\n",
    "> Update paths as needed for your project layout."
   ]
  },
  {
   "cell_type": "code",
   "id": "a09bfbd4",
   "metadata": {
    "ExecuteTime": {
     "end_time": "2025-08-30T14:52:28.220777Z",
     "start_time": "2025-08-30T14:52:23.910354Z"
    }
   },
   "source": [
    "import pandas as pd\n",
    "import numpy as np\n",
    "import torch\n",
    "from pykeen.pipeline import pipeline\n",
    "from pykeen.triples import TriplesFactory\n",
    "from pathlib import Path\n",
    "\n",
    "pd.set_option(\"display.max_colwidth\", 200)\n",
    "print(\"PyTorch:\", torch.__version__)"
   ],
   "outputs": [
    {
     "name": "stdout",
     "output_type": "stream",
     "text": [
      "PyTorch: 2.8.0\n"
     ]
    }
   ],
   "execution_count": 1
  },
  {
   "cell_type": "code",
   "id": "3d670be9",
   "metadata": {
    "ExecuteTime": {
     "end_time": "2025-08-30T14:52:29.854472Z",
     "start_time": "2025-08-30T14:52:29.850141Z"
    }
   },
   "source": [
    "# Path to your triples. Adjust if needed.\n",
    "# If you run this notebook right after downloading, the example here expects your project layout.\n",
    "# For quick testing in this environment, we also show a fallback to the uploaded file.\n",
    "default_path = Path('data/kg/movie_kg_triples.tsv')\n",
    "uploaded_path = Path('/mnt/data/movie_kg_triples.tsv')\n",
    "\n",
    "triples_path = default_path if default_path.exists() else uploaded_path\n",
    "print(\"Using triples from:\", triples_path)"
   ],
   "outputs": [
    {
     "name": "stdout",
     "output_type": "stream",
     "text": [
      "Using triples from: data/kg/movie_kg_triples.tsv\n"
     ]
    }
   ],
   "execution_count": 2
  },
  {
   "cell_type": "code",
   "id": "ed7f07bd",
   "metadata": {
    "ExecuteTime": {
     "end_time": "2025-08-30T14:52:33.166009Z",
     "start_time": "2025-08-30T14:52:32.958635Z"
    }
   },
   "source": [
    "# Load triples into a PyKEEN TriplesFactory\n",
    "tf = TriplesFactory.from_path(str(triples_path))\n",
    "print(f\"Loaded {len(tf.triples)} triples. Entities: {tf.num_entities}, Relations: {tf.num_relations}\")"
   ],
   "outputs": [
    {
     "name": "stderr",
     "output_type": "stream",
     "text": [
      "Reconstructing all label-based triples. This is expensive and rarely needed.\n"
     ]
    },
    {
     "name": "stdout",
     "output_type": "stream",
     "text": [
      "Loaded 41189 triples. Entities: 19907, Relations: 21\n"
     ]
    }
   ],
   "execution_count": 3
  },
  {
   "cell_type": "code",
   "id": "1a419fb8",
   "metadata": {
    "ExecuteTime": {
     "end_time": "2025-08-30T14:54:43.071385Z",
     "start_time": "2025-08-30T14:52:40.824391Z"
    }
   },
   "source": [
    "# Split and train TransE\n",
    "train_tf, test_tf = tf.split([0.8, 0.2])\n",
    "result = pipeline(\n",
    "    model='TransE',\n",
    "    training=train_tf,\n",
    "    testing=test_tf,\n",
    "    training_kwargs=dict(num_epochs=100),\n",
    "    random_seed=42,\n",
    "    device='cuda' if torch.cuda.is_available() else 'cpu',\n",
    ")"
   ],
   "outputs": [
    {
     "name": "stderr",
     "output_type": "stream",
     "text": [
      "using automatically assigned random_state=1887101443\n",
      "/opt/anaconda3/lib/python3.13/site-packages/torch/utils/data/dataloader.py:684: UserWarning: 'pin_memory' argument is set as true but not supported on MPS now, then device pinned memory won't be used.\n",
      "  warnings.warn(warn_msg)\n"
     ]
    },
    {
     "data": {
      "text/plain": [
       "Training epochs on cpu:   0%|          | 0/100 [00:00<?, ?epoch/s]"
      ],
      "application/vnd.jupyter.widget-view+json": {
       "version_major": 2,
       "version_minor": 0,
       "model_id": "6a3146d717c34f5f89f12f93d8f065a1"
      }
     },
     "metadata": {},
     "output_type": "display_data",
     "jetTransient": {
      "display_id": null
     }
    },
    {
     "data": {
      "text/plain": [
       "Training batches on cpu:   0%|          | 0.00/129 [00:00<?, ?batch/s]"
      ],
      "application/vnd.jupyter.widget-view+json": {
       "version_major": 2,
       "version_minor": 0,
       "model_id": "8693bc26ac7c484481295d9e62d71ea3"
      }
     },
     "metadata": {},
     "output_type": "display_data",
     "jetTransient": {
      "display_id": null
     }
    },
    {
     "data": {
      "text/plain": [
       "Training batches on cpu:   0%|          | 0.00/129 [00:00<?, ?batch/s]"
      ],
      "application/vnd.jupyter.widget-view+json": {
       "version_major": 2,
       "version_minor": 0,
       "model_id": "caff735b8106490f83c3d3fac28503c0"
      }
     },
     "metadata": {},
     "output_type": "display_data",
     "jetTransient": {
      "display_id": null
     }
    },
    {
     "data": {
      "text/plain": [
       "Training batches on cpu:   0%|          | 0.00/129 [00:00<?, ?batch/s]"
      ],
      "application/vnd.jupyter.widget-view+json": {
       "version_major": 2,
       "version_minor": 0,
       "model_id": "8fbb4aa3e48f4569a857243364dd2ecf"
      }
     },
     "metadata": {},
     "output_type": "display_data",
     "jetTransient": {
      "display_id": null
     }
    },
    {
     "data": {
      "text/plain": [
       "Training batches on cpu:   0%|          | 0.00/129 [00:00<?, ?batch/s]"
      ],
      "application/vnd.jupyter.widget-view+json": {
       "version_major": 2,
       "version_minor": 0,
       "model_id": "4e54e2af6e4541d0ab92f3844e472ac3"
      }
     },
     "metadata": {},
     "output_type": "display_data",
     "jetTransient": {
      "display_id": null
     }
    },
    {
     "data": {
      "text/plain": [
       "Training batches on cpu:   0%|          | 0.00/129 [00:00<?, ?batch/s]"
      ],
      "application/vnd.jupyter.widget-view+json": {
       "version_major": 2,
       "version_minor": 0,
       "model_id": "dafd48616821454cadacdfbc206f2210"
      }
     },
     "metadata": {},
     "output_type": "display_data",
     "jetTransient": {
      "display_id": null
     }
    },
    {
     "data": {
      "text/plain": [
       "Training batches on cpu:   0%|          | 0.00/129 [00:00<?, ?batch/s]"
      ],
      "application/vnd.jupyter.widget-view+json": {
       "version_major": 2,
       "version_minor": 0,
       "model_id": "3a60bf681caa4b23addb59d587337372"
      }
     },
     "metadata": {},
     "output_type": "display_data",
     "jetTransient": {
      "display_id": null
     }
    },
    {
     "data": {
      "text/plain": [
       "Training batches on cpu:   0%|          | 0.00/129 [00:00<?, ?batch/s]"
      ],
      "application/vnd.jupyter.widget-view+json": {
       "version_major": 2,
       "version_minor": 0,
       "model_id": "7a90c5ca2f6245d58ebe7c50a0945981"
      }
     },
     "metadata": {},
     "output_type": "display_data",
     "jetTransient": {
      "display_id": null
     }
    },
    {
     "data": {
      "text/plain": [
       "Training batches on cpu:   0%|          | 0.00/129 [00:00<?, ?batch/s]"
      ],
      "application/vnd.jupyter.widget-view+json": {
       "version_major": 2,
       "version_minor": 0,
       "model_id": "047b378fda964b789282127aa114a233"
      }
     },
     "metadata": {},
     "output_type": "display_data",
     "jetTransient": {
      "display_id": null
     }
    },
    {
     "data": {
      "text/plain": [
       "Training batches on cpu:   0%|          | 0.00/129 [00:00<?, ?batch/s]"
      ],
      "application/vnd.jupyter.widget-view+json": {
       "version_major": 2,
       "version_minor": 0,
       "model_id": "49e3175889bc40408e906d025c3e7c19"
      }
     },
     "metadata": {},
     "output_type": "display_data",
     "jetTransient": {
      "display_id": null
     }
    },
    {
     "data": {
      "text/plain": [
       "Training batches on cpu:   0%|          | 0.00/129 [00:00<?, ?batch/s]"
      ],
      "application/vnd.jupyter.widget-view+json": {
       "version_major": 2,
       "version_minor": 0,
       "model_id": "2612efec94ce4cd18e1ff881057a22f0"
      }
     },
     "metadata": {},
     "output_type": "display_data",
     "jetTransient": {
      "display_id": null
     }
    },
    {
     "data": {
      "text/plain": [
       "Training batches on cpu:   0%|          | 0.00/129 [00:00<?, ?batch/s]"
      ],
      "application/vnd.jupyter.widget-view+json": {
       "version_major": 2,
       "version_minor": 0,
       "model_id": "30dac8f2e1c9464f9fc0bc4efc8828cb"
      }
     },
     "metadata": {},
     "output_type": "display_data",
     "jetTransient": {
      "display_id": null
     }
    },
    {
     "data": {
      "text/plain": [
       "Training batches on cpu:   0%|          | 0.00/129 [00:00<?, ?batch/s]"
      ],
      "application/vnd.jupyter.widget-view+json": {
       "version_major": 2,
       "version_minor": 0,
       "model_id": "267346f2e1764f8db8384666732f8e8c"
      }
     },
     "metadata": {},
     "output_type": "display_data",
     "jetTransient": {
      "display_id": null
     }
    },
    {
     "data": {
      "text/plain": [
       "Training batches on cpu:   0%|          | 0.00/129 [00:00<?, ?batch/s]"
      ],
      "application/vnd.jupyter.widget-view+json": {
       "version_major": 2,
       "version_minor": 0,
       "model_id": "09b8fae11d2344c4b00fd0426b350691"
      }
     },
     "metadata": {},
     "output_type": "display_data",
     "jetTransient": {
      "display_id": null
     }
    },
    {
     "data": {
      "text/plain": [
       "Training batches on cpu:   0%|          | 0.00/129 [00:00<?, ?batch/s]"
      ],
      "application/vnd.jupyter.widget-view+json": {
       "version_major": 2,
       "version_minor": 0,
       "model_id": "04cefff483084fb58630fecd468a6122"
      }
     },
     "metadata": {},
     "output_type": "display_data",
     "jetTransient": {
      "display_id": null
     }
    },
    {
     "data": {
      "text/plain": [
       "Training batches on cpu:   0%|          | 0.00/129 [00:00<?, ?batch/s]"
      ],
      "application/vnd.jupyter.widget-view+json": {
       "version_major": 2,
       "version_minor": 0,
       "model_id": "1199423faf90487ea9e1ba920f158c65"
      }
     },
     "metadata": {},
     "output_type": "display_data",
     "jetTransient": {
      "display_id": null
     }
    },
    {
     "data": {
      "text/plain": [
       "Training batches on cpu:   0%|          | 0.00/129 [00:00<?, ?batch/s]"
      ],
      "application/vnd.jupyter.widget-view+json": {
       "version_major": 2,
       "version_minor": 0,
       "model_id": "c295307e5c884165870ea4d57fd10d8d"
      }
     },
     "metadata": {},
     "output_type": "display_data",
     "jetTransient": {
      "display_id": null
     }
    },
    {
     "data": {
      "text/plain": [
       "Training batches on cpu:   0%|          | 0.00/129 [00:00<?, ?batch/s]"
      ],
      "application/vnd.jupyter.widget-view+json": {
       "version_major": 2,
       "version_minor": 0,
       "model_id": "0bd435ef5b714e48b5305f9e3a10e18a"
      }
     },
     "metadata": {},
     "output_type": "display_data",
     "jetTransient": {
      "display_id": null
     }
    },
    {
     "data": {
      "text/plain": [
       "Training batches on cpu:   0%|          | 0.00/129 [00:00<?, ?batch/s]"
      ],
      "application/vnd.jupyter.widget-view+json": {
       "version_major": 2,
       "version_minor": 0,
       "model_id": "062b39598fdf442281f1f957a8efd187"
      }
     },
     "metadata": {},
     "output_type": "display_data",
     "jetTransient": {
      "display_id": null
     }
    },
    {
     "data": {
      "text/plain": [
       "Training batches on cpu:   0%|          | 0.00/129 [00:00<?, ?batch/s]"
      ],
      "application/vnd.jupyter.widget-view+json": {
       "version_major": 2,
       "version_minor": 0,
       "model_id": "27c0e10bf0ad49a188a7b5104d34ddef"
      }
     },
     "metadata": {},
     "output_type": "display_data",
     "jetTransient": {
      "display_id": null
     }
    },
    {
     "data": {
      "text/plain": [
       "Training batches on cpu:   0%|          | 0.00/129 [00:00<?, ?batch/s]"
      ],
      "application/vnd.jupyter.widget-view+json": {
       "version_major": 2,
       "version_minor": 0,
       "model_id": "883e49cee3b6466a969cb8160df6e21b"
      }
     },
     "metadata": {},
     "output_type": "display_data",
     "jetTransient": {
      "display_id": null
     }
    },
    {
     "data": {
      "text/plain": [
       "Training batches on cpu:   0%|          | 0.00/129 [00:00<?, ?batch/s]"
      ],
      "application/vnd.jupyter.widget-view+json": {
       "version_major": 2,
       "version_minor": 0,
       "model_id": "3c91059b52d04f9492ca7772daf908cc"
      }
     },
     "metadata": {},
     "output_type": "display_data",
     "jetTransient": {
      "display_id": null
     }
    },
    {
     "data": {
      "text/plain": [
       "Training batches on cpu:   0%|          | 0.00/129 [00:00<?, ?batch/s]"
      ],
      "application/vnd.jupyter.widget-view+json": {
       "version_major": 2,
       "version_minor": 0,
       "model_id": "c25107db08cd4e728f63d8d83d7c40f5"
      }
     },
     "metadata": {},
     "output_type": "display_data",
     "jetTransient": {
      "display_id": null
     }
    },
    {
     "data": {
      "text/plain": [
       "Training batches on cpu:   0%|          | 0.00/129 [00:00<?, ?batch/s]"
      ],
      "application/vnd.jupyter.widget-view+json": {
       "version_major": 2,
       "version_minor": 0,
       "model_id": "d76cf9261ba54eebbfddb8cc4601fdda"
      }
     },
     "metadata": {},
     "output_type": "display_data",
     "jetTransient": {
      "display_id": null
     }
    },
    {
     "data": {
      "text/plain": [
       "Training batches on cpu:   0%|          | 0.00/129 [00:00<?, ?batch/s]"
      ],
      "application/vnd.jupyter.widget-view+json": {
       "version_major": 2,
       "version_minor": 0,
       "model_id": "65ad423654614a25ac2494ec4f761bb5"
      }
     },
     "metadata": {},
     "output_type": "display_data",
     "jetTransient": {
      "display_id": null
     }
    },
    {
     "data": {
      "text/plain": [
       "Training batches on cpu:   0%|          | 0.00/129 [00:00<?, ?batch/s]"
      ],
      "application/vnd.jupyter.widget-view+json": {
       "version_major": 2,
       "version_minor": 0,
       "model_id": "a6b7a09035ba4df887668b048af2e5af"
      }
     },
     "metadata": {},
     "output_type": "display_data",
     "jetTransient": {
      "display_id": null
     }
    },
    {
     "data": {
      "text/plain": [
       "Training batches on cpu:   0%|          | 0.00/129 [00:00<?, ?batch/s]"
      ],
      "application/vnd.jupyter.widget-view+json": {
       "version_major": 2,
       "version_minor": 0,
       "model_id": "69668b2e64fb4d4b998286aa5301f7e7"
      }
     },
     "metadata": {},
     "output_type": "display_data",
     "jetTransient": {
      "display_id": null
     }
    },
    {
     "data": {
      "text/plain": [
       "Training batches on cpu:   0%|          | 0.00/129 [00:00<?, ?batch/s]"
      ],
      "application/vnd.jupyter.widget-view+json": {
       "version_major": 2,
       "version_minor": 0,
       "model_id": "639eacd32d704110b0479a4d15dfd34a"
      }
     },
     "metadata": {},
     "output_type": "display_data",
     "jetTransient": {
      "display_id": null
     }
    },
    {
     "data": {
      "text/plain": [
       "Training batches on cpu:   0%|          | 0.00/129 [00:00<?, ?batch/s]"
      ],
      "application/vnd.jupyter.widget-view+json": {
       "version_major": 2,
       "version_minor": 0,
       "model_id": "30086e1af37c496dbbe89e8e5496f217"
      }
     },
     "metadata": {},
     "output_type": "display_data",
     "jetTransient": {
      "display_id": null
     }
    },
    {
     "data": {
      "text/plain": [
       "Training batches on cpu:   0%|          | 0.00/129 [00:00<?, ?batch/s]"
      ],
      "application/vnd.jupyter.widget-view+json": {
       "version_major": 2,
       "version_minor": 0,
       "model_id": "95bc681d937a41b0af25a080f588f3d5"
      }
     },
     "metadata": {},
     "output_type": "display_data",
     "jetTransient": {
      "display_id": null
     }
    },
    {
     "data": {
      "text/plain": [
       "Training batches on cpu:   0%|          | 0.00/129 [00:00<?, ?batch/s]"
      ],
      "application/vnd.jupyter.widget-view+json": {
       "version_major": 2,
       "version_minor": 0,
       "model_id": "1307be00b9dc4266898d5ff7a4f07d6d"
      }
     },
     "metadata": {},
     "output_type": "display_data",
     "jetTransient": {
      "display_id": null
     }
    },
    {
     "data": {
      "text/plain": [
       "Training batches on cpu:   0%|          | 0.00/129 [00:00<?, ?batch/s]"
      ],
      "application/vnd.jupyter.widget-view+json": {
       "version_major": 2,
       "version_minor": 0,
       "model_id": "b634d1a75a324e8084bfd0f327fa8aa0"
      }
     },
     "metadata": {},
     "output_type": "display_data",
     "jetTransient": {
      "display_id": null
     }
    },
    {
     "data": {
      "text/plain": [
       "Training batches on cpu:   0%|          | 0.00/129 [00:00<?, ?batch/s]"
      ],
      "application/vnd.jupyter.widget-view+json": {
       "version_major": 2,
       "version_minor": 0,
       "model_id": "441eadf619324c8aa11348bd14b31ec7"
      }
     },
     "metadata": {},
     "output_type": "display_data",
     "jetTransient": {
      "display_id": null
     }
    },
    {
     "data": {
      "text/plain": [
       "Training batches on cpu:   0%|          | 0.00/129 [00:00<?, ?batch/s]"
      ],
      "application/vnd.jupyter.widget-view+json": {
       "version_major": 2,
       "version_minor": 0,
       "model_id": "101b0a2b8f304bb6b0776b9aa6a0c0b3"
      }
     },
     "metadata": {},
     "output_type": "display_data",
     "jetTransient": {
      "display_id": null
     }
    },
    {
     "data": {
      "text/plain": [
       "Training batches on cpu:   0%|          | 0.00/129 [00:00<?, ?batch/s]"
      ],
      "application/vnd.jupyter.widget-view+json": {
       "version_major": 2,
       "version_minor": 0,
       "model_id": "b109b210940e47f4bbf004d47e46744b"
      }
     },
     "metadata": {},
     "output_type": "display_data",
     "jetTransient": {
      "display_id": null
     }
    },
    {
     "data": {
      "text/plain": [
       "Training batches on cpu:   0%|          | 0.00/129 [00:00<?, ?batch/s]"
      ],
      "application/vnd.jupyter.widget-view+json": {
       "version_major": 2,
       "version_minor": 0,
       "model_id": "4d0f81df1df445cca6995be4b7a1b15f"
      }
     },
     "metadata": {},
     "output_type": "display_data",
     "jetTransient": {
      "display_id": null
     }
    },
    {
     "data": {
      "text/plain": [
       "Training batches on cpu:   0%|          | 0.00/129 [00:00<?, ?batch/s]"
      ],
      "application/vnd.jupyter.widget-view+json": {
       "version_major": 2,
       "version_minor": 0,
       "model_id": "a52c31f70c2548cd8100126d7f3aa60e"
      }
     },
     "metadata": {},
     "output_type": "display_data",
     "jetTransient": {
      "display_id": null
     }
    },
    {
     "data": {
      "text/plain": [
       "Training batches on cpu:   0%|          | 0.00/129 [00:00<?, ?batch/s]"
      ],
      "application/vnd.jupyter.widget-view+json": {
       "version_major": 2,
       "version_minor": 0,
       "model_id": "13b1a938b79e4b09b84337a1fe4f52e4"
      }
     },
     "metadata": {},
     "output_type": "display_data",
     "jetTransient": {
      "display_id": null
     }
    },
    {
     "data": {
      "text/plain": [
       "Training batches on cpu:   0%|          | 0.00/129 [00:00<?, ?batch/s]"
      ],
      "application/vnd.jupyter.widget-view+json": {
       "version_major": 2,
       "version_minor": 0,
       "model_id": "29e800851de4412fa4fbb61cb0912ae6"
      }
     },
     "metadata": {},
     "output_type": "display_data",
     "jetTransient": {
      "display_id": null
     }
    },
    {
     "data": {
      "text/plain": [
       "Training batches on cpu:   0%|          | 0.00/129 [00:00<?, ?batch/s]"
      ],
      "application/vnd.jupyter.widget-view+json": {
       "version_major": 2,
       "version_minor": 0,
       "model_id": "e96f4c89921b458a8aa7f6c8b99f7035"
      }
     },
     "metadata": {},
     "output_type": "display_data",
     "jetTransient": {
      "display_id": null
     }
    },
    {
     "data": {
      "text/plain": [
       "Training batches on cpu:   0%|          | 0.00/129 [00:00<?, ?batch/s]"
      ],
      "application/vnd.jupyter.widget-view+json": {
       "version_major": 2,
       "version_minor": 0,
       "model_id": "33b6b721fac7415797b2fbb93463e533"
      }
     },
     "metadata": {},
     "output_type": "display_data",
     "jetTransient": {
      "display_id": null
     }
    },
    {
     "data": {
      "text/plain": [
       "Training batches on cpu:   0%|          | 0.00/129 [00:00<?, ?batch/s]"
      ],
      "application/vnd.jupyter.widget-view+json": {
       "version_major": 2,
       "version_minor": 0,
       "model_id": "2a6263a568674dc1bcc295d84cef7c87"
      }
     },
     "metadata": {},
     "output_type": "display_data",
     "jetTransient": {
      "display_id": null
     }
    },
    {
     "data": {
      "text/plain": [
       "Training batches on cpu:   0%|          | 0.00/129 [00:00<?, ?batch/s]"
      ],
      "application/vnd.jupyter.widget-view+json": {
       "version_major": 2,
       "version_minor": 0,
       "model_id": "0fba189d71514cd1ad107639a6391439"
      }
     },
     "metadata": {},
     "output_type": "display_data",
     "jetTransient": {
      "display_id": null
     }
    },
    {
     "data": {
      "text/plain": [
       "Training batches on cpu:   0%|          | 0.00/129 [00:00<?, ?batch/s]"
      ],
      "application/vnd.jupyter.widget-view+json": {
       "version_major": 2,
       "version_minor": 0,
       "model_id": "765a0401a0f548ca8c09bffce532b3b7"
      }
     },
     "metadata": {},
     "output_type": "display_data",
     "jetTransient": {
      "display_id": null
     }
    },
    {
     "data": {
      "text/plain": [
       "Training batches on cpu:   0%|          | 0.00/129 [00:00<?, ?batch/s]"
      ],
      "application/vnd.jupyter.widget-view+json": {
       "version_major": 2,
       "version_minor": 0,
       "model_id": "3b8a6eea63884d689dacf77623ea38cd"
      }
     },
     "metadata": {},
     "output_type": "display_data",
     "jetTransient": {
      "display_id": null
     }
    },
    {
     "data": {
      "text/plain": [
       "Training batches on cpu:   0%|          | 0.00/129 [00:00<?, ?batch/s]"
      ],
      "application/vnd.jupyter.widget-view+json": {
       "version_major": 2,
       "version_minor": 0,
       "model_id": "53823c44c88641bfb81fa107df1f264c"
      }
     },
     "metadata": {},
     "output_type": "display_data",
     "jetTransient": {
      "display_id": null
     }
    },
    {
     "data": {
      "text/plain": [
       "Training batches on cpu:   0%|          | 0.00/129 [00:00<?, ?batch/s]"
      ],
      "application/vnd.jupyter.widget-view+json": {
       "version_major": 2,
       "version_minor": 0,
       "model_id": "daafa658017746c9aee5687648f7f334"
      }
     },
     "metadata": {},
     "output_type": "display_data",
     "jetTransient": {
      "display_id": null
     }
    },
    {
     "data": {
      "text/plain": [
       "Training batches on cpu:   0%|          | 0.00/129 [00:00<?, ?batch/s]"
      ],
      "application/vnd.jupyter.widget-view+json": {
       "version_major": 2,
       "version_minor": 0,
       "model_id": "0852f4d13a964b3fa0e0a487536db6f7"
      }
     },
     "metadata": {},
     "output_type": "display_data",
     "jetTransient": {
      "display_id": null
     }
    },
    {
     "data": {
      "text/plain": [
       "Training batches on cpu:   0%|          | 0.00/129 [00:00<?, ?batch/s]"
      ],
      "application/vnd.jupyter.widget-view+json": {
       "version_major": 2,
       "version_minor": 0,
       "model_id": "c6026c7665774b4b8b1792308610bda2"
      }
     },
     "metadata": {},
     "output_type": "display_data",
     "jetTransient": {
      "display_id": null
     }
    },
    {
     "data": {
      "text/plain": [
       "Training batches on cpu:   0%|          | 0.00/129 [00:00<?, ?batch/s]"
      ],
      "application/vnd.jupyter.widget-view+json": {
       "version_major": 2,
       "version_minor": 0,
       "model_id": "07a146af63b74edf955e54e3c0ebed2a"
      }
     },
     "metadata": {},
     "output_type": "display_data",
     "jetTransient": {
      "display_id": null
     }
    },
    {
     "data": {
      "text/plain": [
       "Training batches on cpu:   0%|          | 0.00/129 [00:00<?, ?batch/s]"
      ],
      "application/vnd.jupyter.widget-view+json": {
       "version_major": 2,
       "version_minor": 0,
       "model_id": "627fbd572281428282b6d57ed0ce4786"
      }
     },
     "metadata": {},
     "output_type": "display_data",
     "jetTransient": {
      "display_id": null
     }
    },
    {
     "data": {
      "text/plain": [
       "Training batches on cpu:   0%|          | 0.00/129 [00:00<?, ?batch/s]"
      ],
      "application/vnd.jupyter.widget-view+json": {
       "version_major": 2,
       "version_minor": 0,
       "model_id": "0b9d662fe80e4f40b383ee1f22c232de"
      }
     },
     "metadata": {},
     "output_type": "display_data",
     "jetTransient": {
      "display_id": null
     }
    },
    {
     "data": {
      "text/plain": [
       "Training batches on cpu:   0%|          | 0.00/129 [00:00<?, ?batch/s]"
      ],
      "application/vnd.jupyter.widget-view+json": {
       "version_major": 2,
       "version_minor": 0,
       "model_id": "32f278576758422bb7a832ad000afa5a"
      }
     },
     "metadata": {},
     "output_type": "display_data",
     "jetTransient": {
      "display_id": null
     }
    },
    {
     "data": {
      "text/plain": [
       "Training batches on cpu:   0%|          | 0.00/129 [00:00<?, ?batch/s]"
      ],
      "application/vnd.jupyter.widget-view+json": {
       "version_major": 2,
       "version_minor": 0,
       "model_id": "c23cf81cd69549de9ac67f4ee4decb1e"
      }
     },
     "metadata": {},
     "output_type": "display_data",
     "jetTransient": {
      "display_id": null
     }
    },
    {
     "data": {
      "text/plain": [
       "Training batches on cpu:   0%|          | 0.00/129 [00:00<?, ?batch/s]"
      ],
      "application/vnd.jupyter.widget-view+json": {
       "version_major": 2,
       "version_minor": 0,
       "model_id": "e7a39d845c544907a1bd94b4995e6e3f"
      }
     },
     "metadata": {},
     "output_type": "display_data",
     "jetTransient": {
      "display_id": null
     }
    },
    {
     "data": {
      "text/plain": [
       "Training batches on cpu:   0%|          | 0.00/129 [00:00<?, ?batch/s]"
      ],
      "application/vnd.jupyter.widget-view+json": {
       "version_major": 2,
       "version_minor": 0,
       "model_id": "8f77e44b4f124977a26033b5b6cf7db7"
      }
     },
     "metadata": {},
     "output_type": "display_data",
     "jetTransient": {
      "display_id": null
     }
    },
    {
     "data": {
      "text/plain": [
       "Training batches on cpu:   0%|          | 0.00/129 [00:00<?, ?batch/s]"
      ],
      "application/vnd.jupyter.widget-view+json": {
       "version_major": 2,
       "version_minor": 0,
       "model_id": "3eac7c8de71d4c3994f1f95847c392ec"
      }
     },
     "metadata": {},
     "output_type": "display_data",
     "jetTransient": {
      "display_id": null
     }
    },
    {
     "data": {
      "text/plain": [
       "Training batches on cpu:   0%|          | 0.00/129 [00:00<?, ?batch/s]"
      ],
      "application/vnd.jupyter.widget-view+json": {
       "version_major": 2,
       "version_minor": 0,
       "model_id": "9ce9a8fc6575483ba6f3eb16c2a47d96"
      }
     },
     "metadata": {},
     "output_type": "display_data",
     "jetTransient": {
      "display_id": null
     }
    },
    {
     "data": {
      "text/plain": [
       "Training batches on cpu:   0%|          | 0.00/129 [00:00<?, ?batch/s]"
      ],
      "application/vnd.jupyter.widget-view+json": {
       "version_major": 2,
       "version_minor": 0,
       "model_id": "1dd9ccad0cff40c48bca038161b0bb5c"
      }
     },
     "metadata": {},
     "output_type": "display_data",
     "jetTransient": {
      "display_id": null
     }
    },
    {
     "data": {
      "text/plain": [
       "Training batches on cpu:   0%|          | 0.00/129 [00:00<?, ?batch/s]"
      ],
      "application/vnd.jupyter.widget-view+json": {
       "version_major": 2,
       "version_minor": 0,
       "model_id": "63de93df0adb401db95a4351c6a8736d"
      }
     },
     "metadata": {},
     "output_type": "display_data",
     "jetTransient": {
      "display_id": null
     }
    },
    {
     "data": {
      "text/plain": [
       "Training batches on cpu:   0%|          | 0.00/129 [00:00<?, ?batch/s]"
      ],
      "application/vnd.jupyter.widget-view+json": {
       "version_major": 2,
       "version_minor": 0,
       "model_id": "9b61f0245bfa465e8934f1526411e34d"
      }
     },
     "metadata": {},
     "output_type": "display_data",
     "jetTransient": {
      "display_id": null
     }
    },
    {
     "data": {
      "text/plain": [
       "Training batches on cpu:   0%|          | 0.00/129 [00:00<?, ?batch/s]"
      ],
      "application/vnd.jupyter.widget-view+json": {
       "version_major": 2,
       "version_minor": 0,
       "model_id": "31f64c05ce5b4f98b1ce9c80aaa2d377"
      }
     },
     "metadata": {},
     "output_type": "display_data",
     "jetTransient": {
      "display_id": null
     }
    },
    {
     "data": {
      "text/plain": [
       "Training batches on cpu:   0%|          | 0.00/129 [00:00<?, ?batch/s]"
      ],
      "application/vnd.jupyter.widget-view+json": {
       "version_major": 2,
       "version_minor": 0,
       "model_id": "8d33e5d2c4c84d6d970ac7c6c16ef194"
      }
     },
     "metadata": {},
     "output_type": "display_data",
     "jetTransient": {
      "display_id": null
     }
    },
    {
     "data": {
      "text/plain": [
       "Training batches on cpu:   0%|          | 0.00/129 [00:00<?, ?batch/s]"
      ],
      "application/vnd.jupyter.widget-view+json": {
       "version_major": 2,
       "version_minor": 0,
       "model_id": "48e38366963a4de6a6e1a4df29f5adce"
      }
     },
     "metadata": {},
     "output_type": "display_data",
     "jetTransient": {
      "display_id": null
     }
    },
    {
     "data": {
      "text/plain": [
       "Training batches on cpu:   0%|          | 0.00/129 [00:00<?, ?batch/s]"
      ],
      "application/vnd.jupyter.widget-view+json": {
       "version_major": 2,
       "version_minor": 0,
       "model_id": "8c0d412ad940461db6c797bd45311c58"
      }
     },
     "metadata": {},
     "output_type": "display_data",
     "jetTransient": {
      "display_id": null
     }
    },
    {
     "data": {
      "text/plain": [
       "Training batches on cpu:   0%|          | 0.00/129 [00:00<?, ?batch/s]"
      ],
      "application/vnd.jupyter.widget-view+json": {
       "version_major": 2,
       "version_minor": 0,
       "model_id": "6084183c96874fd59b34b2be287cb96e"
      }
     },
     "metadata": {},
     "output_type": "display_data",
     "jetTransient": {
      "display_id": null
     }
    },
    {
     "data": {
      "text/plain": [
       "Training batches on cpu:   0%|          | 0.00/129 [00:00<?, ?batch/s]"
      ],
      "application/vnd.jupyter.widget-view+json": {
       "version_major": 2,
       "version_minor": 0,
       "model_id": "b541a0a4af62469da3957d0a888b36d8"
      }
     },
     "metadata": {},
     "output_type": "display_data",
     "jetTransient": {
      "display_id": null
     }
    },
    {
     "data": {
      "text/plain": [
       "Training batches on cpu:   0%|          | 0.00/129 [00:00<?, ?batch/s]"
      ],
      "application/vnd.jupyter.widget-view+json": {
       "version_major": 2,
       "version_minor": 0,
       "model_id": "220c9a455ee94b12ae00b23f4330dfc9"
      }
     },
     "metadata": {},
     "output_type": "display_data",
     "jetTransient": {
      "display_id": null
     }
    },
    {
     "data": {
      "text/plain": [
       "Training batches on cpu:   0%|          | 0.00/129 [00:00<?, ?batch/s]"
      ],
      "application/vnd.jupyter.widget-view+json": {
       "version_major": 2,
       "version_minor": 0,
       "model_id": "294a3a0ee2f94a4d9bfbd1579748877f"
      }
     },
     "metadata": {},
     "output_type": "display_data",
     "jetTransient": {
      "display_id": null
     }
    },
    {
     "data": {
      "text/plain": [
       "Training batches on cpu:   0%|          | 0.00/129 [00:00<?, ?batch/s]"
      ],
      "application/vnd.jupyter.widget-view+json": {
       "version_major": 2,
       "version_minor": 0,
       "model_id": "604e3f6b6b384592914f517c9f4f7587"
      }
     },
     "metadata": {},
     "output_type": "display_data",
     "jetTransient": {
      "display_id": null
     }
    },
    {
     "data": {
      "text/plain": [
       "Training batches on cpu:   0%|          | 0.00/129 [00:00<?, ?batch/s]"
      ],
      "application/vnd.jupyter.widget-view+json": {
       "version_major": 2,
       "version_minor": 0,
       "model_id": "df5529c7dc7c4e2da7baafa42a2f72d4"
      }
     },
     "metadata": {},
     "output_type": "display_data",
     "jetTransient": {
      "display_id": null
     }
    },
    {
     "data": {
      "text/plain": [
       "Training batches on cpu:   0%|          | 0.00/129 [00:00<?, ?batch/s]"
      ],
      "application/vnd.jupyter.widget-view+json": {
       "version_major": 2,
       "version_minor": 0,
       "model_id": "7497e238036c405292860ead90642802"
      }
     },
     "metadata": {},
     "output_type": "display_data",
     "jetTransient": {
      "display_id": null
     }
    },
    {
     "data": {
      "text/plain": [
       "Training batches on cpu:   0%|          | 0.00/129 [00:00<?, ?batch/s]"
      ],
      "application/vnd.jupyter.widget-view+json": {
       "version_major": 2,
       "version_minor": 0,
       "model_id": "7a0a8cb15b7e42628d3c0c23708c3196"
      }
     },
     "metadata": {},
     "output_type": "display_data",
     "jetTransient": {
      "display_id": null
     }
    },
    {
     "data": {
      "text/plain": [
       "Training batches on cpu:   0%|          | 0.00/129 [00:00<?, ?batch/s]"
      ],
      "application/vnd.jupyter.widget-view+json": {
       "version_major": 2,
       "version_minor": 0,
       "model_id": "8d9f379134eb4b1b80b250539fd43610"
      }
     },
     "metadata": {},
     "output_type": "display_data",
     "jetTransient": {
      "display_id": null
     }
    },
    {
     "data": {
      "text/plain": [
       "Training batches on cpu:   0%|          | 0.00/129 [00:00<?, ?batch/s]"
      ],
      "application/vnd.jupyter.widget-view+json": {
       "version_major": 2,
       "version_minor": 0,
       "model_id": "5336b9eb44f24fb686b17057d92acf6f"
      }
     },
     "metadata": {},
     "output_type": "display_data",
     "jetTransient": {
      "display_id": null
     }
    },
    {
     "data": {
      "text/plain": [
       "Training batches on cpu:   0%|          | 0.00/129 [00:00<?, ?batch/s]"
      ],
      "application/vnd.jupyter.widget-view+json": {
       "version_major": 2,
       "version_minor": 0,
       "model_id": "30159a518bc244d785e9636951f49696"
      }
     },
     "metadata": {},
     "output_type": "display_data",
     "jetTransient": {
      "display_id": null
     }
    },
    {
     "data": {
      "text/plain": [
       "Training batches on cpu:   0%|          | 0.00/129 [00:00<?, ?batch/s]"
      ],
      "application/vnd.jupyter.widget-view+json": {
       "version_major": 2,
       "version_minor": 0,
       "model_id": "9f1130400df445e8af4e641b55bcc7ca"
      }
     },
     "metadata": {},
     "output_type": "display_data",
     "jetTransient": {
      "display_id": null
     }
    },
    {
     "data": {
      "text/plain": [
       "Training batches on cpu:   0%|          | 0.00/129 [00:00<?, ?batch/s]"
      ],
      "application/vnd.jupyter.widget-view+json": {
       "version_major": 2,
       "version_minor": 0,
       "model_id": "d6d59e2e6d50463f892c9273ca67c2e9"
      }
     },
     "metadata": {},
     "output_type": "display_data",
     "jetTransient": {
      "display_id": null
     }
    },
    {
     "data": {
      "text/plain": [
       "Training batches on cpu:   0%|          | 0.00/129 [00:00<?, ?batch/s]"
      ],
      "application/vnd.jupyter.widget-view+json": {
       "version_major": 2,
       "version_minor": 0,
       "model_id": "2d3dccc106a44380a26e00e1313cdc76"
      }
     },
     "metadata": {},
     "output_type": "display_data",
     "jetTransient": {
      "display_id": null
     }
    },
    {
     "data": {
      "text/plain": [
       "Training batches on cpu:   0%|          | 0.00/129 [00:00<?, ?batch/s]"
      ],
      "application/vnd.jupyter.widget-view+json": {
       "version_major": 2,
       "version_minor": 0,
       "model_id": "0ce980ab90434409894c7ec0d2a05a5a"
      }
     },
     "metadata": {},
     "output_type": "display_data",
     "jetTransient": {
      "display_id": null
     }
    },
    {
     "data": {
      "text/plain": [
       "Training batches on cpu:   0%|          | 0.00/129 [00:00<?, ?batch/s]"
      ],
      "application/vnd.jupyter.widget-view+json": {
       "version_major": 2,
       "version_minor": 0,
       "model_id": "7d9d54308e87458980f1d60f91a117b2"
      }
     },
     "metadata": {},
     "output_type": "display_data",
     "jetTransient": {
      "display_id": null
     }
    },
    {
     "data": {
      "text/plain": [
       "Training batches on cpu:   0%|          | 0.00/129 [00:00<?, ?batch/s]"
      ],
      "application/vnd.jupyter.widget-view+json": {
       "version_major": 2,
       "version_minor": 0,
       "model_id": "1b26769e1d724f5d82da17304bf57d92"
      }
     },
     "metadata": {},
     "output_type": "display_data",
     "jetTransient": {
      "display_id": null
     }
    },
    {
     "data": {
      "text/plain": [
       "Training batches on cpu:   0%|          | 0.00/129 [00:00<?, ?batch/s]"
      ],
      "application/vnd.jupyter.widget-view+json": {
       "version_major": 2,
       "version_minor": 0,
       "model_id": "dad91e8eafeb4c0b91a7df0adf1b587f"
      }
     },
     "metadata": {},
     "output_type": "display_data",
     "jetTransient": {
      "display_id": null
     }
    },
    {
     "data": {
      "text/plain": [
       "Training batches on cpu:   0%|          | 0.00/129 [00:00<?, ?batch/s]"
      ],
      "application/vnd.jupyter.widget-view+json": {
       "version_major": 2,
       "version_minor": 0,
       "model_id": "ab0aeddf54584545a927976b1eb31cef"
      }
     },
     "metadata": {},
     "output_type": "display_data",
     "jetTransient": {
      "display_id": null
     }
    },
    {
     "data": {
      "text/plain": [
       "Training batches on cpu:   0%|          | 0.00/129 [00:00<?, ?batch/s]"
      ],
      "application/vnd.jupyter.widget-view+json": {
       "version_major": 2,
       "version_minor": 0,
       "model_id": "2d6ef4c0e94e44fa81666dabce7a75c4"
      }
     },
     "metadata": {},
     "output_type": "display_data",
     "jetTransient": {
      "display_id": null
     }
    },
    {
     "data": {
      "text/plain": [
       "Training batches on cpu:   0%|          | 0.00/129 [00:00<?, ?batch/s]"
      ],
      "application/vnd.jupyter.widget-view+json": {
       "version_major": 2,
       "version_minor": 0,
       "model_id": "dd793ef68b284b73afd843eae7716245"
      }
     },
     "metadata": {},
     "output_type": "display_data",
     "jetTransient": {
      "display_id": null
     }
    },
    {
     "data": {
      "text/plain": [
       "Training batches on cpu:   0%|          | 0.00/129 [00:00<?, ?batch/s]"
      ],
      "application/vnd.jupyter.widget-view+json": {
       "version_major": 2,
       "version_minor": 0,
       "model_id": "393bc011f8db41aa9a15b859deb8a4d5"
      }
     },
     "metadata": {},
     "output_type": "display_data",
     "jetTransient": {
      "display_id": null
     }
    },
    {
     "data": {
      "text/plain": [
       "Training batches on cpu:   0%|          | 0.00/129 [00:00<?, ?batch/s]"
      ],
      "application/vnd.jupyter.widget-view+json": {
       "version_major": 2,
       "version_minor": 0,
       "model_id": "03cee77f4e044702aeca1ffbd41f5528"
      }
     },
     "metadata": {},
     "output_type": "display_data",
     "jetTransient": {
      "display_id": null
     }
    },
    {
     "data": {
      "text/plain": [
       "Training batches on cpu:   0%|          | 0.00/129 [00:00<?, ?batch/s]"
      ],
      "application/vnd.jupyter.widget-view+json": {
       "version_major": 2,
       "version_minor": 0,
       "model_id": "0b7fe9dc41d04f8f9a00efb716253297"
      }
     },
     "metadata": {},
     "output_type": "display_data",
     "jetTransient": {
      "display_id": null
     }
    },
    {
     "data": {
      "text/plain": [
       "Training batches on cpu:   0%|          | 0.00/129 [00:00<?, ?batch/s]"
      ],
      "application/vnd.jupyter.widget-view+json": {
       "version_major": 2,
       "version_minor": 0,
       "model_id": "98d2ff7da5ad49e2b28d9b9f93f65b44"
      }
     },
     "metadata": {},
     "output_type": "display_data",
     "jetTransient": {
      "display_id": null
     }
    },
    {
     "data": {
      "text/plain": [
       "Training batches on cpu:   0%|          | 0.00/129 [00:00<?, ?batch/s]"
      ],
      "application/vnd.jupyter.widget-view+json": {
       "version_major": 2,
       "version_minor": 0,
       "model_id": "fc74d3beb23048a2bd234782ba18f495"
      }
     },
     "metadata": {},
     "output_type": "display_data",
     "jetTransient": {
      "display_id": null
     }
    },
    {
     "data": {
      "text/plain": [
       "Training batches on cpu:   0%|          | 0.00/129 [00:00<?, ?batch/s]"
      ],
      "application/vnd.jupyter.widget-view+json": {
       "version_major": 2,
       "version_minor": 0,
       "model_id": "f84777228bab44568672d4ef7d062343"
      }
     },
     "metadata": {},
     "output_type": "display_data",
     "jetTransient": {
      "display_id": null
     }
    },
    {
     "data": {
      "text/plain": [
       "Training batches on cpu:   0%|          | 0.00/129 [00:00<?, ?batch/s]"
      ],
      "application/vnd.jupyter.widget-view+json": {
       "version_major": 2,
       "version_minor": 0,
       "model_id": "6e104c8e006d46d18f10c7c061e87a82"
      }
     },
     "metadata": {},
     "output_type": "display_data",
     "jetTransient": {
      "display_id": null
     }
    },
    {
     "data": {
      "text/plain": [
       "Training batches on cpu:   0%|          | 0.00/129 [00:00<?, ?batch/s]"
      ],
      "application/vnd.jupyter.widget-view+json": {
       "version_major": 2,
       "version_minor": 0,
       "model_id": "ddf8e9e87fd7428998d4a79eee6c0311"
      }
     },
     "metadata": {},
     "output_type": "display_data",
     "jetTransient": {
      "display_id": null
     }
    },
    {
     "data": {
      "text/plain": [
       "Training batches on cpu:   0%|          | 0.00/129 [00:00<?, ?batch/s]"
      ],
      "application/vnd.jupyter.widget-view+json": {
       "version_major": 2,
       "version_minor": 0,
       "model_id": "62843a602d7946428748cbfc2ac7a71f"
      }
     },
     "metadata": {},
     "output_type": "display_data",
     "jetTransient": {
      "display_id": null
     }
    },
    {
     "data": {
      "text/plain": [
       "Training batches on cpu:   0%|          | 0.00/129 [00:00<?, ?batch/s]"
      ],
      "application/vnd.jupyter.widget-view+json": {
       "version_major": 2,
       "version_minor": 0,
       "model_id": "f0c0d42f2d104442ab6760e7d115b563"
      }
     },
     "metadata": {},
     "output_type": "display_data",
     "jetTransient": {
      "display_id": null
     }
    },
    {
     "data": {
      "text/plain": [
       "Training batches on cpu:   0%|          | 0.00/129 [00:00<?, ?batch/s]"
      ],
      "application/vnd.jupyter.widget-view+json": {
       "version_major": 2,
       "version_minor": 0,
       "model_id": "255817b415f54191a70d563d87c17cfc"
      }
     },
     "metadata": {},
     "output_type": "display_data",
     "jetTransient": {
      "display_id": null
     }
    },
    {
     "data": {
      "text/plain": [
       "Training batches on cpu:   0%|          | 0.00/129 [00:00<?, ?batch/s]"
      ],
      "application/vnd.jupyter.widget-view+json": {
       "version_major": 2,
       "version_minor": 0,
       "model_id": "4dad9721afd44d848a60786949b7cca0"
      }
     },
     "metadata": {},
     "output_type": "display_data",
     "jetTransient": {
      "display_id": null
     }
    },
    {
     "data": {
      "text/plain": [
       "Training batches on cpu:   0%|          | 0.00/129 [00:00<?, ?batch/s]"
      ],
      "application/vnd.jupyter.widget-view+json": {
       "version_major": 2,
       "version_minor": 0,
       "model_id": "99c313d293d747dd88dea242acbc4c26"
      }
     },
     "metadata": {},
     "output_type": "display_data",
     "jetTransient": {
      "display_id": null
     }
    },
    {
     "data": {
      "text/plain": [
       "Training batches on cpu:   0%|          | 0.00/129 [00:00<?, ?batch/s]"
      ],
      "application/vnd.jupyter.widget-view+json": {
       "version_major": 2,
       "version_minor": 0,
       "model_id": "1bbf140d4583479a8652cc0c9e4982dd"
      }
     },
     "metadata": {},
     "output_type": "display_data",
     "jetTransient": {
      "display_id": null
     }
    },
    {
     "data": {
      "text/plain": [
       "Training batches on cpu:   0%|          | 0.00/129 [00:00<?, ?batch/s]"
      ],
      "application/vnd.jupyter.widget-view+json": {
       "version_major": 2,
       "version_minor": 0,
       "model_id": "f8cfb09f6e424644a95d6518ba0a662c"
      }
     },
     "metadata": {},
     "output_type": "display_data",
     "jetTransient": {
      "display_id": null
     }
    },
    {
     "name": "stderr",
     "output_type": "stream",
     "text": [
      "WARNING:pykeen.utils:Using automatic batch size on device.type='cpu' can cause unexplained out-of-memory crashes. Therefore, we use a conservative small batch_size=32. Performance may be improved by explicitly specifying a larger batch size.\n"
     ]
    },
    {
     "data": {
      "text/plain": [
       "Evaluating on cpu:   0%|          | 0.00/8.24k [00:00<?, ?triple/s]"
      ],
      "application/vnd.jupyter.widget-view+json": {
       "version_major": 2,
       "version_minor": 0,
       "model_id": "5ffa56924f0c4cda81e7a49ab6aedcf7"
      }
     },
     "metadata": {},
     "output_type": "display_data",
     "jetTransient": {
      "display_id": null
     }
    },
    {
     "name": "stderr",
     "output_type": "stream",
     "text": [
      "WARNING:torch_max_mem.api:Encountered tensors on device_types={'cpu'} while only ['cuda'] are considered safe for automatic memory utilization maximization. This may lead to undocumented crashes (but can be safe, too).\n",
      "INFO:pykeen.evaluation.evaluator:Evaluation took 32.62s seconds\n"
     ]
    }
   ],
   "execution_count": 4
  },
  {
   "cell_type": "code",
   "id": "962408b0",
   "metadata": {
    "ExecuteTime": {
     "end_time": "2025-08-30T14:54:53.231426Z",
     "start_time": "2025-08-30T14:54:53.218055Z"
    }
   },
   "source": [
    "# Extract embeddings\n",
    "entity_rep = result.model.entity_representations[0]\n",
    "relation_rep = result.model.relation_representations[0]\n",
    "\n",
    "entity_embeds = entity_rep(torch.arange(tf.num_entities)).detach().cpu().numpy()\n",
    "relation_embeds = relation_rep(torch.arange(tf.num_relations)).detach().cpu().numpy()\n",
    "\n",
    "entity_df = pd.DataFrame(entity_embeds, index=tf.entity_labeling.label_to_id.keys())\n",
    "relation_df = pd.DataFrame(relation_embeds, index=tf.relation_labeling.label_to_id.keys())\n",
    "\n",
    "print(\"Entity embedding shape:\", entity_df.shape)\n",
    "print(\"Relation embedding shape:\", relation_df.shape)"
   ],
   "outputs": [
    {
     "name": "stdout",
     "output_type": "stream",
     "text": [
      "Entity embedding shape: (19907, 50)\n",
      "Relation embedding shape: (21, 50)\n"
     ]
    }
   ],
   "execution_count": 5
  },
  {
   "cell_type": "code",
   "id": "b6aa4e06",
   "metadata": {
    "ExecuteTime": {
     "end_time": "2025-08-30T14:54:58.620061Z",
     "start_time": "2025-08-30T14:54:58.553626Z"
    }
   },
   "source": [
    "# Parse ratings, likes, names from triples file for profile building\n",
    "triples_df = pd.read_csv(triples_path, sep='\\t', header=None, names=['head', 'relation', 'tail'])\n",
    "\n",
    "def parse_rating(v):\n",
    "    import re\n",
    "    m = re.match(r'personalVote_([0-9.]+)', str(v))\n",
    "    return float(m.group(1)) if m else None\n",
    "\n",
    "ratings = triples_df[triples_df['relation'] == 'schema:review']\n",
    "likes = triples_df[triples_df['relation'] == 'ex:liked']\n",
    "names = triples_df[triples_df['relation'] == 'schema:name']\n",
    "\n",
    "movie2rating = dict(zip(ratings['head'], ratings['tail'].map(parse_rating)))\n",
    "movie2liked = dict(zip(likes['head'], likes['tail'].map(lambda x: str(x).lower() == 'liked_yes')))\n",
    "id2name = dict(zip(names['head'], names['tail']))\n",
    "\n",
    "valid_ratings = [v for v in movie2rating.values() if v is not None]\n",
    "rmin, rmax = (min(valid_ratings), max(valid_ratings)) if valid_ratings else (0.0, 1.0)\n",
    "denom = (rmax - rmin) if rmax > rmin else 1.0\n",
    "\n",
    "def weight(movie, like_bonus=0.15):\n",
    "    r = movie2rating.get(movie)\n",
    "    if r is None: return 0.0\n",
    "    w = (r - rmin) / denom\n",
    "    if movie2liked.get(movie, False):\n",
    "        w += like_bonus\n",
    "    return max(0.0, w)\n",
    "\n",
    "weighted_vecs = []\n",
    "for movie in entity_df.index:\n",
    "    if movie in movie2rating and movie in entity_df.index:\n",
    "        w = weight(movie)\n",
    "        if w > 0:\n",
    "            weighted_vecs.append(w * entity_df.loc[movie].values)\n",
    "\n",
    "if not weighted_vecs:\n",
    "    raise RuntimeError(\"No weighted movies found. Check that your triples contain schema:review values.\")\n",
    "user_vec = np.mean(weighted_vecs, axis=0)\n",
    "user_vec = user_vec / (np.linalg.norm(user_vec) + 1e-12)\n",
    "print(\"User vector created. Norm:\", np.linalg.norm(user_vec))"
   ],
   "outputs": [
    {
     "name": "stdout",
     "output_type": "stream",
     "text": [
      "User vector created. Norm: 1.0\n"
     ]
    }
   ],
   "execution_count": 6
  },
  {
   "cell_type": "code",
   "id": "50999e85",
   "metadata": {
    "ExecuteTime": {
     "end_time": "2025-08-30T15:12:18.271656Z",
     "start_time": "2025-08-30T15:12:18.264483Z"
    }
   },
   "source": [
    "# Compose a new (unseen) movie embedding via TransE translations\n",
    "def translate_neighbor_to_movie(neighbor_id, relation_label):\n",
    "    if neighbor_id not in entity_df.index or relation_label not in relation_df.index:\n",
    "        return None\n",
    "    # TransE: movie + r ≈ neighbor  => movie ≈ neighbor - r\n",
    "    return entity_df.loc[neighbor_id].values - relation_df.loc[relation_label].values\n",
    "\n",
    "# Example inputs (replace with your own test)\n",
    "actors = [\"Joaqin Phoenix\", \"Charles Dance\"]\n",
    "directors = [\"James Cameron\"]\n",
    "genres = [\"Action\"]      # ensure your KG has an entity labeled 'Action'; else leave empty or adjust\n",
    "language = [\"en\"]        # ensure language token exists as an entity if you want to include it\n",
    "\n",
    "# Resolve names -> ids\n",
    "name2id = {v: k for k, v in id2name.items()}\n",
    "actor_ids = [name2id.get(n) for n in actors if name2id.get(n) in entity_df.index]\n",
    "director_ids = [name2id.get(n) for n in directors if name2id.get(n) in entity_df.index]\n",
    "genre_ids = [n for n in genres if n in entity_df.index]\n",
    "lang_ids = [n for n in language if n in entity_df.index]\n",
    "\n",
    "parts = []\n",
    "for aid in actor_ids:\n",
    "    v = translate_neighbor_to_movie(aid, \"schema:actor\")\n",
    "    if v is not None: parts.append(v)\n",
    "for did in director_ids:\n",
    "    v = translate_neighbor_to_movie(did, \"schema:director\")\n",
    "    if v is not None: parts.append(v)\n",
    "for gid in genre_ids:\n",
    "    v = translate_neighbor_to_movie(gid, \"schema:genre\")\n",
    "    if v is not None: parts.append(v)\n",
    "for lid in lang_ids:\n",
    "    v = translate_neighbor_to_movie(lid, \"ex:originalLanguage\")\n",
    "    if v is not None: parts.append(v)\n",
    "\n",
    "if not parts:\n",
    "    print(\"⚠️ No components found for the new movie. Check that the chosen names/labels exist in your KG.\")\n",
    "else:\n",
    "    new_movie_vec = np.mean(parts, axis=0)\n",
    "    new_movie_vec = new_movie_vec / (np.linalg.norm(new_movie_vec) + 1e-12)\n",
    "    cosine = float(np.dot(user_vec, new_movie_vec))\n",
    "    print(f\"New movie similarity score: {cosine:.4f}\")"
   ],
   "outputs": [
    {
     "name": "stdout",
     "output_type": "stream",
     "text": [
      "New movie similarity score: 0.8849\n"
     ]
    }
   ],
   "execution_count": 12
  },
  {
   "metadata": {
    "ExecuteTime": {
     "end_time": "2025-08-30T15:10:19.937068Z",
     "start_time": "2025-08-30T15:10:19.879646Z"
    }
   },
   "cell_type": "code",
   "source": [
    "# 🔍 Automatically extract favorites from KG using rating-weighted frequency\n",
    "\n",
    "from collections import Counter\n",
    "\n",
    "# Load full triples if not already loaded\n",
    "if 'triples_df' not in locals():\n",
    "    triples_df = pd.read_csv(triples_path, sep='\\t', header=None, names=['head', 'relation', 'tail'])\n",
    "\n",
    "# --- QUICK FIX: enrich id2name with labels from the KG (covers genres) ---\n",
    "label_preds = {\"ex:name\", \"schema:name\", \"rdfs:label\"}\n",
    "label_map = (\n",
    "    triples_df[triples_df['relation'].isin(label_preds)]\n",
    "    .dropna(subset=['head','tail'])\n",
    "    .drop_duplicates(subset=['head'])\n",
    "    .set_index('head')['tail']\n",
    "    .to_dict()\n",
    ")\n",
    "# Merge into existing id2name if present, otherwise create it\n",
    "try:\n",
    "    id2name\n",
    "    id2name = {**label_map, **id2name}  # your custom names (right) win\n",
    "except NameError:\n",
    "    id2name = label_map\n",
    "# --- end quick fix ---\n",
    "\n",
    "# Get rated/liked movies with weight > 0\n",
    "relevant_movies = {m for m in movie2rating if weight(m) > 0.0}\n",
    "\n",
    "# Helper: count tail values linked to these movies by a relation\n",
    "def top_related_entities(relation, top_k=10):\n",
    "    related = triples_df[\n",
    "        (triples_df['relation'] == relation) &\n",
    "        (triples_df['head'].isin(relevant_movies))\n",
    "        ]['tail']\n",
    "    return Counter(related).most_common(top_k)\n",
    "\n",
    "# Top actors, directors, genres, and original languages\n",
    "top_actors = top_related_entities(\"schema:actor\", top_k=10)\n",
    "top_directors = top_related_entities(\"schema:director\", top_k=10)\n",
    "top_genres = top_related_entities(\"schema:genre\", top_k=5)\n",
    "top_langs = top_related_entities(\"ex:originalLanguage\", top_k=3)\n",
    "\n",
    "# Map IDs to readable names\n",
    "def display_top(counter_list):\n",
    "    return [(id2name.get(eid, eid), count) for eid, count in counter_list]\n",
    "\n",
    "print(\"🎭 Top actors:\")\n",
    "print(display_top(top_actors))\n",
    "print(\"\\n🎬 Top directors:\")\n",
    "print(display_top(top_directors))\n",
    "print(\"\\n🏷️ Top genres:\")\n",
    "print(display_top(top_genres))\n",
    "print(\"\\n🌍 Top languages:\")\n",
    "print(display_top(top_langs))"
   ],
   "id": "c0ce55b8d1061ab0",
   "outputs": [
    {
     "name": "stdout",
     "output_type": "stream",
     "text": [
      "🎭 Top actors:\n",
      "[('Willem Dafoe', 10), ('Bill Murray', 9), ('Keanu Reeves', 7), ('Margot Robbie', 7), ('Jason Schwartzman', 7), ('J.K. Simmons', 7), ('Sigourney Weaver', 6), ('Woody Harrelson', 6), ('Jeffrey Wright', 6), ('Stanley Tucci', 6)]\n",
      "\n",
      "🎬 Top directors:\n",
      "[('Wes Anderson', 11), ('David Lynch', 5), ('Quentin Tarantino', 5), ('Zack Snyder', 5), ('George Miller', 4), ('Hayao Miyazaki', 4), ('Gore Verbinski', 4), ('Bo Burnham', 4), ('Paul W. S. Anderson', 3), ('Dan Trachtenberg', 3)]\n",
      "\n",
      "🏷️ Top genres:\n",
      "[('Drama', 115), ('Comedy', 112), ('Adventure', 91), ('Action', 86), ('Science Fiction', 74)]\n",
      "\n",
      "🌍 Top languages:\n",
      "[('English', 270), ('Japanese', 8), ('German', 6)]\n"
     ]
    }
   ],
   "execution_count": 10
  },
  {
   "metadata": {},
   "cell_type": "code",
   "outputs": [],
   "execution_count": null,
   "source": [
    "'''\n",
    "The code in the previous cells is in big parts AI generated by the free and paid version of ChatGPT and was afterwards adapted by me.\n",
    "These following prompts were used:\n",
    "\n",
    "\n",
    "    \"what i originally wanted to do was create new movie recommendations based on these data. can I do this, for example deriving info on liked actors/directors and applying this info to a new list on movies that is currently not in the data yet?\"\n",
    "\n",
    "\n",
    "    \"Lets start from scratch - having only my movie_kg_triples.tsv file, can you generate a script that uses PyKEEN for exactly the things your script did before? only now I want a Jupyter notebook file (.ipynb) that I can include in my project.\"\n",
    "\n",
    "    \"# 🔍 Automatically extract favorites from KG using rating-weighted frequency\n",
    "\n",
    "        from collections import Counter\n",
    "\n",
    "        # Load full triples if not already loaded\n",
    "        if 'triples_df' not in locals():\n",
    "            triples_df = pd.read_csv(triples_path, sep='\\t', header=None, names=['head', 'relation', 'tail'])\n",
    "\n",
    "        # Get rated/liked movies with weight > 0\n",
    "        relevant_movies = {m for m in movie2rating if weight(m) > 0.0}\n",
    "\n",
    "        # Helper: count tail values linked to these movies by a relation\n",
    "        def top_related_entities(relation, top_k=10):\n",
    "            related = triples_df[\n",
    "                (triples_df['relation'] == relation) &\n",
    "                (triples_df['head'].isin(relevant_movies))\n",
    "                ]['tail']\n",
    "            return Counter(related).most_common(top_k)\n",
    "\n",
    "        # Top actors, directors, genres, and original languages\n",
    "        top_actors = top_related_entities(\"schema:actor\", top_k=10)\n",
    "        top_directors = top_related_entities(\"schema:director\", top_k=10)\n",
    "        top_genres = top_related_entities(\"schema:genre\", top_k=5)\n",
    "        top_langs = top_related_entities(\"ex:originalLanguage\", top_k=3)\n",
    "\n",
    "        # Map IDs to readable names\n",
    "        def display_top(counter_list):\n",
    "            return [(id2name.get(eid, eid), count) for eid, count in counter_list]\n",
    "\n",
    "        print(\"🎭 Top actors:\")\n",
    "        print(display_top(top_actors))\n",
    "        print(\"\\n🎬 Top directors:\")\n",
    "        print(display_top(top_directors))\n",
    "        print(\"\\n🏷️ Top genres:\")\n",
    "        print(display_top(top_genres))\n",
    "        print(\"\\n🌍 Top languages:\")\n",
    "        print(display_top(top_langs))\n",
    "\n",
    "        this code works on this file: movie_kg_triples.tsv\n",
    "\n",
    "        🎭 Top actors:\n",
    "        [('Willem Dafoe', 10), ('Bill Murray', 9), ('Keanu Reeves', 7), ('Margot Robbie', 7), ('Jason Schwartzman', 7), ('J.K. Simmons', 7), ('Sigourney Weaver', 6), ('Woody Harrelson', 6), ('Jeffrey Wright', 6), ('Stanley Tucci', 6)]\n",
    "\n",
    "        🎬 Top directors:\n",
    "        [('Wes Anderson', 11), ('David Lynch', 5), ('Quentin Tarantino', 5), ('Zack Snyder', 5), ('George Miller', 4), ('Hayao Miyazaki', 4), ('Gore Verbinski', 4), ('Bo Burnham', 4), ('Paul W. S. Anderson', 3), ('Dan Trachtenberg', 3)]\n",
    "\n",
    "        🏷️ Top genres:\n",
    "        [('genre18', 115), ('genre35', 112), ('genre12', 91), ('genre28', 86), ('genre878', 74)]\n",
    "\n",
    "        🌍 Top languages:\n",
    "        [('English', 270), ('Japanese', 8), ('German', 6)]\n",
    "\n",
    "        the output like this looks good, but i want the genres also connected to their names, which can be found in the triples.\"\n",
    "\n",
    "    \"# 🔍 Automatically extract favorites from KG using rating-weighted frequency\n",
    "\n",
    "        from collections import Counter\n",
    "\n",
    "        # Load full triples if not already loaded\n",
    "        if 'triples_df' not in locals():\n",
    "            triples_df = pd.read_csv(triples_path, sep='\\t', header=None, names=['head', 'relation', 'tail'])\n",
    "\n",
    "        # Get rated/liked movies with weight > 0\n",
    "        relevant_movies = {m for m in movie2rating if weight(m) > 0.0}\n",
    "\n",
    "        # Helper: count tail values linked to these movies by a relation\n",
    "        def top_related_entities(relation, top_k=10):\n",
    "            related = triples_df[\n",
    "                (triples_df['relation'] == relation) &\n",
    "                (triples_df['head'].isin(relevant_movies))\n",
    "                ]['tail']\n",
    "            return Counter(related).most_common(top_k)\n",
    "\n",
    "        # Top actors, directors, genres, and original languages\n",
    "        top_actors = top_related_entities(\"schema:actor\", top_k=10)\n",
    "        top_directors = top_related_entities(\"schema:director\", top_k=10)\n",
    "        top_genres = top_related_entities(\"schema:genre\", top_k=5)\n",
    "        top_langs = top_related_entities(\"ex:originalLanguage\", top_k=3)\n",
    "\n",
    "        # Map IDs to readable names\n",
    "        def display_top(counter_list):\n",
    "            return [(id2name.get(eid, eid), count) for eid, count in counter_list]\n",
    "\n",
    "        print(\"🎭 Top actors:\")\n",
    "        print(display_top(top_actors))\n",
    "        print(\"\\n🎬 Top directors:\")\n",
    "        print(display_top(top_directors))\n",
    "        print(\"\\n🏷️ Top genres:\")\n",
    "        print(display_top(top_genres))\n",
    "        print(\"\\n🌍 Top languages:\")\n",
    "        print(display_top(top_langs))\n",
    "\n",
    "        can you just include your quick fix in this code please\"\n",
    "\n",
    "\n",
    "'''"
   ],
   "id": "7bab530e42d19e24"
  }
 ],
 "metadata": {
  "kernelspec": {
   "name": "python3",
   "language": "python",
   "display_name": "Python 3 (ipykernel)"
  }
 },
 "nbformat": 4,
 "nbformat_minor": 5
}
