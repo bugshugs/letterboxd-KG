{
 "cells": [
  {
   "cell_type": "markdown",
   "metadata": {},
   "source": [
    "# TMDB Similar Movies ➜ Re-Ranking mit KG-Embedding\n",
    "\n",
    "Dieses Notebook:\n",
    "1. liest deine **Seed-Filme** (aus `data/enriched_merged.csv` oder via manueller TMDB-ID-Liste),\n",
    "2. holt **ähnliche Filme** von TMDB als **Kandidatenset**,\n",
    "3. berechnet einen **Metadaten-Similarity-Score**,\n",
    "4. kombiniert ihn mit **Cosine-Ähnlichkeit aus deinem KG-Embedding**,\n",
    "5. gibt **Top-5** (oder beliebig) Empfehlungen samt Komponenten-Scores aus und speichert eine CSV.\n",
    "\n",
    "> **Voraussetzungen**  \n",
    "> - `data/kg/embeddings/entity_embeddings.csv` existiert und enthält Film-Embeddings (Entity-Namen = Filmtitel).  \n",
    "> - Internetzugang und ein TMDB-API-Key.  \n",
    "> - Python 3.9+ mit `pandas`, `numpy`, `requests`."
   ],
   "id": "1c258b85420cbbba"
  },
  {
   "cell_type": "markdown",
   "metadata": {},
   "source": [
    "## 1) Setup"
   ],
   "id": "121bb8f96ebbba4e"
  },
  {
   "cell_type": "code",
   "execution_count": null,
   "metadata": {},
   "outputs": [],
   "source": [
    "# Optional: nötige Bibliotheken installieren (falls nicht vorhanden)\n",
    "# %pip install pandas numpy requests"
   ],
   "id": "d5a8a303480577cf"
  },
  {
   "cell_type": "code",
   "metadata": {
    "ExecuteTime": {
     "end_time": "2025-08-30T22:55:14.559420Z",
     "start_time": "2025-08-30T22:55:14.553689Z"
    }
   },
   "source": [
    "import os\n",
    "from dotenv import load_dotenv\n",
    "\n",
    "# TMDB-API-Key setzen (oder sicher im System/Notebook-Tooling hinterlegen)\n",
    "# os.environ[\"TMDB_API_TOKEN\"] = \"DEIN_TMDB_KEY_HIER\"\n",
    "assert \"TMDB_API_TOKEN\" in os.environ, \"Bitte TMDB_API_TOKEN per Umgebungsvariable setzen!\""
   ],
   "id": "620b9b94485cd44e",
   "outputs": [],
   "execution_count": 9
  },
  {
   "cell_type": "markdown",
   "metadata": {},
   "source": [
    "## 2) Pfade & Parameter"
   ],
   "id": "1382ab3ff58fb04f"
  },
  {
   "cell_type": "code",
   "metadata": {
    "ExecuteTime": {
     "end_time": "2025-08-30T22:55:16.937574Z",
     "start_time": "2025-08-30T22:55:16.930570Z"
    }
   },
   "source": [
    "PROJECT_DIR = \".\"\n",
    "\n",
    "# Pfade\n",
    "ENRICHED_CSV = f\"{PROJECT_DIR}/data/enriched_merged.csv\"\n",
    "ENTITY_EMB = f\"{PROJECT_DIR}/data/kg/embeddings/entity_embeddings.csv\"\n",
    "\n",
    "# Recommender-Parameter\n",
    "TOPK = 5\n",
    "PAGES = 2\n",
    "ALPHA = 0.6  # Mischung: alpha * Cosine + (1-alpha) * Metadaten\n",
    "WEIGHTS = {\n",
    "    \"genres\": 0.25, \"keywords\": 0.20,\n",
    "    \"cast\": 0.20, \"director\": 0.15,\n",
    "    \"runtime\": 0.05, \"language\": 0.05,\n",
    "    \"popularity\": 0.05, \"vote\": 0.05,\n",
    "}\n",
    "\n",
    "# Optional: explizite Seeds statt aus enriched_merged.csv\n",
    "EXPLICIT_SEEDS = None  # z.B. [603, 238]"
   ],
   "id": "4c675073606dd1f4",
   "outputs": [],
   "execution_count": 10
  },
  {
   "cell_type": "markdown",
   "metadata": {},
   "source": [
    "## 3) Hilfsfunktionen (TMDB, Similarity, Embeddings)"
   ],
   "id": "115a0b2c7dfa8479"
  },
  {
   "cell_type": "code",
   "metadata": {
    "ExecuteTime": {
     "end_time": "2025-08-30T23:04:52.649309Z",
     "start_time": "2025-08-30T23:04:52.635748Z"
    }
   },
   "source": [
    "import re, time, math\n",
    "from typing import Dict, List, Set\n",
    "from dataclasses import dataclass\n",
    "from dotenv import load_dotenv\n",
    "\n",
    "import pandas as pd\n",
    "import numpy as np\n",
    "import requests\n",
    "import os\n",
    "\n",
    "load_dotenv()\n",
    "\n",
    "TMDB_API = \"https://api.themoviedb.org/3\"\n",
    "\n",
    "def _api_get(path: str, params: Dict | None = None, retries: int = 3):\n",
    "    if params is None:\n",
    "        params = {}\n",
    "\n",
    "    bearer = os.getenv(\"TMDB_API_TOKEN\")  # <-- genau dein Name aus .env\n",
    "    if not bearer:\n",
    "        raise RuntimeError(\"TMDB_API_TOKEN ist nicht gesetzt (v4 Bearer-Token erwartet).\")\n",
    "\n",
    "    headers = {\n",
    "        \"Authorization\": f\"Bearer {bearer}\",\n",
    "        \"Content-Type\": \"application/json;charset=utf-8\",\n",
    "    }\n",
    "    # WICHTIG: KEIN api_key Query-Parameter bei Bearer-Auth!\n",
    "\n",
    "    for attempt in range(retries):\n",
    "        r = requests.get(f\"{TMDB_API}{path}\", headers=headers, params=params, timeout=20)\n",
    "        if r.status_code == 200:\n",
    "            return r.json()\n",
    "        if r.status_code in (429, 500, 502, 503, 504):\n",
    "            time.sleep(1.5 * (attempt + 1))\n",
    "            continue\n",
    "        raise RuntimeError(f\"TMDB error {r.status_code}: {r.text}\")\n",
    "\n",
    "    raise RuntimeError(\"TMDB temporäre Fehler nach Retries.\")\n",
    "\n",
    "def parse_tmdb_id(s: str) -> int | None:\n",
    "    if pd.isna(s):\n",
    "        return None\n",
    "    s = str(s)\n",
    "    m = re.search(r\"/movie/(\\d+)\", s)\n",
    "    if m:\n",
    "        return int(m.group(1))\n",
    "    if s.isdigit():\n",
    "        return int(s)\n",
    "    m = re.search(r\"(\\d+)\", s)\n",
    "    return int(m.group(1)) if m else None\n",
    "\n",
    "@dataclass\n",
    "class MovieMeta:\n",
    "    id: int\n",
    "    title: str\n",
    "    original_title: str | None\n",
    "    release_year: int | None\n",
    "    genres: Set[int]\n",
    "    keywords: Set[int]\n",
    "    cast_ids: Set[int]\n",
    "    director_ids: Set[int]\n",
    "    runtime: int | None\n",
    "    language: str | None\n",
    "    popularity: float | None\n",
    "    vote_average: float | None\n",
    "\n",
    "def get_movie_meta(movie_id: int) -> MovieMeta:\n",
    "    base = _api_get(f\"/movie/{movie_id}\")\n",
    "    credits = _api_get(f\"/movie/{movie_id}/credits\")\n",
    "    kw = _api_get(f\"/movie/{movie_id}/keywords\")\n",
    "    genres = {g[\"id\"] for g in (base.get(\"genres\") or [])}\n",
    "    keywords = {k[\"id\"] for k in (kw.get(\"keywords\") or [])}\n",
    "    cast_ids = {c[\"id\"] for c in (credits.get(\"cast\") or [])[:20]}\n",
    "    director_ids = {c[\"id\"] for c in (credits.get(\"crew\") or []) if c.get(\"job\") == \"Director\"}\n",
    "    y = None\n",
    "    if base.get(\"release_date\"):\n",
    "        try: y = int(base[\"release_date\"][:4])\n",
    "        except: pass\n",
    "    return MovieMeta(\n",
    "        id=movie_id,\n",
    "        title=base.get(\"title\") or str(movie_id),\n",
    "        original_title=base.get(\"original_title\"),\n",
    "        release_year=y,\n",
    "        genres=genres,\n",
    "        keywords=keywords,\n",
    "        cast_ids=cast_ids,\n",
    "        director_ids=director_ids,\n",
    "        runtime=base.get(\"runtime\"),\n",
    "        language=base.get(\"original_language\"),\n",
    "        popularity=base.get(\"popularity\"),\n",
    "        vote_average=base.get(\"vote_average\"),\n",
    "    )\n",
    "\n",
    "def gather_candidates(seed_ids: List[int], pages_per_seed: int=2) -> Set[int]:\n",
    "    cands: Set[int] = set()\n",
    "    for sid in seed_ids:\n",
    "        for p in range(1, pages_per_seed+1):\n",
    "            data = _api_get(f\"/movie/{sid}/similar\", params={\"page\": p})\n",
    "            for m in data.get(\"results\", []):\n",
    "                if m.get(\"id\"):\n",
    "                    cands.add(m[\"id\"])\n",
    "    return cands - set(seed_ids)\n",
    "\n",
    "def jaccard(a: Set, b: Set) -> float:\n",
    "    if not a and not b:\n",
    "        return 0.0\n",
    "    return len(a & b) / (len(a | b) or 1)\n",
    "\n",
    "def sim_runtime(a: int | None, b: int | None) -> float:\n",
    "    if not a or not b:\n",
    "        return 0.0\n",
    "    return math.exp(-(abs(a-b)**2) / (2 * 30**2))\n",
    "\n",
    "def sim_numeric(a: float | None, b: float | None, maxdiff: float) -> float:\n",
    "    if a is None or b is None:\n",
    "        return 0.0\n",
    "    return max(0.0, 1.0 - abs(a-b)/maxdiff)\n",
    "\n",
    "def sim_language(a: str | None, b: str | None) -> float:\n",
    "    if not a or not b:\n",
    "        return 0.0\n",
    "    return 1.0 if a == b else 0.0\n",
    "\n",
    "def metadata_similarity(seed: MovieMeta, cand: MovieMeta, weights: Dict[str,float]):\n",
    "    comps = {\n",
    "        \"genres\": jaccard(seed.genres, cand.genres),\n",
    "        \"keywords\": jaccard(seed.keywords, cand.keywords),\n",
    "        \"cast\": jaccard(seed.cast_ids, cand.cast_ids),\n",
    "        \"director\": jaccard(seed.director_ids, cand.director_ids),\n",
    "        \"runtime\": sim_runtime(seed.runtime, cand.runtime),\n",
    "        \"language\": sim_language(seed.language, cand.language),\n",
    "        \"popularity\": sim_numeric(seed.popularity, cand.popularity, 50.0),\n",
    "        \"vote\": sim_numeric(seed.vote_average, cand.vote_average, 4.0),\n",
    "    }\n",
    "    return sum(weights[k]*comps[k] for k in comps), comps\n",
    "\n",
    "def load_entity_embeddings(path: str):\n",
    "    df = pd.read_csv(path)\n",
    "    name_col = \"Unnamed: 0\" if \"Unnamed: 0\" in df.columns else df.columns[0]\n",
    "    names = df[name_col].astype(str).tolist()\n",
    "    vecs = df.drop(columns=[name_col]).to_numpy(float)\n",
    "    vecs /= (np.linalg.norm(vecs, axis=1, keepdims=True)+1e-9)\n",
    "    return {names[i].strip(): vecs[i] for i in range(len(names))}, vecs\n",
    "\n",
    "def cosine(a, b):\n",
    "    return float(np.dot(a, b)) if a is not None and b is not None else 0.0\n",
    "\n",
    "def normalize_title(t: str) -> str:\n",
    "    return re.sub(r\"\\s+\", \" \", (t or \"\").strip()).lower()\n",
    "\n",
    "def find_embedding_for_title(table, title, year=None):\n",
    "    if not title:\n",
    "        return None\n",
    "    if title in table:\n",
    "        return table[title]\n",
    "    norm = normalize_title(title)\n",
    "    for k,v in table.items():\n",
    "        if normalize_title(k) == norm:\n",
    "            return v\n",
    "    if year is not None:\n",
    "        key = f\"{title} ({year})\"\n",
    "        if key in table:\n",
    "            return table[key]\n",
    "    return None"
   ],
   "id": "1c78b9eda3aaa5b4",
   "outputs": [],
   "execution_count": 19
  },
  {
   "metadata": {
    "ExecuteTime": {
     "end_time": "2025-08-30T23:04:58.122921Z",
     "start_time": "2025-08-30T23:04:57.778089Z"
    }
   },
   "cell_type": "code",
   "source": [
    "# sollte ein JSON mit Konfiguration liefern\n",
    "print(_api_get(\"/configuration\"))\n",
    "# und ein Filmobjekt:\n",
    "print(_api_get(\"/movie/603\")[\"title\"])"
   ],
   "id": "ceec819ea3bda4da",
   "outputs": [
    {
     "name": "stdout",
     "output_type": "stream",
     "text": [
      "{'change_keys': ['adult', 'air_date', 'also_known_as', 'alternative_titles', 'biography', 'birthday', 'budget', 'cast', 'certifications', 'character_names', 'created_by', 'crew', 'deathday', 'episode', 'episode_number', 'episode_run_time', 'freebase_id', 'freebase_mid', 'general', 'genres', 'guest_stars', 'homepage', 'images', 'imdb_id', 'languages', 'name', 'network', 'origin_country', 'original_name', 'original_title', 'overview', 'parts', 'place_of_birth', 'plot_keywords', 'production_code', 'production_companies', 'production_countries', 'releases', 'revenue', 'runtime', 'season', 'season_number', 'season_regular', 'spoken_languages', 'status', 'tagline', 'title', 'translations', 'tvdb_id', 'tvrage_id', 'type', 'video', 'videos'], 'images': {'base_url': 'http://image.tmdb.org/t/p/', 'secure_base_url': 'https://image.tmdb.org/t/p/', 'backdrop_sizes': ['w300', 'w780', 'w1280', 'original'], 'logo_sizes': ['w45', 'w92', 'w154', 'w185', 'w300', 'w500', 'original'], 'poster_sizes': ['w92', 'w154', 'w185', 'w342', 'w500', 'w780', 'original'], 'profile_sizes': ['w45', 'w185', 'h632', 'original'], 'still_sizes': ['w92', 'w185', 'w300', 'original']}}\n",
      "The Matrix\n"
     ]
    }
   ],
   "execution_count": 20
  },
  {
   "cell_type": "markdown",
   "metadata": {},
   "source": [
    "## 4) Seeds laden, Kandidaten sammeln, Scoring & Top-K anzeigen"
   ],
   "id": "1e37aac2eff39689"
  },
  {
   "cell_type": "code",
   "metadata": {
    "ExecuteTime": {
     "end_time": "2025-08-30T23:06:30.110836Z",
     "start_time": "2025-08-30T23:05:02.815220Z"
    }
   },
   "source": [
    "if EXPLICIT_SEEDS:\n",
    "    seed_ids = EXPLICIT_SEEDS\n",
    "else:\n",
    "    df_enr = pd.read_csv(ENRICHED_CSV)\n",
    "    seed_ids = [parse_tmdb_id(r.get(\"tmdb_url\", \"\")) for _,r in df_enr.iterrows() if parse_tmdb_id(r.get(\"tmdb_url\", \"\"))]\n",
    "seed_ids = list(dict.fromkeys(seed_ids))\n",
    "assert seed_ids, \"Keine Seeds gefunden.\"\n",
    "\n",
    "seeds_meta = [get_movie_meta(sid) for sid in seed_ids]\n",
    "\n",
    "emb_table,_ = load_entity_embeddings(ENTITY_EMB)\n",
    "seed_vecs=[find_embedding_for_title(emb_table, sm.title, sm.release_year) for sm in seeds_meta]\n",
    "seed_vecs=[v for v in seed_vecs if v is not None]\n",
    "user_vec = np.mean(np.vstack(seed_vecs),0) if seed_vecs else None\n",
    "if user_vec is not None: user_vec/= (np.linalg.norm(user_vec)+1e-9)\n",
    "\n",
    "cand_ids = gather_candidates([sm.id for sm in seeds_meta], pages_per_seed=PAGES)\n",
    "rows=[]\n",
    "for cid in cand_ids:\n",
    "    cm = get_movie_meta(cid)\n",
    "    best_meta, comps_keep = 0.0, None\n",
    "    best_seed=None\n",
    "    for sm in seeds_meta:\n",
    "        s, comps = metadata_similarity(sm, cm, WEIGHTS)\n",
    "        if s>best_meta:\n",
    "            best_meta, comps_keep, best_seed = s, comps, sm.title\n",
    "    cand_vec = find_embedding_for_title(emb_table, cm.title, cm.release_year)\n",
    "    cos = cosine(user_vec, cand_vec)\n",
    "    final = ALPHA*cos + (1-ALPHA)*best_meta\n",
    "    rows.append({\"candidate_title\":cm.title,\"year\":cm.release_year,\"cos\":round(cos,4),\"meta\":round(best_meta,4),\"final\":round(final,4),\"seed\":best_seed})\n",
    "\n",
    "df_out=pd.DataFrame(rows).sort_values(\"final\",ascending=False).head(TOPK)\n",
    "df_out"
   ],
   "id": "769ef2bd843bc3c4",
   "outputs": [
    {
     "ename": "RuntimeError",
     "evalue": "TMDB error 404: {\"success\":false,\"status_code\":34,\"status_message\":\"The resource you requested could not be found.\"}",
     "output_type": "error",
     "traceback": [
      "\u001B[0;31m---------------------------------------------------------------------------\u001B[0m",
      "\u001B[0;31mRuntimeError\u001B[0m                              Traceback (most recent call last)",
      "Cell \u001B[0;32mIn[21], line 9\u001B[0m\n\u001B[1;32m      6\u001B[0m seed_ids \u001B[38;5;241m=\u001B[39m \u001B[38;5;28mlist\u001B[39m(\u001B[38;5;28mdict\u001B[39m\u001B[38;5;241m.\u001B[39mfromkeys(seed_ids))\n\u001B[1;32m      7\u001B[0m \u001B[38;5;28;01massert\u001B[39;00m seed_ids, \u001B[38;5;124m\"\u001B[39m\u001B[38;5;124mKeine Seeds gefunden.\u001B[39m\u001B[38;5;124m\"\u001B[39m\n\u001B[0;32m----> 9\u001B[0m seeds_meta \u001B[38;5;241m=\u001B[39m [get_movie_meta(sid) \u001B[38;5;28;01mfor\u001B[39;00m sid \u001B[38;5;129;01min\u001B[39;00m seed_ids]\n\u001B[1;32m     11\u001B[0m emb_table,_ \u001B[38;5;241m=\u001B[39m load_entity_embeddings(ENTITY_EMB)\n\u001B[1;32m     12\u001B[0m seed_vecs\u001B[38;5;241m=\u001B[39m[find_embedding_for_title(emb_table, sm\u001B[38;5;241m.\u001B[39mtitle, sm\u001B[38;5;241m.\u001B[39mrelease_year) \u001B[38;5;28;01mfor\u001B[39;00m sm \u001B[38;5;129;01min\u001B[39;00m seeds_meta]\n",
      "Cell \u001B[0;32mIn[19], line 68\u001B[0m, in \u001B[0;36mget_movie_meta\u001B[0;34m(movie_id)\u001B[0m\n\u001B[1;32m     67\u001B[0m \u001B[38;5;28;01mdef\u001B[39;00m\u001B[38;5;250m \u001B[39m\u001B[38;5;21mget_movie_meta\u001B[39m(movie_id: \u001B[38;5;28mint\u001B[39m) \u001B[38;5;241m-\u001B[39m\u001B[38;5;241m>\u001B[39m MovieMeta:\n\u001B[0;32m---> 68\u001B[0m     base \u001B[38;5;241m=\u001B[39m _api_get(\u001B[38;5;124mf\u001B[39m\u001B[38;5;124m\"\u001B[39m\u001B[38;5;124m/movie/\u001B[39m\u001B[38;5;132;01m{\u001B[39;00mmovie_id\u001B[38;5;132;01m}\u001B[39;00m\u001B[38;5;124m\"\u001B[39m)\n\u001B[1;32m     69\u001B[0m     credits \u001B[38;5;241m=\u001B[39m _api_get(\u001B[38;5;124mf\u001B[39m\u001B[38;5;124m\"\u001B[39m\u001B[38;5;124m/movie/\u001B[39m\u001B[38;5;132;01m{\u001B[39;00mmovie_id\u001B[38;5;132;01m}\u001B[39;00m\u001B[38;5;124m/credits\u001B[39m\u001B[38;5;124m\"\u001B[39m)\n\u001B[1;32m     70\u001B[0m     kw \u001B[38;5;241m=\u001B[39m _api_get(\u001B[38;5;124mf\u001B[39m\u001B[38;5;124m\"\u001B[39m\u001B[38;5;124m/movie/\u001B[39m\u001B[38;5;132;01m{\u001B[39;00mmovie_id\u001B[38;5;132;01m}\u001B[39;00m\u001B[38;5;124m/keywords\u001B[39m\u001B[38;5;124m\"\u001B[39m)\n",
      "Cell \u001B[0;32mIn[19], line 36\u001B[0m, in \u001B[0;36m_api_get\u001B[0;34m(path, params, retries)\u001B[0m\n\u001B[1;32m     34\u001B[0m         time\u001B[38;5;241m.\u001B[39msleep(\u001B[38;5;241m1.5\u001B[39m \u001B[38;5;241m*\u001B[39m (attempt \u001B[38;5;241m+\u001B[39m \u001B[38;5;241m1\u001B[39m))\n\u001B[1;32m     35\u001B[0m         \u001B[38;5;28;01mcontinue\u001B[39;00m\n\u001B[0;32m---> 36\u001B[0m     \u001B[38;5;28;01mraise\u001B[39;00m \u001B[38;5;167;01mRuntimeError\u001B[39;00m(\u001B[38;5;124mf\u001B[39m\u001B[38;5;124m\"\u001B[39m\u001B[38;5;124mTMDB error \u001B[39m\u001B[38;5;132;01m{\u001B[39;00mr\u001B[38;5;241m.\u001B[39mstatus_code\u001B[38;5;132;01m}\u001B[39;00m\u001B[38;5;124m: \u001B[39m\u001B[38;5;132;01m{\u001B[39;00mr\u001B[38;5;241m.\u001B[39mtext\u001B[38;5;132;01m}\u001B[39;00m\u001B[38;5;124m\"\u001B[39m)\n\u001B[1;32m     38\u001B[0m \u001B[38;5;28;01mraise\u001B[39;00m \u001B[38;5;167;01mRuntimeError\u001B[39;00m(\u001B[38;5;124m\"\u001B[39m\u001B[38;5;124mTMDB temporäre Fehler nach Retries.\u001B[39m\u001B[38;5;124m\"\u001B[39m)\n",
      "\u001B[0;31mRuntimeError\u001B[0m: TMDB error 404: {\"success\":false,\"status_code\":34,\"status_message\":\"The resource you requested could not be found.\"}"
     ]
    }
   ],
   "execution_count": 21
  },
  {
   "cell_type": "markdown",
   "metadata": {},
   "source": [
    "## 5) Ergebnisse speichern"
   ],
   "id": "800506c9b0066b2f"
  },
  {
   "cell_type": "code",
   "execution_count": null,
   "metadata": {},
   "outputs": [],
   "source": [
    "OUT_CSV=f\"{PROJECT_DIR}/tmdb_rerank_with_embedding_results.csv\"\n",
    "df_out.to_csv(OUT_CSV,index=False)\n",
    "print(f\"Gespeichert: {OUT_CSV}\")"
   ],
   "id": "c6940c3ee0afd848"
  }
 ],
 "metadata": {
  "kernelspec": {
   "display_name": "Python 3",
   "language": "python",
   "name": "python3"
  },
  "language_info": {
   "name": "python",
   "version": "3.11"
  }
 },
 "nbformat": 4,
 "nbformat_minor": 5
}
