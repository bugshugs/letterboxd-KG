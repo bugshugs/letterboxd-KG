{
 "cells": [
  {
   "cell_type": "markdown",
   "id": "48631ad8",
   "metadata": {},
   "source": [
    "\n",
    "# LO2: Logic Rule — Exclude Already-Watched Movies from Recommendations\n",
    "\n",
    "This notebook applies a simple **logical rule** to your recommendation candidates:\n",
    "\n",
    "> **Rule (formal):** `recommendedFor(u, m) :- candidateFor(m, u) ∧ ¬ watched(u, m)`\n",
    "\n",
    "It filters out any movie that is already in your `watched.csv`.  \n",
    "Here we identify movies by **(Name, Year)** instead of TMDB IDs.\n",
    "\n",
    "Sources used from your project:\n",
    "- `data/letterboxd_export/watched.csv` (columns: `Name`, `Year`)\n",
    "- `data/kg/tmdb_rerank_with_embedding_results_movies_only.csv` (should also contain `Name`, `Year` or similar)\n",
    "\n",
    "Outputs:\n",
    "- `data/kg/rerank_filtered_by_LO2.csv` — filtered recommendations\n",
    "- (Optional) `data/kg/recommended_materialized.ttl` — RDF materialization of `:recommendedFor` triples\n"
   ]
  },
  {
   "cell_type": "code",
   "id": "ea607820",
   "metadata": {
    "ExecuteTime": {
     "end_time": "2025-09-04T00:29:10.238759Z",
     "start_time": "2025-09-04T00:29:09.534506Z"
    }
   },
   "source": [
    "\n",
    "import os\n",
    "import pandas as pd\n",
    "from pathlib import Path\n",
    "\n",
    "# Resolve project root automatically\n",
    "here = Path.cwd()\n",
    "candidate = here\n",
    "while candidate != candidate.parent and not (candidate / \"data\").exists():\n",
    "    candidate = candidate.parent\n",
    "project_root = candidate if (candidate / \"data\").exists() else Path(\".\")\n",
    "\n",
    "print(\"Detected project_root:\", project_root.resolve())\n",
    "\n",
    "# File paths\n",
    "watched_path = project_root / \"data\" / \"letterboxd_export\" / \"watched.csv\"\n",
    "candidates_path = project_root / \"data\" / \"kg\" / \"tmdb_rerank_with_embedding_results_movies_only.csv\"\n",
    "output_csv = project_root / \"data\" / \"kg\" / \"rerank_filtered_by_LO2.csv\"\n"
   ],
   "outputs": [
    {
     "name": "stdout",
     "output_type": "stream",
     "text": [
      "Detected project_root: /Users/tschaffel/PycharmProjects/letterboxd-KG\n"
     ]
    }
   ],
   "execution_count": 1
  },
  {
   "cell_type": "markdown",
   "id": "8f404b8e",
   "metadata": {},
   "source": [
    "## Load Data"
   ]
  },
  {
   "cell_type": "code",
   "id": "14f4f460",
   "metadata": {
    "ExecuteTime": {
     "end_time": "2025-09-04T00:30:25.660043Z",
     "start_time": "2025-09-04T00:30:25.632470Z"
    }
   },
   "source": [
    "\n",
    "watched = pd.read_csv(watched_path)\n",
    "recs = pd.read_csv(candidates_path)\n",
    "\n",
    "print(\"watched.csv columns:\", list(watched.columns))\n",
    "print(\"candidates.csv columns:\", list(recs.columns))\n",
    "\n",
    "# Normalize column names (lowercase)\n",
    "watched.columns = [c.lower() for c in watched.columns]\n",
    "recs.columns = [c.lower() for c in recs.columns]\n",
    "\n",
    "# Ensure we have 'name' and 'year' in both\n",
    "assert \"name\" in watched.columns, \"watched.csv must have a 'name' column\"\n",
    "assert \"year\" in watched.columns, \"watched.csv must have a 'year' column\"\n",
    "assert \"candidate_title\" in recs.columns, \"candidates CSV must have a 'candidate_title' column\"\n",
    "assert \"year\" in recs.columns, \"candidates CSV must have a 'year' column\"\n",
    "\n",
    "# Build set of watched (name, year)\n",
    "watched_pairs = set(zip(watched[\"name\"].astype(str).str.strip().str.lower(),\n",
    "                        watched[\"year\"].astype(str)))\n",
    "print(\"Unique watched (name, year) pairs:\", len(watched_pairs))\n"
   ],
   "outputs": [
    {
     "name": "stdout",
     "output_type": "stream",
     "text": [
      "watched.csv columns: ['Date', 'Name', 'Year', 'Letterboxd URI']\n",
      "candidates.csv columns: ['candidate_id', 'candidate_title', 'year', 'cos', 'meta', 'final', 'seed', 'comp_genres', 'comp_keywords', 'comp_cast', 'comp_director', 'comp_runtime', 'comp_language', 'comp_popularity', 'comp_vote']\n",
      "Unique watched (name, year) pairs: 754\n"
     ]
    }
   ],
   "execution_count": 3
  },
  {
   "cell_type": "markdown",
   "id": "4764ee16",
   "metadata": {},
   "source": [
    "## Apply Logical Rule Filter"
   ]
  },
  {
   "cell_type": "code",
   "id": "75b3b4ed",
   "metadata": {
    "ExecuteTime": {
     "end_time": "2025-09-04T00:30:45.610699Z",
     "start_time": "2025-09-04T00:30:45.574573Z"
    }
   },
   "source": [
    "\n",
    "# Prepare candidate pairs\n",
    "recs[\"name_norm\"] = recs[\"candidate_title\"].astype(str).str.strip().str.lower()\n",
    "recs[\"year_str\"] = recs[\"year\"].astype(str)\n",
    "\n",
    "candidate_pairs = list(zip(recs[\"name_norm\"], recs[\"year_str\"]))\n",
    "\n",
    "# Apply rule: keep only candidates not in watched_pairs\n",
    "mask_not_watched = [pair not in watched_pairs for pair in candidate_pairs]\n",
    "filtered_recs = recs.loc[mask_not_watched].copy()\n",
    "\n",
    "print(\"Filtered recommendations:\", len(filtered_recs), \" / original:\", len(recs))\n",
    "filtered_recs.head(10)\n"
   ],
   "outputs": [
    {
     "name": "stdout",
     "output_type": "stream",
     "text": [
      "Filtered recommendations: 15  / original: 15\n"
     ]
    },
    {
     "data": {
      "text/plain": [
       "   candidate_id                        candidate_title    year     cos  \\\n",
       "0          1924                               Superman  1978.0  0.4339   \n",
       "1          1498           Teenage Mutant Ninja Turtles  1990.0  0.3336   \n",
       "2         11868                                Dracula  1958.0  0.3113   \n",
       "3         11797                           Fright Night  1985.0  0.2880   \n",
       "4        262097                                   Trio  1997.0  0.3501   \n",
       "5         11122                                  India  1993.0  0.2222   \n",
       "6         10889                                 Gloria  1980.0  0.1594   \n",
       "7          2661                                 Batman  1966.0  0.1428   \n",
       "8       1227770          Taylor Tomlinson: Have It All  2024.0  0.0000   \n",
       "9        671652  Taylor Tomlinson: Quarter-Life Crisis  2020.0  0.0000   \n",
       "\n",
       "     meta   final                          seed  comp_genres  comp_keywords  \\\n",
       "0  0.4698  0.4483                 Black Panther          1.0         0.1304   \n",
       "1  0.4414  0.3767  Teenage Mutant Ninja Turtles          0.8         0.3182   \n",
       "2  0.4735  0.3762                       Dracula          1.0         0.1364   \n",
       "3  0.4600  0.3568                  Fright Night          1.0         0.0769   \n",
       "4  0.3630  0.3553             Seven Psychopaths          1.0         0.0000   \n",
       "5  0.4412  0.3098                  Summer Storm          1.0         0.0370   \n",
       "6  0.4452  0.2737                     Good Time          1.0         0.0526   \n",
       "7  0.4507  0.2660                21 Jump Street          1.0         0.0606   \n",
       "8  0.6468  0.2587        Hannah Gadsby: Douglas          1.0         1.0000   \n",
       "9  0.6461  0.2584        Hannah Gadsby: Douglas          1.0         1.0000   \n",
       "\n",
       "   comp_cast  comp_director  comp_runtime  comp_language  comp_popularity  \\\n",
       "0     0.0000            0.0        0.9560            1.0           0.9719   \n",
       "1     0.0000            0.0        0.9651            1.0           0.7857   \n",
       "2     0.0000            0.0        0.9651            1.0           0.9900   \n",
       "3     0.0278            0.0        0.9994            1.0           0.9916   \n",
       "4     0.0000            0.0        0.9731            0.0           0.9183   \n",
       "5     0.0000            0.0        0.9651            1.0           0.9614   \n",
       "6     0.0000            0.0        0.7827            1.0           0.9956   \n",
       "7     0.0000            0.0        0.9912            1.0           0.8997   \n",
       "8     0.0000            0.0        0.9802            1.0           0.9857   \n",
       "9     0.0000            0.0        0.9350            1.0           0.9966   \n",
       "\n",
       "   comp_vote                              name_norm year_str  \n",
       "0     0.9457                               superman   1978.0  \n",
       "1     0.8055           teenage mutant ninja turtles   1990.0  \n",
       "2     0.9695                                dracula   1958.0  \n",
       "3     0.7908                           fright night   1985.0  \n",
       "4     0.3692                                   trio   1997.0  \n",
       "5     0.7500                                  india   1993.0  \n",
       "6     0.9152                                 gloria   1980.0  \n",
       "7     0.8805                                 batman   1966.0  \n",
       "8     0.9695          taylor tomlinson: have it all   2024.0  \n",
       "9     0.9895  taylor tomlinson: quarter-life crisis   2020.0  "
      ],
      "text/html": [
       "<div>\n",
       "<style scoped>\n",
       "    .dataframe tbody tr th:only-of-type {\n",
       "        vertical-align: middle;\n",
       "    }\n",
       "\n",
       "    .dataframe tbody tr th {\n",
       "        vertical-align: top;\n",
       "    }\n",
       "\n",
       "    .dataframe thead th {\n",
       "        text-align: right;\n",
       "    }\n",
       "</style>\n",
       "<table border=\"1\" class=\"dataframe\">\n",
       "  <thead>\n",
       "    <tr style=\"text-align: right;\">\n",
       "      <th></th>\n",
       "      <th>candidate_id</th>\n",
       "      <th>candidate_title</th>\n",
       "      <th>year</th>\n",
       "      <th>cos</th>\n",
       "      <th>meta</th>\n",
       "      <th>final</th>\n",
       "      <th>seed</th>\n",
       "      <th>comp_genres</th>\n",
       "      <th>comp_keywords</th>\n",
       "      <th>comp_cast</th>\n",
       "      <th>comp_director</th>\n",
       "      <th>comp_runtime</th>\n",
       "      <th>comp_language</th>\n",
       "      <th>comp_popularity</th>\n",
       "      <th>comp_vote</th>\n",
       "      <th>name_norm</th>\n",
       "      <th>year_str</th>\n",
       "    </tr>\n",
       "  </thead>\n",
       "  <tbody>\n",
       "    <tr>\n",
       "      <th>0</th>\n",
       "      <td>1924</td>\n",
       "      <td>Superman</td>\n",
       "      <td>1978.0</td>\n",
       "      <td>0.4339</td>\n",
       "      <td>0.4698</td>\n",
       "      <td>0.4483</td>\n",
       "      <td>Black Panther</td>\n",
       "      <td>1.0</td>\n",
       "      <td>0.1304</td>\n",
       "      <td>0.0000</td>\n",
       "      <td>0.0</td>\n",
       "      <td>0.9560</td>\n",
       "      <td>1.0</td>\n",
       "      <td>0.9719</td>\n",
       "      <td>0.9457</td>\n",
       "      <td>superman</td>\n",
       "      <td>1978.0</td>\n",
       "    </tr>\n",
       "    <tr>\n",
       "      <th>1</th>\n",
       "      <td>1498</td>\n",
       "      <td>Teenage Mutant Ninja Turtles</td>\n",
       "      <td>1990.0</td>\n",
       "      <td>0.3336</td>\n",
       "      <td>0.4414</td>\n",
       "      <td>0.3767</td>\n",
       "      <td>Teenage Mutant Ninja Turtles</td>\n",
       "      <td>0.8</td>\n",
       "      <td>0.3182</td>\n",
       "      <td>0.0000</td>\n",
       "      <td>0.0</td>\n",
       "      <td>0.9651</td>\n",
       "      <td>1.0</td>\n",
       "      <td>0.7857</td>\n",
       "      <td>0.8055</td>\n",
       "      <td>teenage mutant ninja turtles</td>\n",
       "      <td>1990.0</td>\n",
       "    </tr>\n",
       "    <tr>\n",
       "      <th>2</th>\n",
       "      <td>11868</td>\n",
       "      <td>Dracula</td>\n",
       "      <td>1958.0</td>\n",
       "      <td>0.3113</td>\n",
       "      <td>0.4735</td>\n",
       "      <td>0.3762</td>\n",
       "      <td>Dracula</td>\n",
       "      <td>1.0</td>\n",
       "      <td>0.1364</td>\n",
       "      <td>0.0000</td>\n",
       "      <td>0.0</td>\n",
       "      <td>0.9651</td>\n",
       "      <td>1.0</td>\n",
       "      <td>0.9900</td>\n",
       "      <td>0.9695</td>\n",
       "      <td>dracula</td>\n",
       "      <td>1958.0</td>\n",
       "    </tr>\n",
       "    <tr>\n",
       "      <th>3</th>\n",
       "      <td>11797</td>\n",
       "      <td>Fright Night</td>\n",
       "      <td>1985.0</td>\n",
       "      <td>0.2880</td>\n",
       "      <td>0.4600</td>\n",
       "      <td>0.3568</td>\n",
       "      <td>Fright Night</td>\n",
       "      <td>1.0</td>\n",
       "      <td>0.0769</td>\n",
       "      <td>0.0278</td>\n",
       "      <td>0.0</td>\n",
       "      <td>0.9994</td>\n",
       "      <td>1.0</td>\n",
       "      <td>0.9916</td>\n",
       "      <td>0.7908</td>\n",
       "      <td>fright night</td>\n",
       "      <td>1985.0</td>\n",
       "    </tr>\n",
       "    <tr>\n",
       "      <th>4</th>\n",
       "      <td>262097</td>\n",
       "      <td>Trio</td>\n",
       "      <td>1997.0</td>\n",
       "      <td>0.3501</td>\n",
       "      <td>0.3630</td>\n",
       "      <td>0.3553</td>\n",
       "      <td>Seven Psychopaths</td>\n",
       "      <td>1.0</td>\n",
       "      <td>0.0000</td>\n",
       "      <td>0.0000</td>\n",
       "      <td>0.0</td>\n",
       "      <td>0.9731</td>\n",
       "      <td>0.0</td>\n",
       "      <td>0.9183</td>\n",
       "      <td>0.3692</td>\n",
       "      <td>trio</td>\n",
       "      <td>1997.0</td>\n",
       "    </tr>\n",
       "    <tr>\n",
       "      <th>5</th>\n",
       "      <td>11122</td>\n",
       "      <td>India</td>\n",
       "      <td>1993.0</td>\n",
       "      <td>0.2222</td>\n",
       "      <td>0.4412</td>\n",
       "      <td>0.3098</td>\n",
       "      <td>Summer Storm</td>\n",
       "      <td>1.0</td>\n",
       "      <td>0.0370</td>\n",
       "      <td>0.0000</td>\n",
       "      <td>0.0</td>\n",
       "      <td>0.9651</td>\n",
       "      <td>1.0</td>\n",
       "      <td>0.9614</td>\n",
       "      <td>0.7500</td>\n",
       "      <td>india</td>\n",
       "      <td>1993.0</td>\n",
       "    </tr>\n",
       "    <tr>\n",
       "      <th>6</th>\n",
       "      <td>10889</td>\n",
       "      <td>Gloria</td>\n",
       "      <td>1980.0</td>\n",
       "      <td>0.1594</td>\n",
       "      <td>0.4452</td>\n",
       "      <td>0.2737</td>\n",
       "      <td>Good Time</td>\n",
       "      <td>1.0</td>\n",
       "      <td>0.0526</td>\n",
       "      <td>0.0000</td>\n",
       "      <td>0.0</td>\n",
       "      <td>0.7827</td>\n",
       "      <td>1.0</td>\n",
       "      <td>0.9956</td>\n",
       "      <td>0.9152</td>\n",
       "      <td>gloria</td>\n",
       "      <td>1980.0</td>\n",
       "    </tr>\n",
       "    <tr>\n",
       "      <th>7</th>\n",
       "      <td>2661</td>\n",
       "      <td>Batman</td>\n",
       "      <td>1966.0</td>\n",
       "      <td>0.1428</td>\n",
       "      <td>0.4507</td>\n",
       "      <td>0.2660</td>\n",
       "      <td>21 Jump Street</td>\n",
       "      <td>1.0</td>\n",
       "      <td>0.0606</td>\n",
       "      <td>0.0000</td>\n",
       "      <td>0.0</td>\n",
       "      <td>0.9912</td>\n",
       "      <td>1.0</td>\n",
       "      <td>0.8997</td>\n",
       "      <td>0.8805</td>\n",
       "      <td>batman</td>\n",
       "      <td>1966.0</td>\n",
       "    </tr>\n",
       "    <tr>\n",
       "      <th>8</th>\n",
       "      <td>1227770</td>\n",
       "      <td>Taylor Tomlinson: Have It All</td>\n",
       "      <td>2024.0</td>\n",
       "      <td>0.0000</td>\n",
       "      <td>0.6468</td>\n",
       "      <td>0.2587</td>\n",
       "      <td>Hannah Gadsby: Douglas</td>\n",
       "      <td>1.0</td>\n",
       "      <td>1.0000</td>\n",
       "      <td>0.0000</td>\n",
       "      <td>0.0</td>\n",
       "      <td>0.9802</td>\n",
       "      <td>1.0</td>\n",
       "      <td>0.9857</td>\n",
       "      <td>0.9695</td>\n",
       "      <td>taylor tomlinson: have it all</td>\n",
       "      <td>2024.0</td>\n",
       "    </tr>\n",
       "    <tr>\n",
       "      <th>9</th>\n",
       "      <td>671652</td>\n",
       "      <td>Taylor Tomlinson: Quarter-Life Crisis</td>\n",
       "      <td>2020.0</td>\n",
       "      <td>0.0000</td>\n",
       "      <td>0.6461</td>\n",
       "      <td>0.2584</td>\n",
       "      <td>Hannah Gadsby: Douglas</td>\n",
       "      <td>1.0</td>\n",
       "      <td>1.0000</td>\n",
       "      <td>0.0000</td>\n",
       "      <td>0.0</td>\n",
       "      <td>0.9350</td>\n",
       "      <td>1.0</td>\n",
       "      <td>0.9966</td>\n",
       "      <td>0.9895</td>\n",
       "      <td>taylor tomlinson: quarter-life crisis</td>\n",
       "      <td>2020.0</td>\n",
       "    </tr>\n",
       "  </tbody>\n",
       "</table>\n",
       "</div>"
      ]
     },
     "execution_count": 4,
     "metadata": {},
     "output_type": "execute_result"
    }
   ],
   "execution_count": 4
  },
  {
   "cell_type": "markdown",
   "id": "dc808930",
   "metadata": {},
   "source": [
    "## Save Filtered Recommendations"
   ]
  },
  {
   "cell_type": "code",
   "id": "ab36d43e",
   "metadata": {
    "ExecuteTime": {
     "end_time": "2025-09-04T00:31:30.517817Z",
     "start_time": "2025-09-04T00:31:30.493276Z"
    }
   },
   "source": [
    "\n",
    "output_csv.parent.mkdir(parents=True, exist_ok=True)\n",
    "filtered_recs.to_csv(output_csv, index=False)\n",
    "print(\"Saved:\", output_csv.resolve())\n"
   ],
   "outputs": [
    {
     "name": "stdout",
     "output_type": "stream",
     "text": [
      "Saved: /Users/tschaffel/PycharmProjects/letterboxd-KG/data/kg/rerank_filtered_by_LO2.csv\n"
     ]
    }
   ],
   "execution_count": 5
  },
  {
   "cell_type": "markdown",
   "id": "54032b19",
   "metadata": {},
   "source": [
    "## (Optional) Materialize `:recommendedFor` Triples (RDF)"
   ]
  },
  {
   "cell_type": "code",
   "id": "659560a7",
   "metadata": {
    "ExecuteTime": {
     "end_time": "2025-09-04T00:32:58.690093Z",
     "start_time": "2025-09-04T00:32:58.657862Z"
    }
   },
   "source": [
    "\n",
    "try:\n",
    "    from rdflib import Graph, Namespace, URIRef, Literal, RDF\n",
    "\n",
    "    EX = Namespace(\"http://example.org/\")\n",
    "    g = Graph()\n",
    "    g.bind(\"ex\", EX)\n",
    "\n",
    "    user = EX.user_tobias\n",
    "\n",
    "    for _, row in filtered_recs.iterrows():\n",
    "        movie_uri = URIRef(f\"http://example.org/movie/{row['name_norm']}_{row['year_str']}\")\n",
    "        g.add((movie_uri, RDF.type, EX.Movie))\n",
    "        g.add((movie_uri, EX.recommendedFor, user))\n",
    "        g.add((movie_uri, EX.label, Literal(f\"{row['candidate_title']} ({row['year_str']})\")))\n",
    "\n",
    "    ttl_out = project_root / \"data\" / \"kg\" / \"recommended_materialized.ttl\"\n",
    "    g.serialize(destination=str(ttl_out), format=\"turtle\")\n",
    "    print(\"Wrote TTL:\", ttl_out.resolve())\n",
    "except Exception as e:\n",
    "    print(\"Skipping RDF materialization:\", e)\n"
   ],
   "outputs": [
    {
     "name": "stderr",
     "output_type": "stream",
     "text": [
      "http://example.org/movie/teenage mutant ninja turtles_1990.0 does not look like a valid URI, trying to serialize this will break.\n",
      "http://example.org/movie/fright night_1985.0 does not look like a valid URI, trying to serialize this will break.\n",
      "http://example.org/movie/taylor tomlinson: have it all_2024.0 does not look like a valid URI, trying to serialize this will break.\n",
      "http://example.org/movie/taylor tomlinson: quarter-life crisis_2020.0 does not look like a valid URI, trying to serialize this will break.\n",
      "http://example.org/movie/george carlin: it's bad for ya!_2008.0 does not look like a valid URI, trying to serialize this will break.\n",
      "http://example.org/movie/dave chappelle: deep in the heart of texas_2017.0 does not look like a valid URI, trying to serialize this will break.\n",
      "http://example.org/movie/jim gaffigan: quality time_2019.0 does not look like a valid URI, trying to serialize this will break.\n",
      "http://example.org/movie/james acaster: make a new tomorrow_2021.0 does not look like a valid URI, trying to serialize this will break.\n",
      "http://example.org/movie/i killed my mother_2009.0 does not look like a valid URI, trying to serialize this will break.\n"
     ]
    },
    {
     "name": "stdout",
     "output_type": "stream",
     "text": [
      "Skipping RDF materialization: \"http://example.org/movie/dave chappelle: deep in the heart of texas_2017.0\" does not look like a valid URI, I cannot serialize this as N3/Turtle. Perhaps you wanted to urlencode it?\n"
     ]
    }
   ],
   "execution_count": 8
  },
  {
   "cell_type": "markdown",
   "id": "8b1df97a",
   "metadata": {},
   "source": [
    "## Before/After Summary"
   ]
  },
  {
   "cell_type": "code",
   "id": "0cb2da4f",
   "metadata": {
    "ExecuteTime": {
     "end_time": "2025-09-04T00:33:11.166913Z",
     "start_time": "2025-09-04T00:33:11.153176Z"
    }
   },
   "source": [
    "\n",
    "summary = {\n",
    "    \"candidates_total\": len(recs),\n",
    "    \"watched_total\": len(watched),\n",
    "    \"filtered_total\": len(filtered_recs),\n",
    "    \"removed_by_rule\": int(len(recs) - len(filtered_recs)),\n",
    "}\n",
    "summary\n"
   ],
   "outputs": [
    {
     "data": {
      "text/plain": [
       "{'candidates_total': 15,\n",
       " 'watched_total': 754,\n",
       " 'filtered_total': 15,\n",
       " 'removed_by_rule': 0}"
      ]
     },
     "execution_count": 9,
     "metadata": {},
     "output_type": "execute_result"
    }
   ],
   "execution_count": 9
  }
 ],
 "metadata": {
  "kernelspec": {
   "name": "python3",
   "language": "python",
   "display_name": "Python 3 (ipykernel)"
  }
 },
 "nbformat": 4,
 "nbformat_minor": 5
}
