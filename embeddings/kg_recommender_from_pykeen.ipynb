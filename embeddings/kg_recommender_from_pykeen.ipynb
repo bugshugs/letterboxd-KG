{
 "cells": [
  {
   "cell_type": "markdown",
   "id": "bb77ce8d",
   "metadata": {},
   "source": [
    "# KG Recommender with PyKEEN (TransE)\n",
    "\n",
    "This notebook:\n",
    "1) Loads your triples (`movie_kg_triples.tsv`)\n",
    "2) Trains **TransE** with PyKEEN\n",
    "3) Extracts **entity** and **relation** embeddings\n",
    "4) Builds a **user vector** from your ratings/likes\n",
    "5) Composes and **scores a new movie** in embedding space\n",
    "\n",
    "> Update paths as needed for your project layout."
   ]
  },
  {
   "cell_type": "code",
   "id": "a09bfbd4",
   "metadata": {
    "ExecuteTime": {
     "end_time": "2025-09-12T22:27:30.181097Z",
     "start_time": "2025-09-12T22:27:30.170430Z"
    }
   },
   "source": [
    "import pandas as pd\n",
    "import numpy as np\n",
    "import torch\n",
    "from pykeen.pipeline import pipeline\n",
    "from pykeen.triples import TriplesFactory\n",
    "from pathlib import Path\n",
    "\n",
    "pd.set_option(\"display.max_colwidth\", 200)\n",
    "print(\"PyTorch:\", torch.__version__)"
   ],
   "outputs": [
    {
     "name": "stdout",
     "output_type": "stream",
     "text": [
      "PyTorch: 2.8.0\n"
     ]
    }
   ],
   "execution_count": 5
  },
  {
   "cell_type": "code",
   "id": "3d670be9",
   "metadata": {
    "ExecuteTime": {
     "end_time": "2025-09-12T22:27:30.231905Z",
     "start_time": "2025-09-12T22:27:30.225502Z"
    }
   },
   "source": [
    "# Path to your triples. Adjust if needed.\n",
    "# If you run this notebook right after downloading, the example here expects your project layout.\n",
    "# For quick testing in this environment, we also show a fallback to the uploaded file.\n",
    "default_path = Path('../data/kg/movie_kg_triples.tsv')\n",
    "uploaded_path = Path('/mnt/data/movie_kg_triples.tsv')\n",
    "\n",
    "triples_path = default_path if default_path.exists() else uploaded_path\n",
    "print(\"Using triples from:\", triples_path)"
   ],
   "outputs": [
    {
     "name": "stdout",
     "output_type": "stream",
     "text": [
      "Using triples from: ../data/kg/movie_kg_triples.tsv\n"
     ]
    }
   ],
   "execution_count": 6
  },
  {
   "cell_type": "code",
   "id": "ed7f07bd",
   "metadata": {
    "ExecuteTime": {
     "end_time": "2025-09-12T22:27:30.475048Z",
     "start_time": "2025-09-12T22:27:30.248232Z"
    }
   },
   "source": [
    "# Load triples into a PyKEEN TriplesFactory\n",
    "tf = TriplesFactory.from_path(str(triples_path))\n",
    "print(f\"Loaded {len(tf.triples)} triples. Entities: {tf.num_entities}, Relations: {tf.num_relations}\")"
   ],
   "outputs": [
    {
     "name": "stderr",
     "output_type": "stream",
     "text": [
      "WARNING:pykeen.triples.triples_factory:Reconstructing all label-based triples. This is expensive and rarely needed.\n"
     ]
    },
    {
     "name": "stdout",
     "output_type": "stream",
     "text": [
      "Loaded 41139 triples. Entities: 19880, Relations: 21\n"
     ]
    }
   ],
   "execution_count": 7
  },
  {
   "cell_type": "code",
   "id": "1a419fb8",
   "metadata": {
    "ExecuteTime": {
     "end_time": "2025-09-12T22:30:02.633612Z",
     "start_time": "2025-09-12T22:27:30.482614Z"
    }
   },
   "source": [
    "# Split and train TransE\n",
    "train_tf, test_tf = tf.split([0.8, 0.2])\n",
    "result = pipeline(\n",
    "    model='TransE',\n",
    "    training=train_tf,\n",
    "    testing=test_tf,\n",
    "    training_kwargs=dict(num_epochs=100),\n",
    "    random_seed=42,\n",
    "    device='cuda' if torch.cuda.is_available() else 'cpu',\n",
    ")"
   ],
   "outputs": [
    {
     "name": "stderr",
     "output_type": "stream",
     "text": [
      "WARNING:pykeen.utils:using automatically assigned random_state=1618765814\n",
      "INFO:pykeen.triples.splitting:done splitting triples to groups of sizes [13327, 8228]\n",
      "INFO:pykeen.pipeline.api:Using device: cpu\n",
      "INFO:pykeen.nn.representation:Inferred unique=False for Embedding()\n",
      "INFO:pykeen.nn.representation:Inferred unique=False for Embedding()\n",
      "/opt/anaconda3/lib/python3.13/site-packages/torch/utils/data/dataloader.py:684: UserWarning: 'pin_memory' argument is set as true but not supported on MPS now, then device pinned memory won't be used.\n",
      "  warnings.warn(warn_msg)\n"
     ]
    },
    {
     "data": {
      "text/plain": [
       "Training epochs on cpu:   0%|          | 0/100 [00:00<?, ?epoch/s]"
      ],
      "application/vnd.jupyter.widget-view+json": {
       "version_major": 2,
       "version_minor": 0,
       "model_id": "429ae6016de24c23a5afd427322eb80a"
      }
     },
     "metadata": {},
     "output_type": "display_data",
     "jetTransient": {
      "display_id": null
     }
    },
    {
     "data": {
      "text/plain": [
       "Training batches on cpu:   0%|          | 0.00/129 [00:00<?, ?batch/s]"
      ],
      "application/vnd.jupyter.widget-view+json": {
       "version_major": 2,
       "version_minor": 0,
       "model_id": "6a3cbd1e4303438eb40218302019d3a5"
      }
     },
     "metadata": {},
     "output_type": "display_data",
     "jetTransient": {
      "display_id": null
     }
    },
    {
     "data": {
      "text/plain": [
       "Training batches on cpu:   0%|          | 0.00/129 [00:00<?, ?batch/s]"
      ],
      "application/vnd.jupyter.widget-view+json": {
       "version_major": 2,
       "version_minor": 0,
       "model_id": "f6810ababb0a4ce59ebc0c9def0b459f"
      }
     },
     "metadata": {},
     "output_type": "display_data",
     "jetTransient": {
      "display_id": null
     }
    },
    {
     "data": {
      "text/plain": [
       "Training batches on cpu:   0%|          | 0.00/129 [00:00<?, ?batch/s]"
      ],
      "application/vnd.jupyter.widget-view+json": {
       "version_major": 2,
       "version_minor": 0,
       "model_id": "e574beb413de45e1b8175fad345dc033"
      }
     },
     "metadata": {},
     "output_type": "display_data",
     "jetTransient": {
      "display_id": null
     }
    },
    {
     "data": {
      "text/plain": [
       "Training batches on cpu:   0%|          | 0.00/129 [00:00<?, ?batch/s]"
      ],
      "application/vnd.jupyter.widget-view+json": {
       "version_major": 2,
       "version_minor": 0,
       "model_id": "94551f23154d412b9d4884fded6aafb3"
      }
     },
     "metadata": {},
     "output_type": "display_data",
     "jetTransient": {
      "display_id": null
     }
    },
    {
     "data": {
      "text/plain": [
       "Training batches on cpu:   0%|          | 0.00/129 [00:00<?, ?batch/s]"
      ],
      "application/vnd.jupyter.widget-view+json": {
       "version_major": 2,
       "version_minor": 0,
       "model_id": "cda4cf1134e549399fe665c143ccb010"
      }
     },
     "metadata": {},
     "output_type": "display_data",
     "jetTransient": {
      "display_id": null
     }
    },
    {
     "data": {
      "text/plain": [
       "Training batches on cpu:   0%|          | 0.00/129 [00:00<?, ?batch/s]"
      ],
      "application/vnd.jupyter.widget-view+json": {
       "version_major": 2,
       "version_minor": 0,
       "model_id": "f2bd30d2ad0b472a9a746d4e0c7a0516"
      }
     },
     "metadata": {},
     "output_type": "display_data",
     "jetTransient": {
      "display_id": null
     }
    },
    {
     "data": {
      "text/plain": [
       "Training batches on cpu:   0%|          | 0.00/129 [00:00<?, ?batch/s]"
      ],
      "application/vnd.jupyter.widget-view+json": {
       "version_major": 2,
       "version_minor": 0,
       "model_id": "ae0ae0be09d54ce19f006537a65e34be"
      }
     },
     "metadata": {},
     "output_type": "display_data",
     "jetTransient": {
      "display_id": null
     }
    },
    {
     "data": {
      "text/plain": [
       "Training batches on cpu:   0%|          | 0.00/129 [00:00<?, ?batch/s]"
      ],
      "application/vnd.jupyter.widget-view+json": {
       "version_major": 2,
       "version_minor": 0,
       "model_id": "e092f229a27241e1a101c3767da10b67"
      }
     },
     "metadata": {},
     "output_type": "display_data",
     "jetTransient": {
      "display_id": null
     }
    },
    {
     "data": {
      "text/plain": [
       "Training batches on cpu:   0%|          | 0.00/129 [00:00<?, ?batch/s]"
      ],
      "application/vnd.jupyter.widget-view+json": {
       "version_major": 2,
       "version_minor": 0,
       "model_id": "5b069d1c3e6949448df7729c2faad22d"
      }
     },
     "metadata": {},
     "output_type": "display_data",
     "jetTransient": {
      "display_id": null
     }
    },
    {
     "data": {
      "text/plain": [
       "Training batches on cpu:   0%|          | 0.00/129 [00:00<?, ?batch/s]"
      ],
      "application/vnd.jupyter.widget-view+json": {
       "version_major": 2,
       "version_minor": 0,
       "model_id": "25639fec6f724d6198190e72c36e1084"
      }
     },
     "metadata": {},
     "output_type": "display_data",
     "jetTransient": {
      "display_id": null
     }
    },
    {
     "data": {
      "text/plain": [
       "Training batches on cpu:   0%|          | 0.00/129 [00:00<?, ?batch/s]"
      ],
      "application/vnd.jupyter.widget-view+json": {
       "version_major": 2,
       "version_minor": 0,
       "model_id": "d91fc7281fa144a1954cdd5c644f13bb"
      }
     },
     "metadata": {},
     "output_type": "display_data",
     "jetTransient": {
      "display_id": null
     }
    },
    {
     "data": {
      "text/plain": [
       "Training batches on cpu:   0%|          | 0.00/129 [00:00<?, ?batch/s]"
      ],
      "application/vnd.jupyter.widget-view+json": {
       "version_major": 2,
       "version_minor": 0,
       "model_id": "605686829c9142ce9506130807043317"
      }
     },
     "metadata": {},
     "output_type": "display_data",
     "jetTransient": {
      "display_id": null
     }
    },
    {
     "data": {
      "text/plain": [
       "Training batches on cpu:   0%|          | 0.00/129 [00:00<?, ?batch/s]"
      ],
      "application/vnd.jupyter.widget-view+json": {
       "version_major": 2,
       "version_minor": 0,
       "model_id": "331cae9e2f4e4a6da82e3fdd94e84860"
      }
     },
     "metadata": {},
     "output_type": "display_data",
     "jetTransient": {
      "display_id": null
     }
    },
    {
     "data": {
      "text/plain": [
       "Training batches on cpu:   0%|          | 0.00/129 [00:00<?, ?batch/s]"
      ],
      "application/vnd.jupyter.widget-view+json": {
       "version_major": 2,
       "version_minor": 0,
       "model_id": "5eac5e41e2814f78b8c4d70931d877e3"
      }
     },
     "metadata": {},
     "output_type": "display_data",
     "jetTransient": {
      "display_id": null
     }
    },
    {
     "data": {
      "text/plain": [
       "Training batches on cpu:   0%|          | 0.00/129 [00:00<?, ?batch/s]"
      ],
      "application/vnd.jupyter.widget-view+json": {
       "version_major": 2,
       "version_minor": 0,
       "model_id": "2fb0d4ed766b4a2d92c58967c30f4e36"
      }
     },
     "metadata": {},
     "output_type": "display_data",
     "jetTransient": {
      "display_id": null
     }
    },
    {
     "data": {
      "text/plain": [
       "Training batches on cpu:   0%|          | 0.00/129 [00:00<?, ?batch/s]"
      ],
      "application/vnd.jupyter.widget-view+json": {
       "version_major": 2,
       "version_minor": 0,
       "model_id": "7b238f38429e4b0a86f76bf4719a42bf"
      }
     },
     "metadata": {},
     "output_type": "display_data",
     "jetTransient": {
      "display_id": null
     }
    },
    {
     "data": {
      "text/plain": [
       "Training batches on cpu:   0%|          | 0.00/129 [00:00<?, ?batch/s]"
      ],
      "application/vnd.jupyter.widget-view+json": {
       "version_major": 2,
       "version_minor": 0,
       "model_id": "3d77560e4fa94d108e7ea23128a8af58"
      }
     },
     "metadata": {},
     "output_type": "display_data",
     "jetTransient": {
      "display_id": null
     }
    },
    {
     "data": {
      "text/plain": [
       "Training batches on cpu:   0%|          | 0.00/129 [00:00<?, ?batch/s]"
      ],
      "application/vnd.jupyter.widget-view+json": {
       "version_major": 2,
       "version_minor": 0,
       "model_id": "280ee84c565b4fd8b86080b24b9ed4f8"
      }
     },
     "metadata": {},
     "output_type": "display_data",
     "jetTransient": {
      "display_id": null
     }
    },
    {
     "data": {
      "text/plain": [
       "Training batches on cpu:   0%|          | 0.00/129 [00:00<?, ?batch/s]"
      ],
      "application/vnd.jupyter.widget-view+json": {
       "version_major": 2,
       "version_minor": 0,
       "model_id": "1de48b18923d4ede87f8df8783595629"
      }
     },
     "metadata": {},
     "output_type": "display_data",
     "jetTransient": {
      "display_id": null
     }
    },
    {
     "data": {
      "text/plain": [
       "Training batches on cpu:   0%|          | 0.00/129 [00:00<?, ?batch/s]"
      ],
      "application/vnd.jupyter.widget-view+json": {
       "version_major": 2,
       "version_minor": 0,
       "model_id": "5e2b30fffbac45d99aea272059de0428"
      }
     },
     "metadata": {},
     "output_type": "display_data",
     "jetTransient": {
      "display_id": null
     }
    },
    {
     "data": {
      "text/plain": [
       "Training batches on cpu:   0%|          | 0.00/129 [00:00<?, ?batch/s]"
      ],
      "application/vnd.jupyter.widget-view+json": {
       "version_major": 2,
       "version_minor": 0,
       "model_id": "ef8c78d3d7e34c95843d2055bb3e0a7d"
      }
     },
     "metadata": {},
     "output_type": "display_data",
     "jetTransient": {
      "display_id": null
     }
    },
    {
     "data": {
      "text/plain": [
       "Training batches on cpu:   0%|          | 0.00/129 [00:00<?, ?batch/s]"
      ],
      "application/vnd.jupyter.widget-view+json": {
       "version_major": 2,
       "version_minor": 0,
       "model_id": "e30d1373e30347caa19e7c380ec9ba06"
      }
     },
     "metadata": {},
     "output_type": "display_data",
     "jetTransient": {
      "display_id": null
     }
    },
    {
     "data": {
      "text/plain": [
       "Training batches on cpu:   0%|          | 0.00/129 [00:00<?, ?batch/s]"
      ],
      "application/vnd.jupyter.widget-view+json": {
       "version_major": 2,
       "version_minor": 0,
       "model_id": "869df067896c4eb3b22e72ed05614264"
      }
     },
     "metadata": {},
     "output_type": "display_data",
     "jetTransient": {
      "display_id": null
     }
    },
    {
     "data": {
      "text/plain": [
       "Training batches on cpu:   0%|          | 0.00/129 [00:00<?, ?batch/s]"
      ],
      "application/vnd.jupyter.widget-view+json": {
       "version_major": 2,
       "version_minor": 0,
       "model_id": "ed0c0cd508fa462cbea840e63becb8de"
      }
     },
     "metadata": {},
     "output_type": "display_data",
     "jetTransient": {
      "display_id": null
     }
    },
    {
     "data": {
      "text/plain": [
       "Training batches on cpu:   0%|          | 0.00/129 [00:00<?, ?batch/s]"
      ],
      "application/vnd.jupyter.widget-view+json": {
       "version_major": 2,
       "version_minor": 0,
       "model_id": "0ce74bc335f74c3999439d268fdca155"
      }
     },
     "metadata": {},
     "output_type": "display_data",
     "jetTransient": {
      "display_id": null
     }
    },
    {
     "data": {
      "text/plain": [
       "Training batches on cpu:   0%|          | 0.00/129 [00:00<?, ?batch/s]"
      ],
      "application/vnd.jupyter.widget-view+json": {
       "version_major": 2,
       "version_minor": 0,
       "model_id": "4ea636f4be5547f490a75dacf3ccc5d5"
      }
     },
     "metadata": {},
     "output_type": "display_data",
     "jetTransient": {
      "display_id": null
     }
    },
    {
     "data": {
      "text/plain": [
       "Training batches on cpu:   0%|          | 0.00/129 [00:00<?, ?batch/s]"
      ],
      "application/vnd.jupyter.widget-view+json": {
       "version_major": 2,
       "version_minor": 0,
       "model_id": "7aa74cf390a8445b96db7b6e1d3566c5"
      }
     },
     "metadata": {},
     "output_type": "display_data",
     "jetTransient": {
      "display_id": null
     }
    },
    {
     "data": {
      "text/plain": [
       "Training batches on cpu:   0%|          | 0.00/129 [00:00<?, ?batch/s]"
      ],
      "application/vnd.jupyter.widget-view+json": {
       "version_major": 2,
       "version_minor": 0,
       "model_id": "a487016442784e64a8bd2d765094eb53"
      }
     },
     "metadata": {},
     "output_type": "display_data",
     "jetTransient": {
      "display_id": null
     }
    },
    {
     "data": {
      "text/plain": [
       "Training batches on cpu:   0%|          | 0.00/129 [00:00<?, ?batch/s]"
      ],
      "application/vnd.jupyter.widget-view+json": {
       "version_major": 2,
       "version_minor": 0,
       "model_id": "400133bb82014b3984e3ff912de8f86b"
      }
     },
     "metadata": {},
     "output_type": "display_data",
     "jetTransient": {
      "display_id": null
     }
    },
    {
     "data": {
      "text/plain": [
       "Training batches on cpu:   0%|          | 0.00/129 [00:00<?, ?batch/s]"
      ],
      "application/vnd.jupyter.widget-view+json": {
       "version_major": 2,
       "version_minor": 0,
       "model_id": "6d47b7a295bb4012bb37566f5d2d78f9"
      }
     },
     "metadata": {},
     "output_type": "display_data",
     "jetTransient": {
      "display_id": null
     }
    },
    {
     "data": {
      "text/plain": [
       "Training batches on cpu:   0%|          | 0.00/129 [00:00<?, ?batch/s]"
      ],
      "application/vnd.jupyter.widget-view+json": {
       "version_major": 2,
       "version_minor": 0,
       "model_id": "9dcb426ab8f44a5299c0c8774a13a8ec"
      }
     },
     "metadata": {},
     "output_type": "display_data",
     "jetTransient": {
      "display_id": null
     }
    },
    {
     "data": {
      "text/plain": [
       "Training batches on cpu:   0%|          | 0.00/129 [00:00<?, ?batch/s]"
      ],
      "application/vnd.jupyter.widget-view+json": {
       "version_major": 2,
       "version_minor": 0,
       "model_id": "9f542fbf3b2c484787a8f36fa9bc052f"
      }
     },
     "metadata": {},
     "output_type": "display_data",
     "jetTransient": {
      "display_id": null
     }
    },
    {
     "data": {
      "text/plain": [
       "Training batches on cpu:   0%|          | 0.00/129 [00:00<?, ?batch/s]"
      ],
      "application/vnd.jupyter.widget-view+json": {
       "version_major": 2,
       "version_minor": 0,
       "model_id": "ab5029c0668b411d950d46f27c86ba71"
      }
     },
     "metadata": {},
     "output_type": "display_data",
     "jetTransient": {
      "display_id": null
     }
    },
    {
     "data": {
      "text/plain": [
       "Training batches on cpu:   0%|          | 0.00/129 [00:00<?, ?batch/s]"
      ],
      "application/vnd.jupyter.widget-view+json": {
       "version_major": 2,
       "version_minor": 0,
       "model_id": "5311777377944c75bf3474ad06052038"
      }
     },
     "metadata": {},
     "output_type": "display_data",
     "jetTransient": {
      "display_id": null
     }
    },
    {
     "data": {
      "text/plain": [
       "Training batches on cpu:   0%|          | 0.00/129 [00:00<?, ?batch/s]"
      ],
      "application/vnd.jupyter.widget-view+json": {
       "version_major": 2,
       "version_minor": 0,
       "model_id": "826bcbe24a9944c89b4bd1c203d94822"
      }
     },
     "metadata": {},
     "output_type": "display_data",
     "jetTransient": {
      "display_id": null
     }
    },
    {
     "data": {
      "text/plain": [
       "Training batches on cpu:   0%|          | 0.00/129 [00:00<?, ?batch/s]"
      ],
      "application/vnd.jupyter.widget-view+json": {
       "version_major": 2,
       "version_minor": 0,
       "model_id": "454af61fe48046809eed46eb477480d5"
      }
     },
     "metadata": {},
     "output_type": "display_data",
     "jetTransient": {
      "display_id": null
     }
    },
    {
     "data": {
      "text/plain": [
       "Training batches on cpu:   0%|          | 0.00/129 [00:00<?, ?batch/s]"
      ],
      "application/vnd.jupyter.widget-view+json": {
       "version_major": 2,
       "version_minor": 0,
       "model_id": "93d66d07993c4be091b15a90e5e6ffa0"
      }
     },
     "metadata": {},
     "output_type": "display_data",
     "jetTransient": {
      "display_id": null
     }
    },
    {
     "data": {
      "text/plain": [
       "Training batches on cpu:   0%|          | 0.00/129 [00:00<?, ?batch/s]"
      ],
      "application/vnd.jupyter.widget-view+json": {
       "version_major": 2,
       "version_minor": 0,
       "model_id": "9b24a21b72d34b36ae583bddec439a76"
      }
     },
     "metadata": {},
     "output_type": "display_data",
     "jetTransient": {
      "display_id": null
     }
    },
    {
     "data": {
      "text/plain": [
       "Training batches on cpu:   0%|          | 0.00/129 [00:00<?, ?batch/s]"
      ],
      "application/vnd.jupyter.widget-view+json": {
       "version_major": 2,
       "version_minor": 0,
       "model_id": "2459078730f149d9b940fc7d0a4da7fe"
      }
     },
     "metadata": {},
     "output_type": "display_data",
     "jetTransient": {
      "display_id": null
     }
    },
    {
     "data": {
      "text/plain": [
       "Training batches on cpu:   0%|          | 0.00/129 [00:00<?, ?batch/s]"
      ],
      "application/vnd.jupyter.widget-view+json": {
       "version_major": 2,
       "version_minor": 0,
       "model_id": "707c4807217948e1b294c7d9b832a6b3"
      }
     },
     "metadata": {},
     "output_type": "display_data",
     "jetTransient": {
      "display_id": null
     }
    },
    {
     "data": {
      "text/plain": [
       "Training batches on cpu:   0%|          | 0.00/129 [00:00<?, ?batch/s]"
      ],
      "application/vnd.jupyter.widget-view+json": {
       "version_major": 2,
       "version_minor": 0,
       "model_id": "67e051d64e714b0d96d69ecb9cd05975"
      }
     },
     "metadata": {},
     "output_type": "display_data",
     "jetTransient": {
      "display_id": null
     }
    },
    {
     "data": {
      "text/plain": [
       "Training batches on cpu:   0%|          | 0.00/129 [00:00<?, ?batch/s]"
      ],
      "application/vnd.jupyter.widget-view+json": {
       "version_major": 2,
       "version_minor": 0,
       "model_id": "d281c9eb63b34e6391c14b8e3346547e"
      }
     },
     "metadata": {},
     "output_type": "display_data",
     "jetTransient": {
      "display_id": null
     }
    },
    {
     "data": {
      "text/plain": [
       "Training batches on cpu:   0%|          | 0.00/129 [00:00<?, ?batch/s]"
      ],
      "application/vnd.jupyter.widget-view+json": {
       "version_major": 2,
       "version_minor": 0,
       "model_id": "e9319b70c71c4cbf95e330cb65fb5426"
      }
     },
     "metadata": {},
     "output_type": "display_data",
     "jetTransient": {
      "display_id": null
     }
    },
    {
     "data": {
      "text/plain": [
       "Training batches on cpu:   0%|          | 0.00/129 [00:00<?, ?batch/s]"
      ],
      "application/vnd.jupyter.widget-view+json": {
       "version_major": 2,
       "version_minor": 0,
       "model_id": "c8a0c4ee4d554560adf09bc1a7c415ca"
      }
     },
     "metadata": {},
     "output_type": "display_data",
     "jetTransient": {
      "display_id": null
     }
    },
    {
     "data": {
      "text/plain": [
       "Training batches on cpu:   0%|          | 0.00/129 [00:00<?, ?batch/s]"
      ],
      "application/vnd.jupyter.widget-view+json": {
       "version_major": 2,
       "version_minor": 0,
       "model_id": "d7fa7fb68e9a491ea1e43d6a1de0affb"
      }
     },
     "metadata": {},
     "output_type": "display_data",
     "jetTransient": {
      "display_id": null
     }
    },
    {
     "data": {
      "text/plain": [
       "Training batches on cpu:   0%|          | 0.00/129 [00:00<?, ?batch/s]"
      ],
      "application/vnd.jupyter.widget-view+json": {
       "version_major": 2,
       "version_minor": 0,
       "model_id": "4dfe172259334e9697f8b0e812f258f8"
      }
     },
     "metadata": {},
     "output_type": "display_data",
     "jetTransient": {
      "display_id": null
     }
    },
    {
     "data": {
      "text/plain": [
       "Training batches on cpu:   0%|          | 0.00/129 [00:00<?, ?batch/s]"
      ],
      "application/vnd.jupyter.widget-view+json": {
       "version_major": 2,
       "version_minor": 0,
       "model_id": "d3e561effd484160ba26ed9131104570"
      }
     },
     "metadata": {},
     "output_type": "display_data",
     "jetTransient": {
      "display_id": null
     }
    },
    {
     "data": {
      "text/plain": [
       "Training batches on cpu:   0%|          | 0.00/129 [00:00<?, ?batch/s]"
      ],
      "application/vnd.jupyter.widget-view+json": {
       "version_major": 2,
       "version_minor": 0,
       "model_id": "b35c2daeac9d489da23bf23aa1dc7f83"
      }
     },
     "metadata": {},
     "output_type": "display_data",
     "jetTransient": {
      "display_id": null
     }
    },
    {
     "data": {
      "text/plain": [
       "Training batches on cpu:   0%|          | 0.00/129 [00:00<?, ?batch/s]"
      ],
      "application/vnd.jupyter.widget-view+json": {
       "version_major": 2,
       "version_minor": 0,
       "model_id": "919bc607375b4eb79d326642624c7d47"
      }
     },
     "metadata": {},
     "output_type": "display_data",
     "jetTransient": {
      "display_id": null
     }
    },
    {
     "data": {
      "text/plain": [
       "Training batches on cpu:   0%|          | 0.00/129 [00:00<?, ?batch/s]"
      ],
      "application/vnd.jupyter.widget-view+json": {
       "version_major": 2,
       "version_minor": 0,
       "model_id": "1cae3b65283b47fbb7928d829ed1a818"
      }
     },
     "metadata": {},
     "output_type": "display_data",
     "jetTransient": {
      "display_id": null
     }
    },
    {
     "data": {
      "text/plain": [
       "Training batches on cpu:   0%|          | 0.00/129 [00:00<?, ?batch/s]"
      ],
      "application/vnd.jupyter.widget-view+json": {
       "version_major": 2,
       "version_minor": 0,
       "model_id": "557b13ab195b4c40aae11f487ae4d59a"
      }
     },
     "metadata": {},
     "output_type": "display_data",
     "jetTransient": {
      "display_id": null
     }
    },
    {
     "data": {
      "text/plain": [
       "Training batches on cpu:   0%|          | 0.00/129 [00:00<?, ?batch/s]"
      ],
      "application/vnd.jupyter.widget-view+json": {
       "version_major": 2,
       "version_minor": 0,
       "model_id": "5614fe1600c54403a97083bcc0357f26"
      }
     },
     "metadata": {},
     "output_type": "display_data",
     "jetTransient": {
      "display_id": null
     }
    },
    {
     "data": {
      "text/plain": [
       "Training batches on cpu:   0%|          | 0.00/129 [00:00<?, ?batch/s]"
      ],
      "application/vnd.jupyter.widget-view+json": {
       "version_major": 2,
       "version_minor": 0,
       "model_id": "7edb5a9023324cfb916729686b906c10"
      }
     },
     "metadata": {},
     "output_type": "display_data",
     "jetTransient": {
      "display_id": null
     }
    },
    {
     "data": {
      "text/plain": [
       "Training batches on cpu:   0%|          | 0.00/129 [00:00<?, ?batch/s]"
      ],
      "application/vnd.jupyter.widget-view+json": {
       "version_major": 2,
       "version_minor": 0,
       "model_id": "30108af4d7b34bd79491238fc8520916"
      }
     },
     "metadata": {},
     "output_type": "display_data",
     "jetTransient": {
      "display_id": null
     }
    },
    {
     "data": {
      "text/plain": [
       "Training batches on cpu:   0%|          | 0.00/129 [00:00<?, ?batch/s]"
      ],
      "application/vnd.jupyter.widget-view+json": {
       "version_major": 2,
       "version_minor": 0,
       "model_id": "0ebe1cc7c83e4af087e1eb52dc9779d4"
      }
     },
     "metadata": {},
     "output_type": "display_data",
     "jetTransient": {
      "display_id": null
     }
    },
    {
     "data": {
      "text/plain": [
       "Training batches on cpu:   0%|          | 0.00/129 [00:00<?, ?batch/s]"
      ],
      "application/vnd.jupyter.widget-view+json": {
       "version_major": 2,
       "version_minor": 0,
       "model_id": "76ff75f8593747998a776977250fc9b6"
      }
     },
     "metadata": {},
     "output_type": "display_data",
     "jetTransient": {
      "display_id": null
     }
    },
    {
     "data": {
      "text/plain": [
       "Training batches on cpu:   0%|          | 0.00/129 [00:00<?, ?batch/s]"
      ],
      "application/vnd.jupyter.widget-view+json": {
       "version_major": 2,
       "version_minor": 0,
       "model_id": "9e313368206d41849aecddfb1220a41b"
      }
     },
     "metadata": {},
     "output_type": "display_data",
     "jetTransient": {
      "display_id": null
     }
    },
    {
     "data": {
      "text/plain": [
       "Training batches on cpu:   0%|          | 0.00/129 [00:00<?, ?batch/s]"
      ],
      "application/vnd.jupyter.widget-view+json": {
       "version_major": 2,
       "version_minor": 0,
       "model_id": "09703110207f4a5d8fc178584420c4ed"
      }
     },
     "metadata": {},
     "output_type": "display_data",
     "jetTransient": {
      "display_id": null
     }
    },
    {
     "data": {
      "text/plain": [
       "Training batches on cpu:   0%|          | 0.00/129 [00:00<?, ?batch/s]"
      ],
      "application/vnd.jupyter.widget-view+json": {
       "version_major": 2,
       "version_minor": 0,
       "model_id": "ff7a76bc7cef40c9869b67873541f96e"
      }
     },
     "metadata": {},
     "output_type": "display_data",
     "jetTransient": {
      "display_id": null
     }
    },
    {
     "data": {
      "text/plain": [
       "Training batches on cpu:   0%|          | 0.00/129 [00:00<?, ?batch/s]"
      ],
      "application/vnd.jupyter.widget-view+json": {
       "version_major": 2,
       "version_minor": 0,
       "model_id": "be563e83e402453b90c4fd3554268bc6"
      }
     },
     "metadata": {},
     "output_type": "display_data",
     "jetTransient": {
      "display_id": null
     }
    },
    {
     "data": {
      "text/plain": [
       "Training batches on cpu:   0%|          | 0.00/129 [00:00<?, ?batch/s]"
      ],
      "application/vnd.jupyter.widget-view+json": {
       "version_major": 2,
       "version_minor": 0,
       "model_id": "0ffe4247ae224da999b864eb92721be1"
      }
     },
     "metadata": {},
     "output_type": "display_data",
     "jetTransient": {
      "display_id": null
     }
    },
    {
     "data": {
      "text/plain": [
       "Training batches on cpu:   0%|          | 0.00/129 [00:00<?, ?batch/s]"
      ],
      "application/vnd.jupyter.widget-view+json": {
       "version_major": 2,
       "version_minor": 0,
       "model_id": "5ac44a56a37e40bea1906b4b7755eda3"
      }
     },
     "metadata": {},
     "output_type": "display_data",
     "jetTransient": {
      "display_id": null
     }
    },
    {
     "data": {
      "text/plain": [
       "Training batches on cpu:   0%|          | 0.00/129 [00:00<?, ?batch/s]"
      ],
      "application/vnd.jupyter.widget-view+json": {
       "version_major": 2,
       "version_minor": 0,
       "model_id": "36cdc421ad4c42839c53373c0cb77b63"
      }
     },
     "metadata": {},
     "output_type": "display_data",
     "jetTransient": {
      "display_id": null
     }
    },
    {
     "data": {
      "text/plain": [
       "Training batches on cpu:   0%|          | 0.00/129 [00:00<?, ?batch/s]"
      ],
      "application/vnd.jupyter.widget-view+json": {
       "version_major": 2,
       "version_minor": 0,
       "model_id": "b9025657faa747e68c40098683844d1e"
      }
     },
     "metadata": {},
     "output_type": "display_data",
     "jetTransient": {
      "display_id": null
     }
    },
    {
     "data": {
      "text/plain": [
       "Training batches on cpu:   0%|          | 0.00/129 [00:00<?, ?batch/s]"
      ],
      "application/vnd.jupyter.widget-view+json": {
       "version_major": 2,
       "version_minor": 0,
       "model_id": "bbd2e2c5ffa74d47af04424f4c2f2de8"
      }
     },
     "metadata": {},
     "output_type": "display_data",
     "jetTransient": {
      "display_id": null
     }
    },
    {
     "data": {
      "text/plain": [
       "Training batches on cpu:   0%|          | 0.00/129 [00:00<?, ?batch/s]"
      ],
      "application/vnd.jupyter.widget-view+json": {
       "version_major": 2,
       "version_minor": 0,
       "model_id": "3b968d40941849a88c7177065cf27189"
      }
     },
     "metadata": {},
     "output_type": "display_data",
     "jetTransient": {
      "display_id": null
     }
    },
    {
     "data": {
      "text/plain": [
       "Training batches on cpu:   0%|          | 0.00/129 [00:00<?, ?batch/s]"
      ],
      "application/vnd.jupyter.widget-view+json": {
       "version_major": 2,
       "version_minor": 0,
       "model_id": "d8a4e608442249c391b955c2ac650e98"
      }
     },
     "metadata": {},
     "output_type": "display_data",
     "jetTransient": {
      "display_id": null
     }
    },
    {
     "data": {
      "text/plain": [
       "Training batches on cpu:   0%|          | 0.00/129 [00:00<?, ?batch/s]"
      ],
      "application/vnd.jupyter.widget-view+json": {
       "version_major": 2,
       "version_minor": 0,
       "model_id": "7efcf73b90bc49e194d8e220d05c2c2f"
      }
     },
     "metadata": {},
     "output_type": "display_data",
     "jetTransient": {
      "display_id": null
     }
    },
    {
     "data": {
      "text/plain": [
       "Training batches on cpu:   0%|          | 0.00/129 [00:00<?, ?batch/s]"
      ],
      "application/vnd.jupyter.widget-view+json": {
       "version_major": 2,
       "version_minor": 0,
       "model_id": "cf110ca0b6d24a29828cc608b7860863"
      }
     },
     "metadata": {},
     "output_type": "display_data",
     "jetTransient": {
      "display_id": null
     }
    },
    {
     "data": {
      "text/plain": [
       "Training batches on cpu:   0%|          | 0.00/129 [00:00<?, ?batch/s]"
      ],
      "application/vnd.jupyter.widget-view+json": {
       "version_major": 2,
       "version_minor": 0,
       "model_id": "998bab02df1e4f12a202049241253647"
      }
     },
     "metadata": {},
     "output_type": "display_data",
     "jetTransient": {
      "display_id": null
     }
    },
    {
     "data": {
      "text/plain": [
       "Training batches on cpu:   0%|          | 0.00/129 [00:00<?, ?batch/s]"
      ],
      "application/vnd.jupyter.widget-view+json": {
       "version_major": 2,
       "version_minor": 0,
       "model_id": "02b9dd384c644162961965150d084ed6"
      }
     },
     "metadata": {},
     "output_type": "display_data",
     "jetTransient": {
      "display_id": null
     }
    },
    {
     "data": {
      "text/plain": [
       "Training batches on cpu:   0%|          | 0.00/129 [00:00<?, ?batch/s]"
      ],
      "application/vnd.jupyter.widget-view+json": {
       "version_major": 2,
       "version_minor": 0,
       "model_id": "5fb49c414f47483e8fa75fc4e1d7a674"
      }
     },
     "metadata": {},
     "output_type": "display_data",
     "jetTransient": {
      "display_id": null
     }
    },
    {
     "data": {
      "text/plain": [
       "Training batches on cpu:   0%|          | 0.00/129 [00:00<?, ?batch/s]"
      ],
      "application/vnd.jupyter.widget-view+json": {
       "version_major": 2,
       "version_minor": 0,
       "model_id": "0ed686b3a5b3453f9af8f8d8b3caf533"
      }
     },
     "metadata": {},
     "output_type": "display_data",
     "jetTransient": {
      "display_id": null
     }
    },
    {
     "data": {
      "text/plain": [
       "Training batches on cpu:   0%|          | 0.00/129 [00:00<?, ?batch/s]"
      ],
      "application/vnd.jupyter.widget-view+json": {
       "version_major": 2,
       "version_minor": 0,
       "model_id": "d28f0ce0e08d461686baab91eb2e2eba"
      }
     },
     "metadata": {},
     "output_type": "display_data",
     "jetTransient": {
      "display_id": null
     }
    },
    {
     "data": {
      "text/plain": [
       "Training batches on cpu:   0%|          | 0.00/129 [00:00<?, ?batch/s]"
      ],
      "application/vnd.jupyter.widget-view+json": {
       "version_major": 2,
       "version_minor": 0,
       "model_id": "81a27b3a8c01463d8a1138ca63fe3f2f"
      }
     },
     "metadata": {},
     "output_type": "display_data",
     "jetTransient": {
      "display_id": null
     }
    },
    {
     "data": {
      "text/plain": [
       "Training batches on cpu:   0%|          | 0.00/129 [00:00<?, ?batch/s]"
      ],
      "application/vnd.jupyter.widget-view+json": {
       "version_major": 2,
       "version_minor": 0,
       "model_id": "5617e58acaf8424aba18f60f3231de28"
      }
     },
     "metadata": {},
     "output_type": "display_data",
     "jetTransient": {
      "display_id": null
     }
    },
    {
     "data": {
      "text/plain": [
       "Training batches on cpu:   0%|          | 0.00/129 [00:00<?, ?batch/s]"
      ],
      "application/vnd.jupyter.widget-view+json": {
       "version_major": 2,
       "version_minor": 0,
       "model_id": "619105c60a554664a0629602eb4cea06"
      }
     },
     "metadata": {},
     "output_type": "display_data",
     "jetTransient": {
      "display_id": null
     }
    },
    {
     "data": {
      "text/plain": [
       "Training batches on cpu:   0%|          | 0.00/129 [00:00<?, ?batch/s]"
      ],
      "application/vnd.jupyter.widget-view+json": {
       "version_major": 2,
       "version_minor": 0,
       "model_id": "85ac2e54479247b69aa2f5c457a06167"
      }
     },
     "metadata": {},
     "output_type": "display_data",
     "jetTransient": {
      "display_id": null
     }
    },
    {
     "data": {
      "text/plain": [
       "Training batches on cpu:   0%|          | 0.00/129 [00:00<?, ?batch/s]"
      ],
      "application/vnd.jupyter.widget-view+json": {
       "version_major": 2,
       "version_minor": 0,
       "model_id": "0e095158f4ae43358e718ce1eb2edf84"
      }
     },
     "metadata": {},
     "output_type": "display_data",
     "jetTransient": {
      "display_id": null
     }
    },
    {
     "data": {
      "text/plain": [
       "Training batches on cpu:   0%|          | 0.00/129 [00:00<?, ?batch/s]"
      ],
      "application/vnd.jupyter.widget-view+json": {
       "version_major": 2,
       "version_minor": 0,
       "model_id": "4504436f5427463ebe2969d9375f8218"
      }
     },
     "metadata": {},
     "output_type": "display_data",
     "jetTransient": {
      "display_id": null
     }
    },
    {
     "data": {
      "text/plain": [
       "Training batches on cpu:   0%|          | 0.00/129 [00:00<?, ?batch/s]"
      ],
      "application/vnd.jupyter.widget-view+json": {
       "version_major": 2,
       "version_minor": 0,
       "model_id": "ab21a32b109b4df49ccf950ad2b2e62b"
      }
     },
     "metadata": {},
     "output_type": "display_data",
     "jetTransient": {
      "display_id": null
     }
    },
    {
     "data": {
      "text/plain": [
       "Training batches on cpu:   0%|          | 0.00/129 [00:00<?, ?batch/s]"
      ],
      "application/vnd.jupyter.widget-view+json": {
       "version_major": 2,
       "version_minor": 0,
       "model_id": "91f999f2f9034f1db51c3a4950c7585d"
      }
     },
     "metadata": {},
     "output_type": "display_data",
     "jetTransient": {
      "display_id": null
     }
    },
    {
     "data": {
      "text/plain": [
       "Training batches on cpu:   0%|          | 0.00/129 [00:00<?, ?batch/s]"
      ],
      "application/vnd.jupyter.widget-view+json": {
       "version_major": 2,
       "version_minor": 0,
       "model_id": "db83794a43f343d7afb9655f65c19490"
      }
     },
     "metadata": {},
     "output_type": "display_data",
     "jetTransient": {
      "display_id": null
     }
    },
    {
     "data": {
      "text/plain": [
       "Training batches on cpu:   0%|          | 0.00/129 [00:00<?, ?batch/s]"
      ],
      "application/vnd.jupyter.widget-view+json": {
       "version_major": 2,
       "version_minor": 0,
       "model_id": "c5a7d7ca1e7a4688ae28d7dbf9087395"
      }
     },
     "metadata": {},
     "output_type": "display_data",
     "jetTransient": {
      "display_id": null
     }
    },
    {
     "data": {
      "text/plain": [
       "Training batches on cpu:   0%|          | 0.00/129 [00:00<?, ?batch/s]"
      ],
      "application/vnd.jupyter.widget-view+json": {
       "version_major": 2,
       "version_minor": 0,
       "model_id": "6e3c846c498544bca55acc35bd4b17a4"
      }
     },
     "metadata": {},
     "output_type": "display_data",
     "jetTransient": {
      "display_id": null
     }
    },
    {
     "data": {
      "text/plain": [
       "Training batches on cpu:   0%|          | 0.00/129 [00:00<?, ?batch/s]"
      ],
      "application/vnd.jupyter.widget-view+json": {
       "version_major": 2,
       "version_minor": 0,
       "model_id": "f3662a6515c54ad390d7c5367b0b03a9"
      }
     },
     "metadata": {},
     "output_type": "display_data",
     "jetTransient": {
      "display_id": null
     }
    },
    {
     "data": {
      "text/plain": [
       "Training batches on cpu:   0%|          | 0.00/129 [00:00<?, ?batch/s]"
      ],
      "application/vnd.jupyter.widget-view+json": {
       "version_major": 2,
       "version_minor": 0,
       "model_id": "284657cd3eaa4327b995dad071ccb55e"
      }
     },
     "metadata": {},
     "output_type": "display_data",
     "jetTransient": {
      "display_id": null
     }
    },
    {
     "data": {
      "text/plain": [
       "Training batches on cpu:   0%|          | 0.00/129 [00:00<?, ?batch/s]"
      ],
      "application/vnd.jupyter.widget-view+json": {
       "version_major": 2,
       "version_minor": 0,
       "model_id": "cc8fb208525a40edb544eae1327f416f"
      }
     },
     "metadata": {},
     "output_type": "display_data",
     "jetTransient": {
      "display_id": null
     }
    },
    {
     "data": {
      "text/plain": [
       "Training batches on cpu:   0%|          | 0.00/129 [00:00<?, ?batch/s]"
      ],
      "application/vnd.jupyter.widget-view+json": {
       "version_major": 2,
       "version_minor": 0,
       "model_id": "41fe4fe84af045acae46069e2baceba9"
      }
     },
     "metadata": {},
     "output_type": "display_data",
     "jetTransient": {
      "display_id": null
     }
    },
    {
     "data": {
      "text/plain": [
       "Training batches on cpu:   0%|          | 0.00/129 [00:00<?, ?batch/s]"
      ],
      "application/vnd.jupyter.widget-view+json": {
       "version_major": 2,
       "version_minor": 0,
       "model_id": "796a7c5f9ff64fd7ba7ab2da7d294658"
      }
     },
     "metadata": {},
     "output_type": "display_data",
     "jetTransient": {
      "display_id": null
     }
    },
    {
     "data": {
      "text/plain": [
       "Training batches on cpu:   0%|          | 0.00/129 [00:00<?, ?batch/s]"
      ],
      "application/vnd.jupyter.widget-view+json": {
       "version_major": 2,
       "version_minor": 0,
       "model_id": "c6579332ca794b6fa2b335c0d76a64f1"
      }
     },
     "metadata": {},
     "output_type": "display_data",
     "jetTransient": {
      "display_id": null
     }
    },
    {
     "data": {
      "text/plain": [
       "Training batches on cpu:   0%|          | 0.00/129 [00:00<?, ?batch/s]"
      ],
      "application/vnd.jupyter.widget-view+json": {
       "version_major": 2,
       "version_minor": 0,
       "model_id": "e3e7750ea8e24233b174fb2390090fde"
      }
     },
     "metadata": {},
     "output_type": "display_data",
     "jetTransient": {
      "display_id": null
     }
    },
    {
     "data": {
      "text/plain": [
       "Training batches on cpu:   0%|          | 0.00/129 [00:00<?, ?batch/s]"
      ],
      "application/vnd.jupyter.widget-view+json": {
       "version_major": 2,
       "version_minor": 0,
       "model_id": "0d6775a4f9484cc49e87b78290f07059"
      }
     },
     "metadata": {},
     "output_type": "display_data",
     "jetTransient": {
      "display_id": null
     }
    },
    {
     "data": {
      "text/plain": [
       "Training batches on cpu:   0%|          | 0.00/129 [00:00<?, ?batch/s]"
      ],
      "application/vnd.jupyter.widget-view+json": {
       "version_major": 2,
       "version_minor": 0,
       "model_id": "687c0317a4254888b97be1e57392acb5"
      }
     },
     "metadata": {},
     "output_type": "display_data",
     "jetTransient": {
      "display_id": null
     }
    },
    {
     "data": {
      "text/plain": [
       "Training batches on cpu:   0%|          | 0.00/129 [00:00<?, ?batch/s]"
      ],
      "application/vnd.jupyter.widget-view+json": {
       "version_major": 2,
       "version_minor": 0,
       "model_id": "0c96450f6b2f453fa2e8a3fe40d21239"
      }
     },
     "metadata": {},
     "output_type": "display_data",
     "jetTransient": {
      "display_id": null
     }
    },
    {
     "data": {
      "text/plain": [
       "Training batches on cpu:   0%|          | 0.00/129 [00:00<?, ?batch/s]"
      ],
      "application/vnd.jupyter.widget-view+json": {
       "version_major": 2,
       "version_minor": 0,
       "model_id": "fa7a035525c54091915303d9529c42fe"
      }
     },
     "metadata": {},
     "output_type": "display_data",
     "jetTransient": {
      "display_id": null
     }
    },
    {
     "data": {
      "text/plain": [
       "Training batches on cpu:   0%|          | 0.00/129 [00:00<?, ?batch/s]"
      ],
      "application/vnd.jupyter.widget-view+json": {
       "version_major": 2,
       "version_minor": 0,
       "model_id": "f61d0c7c55504b4e9f4a3d62beed1858"
      }
     },
     "metadata": {},
     "output_type": "display_data",
     "jetTransient": {
      "display_id": null
     }
    },
    {
     "data": {
      "text/plain": [
       "Training batches on cpu:   0%|          | 0.00/129 [00:00<?, ?batch/s]"
      ],
      "application/vnd.jupyter.widget-view+json": {
       "version_major": 2,
       "version_minor": 0,
       "model_id": "890a4dbbec124a0680a52de16fd66ea5"
      }
     },
     "metadata": {},
     "output_type": "display_data",
     "jetTransient": {
      "display_id": null
     }
    },
    {
     "data": {
      "text/plain": [
       "Training batches on cpu:   0%|          | 0.00/129 [00:00<?, ?batch/s]"
      ],
      "application/vnd.jupyter.widget-view+json": {
       "version_major": 2,
       "version_minor": 0,
       "model_id": "9f790e3b2d6440449df5c569cd8f85a3"
      }
     },
     "metadata": {},
     "output_type": "display_data",
     "jetTransient": {
      "display_id": null
     }
    },
    {
     "data": {
      "text/plain": [
       "Training batches on cpu:   0%|          | 0.00/129 [00:00<?, ?batch/s]"
      ],
      "application/vnd.jupyter.widget-view+json": {
       "version_major": 2,
       "version_minor": 0,
       "model_id": "d6a6fa3e6ddc46228c0595165a4ae813"
      }
     },
     "metadata": {},
     "output_type": "display_data",
     "jetTransient": {
      "display_id": null
     }
    },
    {
     "name": "stderr",
     "output_type": "stream",
     "text": [
      "WARNING:pykeen.utils:Using automatic batch size on device.type='cpu' can cause unexplained out-of-memory crashes. Therefore, we use a conservative small batch_size=32. Performance may be improved by explicitly specifying a larger batch size.\n"
     ]
    },
    {
     "data": {
      "text/plain": [
       "Evaluating on cpu:   0%|          | 0.00/8.23k [00:00<?, ?triple/s]"
      ],
      "application/vnd.jupyter.widget-view+json": {
       "version_major": 2,
       "version_minor": 0,
       "model_id": "aa651933bc3e4aaabd68f4f9754d410c"
      }
     },
     "metadata": {},
     "output_type": "display_data",
     "jetTransient": {
      "display_id": null
     }
    },
    {
     "name": "stderr",
     "output_type": "stream",
     "text": [
      "WARNING:torch_max_mem.api:Encountered tensors on device_types={'cpu'} while only ['cuda'] are considered safe for automatic memory utilization maximization. This may lead to undocumented crashes (but can be safe, too).\n",
      "INFO:pykeen.evaluation.evaluator:Evaluation took 40.19s seconds\n"
     ]
    }
   ],
   "execution_count": 8
  },
  {
   "cell_type": "code",
   "id": "962408b0",
   "metadata": {
    "ExecuteTime": {
     "end_time": "2025-09-12T22:30:03.567615Z",
     "start_time": "2025-09-12T22:30:02.767569Z"
    }
   },
   "source": [
    "# Extract embeddings\n",
    "entity_rep = result.model.entity_representations[0]\n",
    "relation_rep = result.model.relation_representations[0]\n",
    "\n",
    "entity_embeds = entity_rep(torch.arange(tf.num_entities)).detach().cpu().numpy()\n",
    "relation_embeds = relation_rep(torch.arange(tf.num_relations)).detach().cpu().numpy()\n",
    "\n",
    "entity_df = pd.DataFrame(entity_embeds, index=tf.entity_labeling.label_to_id.keys())\n",
    "relation_df = pd.DataFrame(relation_embeds, index=tf.relation_labeling.label_to_id.keys())\n",
    "\n",
    "entity_df.to_csv(\"../data/kg/embeddings/entity_embeddings.csv\")\n",
    "relation_df.to_csv(\"../data/kg/embeddings/relation_embeddings.csv\")\n",
    "\n",
    "print(\"Entity embedding shape:\", entity_df.shape)\n",
    "print(\"Relation embedding shape:\", relation_df.shape)"
   ],
   "outputs": [
    {
     "name": "stdout",
     "output_type": "stream",
     "text": [
      "Entity embedding shape: (19880, 50)\n",
      "Relation embedding shape: (21, 50)\n"
     ]
    }
   ],
   "execution_count": 9
  },
  {
   "cell_type": "code",
   "id": "b6aa4e06",
   "metadata": {
    "ExecuteTime": {
     "end_time": "2025-09-12T22:30:03.676267Z",
     "start_time": "2025-09-12T22:30:03.620572Z"
    }
   },
   "source": [
    "# Parse ratings, likes, names from triples file for profile building\n",
    "triples_df = pd.read_csv(triples_path, sep='\\t', header=None, names=['head', 'relation', 'tail'])\n",
    "\n",
    "def parse_rating(v):\n",
    "    import re\n",
    "    m = re.match(r'personalVote_([0-9.]+)', str(v))\n",
    "    return float(m.group(1)) if m else None\n",
    "\n",
    "ratings = triples_df[triples_df['relation'] == 'schema:review']\n",
    "likes = triples_df[triples_df['relation'] == 'ex:liked']\n",
    "names = triples_df[triples_df['relation'] == 'schema:name']\n",
    "\n",
    "movie2rating = dict(zip(ratings['head'], ratings['tail'].map(parse_rating)))\n",
    "movie2liked = dict(zip(likes['head'], likes['tail'].map(lambda x: str(x).lower() == 'liked_yes')))\n",
    "id2name = dict(zip(names['head'], names['tail']))\n",
    "\n",
    "valid_ratings = [v for v in movie2rating.values() if v is not None]\n",
    "rmin, rmax = (min(valid_ratings), max(valid_ratings)) if valid_ratings else (0.0, 1.0)\n",
    "denom = (rmax - rmin) if rmax > rmin else 1.0\n",
    "\n",
    "def weight(movie, like_bonus=0.15):\n",
    "    r = movie2rating.get(movie)\n",
    "    if r is None: return 0.0\n",
    "    w = (r - rmin) / denom\n",
    "    if movie2liked.get(movie, False):\n",
    "        w += like_bonus\n",
    "    return max(0.0, w)\n",
    "\n",
    "weighted_vecs = []\n",
    "for movie in entity_df.index:\n",
    "    if movie in movie2rating and movie in entity_df.index:\n",
    "        w = weight(movie)\n",
    "        if w > 0:\n",
    "            weighted_vecs.append(w * entity_df.loc[movie].values)\n",
    "\n",
    "if not weighted_vecs:\n",
    "    raise RuntimeError(\"No weighted movies found. Check that your triples contain schema:review values.\")\n",
    "user_vec = np.mean(weighted_vecs, axis=0)\n",
    "user_vec = user_vec / (np.linalg.norm(user_vec) + 1e-12)\n",
    "print(\"User vector created. Norm:\", np.linalg.norm(user_vec))"
   ],
   "outputs": [
    {
     "name": "stdout",
     "output_type": "stream",
     "text": [
      "User vector created. Norm: 1.0\n"
     ]
    }
   ],
   "execution_count": 10
  },
  {
   "cell_type": "code",
   "id": "50999e85",
   "metadata": {
    "ExecuteTime": {
     "end_time": "2025-09-12T22:30:03.688214Z",
     "start_time": "2025-09-12T22:30:03.681943Z"
    }
   },
   "source": [
    "# Compose a new (unseen) movie embedding via TransE translations\n",
    "def translate_neighbor_to_movie(neighbor_id, relation_label):\n",
    "    if neighbor_id not in entity_df.index or relation_label not in relation_df.index:\n",
    "        return None\n",
    "    # TransE: movie + r ≈ neighbor  => movie ≈ neighbor - r\n",
    "    return entity_df.loc[neighbor_id].values - relation_df.loc[relation_label].values\n",
    "\n",
    "# Example inputs (replace with your own test)\n",
    "actors = [\"Joaqin Phoenix\", \"Charles Dance\"]\n",
    "directors = [\"James Cameron\"]\n",
    "genres = [\"Action\"]      # ensure your KG has an entity labeled 'Action'; else leave empty or adjust\n",
    "language = [\"en\"]        # ensure language token exists as an entity if you want to include it\n",
    "\n",
    "# Resolve names -> ids\n",
    "name2id = {v: k for k, v in id2name.items()}\n",
    "actor_ids = [name2id.get(n) for n in actors if name2id.get(n) in entity_df.index]\n",
    "director_ids = [name2id.get(n) for n in directors if name2id.get(n) in entity_df.index]\n",
    "genre_ids = [n for n in genres if n in entity_df.index]\n",
    "lang_ids = [n for n in language if n in entity_df.index]\n",
    "\n",
    "parts = []\n",
    "for aid in actor_ids:\n",
    "    v = translate_neighbor_to_movie(aid, \"schema:actor\")\n",
    "    if v is not None: parts.append(v)\n",
    "for did in director_ids:\n",
    "    v = translate_neighbor_to_movie(did, \"schema:director\")\n",
    "    if v is not None: parts.append(v)\n",
    "for gid in genre_ids:\n",
    "    v = translate_neighbor_to_movie(gid, \"schema:genre\")\n",
    "    if v is not None: parts.append(v)\n",
    "for lid in lang_ids:\n",
    "    v = translate_neighbor_to_movie(lid, \"ex:originalLanguage\")\n",
    "    if v is not None: parts.append(v)\n",
    "\n",
    "if not parts:\n",
    "    print(\"⚠️ No components found for the new movie. Check that the chosen names/labels exist in your KG.\")\n",
    "else:\n",
    "    new_movie_vec = np.mean(parts, axis=0)\n",
    "    new_movie_vec = new_movie_vec / (np.linalg.norm(new_movie_vec) + 1e-12)\n",
    "    cosine = float(np.dot(user_vec, new_movie_vec))\n",
    "    print(f\"New movie similarity score: {cosine:.4f}\")"
   ],
   "outputs": [
    {
     "name": "stdout",
     "output_type": "stream",
     "text": [
      "New movie similarity score: 0.8127\n"
     ]
    }
   ],
   "execution_count": 11
  },
  {
   "metadata": {
    "ExecuteTime": {
     "end_time": "2025-09-12T22:30:03.739412Z",
     "start_time": "2025-09-12T22:30:03.701853Z"
    }
   },
   "cell_type": "code",
   "source": [
    "# 🔍 Automatically extract favorites from KG using rating-weighted frequency\n",
    "\n",
    "from collections import Counter\n",
    "\n",
    "# Load full triples if not already loaded\n",
    "if 'triples_df' not in locals():\n",
    "    triples_df = pd.read_csv(triples_path, sep='\\t', header=None, names=['head', 'relation', 'tail'])\n",
    "\n",
    "# --- QUICK FIX: enrich id2name with labels from the KG (covers genres) ---\n",
    "label_preds = {\"ex:name\", \"schema:name\", \"rdfs:label\"}\n",
    "label_map = (\n",
    "    triples_df[triples_df['relation'].isin(label_preds)]\n",
    "    .dropna(subset=['head','tail'])\n",
    "    .drop_duplicates(subset=['head'])\n",
    "    .set_index('head')['tail']\n",
    "    .to_dict()\n",
    ")\n",
    "# Merge into existing id2name if present, otherwise create it\n",
    "try:\n",
    "    id2name\n",
    "    id2name = {**label_map, **id2name}  # your custom names (right) win\n",
    "except NameError:\n",
    "    id2name = label_map\n",
    "# --- end quick fix ---\n",
    "\n",
    "# Get rated/liked movies with weight > 0\n",
    "relevant_movies = {m for m in movie2rating if weight(m) > 0.0}\n",
    "\n",
    "# Helper: count tail values linked to these movies by a relation\n",
    "def top_related_entities(relation, top_k=10):\n",
    "    related = triples_df[\n",
    "        (triples_df['relation'] == relation) &\n",
    "        (triples_df['head'].isin(relevant_movies))\n",
    "        ]['tail']\n",
    "    return Counter(related).most_common(top_k)\n",
    "\n",
    "# Top actors, directors, genres, and original languages\n",
    "top_actors = top_related_entities(\"schema:actor\", top_k=10)\n",
    "top_directors = top_related_entities(\"schema:director\", top_k=10)\n",
    "top_genres = top_related_entities(\"schema:genre\", top_k=5)\n",
    "top_langs = top_related_entities(\"ex:originalLanguage\", top_k=3)\n",
    "\n",
    "# Map IDs to readable names\n",
    "def display_top(counter_list):\n",
    "    return [(id2name.get(eid, eid), count) for eid, count in counter_list]\n",
    "\n",
    "print(\"🎭 Top actors:\")\n",
    "print(display_top(top_actors))\n",
    "print(\"\\n🎬 Top directors:\")\n",
    "print(display_top(top_directors))\n",
    "print(\"\\n🏷️ Top genres:\")\n",
    "print(display_top(top_genres))\n",
    "print(\"\\n🌍 Top languages:\")\n",
    "print(display_top(top_langs))"
   ],
   "id": "c0ce55b8d1061ab0",
   "outputs": [
    {
     "name": "stdout",
     "output_type": "stream",
     "text": [
      "🎭 Top actors:\n",
      "[('Willem Dafoe', 10), ('Bill Murray', 9), ('Keanu Reeves', 7), ('Margot Robbie', 7), ('Jason Schwartzman', 7), ('J.K. Simmons', 7), ('Laurence Fishburne', 6), ('Sigourney Weaver', 6), ('Woody Harrelson', 6), ('Jeffrey Wright', 6)]\n",
      "\n",
      "🎬 Top directors:\n",
      "[('Wes Anderson', 11), ('David Lynch', 5), ('Quentin Tarantino', 5), ('Zack Snyder', 5), ('George Miller', 4), ('Hayao Miyazaki', 4), ('Gore Verbinski', 4), ('Bo Burnham', 4), ('Paul W. S. Anderson', 3), ('Dan Trachtenberg', 3)]\n",
      "\n",
      "🏷️ Top genres:\n",
      "[('Drama', 115), ('Comedy', 112), ('Adventure', 91), ('Action', 86), ('Science Fiction', 74)]\n",
      "\n",
      "🌍 Top languages:\n",
      "[('English', 270), ('Japanese', 8), ('German', 6)]\n"
     ]
    }
   ],
   "execution_count": 12
  },
  {
   "metadata": {
    "ExecuteTime": {
     "end_time": "2025-09-12T22:30:03.752286Z",
     "start_time": "2025-09-12T22:30:03.745019Z"
    }
   },
   "cell_type": "code",
   "source": [
    "'''\n",
    "The code in the previous cells is in big parts AI generated by the free and paid version of ChatGPT and was afterwards heavily adapted by me. Since it is not possible to accurately say which parts were originaly AI generated by wich promt, I have included all prompts that were used on this file here.\n",
    "These following prompts were used:\n",
    "\n",
    "\n",
    "    \"what i originally wanted to do was create new movie recommendations based on these data. can I do this, for example deriving info on liked actors/directors and applying this info to a new list on movies that is currently not in the data yet?\"\n",
    "\n",
    "\n",
    "    \"Lets start from scratch - having only my movie_kg_triples.tsv file, can you generate a script that uses PyKEEN for exactly the things your script did before? only now I want a Jupyter notebook file (.ipynb) that I can include in my project.\"\n",
    "\n",
    "    \"# 🔍 Automatically extract favorites from KG using rating-weighted frequency\n",
    "\n",
    "        from collections import Counter\n",
    "\n",
    "        # Load full triples if not already loaded\n",
    "        if 'triples_df' not in locals():\n",
    "            triples_df = pd.read_csv(triples_path, sep='\\t', header=None, names=['head', 'relation', 'tail'])\n",
    "\n",
    "        # Get rated/liked movies with weight > 0\n",
    "        relevant_movies = {m for m in movie2rating if weight(m) > 0.0}\n",
    "\n",
    "        # Helper: count tail values linked to these movies by a relation\n",
    "        def top_related_entities(relation, top_k=10):\n",
    "            related = triples_df[\n",
    "                (triples_df['relation'] == relation) &\n",
    "                (triples_df['head'].isin(relevant_movies))\n",
    "                ]['tail']\n",
    "            return Counter(related).most_common(top_k)\n",
    "\n",
    "        # Top actors, directors, genres, and original languages\n",
    "        top_actors = top_related_entities(\"schema:actor\", top_k=10)\n",
    "        top_directors = top_related_entities(\"schema:director\", top_k=10)\n",
    "        top_genres = top_related_entities(\"schema:genre\", top_k=5)\n",
    "        top_langs = top_related_entities(\"ex:originalLanguage\", top_k=3)\n",
    "\n",
    "        # Map IDs to readable names\n",
    "        def display_top(counter_list):\n",
    "            return [(id2name.get(eid, eid), count) for eid, count in counter_list]\n",
    "\n",
    "        print(\"🎭 Top actors:\")\n",
    "        print(display_top(top_actors))\n",
    "        print(\"\\n🎬 Top directors:\")\n",
    "        print(display_top(top_directors))\n",
    "        print(\"\\n🏷️ Top genres:\")\n",
    "        print(display_top(top_genres))\n",
    "        print(\"\\n🌍 Top languages:\")\n",
    "        print(display_top(top_langs))\n",
    "\n",
    "        this code works on this file: movie_kg_triples.tsv\n",
    "\n",
    "        🎭 Top actors:\n",
    "        [('Willem Dafoe', 10), ('Bill Murray', 9), ('Keanu Reeves', 7), ('Margot Robbie', 7), ('Jason Schwartzman', 7), ('J.K. Simmons', 7), ('Sigourney Weaver', 6), ('Woody Harrelson', 6), ('Jeffrey Wright', 6), ('Stanley Tucci', 6)]\n",
    "\n",
    "        🎬 Top directors:\n",
    "        [('Wes Anderson', 11), ('David Lynch', 5), ('Quentin Tarantino', 5), ('Zack Snyder', 5), ('George Miller', 4), ('Hayao Miyazaki', 4), ('Gore Verbinski', 4), ('Bo Burnham', 4), ('Paul W. S. Anderson', 3), ('Dan Trachtenberg', 3)]\n",
    "\n",
    "        🏷️ Top genres:\n",
    "        [('genre18', 115), ('genre35', 112), ('genre12', 91), ('genre28', 86), ('genre878', 74)]\n",
    "\n",
    "        🌍 Top languages:\n",
    "        [('English', 270), ('Japanese', 8), ('German', 6)]\n",
    "\n",
    "        the output like this looks good, but i want the genres also connected to their names, which can be found in the triples.\"\n",
    "\n",
    "    \"# 🔍 Automatically extract favorites from KG using rating-weighted frequency\n",
    "\n",
    "        from collections import Counter\n",
    "\n",
    "        # Load full triples if not already loaded\n",
    "        if 'triples_df' not in locals():\n",
    "            triples_df = pd.read_csv(triples_path, sep='\\t', header=None, names=['head', 'relation', 'tail'])\n",
    "\n",
    "        # Get rated/liked movies with weight > 0\n",
    "        relevant_movies = {m for m in movie2rating if weight(m) > 0.0}\n",
    "\n",
    "        # Helper: count tail values linked to these movies by a relation\n",
    "        def top_related_entities(relation, top_k=10):\n",
    "            related = triples_df[\n",
    "                (triples_df['relation'] == relation) &\n",
    "                (triples_df['head'].isin(relevant_movies))\n",
    "                ]['tail']\n",
    "            return Counter(related).most_common(top_k)\n",
    "\n",
    "        # Top actors, directors, genres, and original languages\n",
    "        top_actors = top_related_entities(\"schema:actor\", top_k=10)\n",
    "        top_directors = top_related_entities(\"schema:director\", top_k=10)\n",
    "        top_genres = top_related_entities(\"schema:genre\", top_k=5)\n",
    "        top_langs = top_related_entities(\"ex:originalLanguage\", top_k=3)\n",
    "\n",
    "        # Map IDs to readable names\n",
    "        def display_top(counter_list):\n",
    "            return [(id2name.get(eid, eid), count) for eid, count in counter_list]\n",
    "\n",
    "        print(\"🎭 Top actors:\")\n",
    "        print(display_top(top_actors))\n",
    "        print(\"\\n🎬 Top directors:\")\n",
    "        print(display_top(top_directors))\n",
    "        print(\"\\n🏷️ Top genres:\")\n",
    "        print(display_top(top_genres))\n",
    "        print(\"\\n🌍 Top languages:\")\n",
    "        print(display_top(top_langs))\n",
    "\n",
    "        can you just include your quick fix in this code please\"\n",
    "\n",
    "\n",
    "'''"
   ],
   "id": "7bab530e42d19e24",
   "outputs": [
    {
     "data": {
      "text/plain": [
       "'\\nThe code in the previous cells is in big parts AI generated by the free and paid version of ChatGPT and was afterwards heavily adapted by me. Since it is not possible to accurately say which parts were originaly AI generated by wich promt, I have included all prompts that were used on this file here.\\nThese following prompts were used:\\n\\n\\n    \"what i originally wanted to do was create new movie recommendations based on these data. can I do this, for example deriving info on liked actors/directors and applying this info to a new list on movies that is currently not in the data yet?\"\\n\\n\\n    \"Lets start from scratch - having only my movie_kg_triples.tsv file, can you generate a script that uses PyKEEN for exactly the things your script did before? only now I want a Jupyter notebook file (.ipynb) that I can include in my project.\"\\n\\n    \"# 🔍 Automatically extract favorites from KG using rating-weighted frequency\\n\\n        from collections import Counter\\n\\n        # Load full triples if not already loaded\\n        if \\'triples_df\\' not in locals():\\n            triples_df = pd.read_csv(triples_path, sep=\\'\\t\\', header=None, names=[\\'head\\', \\'relation\\', \\'tail\\'])\\n\\n        # Get rated/liked movies with weight > 0\\n        relevant_movies = {m for m in movie2rating if weight(m) > 0.0}\\n\\n        # Helper: count tail values linked to these movies by a relation\\n        def top_related_entities(relation, top_k=10):\\n            related = triples_df[\\n                (triples_df[\\'relation\\'] == relation) &\\n                (triples_df[\\'head\\'].isin(relevant_movies))\\n                ][\\'tail\\']\\n            return Counter(related).most_common(top_k)\\n\\n        # Top actors, directors, genres, and original languages\\n        top_actors = top_related_entities(\"schema:actor\", top_k=10)\\n        top_directors = top_related_entities(\"schema:director\", top_k=10)\\n        top_genres = top_related_entities(\"schema:genre\", top_k=5)\\n        top_langs = top_related_entities(\"ex:originalLanguage\", top_k=3)\\n\\n        # Map IDs to readable names\\n        def display_top(counter_list):\\n            return [(id2name.get(eid, eid), count) for eid, count in counter_list]\\n\\n        print(\"🎭 Top actors:\")\\n        print(display_top(top_actors))\\n        print(\"\\n🎬 Top directors:\")\\n        print(display_top(top_directors))\\n        print(\"\\n🏷️ Top genres:\")\\n        print(display_top(top_genres))\\n        print(\"\\n🌍 Top languages:\")\\n        print(display_top(top_langs))\\n\\n        this code works on this file: movie_kg_triples.tsv\\n\\n        🎭 Top actors:\\n        [(\\'Willem Dafoe\\', 10), (\\'Bill Murray\\', 9), (\\'Keanu Reeves\\', 7), (\\'Margot Robbie\\', 7), (\\'Jason Schwartzman\\', 7), (\\'J.K. Simmons\\', 7), (\\'Sigourney Weaver\\', 6), (\\'Woody Harrelson\\', 6), (\\'Jeffrey Wright\\', 6), (\\'Stanley Tucci\\', 6)]\\n\\n        🎬 Top directors:\\n        [(\\'Wes Anderson\\', 11), (\\'David Lynch\\', 5), (\\'Quentin Tarantino\\', 5), (\\'Zack Snyder\\', 5), (\\'George Miller\\', 4), (\\'Hayao Miyazaki\\', 4), (\\'Gore Verbinski\\', 4), (\\'Bo Burnham\\', 4), (\\'Paul W. S. Anderson\\', 3), (\\'Dan Trachtenberg\\', 3)]\\n\\n        🏷️ Top genres:\\n        [(\\'genre18\\', 115), (\\'genre35\\', 112), (\\'genre12\\', 91), (\\'genre28\\', 86), (\\'genre878\\', 74)]\\n\\n        🌍 Top languages:\\n        [(\\'English\\', 270), (\\'Japanese\\', 8), (\\'German\\', 6)]\\n\\n        the output like this looks good, but i want the genres also connected to their names, which can be found in the triples.\"\\n\\n    \"# 🔍 Automatically extract favorites from KG using rating-weighted frequency\\n\\n        from collections import Counter\\n\\n        # Load full triples if not already loaded\\n        if \\'triples_df\\' not in locals():\\n            triples_df = pd.read_csv(triples_path, sep=\\'\\t\\', header=None, names=[\\'head\\', \\'relation\\', \\'tail\\'])\\n\\n        # Get rated/liked movies with weight > 0\\n        relevant_movies = {m for m in movie2rating if weight(m) > 0.0}\\n\\n        # Helper: count tail values linked to these movies by a relation\\n        def top_related_entities(relation, top_k=10):\\n            related = triples_df[\\n                (triples_df[\\'relation\\'] == relation) &\\n                (triples_df[\\'head\\'].isin(relevant_movies))\\n                ][\\'tail\\']\\n            return Counter(related).most_common(top_k)\\n\\n        # Top actors, directors, genres, and original languages\\n        top_actors = top_related_entities(\"schema:actor\", top_k=10)\\n        top_directors = top_related_entities(\"schema:director\", top_k=10)\\n        top_genres = top_related_entities(\"schema:genre\", top_k=5)\\n        top_langs = top_related_entities(\"ex:originalLanguage\", top_k=3)\\n\\n        # Map IDs to readable names\\n        def display_top(counter_list):\\n            return [(id2name.get(eid, eid), count) for eid, count in counter_list]\\n\\n        print(\"🎭 Top actors:\")\\n        print(display_top(top_actors))\\n        print(\"\\n🎬 Top directors:\")\\n        print(display_top(top_directors))\\n        print(\"\\n🏷️ Top genres:\")\\n        print(display_top(top_genres))\\n        print(\"\\n🌍 Top languages:\")\\n        print(display_top(top_langs))\\n\\n        can you just include your quick fix in this code please\"\\n\\n\\n'"
      ]
     },
     "execution_count": 13,
     "metadata": {},
     "output_type": "execute_result"
    }
   ],
   "execution_count": 13
  }
 ],
 "metadata": {
  "kernelspec": {
   "name": "python3",
   "language": "python",
   "display_name": "Python 3 (ipykernel)"
  }
 },
 "nbformat": 4,
 "nbformat_minor": 5
}
