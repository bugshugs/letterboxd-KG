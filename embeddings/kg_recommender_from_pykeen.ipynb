{
 "cells": [
  {
   "cell_type": "markdown",
   "id": "bb77ce8d",
   "metadata": {},
   "source": [
    "# KG Recommender with PyKEEN (TransE)\n",
    "\n",
    "This notebook:\n",
    "1) Loads your triples (`movie_kg_triples.tsv`)\n",
    "2) Trains **TransE** with PyKEEN\n",
    "3) Extracts **entity** and **relation** embeddings\n",
    "4) Builds a **user vector** from your ratings/likes\n",
    "5) Composes and **scores a new movie** in embedding space\n",
    "\n",
    "> Update paths as needed for your project layout."
   ]
  },
  {
   "cell_type": "code",
   "id": "a09bfbd4",
   "metadata": {
    "ExecuteTime": {
     "end_time": "2025-09-16T21:00:34.579595Z",
     "start_time": "2025-09-16T21:00:29.836628Z"
    }
   },
   "source": [
    "import pandas as pd\n",
    "import numpy as np\n",
    "import torch\n",
    "from pykeen.pipeline import pipeline\n",
    "from pykeen.triples import TriplesFactory\n",
    "from pathlib import Path\n",
    "\n",
    "pd.set_option(\"display.max_colwidth\", 200)\n",
    "print(\"PyTorch:\", torch.__version__)"
   ],
   "outputs": [
    {
     "name": "stdout",
     "output_type": "stream",
     "text": [
      "PyTorch: 2.8.0\n"
     ]
    }
   ],
   "execution_count": 1
  },
  {
   "cell_type": "code",
   "id": "3d670be9",
   "metadata": {
    "ExecuteTime": {
     "end_time": "2025-09-16T21:00:34.630938Z",
     "start_time": "2025-09-16T21:00:34.627848Z"
    }
   },
   "source": [
    "# Path to your triples. Adjust if needed.\n",
    "# If you run this notebook right after downloading, the example here expects your project layout.\n",
    "# For quick testing in this environment, we also show a fallback to the uploaded file.\n",
    "default_path = Path('../data/kg/triples/movie_kg_triples.tsv')\n",
    "uploaded_path = Path('/mnt/data/movie_kg_triples.tsv')\n",
    "\n",
    "triples_path = default_path if default_path.exists() else uploaded_path\n",
    "print(\"Using triples from:\", triples_path)"
   ],
   "outputs": [
    {
     "name": "stdout",
     "output_type": "stream",
     "text": [
      "Using triples from: ../data/kg/triples/movie_kg_triples.tsv\n"
     ]
    }
   ],
   "execution_count": 2
  },
  {
   "cell_type": "code",
   "id": "ed7f07bd",
   "metadata": {
    "ExecuteTime": {
     "end_time": "2025-09-16T21:00:34.859027Z",
     "start_time": "2025-09-16T21:00:34.660768Z"
    }
   },
   "source": [
    "# Load triples into a PyKEEN TriplesFactory\n",
    "tf = TriplesFactory.from_path(str(triples_path))\n",
    "print(f\"Loaded {len(tf.triples)} triples. Entities: {tf.num_entities}, Relations: {tf.num_relations}\")"
   ],
   "outputs": [
    {
     "name": "stderr",
     "output_type": "stream",
     "text": [
      "Reconstructing all label-based triples. This is expensive and rarely needed.\n"
     ]
    },
    {
     "name": "stdout",
     "output_type": "stream",
     "text": [
      "Loaded 41199 triples. Entities: 19835, Relations: 21\n"
     ]
    }
   ],
   "execution_count": 3
  },
  {
   "cell_type": "code",
   "id": "1a419fb8",
   "metadata": {
    "ExecuteTime": {
     "end_time": "2025-09-16T21:02:53.544272Z",
     "start_time": "2025-09-16T21:00:34.870895Z"
    }
   },
   "source": [
    "# Split and train TransE\n",
    "train_tf, test_tf = tf.split([0.8, 0.2])\n",
    "result = pipeline(\n",
    "    model='TransE',\n",
    "    training=train_tf,\n",
    "    testing=test_tf,\n",
    "    training_kwargs=dict(num_epochs=100),\n",
    "    random_seed=42,\n",
    "    device='cuda' if torch.cuda.is_available() else 'cpu',\n",
    ")"
   ],
   "outputs": [
    {
     "name": "stderr",
     "output_type": "stream",
     "text": [
      "using automatically assigned random_state=962293046\n",
      "/opt/anaconda3/lib/python3.13/site-packages/torch/utils/data/dataloader.py:684: UserWarning: 'pin_memory' argument is set as true but not supported on MPS now, then device pinned memory won't be used.\n",
      "  warnings.warn(warn_msg)\n"
     ]
    },
    {
     "data": {
      "text/plain": [
       "Training epochs on cpu:   0%|          | 0/100 [00:00<?, ?epoch/s]"
      ],
      "application/vnd.jupyter.widget-view+json": {
       "version_major": 2,
       "version_minor": 0,
       "model_id": "dae59139d9dc475990665f0e13830885"
      }
     },
     "metadata": {},
     "output_type": "display_data",
     "jetTransient": {
      "display_id": null
     }
    },
    {
     "data": {
      "text/plain": [
       "Training batches on cpu:   0%|          | 0.00/129 [00:00<?, ?batch/s]"
      ],
      "application/vnd.jupyter.widget-view+json": {
       "version_major": 2,
       "version_minor": 0,
       "model_id": "28ea4ddba41e432887260e2668c67dad"
      }
     },
     "metadata": {},
     "output_type": "display_data",
     "jetTransient": {
      "display_id": null
     }
    },
    {
     "data": {
      "text/plain": [
       "Training batches on cpu:   0%|          | 0.00/129 [00:00<?, ?batch/s]"
      ],
      "application/vnd.jupyter.widget-view+json": {
       "version_major": 2,
       "version_minor": 0,
       "model_id": "5ba9442b1093406c941e7bf1f23ebbcf"
      }
     },
     "metadata": {},
     "output_type": "display_data",
     "jetTransient": {
      "display_id": null
     }
    },
    {
     "data": {
      "text/plain": [
       "Training batches on cpu:   0%|          | 0.00/129 [00:00<?, ?batch/s]"
      ],
      "application/vnd.jupyter.widget-view+json": {
       "version_major": 2,
       "version_minor": 0,
       "model_id": "e7fd8b97ac5d441b9c84d546271750a2"
      }
     },
     "metadata": {},
     "output_type": "display_data",
     "jetTransient": {
      "display_id": null
     }
    },
    {
     "data": {
      "text/plain": [
       "Training batches on cpu:   0%|          | 0.00/129 [00:00<?, ?batch/s]"
      ],
      "application/vnd.jupyter.widget-view+json": {
       "version_major": 2,
       "version_minor": 0,
       "model_id": "398ff72a9d304d7781e0f557ab50f844"
      }
     },
     "metadata": {},
     "output_type": "display_data",
     "jetTransient": {
      "display_id": null
     }
    },
    {
     "data": {
      "text/plain": [
       "Training batches on cpu:   0%|          | 0.00/129 [00:00<?, ?batch/s]"
      ],
      "application/vnd.jupyter.widget-view+json": {
       "version_major": 2,
       "version_minor": 0,
       "model_id": "7889b6b360454863a307d3a68ea3bd21"
      }
     },
     "metadata": {},
     "output_type": "display_data",
     "jetTransient": {
      "display_id": null
     }
    },
    {
     "data": {
      "text/plain": [
       "Training batches on cpu:   0%|          | 0.00/129 [00:00<?, ?batch/s]"
      ],
      "application/vnd.jupyter.widget-view+json": {
       "version_major": 2,
       "version_minor": 0,
       "model_id": "c8e4f6fed2cd4c698e08848c98579d4f"
      }
     },
     "metadata": {},
     "output_type": "display_data",
     "jetTransient": {
      "display_id": null
     }
    },
    {
     "data": {
      "text/plain": [
       "Training batches on cpu:   0%|          | 0.00/129 [00:00<?, ?batch/s]"
      ],
      "application/vnd.jupyter.widget-view+json": {
       "version_major": 2,
       "version_minor": 0,
       "model_id": "1eee26f9d2a94c7aafcab327af44252a"
      }
     },
     "metadata": {},
     "output_type": "display_data",
     "jetTransient": {
      "display_id": null
     }
    },
    {
     "data": {
      "text/plain": [
       "Training batches on cpu:   0%|          | 0.00/129 [00:00<?, ?batch/s]"
      ],
      "application/vnd.jupyter.widget-view+json": {
       "version_major": 2,
       "version_minor": 0,
       "model_id": "96930fbb10e54ebaab1df5b093fa6136"
      }
     },
     "metadata": {},
     "output_type": "display_data",
     "jetTransient": {
      "display_id": null
     }
    },
    {
     "data": {
      "text/plain": [
       "Training batches on cpu:   0%|          | 0.00/129 [00:00<?, ?batch/s]"
      ],
      "application/vnd.jupyter.widget-view+json": {
       "version_major": 2,
       "version_minor": 0,
       "model_id": "35693483b92b4f61bf5d3a4f893535d2"
      }
     },
     "metadata": {},
     "output_type": "display_data",
     "jetTransient": {
      "display_id": null
     }
    },
    {
     "data": {
      "text/plain": [
       "Training batches on cpu:   0%|          | 0.00/129 [00:00<?, ?batch/s]"
      ],
      "application/vnd.jupyter.widget-view+json": {
       "version_major": 2,
       "version_minor": 0,
       "model_id": "d9fa6d5bace145a19e3c6a25a57f7adf"
      }
     },
     "metadata": {},
     "output_type": "display_data",
     "jetTransient": {
      "display_id": null
     }
    },
    {
     "data": {
      "text/plain": [
       "Training batches on cpu:   0%|          | 0.00/129 [00:00<?, ?batch/s]"
      ],
      "application/vnd.jupyter.widget-view+json": {
       "version_major": 2,
       "version_minor": 0,
       "model_id": "f7254d14bed2438b98107c5ecf5db447"
      }
     },
     "metadata": {},
     "output_type": "display_data",
     "jetTransient": {
      "display_id": null
     }
    },
    {
     "data": {
      "text/plain": [
       "Training batches on cpu:   0%|          | 0.00/129 [00:00<?, ?batch/s]"
      ],
      "application/vnd.jupyter.widget-view+json": {
       "version_major": 2,
       "version_minor": 0,
       "model_id": "4478aa7b41474256a1d303be99213830"
      }
     },
     "metadata": {},
     "output_type": "display_data",
     "jetTransient": {
      "display_id": null
     }
    },
    {
     "data": {
      "text/plain": [
       "Training batches on cpu:   0%|          | 0.00/129 [00:00<?, ?batch/s]"
      ],
      "application/vnd.jupyter.widget-view+json": {
       "version_major": 2,
       "version_minor": 0,
       "model_id": "4757c3468a6c4b8b9f79760ddc146ccb"
      }
     },
     "metadata": {},
     "output_type": "display_data",
     "jetTransient": {
      "display_id": null
     }
    },
    {
     "data": {
      "text/plain": [
       "Training batches on cpu:   0%|          | 0.00/129 [00:00<?, ?batch/s]"
      ],
      "application/vnd.jupyter.widget-view+json": {
       "version_major": 2,
       "version_minor": 0,
       "model_id": "8c00f493018f423ca8be62b84a1e8026"
      }
     },
     "metadata": {},
     "output_type": "display_data",
     "jetTransient": {
      "display_id": null
     }
    },
    {
     "data": {
      "text/plain": [
       "Training batches on cpu:   0%|          | 0.00/129 [00:00<?, ?batch/s]"
      ],
      "application/vnd.jupyter.widget-view+json": {
       "version_major": 2,
       "version_minor": 0,
       "model_id": "1e74e2e111704e23a471a825b1be7be9"
      }
     },
     "metadata": {},
     "output_type": "display_data",
     "jetTransient": {
      "display_id": null
     }
    },
    {
     "data": {
      "text/plain": [
       "Training batches on cpu:   0%|          | 0.00/129 [00:00<?, ?batch/s]"
      ],
      "application/vnd.jupyter.widget-view+json": {
       "version_major": 2,
       "version_minor": 0,
       "model_id": "24388f4b4d344bc38ba2cfee2c42c17a"
      }
     },
     "metadata": {},
     "output_type": "display_data",
     "jetTransient": {
      "display_id": null
     }
    },
    {
     "data": {
      "text/plain": [
       "Training batches on cpu:   0%|          | 0.00/129 [00:00<?, ?batch/s]"
      ],
      "application/vnd.jupyter.widget-view+json": {
       "version_major": 2,
       "version_minor": 0,
       "model_id": "dc43844b976f4bd6bd413ab3d31d1492"
      }
     },
     "metadata": {},
     "output_type": "display_data",
     "jetTransient": {
      "display_id": null
     }
    },
    {
     "data": {
      "text/plain": [
       "Training batches on cpu:   0%|          | 0.00/129 [00:00<?, ?batch/s]"
      ],
      "application/vnd.jupyter.widget-view+json": {
       "version_major": 2,
       "version_minor": 0,
       "model_id": "f1dc8a7ba5ab4751872dfb66613988fe"
      }
     },
     "metadata": {},
     "output_type": "display_data",
     "jetTransient": {
      "display_id": null
     }
    },
    {
     "data": {
      "text/plain": [
       "Training batches on cpu:   0%|          | 0.00/129 [00:00<?, ?batch/s]"
      ],
      "application/vnd.jupyter.widget-view+json": {
       "version_major": 2,
       "version_minor": 0,
       "model_id": "64596c001d8f404191212fdb73a9a69e"
      }
     },
     "metadata": {},
     "output_type": "display_data",
     "jetTransient": {
      "display_id": null
     }
    },
    {
     "data": {
      "text/plain": [
       "Training batches on cpu:   0%|          | 0.00/129 [00:00<?, ?batch/s]"
      ],
      "application/vnd.jupyter.widget-view+json": {
       "version_major": 2,
       "version_minor": 0,
       "model_id": "07a84333030b4968990070e5943d8849"
      }
     },
     "metadata": {},
     "output_type": "display_data",
     "jetTransient": {
      "display_id": null
     }
    },
    {
     "data": {
      "text/plain": [
       "Training batches on cpu:   0%|          | 0.00/129 [00:00<?, ?batch/s]"
      ],
      "application/vnd.jupyter.widget-view+json": {
       "version_major": 2,
       "version_minor": 0,
       "model_id": "46f76f5237b54567a213a7253eacaf2b"
      }
     },
     "metadata": {},
     "output_type": "display_data",
     "jetTransient": {
      "display_id": null
     }
    },
    {
     "data": {
      "text/plain": [
       "Training batches on cpu:   0%|          | 0.00/129 [00:00<?, ?batch/s]"
      ],
      "application/vnd.jupyter.widget-view+json": {
       "version_major": 2,
       "version_minor": 0,
       "model_id": "f961a5ecf1be4ddda0464694bb54d0a9"
      }
     },
     "metadata": {},
     "output_type": "display_data",
     "jetTransient": {
      "display_id": null
     }
    },
    {
     "data": {
      "text/plain": [
       "Training batches on cpu:   0%|          | 0.00/129 [00:00<?, ?batch/s]"
      ],
      "application/vnd.jupyter.widget-view+json": {
       "version_major": 2,
       "version_minor": 0,
       "model_id": "5eec6c76863f41289eb2249cd41d9547"
      }
     },
     "metadata": {},
     "output_type": "display_data",
     "jetTransient": {
      "display_id": null
     }
    },
    {
     "data": {
      "text/plain": [
       "Training batches on cpu:   0%|          | 0.00/129 [00:00<?, ?batch/s]"
      ],
      "application/vnd.jupyter.widget-view+json": {
       "version_major": 2,
       "version_minor": 0,
       "model_id": "a481a543b55746c5833f2d12f8da726e"
      }
     },
     "metadata": {},
     "output_type": "display_data",
     "jetTransient": {
      "display_id": null
     }
    },
    {
     "data": {
      "text/plain": [
       "Training batches on cpu:   0%|          | 0.00/129 [00:00<?, ?batch/s]"
      ],
      "application/vnd.jupyter.widget-view+json": {
       "version_major": 2,
       "version_minor": 0,
       "model_id": "2661563b3900465c86412f128da2f66f"
      }
     },
     "metadata": {},
     "output_type": "display_data",
     "jetTransient": {
      "display_id": null
     }
    },
    {
     "data": {
      "text/plain": [
       "Training batches on cpu:   0%|          | 0.00/129 [00:00<?, ?batch/s]"
      ],
      "application/vnd.jupyter.widget-view+json": {
       "version_major": 2,
       "version_minor": 0,
       "model_id": "771408fb9cd94c3aaa7e8e9587bb2c4a"
      }
     },
     "metadata": {},
     "output_type": "display_data",
     "jetTransient": {
      "display_id": null
     }
    },
    {
     "data": {
      "text/plain": [
       "Training batches on cpu:   0%|          | 0.00/129 [00:00<?, ?batch/s]"
      ],
      "application/vnd.jupyter.widget-view+json": {
       "version_major": 2,
       "version_minor": 0,
       "model_id": "143c694c34fa4b3dbfed499e66b595e9"
      }
     },
     "metadata": {},
     "output_type": "display_data",
     "jetTransient": {
      "display_id": null
     }
    },
    {
     "data": {
      "text/plain": [
       "Training batches on cpu:   0%|          | 0.00/129 [00:00<?, ?batch/s]"
      ],
      "application/vnd.jupyter.widget-view+json": {
       "version_major": 2,
       "version_minor": 0,
       "model_id": "6fc9694efbe547ae9755dc193e164fc8"
      }
     },
     "metadata": {},
     "output_type": "display_data",
     "jetTransient": {
      "display_id": null
     }
    },
    {
     "data": {
      "text/plain": [
       "Training batches on cpu:   0%|          | 0.00/129 [00:00<?, ?batch/s]"
      ],
      "application/vnd.jupyter.widget-view+json": {
       "version_major": 2,
       "version_minor": 0,
       "model_id": "feb4e74e97b248dca4ec91daf40fda97"
      }
     },
     "metadata": {},
     "output_type": "display_data",
     "jetTransient": {
      "display_id": null
     }
    },
    {
     "data": {
      "text/plain": [
       "Training batches on cpu:   0%|          | 0.00/129 [00:00<?, ?batch/s]"
      ],
      "application/vnd.jupyter.widget-view+json": {
       "version_major": 2,
       "version_minor": 0,
       "model_id": "ce4b266bc520475480d703c0c5deea18"
      }
     },
     "metadata": {},
     "output_type": "display_data",
     "jetTransient": {
      "display_id": null
     }
    },
    {
     "data": {
      "text/plain": [
       "Training batches on cpu:   0%|          | 0.00/129 [00:00<?, ?batch/s]"
      ],
      "application/vnd.jupyter.widget-view+json": {
       "version_major": 2,
       "version_minor": 0,
       "model_id": "e21a82e3f8d349cbbc475e32e7ba76b3"
      }
     },
     "metadata": {},
     "output_type": "display_data",
     "jetTransient": {
      "display_id": null
     }
    },
    {
     "data": {
      "text/plain": [
       "Training batches on cpu:   0%|          | 0.00/129 [00:00<?, ?batch/s]"
      ],
      "application/vnd.jupyter.widget-view+json": {
       "version_major": 2,
       "version_minor": 0,
       "model_id": "d2bec6dc4cc44de6b4c268537502bf53"
      }
     },
     "metadata": {},
     "output_type": "display_data",
     "jetTransient": {
      "display_id": null
     }
    },
    {
     "data": {
      "text/plain": [
       "Training batches on cpu:   0%|          | 0.00/129 [00:00<?, ?batch/s]"
      ],
      "application/vnd.jupyter.widget-view+json": {
       "version_major": 2,
       "version_minor": 0,
       "model_id": "4fcaee746da34ce0ad6c5db2ec5c3ed7"
      }
     },
     "metadata": {},
     "output_type": "display_data",
     "jetTransient": {
      "display_id": null
     }
    },
    {
     "data": {
      "text/plain": [
       "Training batches on cpu:   0%|          | 0.00/129 [00:00<?, ?batch/s]"
      ],
      "application/vnd.jupyter.widget-view+json": {
       "version_major": 2,
       "version_minor": 0,
       "model_id": "d9a97528bb2f4719a6a66ef28cafce7e"
      }
     },
     "metadata": {},
     "output_type": "display_data",
     "jetTransient": {
      "display_id": null
     }
    },
    {
     "data": {
      "text/plain": [
       "Training batches on cpu:   0%|          | 0.00/129 [00:00<?, ?batch/s]"
      ],
      "application/vnd.jupyter.widget-view+json": {
       "version_major": 2,
       "version_minor": 0,
       "model_id": "f78a13ed184e4bf3ba0df8edd90a4b44"
      }
     },
     "metadata": {},
     "output_type": "display_data",
     "jetTransient": {
      "display_id": null
     }
    },
    {
     "data": {
      "text/plain": [
       "Training batches on cpu:   0%|          | 0.00/129 [00:00<?, ?batch/s]"
      ],
      "application/vnd.jupyter.widget-view+json": {
       "version_major": 2,
       "version_minor": 0,
       "model_id": "475c14c9c4bc4405aaeba87630aaadfb"
      }
     },
     "metadata": {},
     "output_type": "display_data",
     "jetTransient": {
      "display_id": null
     }
    },
    {
     "data": {
      "text/plain": [
       "Training batches on cpu:   0%|          | 0.00/129 [00:00<?, ?batch/s]"
      ],
      "application/vnd.jupyter.widget-view+json": {
       "version_major": 2,
       "version_minor": 0,
       "model_id": "bee52449b5c8444dac594e94d6d09bf5"
      }
     },
     "metadata": {},
     "output_type": "display_data",
     "jetTransient": {
      "display_id": null
     }
    },
    {
     "data": {
      "text/plain": [
       "Training batches on cpu:   0%|          | 0.00/129 [00:00<?, ?batch/s]"
      ],
      "application/vnd.jupyter.widget-view+json": {
       "version_major": 2,
       "version_minor": 0,
       "model_id": "bda6d8e3997a404a8594ae6bb3bb6efa"
      }
     },
     "metadata": {},
     "output_type": "display_data",
     "jetTransient": {
      "display_id": null
     }
    },
    {
     "data": {
      "text/plain": [
       "Training batches on cpu:   0%|          | 0.00/129 [00:00<?, ?batch/s]"
      ],
      "application/vnd.jupyter.widget-view+json": {
       "version_major": 2,
       "version_minor": 0,
       "model_id": "c27768b403884e2bbab2f9ccb0141ec1"
      }
     },
     "metadata": {},
     "output_type": "display_data",
     "jetTransient": {
      "display_id": null
     }
    },
    {
     "data": {
      "text/plain": [
       "Training batches on cpu:   0%|          | 0.00/129 [00:00<?, ?batch/s]"
      ],
      "application/vnd.jupyter.widget-view+json": {
       "version_major": 2,
       "version_minor": 0,
       "model_id": "861faeb22432466691ab303f93214934"
      }
     },
     "metadata": {},
     "output_type": "display_data",
     "jetTransient": {
      "display_id": null
     }
    },
    {
     "data": {
      "text/plain": [
       "Training batches on cpu:   0%|          | 0.00/129 [00:00<?, ?batch/s]"
      ],
      "application/vnd.jupyter.widget-view+json": {
       "version_major": 2,
       "version_minor": 0,
       "model_id": "15d81d0e890045768570b304a0a6d7de"
      }
     },
     "metadata": {},
     "output_type": "display_data",
     "jetTransient": {
      "display_id": null
     }
    },
    {
     "data": {
      "text/plain": [
       "Training batches on cpu:   0%|          | 0.00/129 [00:00<?, ?batch/s]"
      ],
      "application/vnd.jupyter.widget-view+json": {
       "version_major": 2,
       "version_minor": 0,
       "model_id": "488e1c10d118422092ae75ddf99cd59f"
      }
     },
     "metadata": {},
     "output_type": "display_data",
     "jetTransient": {
      "display_id": null
     }
    },
    {
     "data": {
      "text/plain": [
       "Training batches on cpu:   0%|          | 0.00/129 [00:00<?, ?batch/s]"
      ],
      "application/vnd.jupyter.widget-view+json": {
       "version_major": 2,
       "version_minor": 0,
       "model_id": "62b6ef22d35f4868a0f41dc782e797b9"
      }
     },
     "metadata": {},
     "output_type": "display_data",
     "jetTransient": {
      "display_id": null
     }
    },
    {
     "data": {
      "text/plain": [
       "Training batches on cpu:   0%|          | 0.00/129 [00:00<?, ?batch/s]"
      ],
      "application/vnd.jupyter.widget-view+json": {
       "version_major": 2,
       "version_minor": 0,
       "model_id": "1a16f5f11af3439b992c7bdae4a5bc76"
      }
     },
     "metadata": {},
     "output_type": "display_data",
     "jetTransient": {
      "display_id": null
     }
    },
    {
     "data": {
      "text/plain": [
       "Training batches on cpu:   0%|          | 0.00/129 [00:00<?, ?batch/s]"
      ],
      "application/vnd.jupyter.widget-view+json": {
       "version_major": 2,
       "version_minor": 0,
       "model_id": "3246ee575e524b6c94899c925f50d43f"
      }
     },
     "metadata": {},
     "output_type": "display_data",
     "jetTransient": {
      "display_id": null
     }
    },
    {
     "data": {
      "text/plain": [
       "Training batches on cpu:   0%|          | 0.00/129 [00:00<?, ?batch/s]"
      ],
      "application/vnd.jupyter.widget-view+json": {
       "version_major": 2,
       "version_minor": 0,
       "model_id": "a1a00074b0ec4f17af93ebffe9c26118"
      }
     },
     "metadata": {},
     "output_type": "display_data",
     "jetTransient": {
      "display_id": null
     }
    },
    {
     "data": {
      "text/plain": [
       "Training batches on cpu:   0%|          | 0.00/129 [00:00<?, ?batch/s]"
      ],
      "application/vnd.jupyter.widget-view+json": {
       "version_major": 2,
       "version_minor": 0,
       "model_id": "5cc0a689af034ad7b24f998e59bbac29"
      }
     },
     "metadata": {},
     "output_type": "display_data",
     "jetTransient": {
      "display_id": null
     }
    },
    {
     "data": {
      "text/plain": [
       "Training batches on cpu:   0%|          | 0.00/129 [00:00<?, ?batch/s]"
      ],
      "application/vnd.jupyter.widget-view+json": {
       "version_major": 2,
       "version_minor": 0,
       "model_id": "6d91dcae5207420b824311be680af18f"
      }
     },
     "metadata": {},
     "output_type": "display_data",
     "jetTransient": {
      "display_id": null
     }
    },
    {
     "data": {
      "text/plain": [
       "Training batches on cpu:   0%|          | 0.00/129 [00:00<?, ?batch/s]"
      ],
      "application/vnd.jupyter.widget-view+json": {
       "version_major": 2,
       "version_minor": 0,
       "model_id": "59eed2c60b324937bb7a203e6580152b"
      }
     },
     "metadata": {},
     "output_type": "display_data",
     "jetTransient": {
      "display_id": null
     }
    },
    {
     "data": {
      "text/plain": [
       "Training batches on cpu:   0%|          | 0.00/129 [00:00<?, ?batch/s]"
      ],
      "application/vnd.jupyter.widget-view+json": {
       "version_major": 2,
       "version_minor": 0,
       "model_id": "65d19174ccc44b8198e114fe1f69de4a"
      }
     },
     "metadata": {},
     "output_type": "display_data",
     "jetTransient": {
      "display_id": null
     }
    },
    {
     "data": {
      "text/plain": [
       "Training batches on cpu:   0%|          | 0.00/129 [00:00<?, ?batch/s]"
      ],
      "application/vnd.jupyter.widget-view+json": {
       "version_major": 2,
       "version_minor": 0,
       "model_id": "be245e0dba994f63a4ad6b7ceb982b6f"
      }
     },
     "metadata": {},
     "output_type": "display_data",
     "jetTransient": {
      "display_id": null
     }
    },
    {
     "data": {
      "text/plain": [
       "Training batches on cpu:   0%|          | 0.00/129 [00:00<?, ?batch/s]"
      ],
      "application/vnd.jupyter.widget-view+json": {
       "version_major": 2,
       "version_minor": 0,
       "model_id": "5fa676daccc94315ab8cba015bf4bd70"
      }
     },
     "metadata": {},
     "output_type": "display_data",
     "jetTransient": {
      "display_id": null
     }
    },
    {
     "data": {
      "text/plain": [
       "Training batches on cpu:   0%|          | 0.00/129 [00:00<?, ?batch/s]"
      ],
      "application/vnd.jupyter.widget-view+json": {
       "version_major": 2,
       "version_minor": 0,
       "model_id": "73a552e0088a4c14a69a07a54a6ab7a2"
      }
     },
     "metadata": {},
     "output_type": "display_data",
     "jetTransient": {
      "display_id": null
     }
    },
    {
     "data": {
      "text/plain": [
       "Training batches on cpu:   0%|          | 0.00/129 [00:00<?, ?batch/s]"
      ],
      "application/vnd.jupyter.widget-view+json": {
       "version_major": 2,
       "version_minor": 0,
       "model_id": "e3e2c7d5ef524d20a1c4483316e25e8b"
      }
     },
     "metadata": {},
     "output_type": "display_data",
     "jetTransient": {
      "display_id": null
     }
    },
    {
     "data": {
      "text/plain": [
       "Training batches on cpu:   0%|          | 0.00/129 [00:00<?, ?batch/s]"
      ],
      "application/vnd.jupyter.widget-view+json": {
       "version_major": 2,
       "version_minor": 0,
       "model_id": "16194334de94406db72b9ffee00efd8e"
      }
     },
     "metadata": {},
     "output_type": "display_data",
     "jetTransient": {
      "display_id": null
     }
    },
    {
     "data": {
      "text/plain": [
       "Training batches on cpu:   0%|          | 0.00/129 [00:00<?, ?batch/s]"
      ],
      "application/vnd.jupyter.widget-view+json": {
       "version_major": 2,
       "version_minor": 0,
       "model_id": "9ccf59a54a6243abbdd8f8e9aa0c3326"
      }
     },
     "metadata": {},
     "output_type": "display_data",
     "jetTransient": {
      "display_id": null
     }
    },
    {
     "data": {
      "text/plain": [
       "Training batches on cpu:   0%|          | 0.00/129 [00:00<?, ?batch/s]"
      ],
      "application/vnd.jupyter.widget-view+json": {
       "version_major": 2,
       "version_minor": 0,
       "model_id": "1d1e9402b82f459fb0ec6226fced6645"
      }
     },
     "metadata": {},
     "output_type": "display_data",
     "jetTransient": {
      "display_id": null
     }
    },
    {
     "data": {
      "text/plain": [
       "Training batches on cpu:   0%|          | 0.00/129 [00:00<?, ?batch/s]"
      ],
      "application/vnd.jupyter.widget-view+json": {
       "version_major": 2,
       "version_minor": 0,
       "model_id": "a7730d53abf84362b5148ebb9bc97065"
      }
     },
     "metadata": {},
     "output_type": "display_data",
     "jetTransient": {
      "display_id": null
     }
    },
    {
     "data": {
      "text/plain": [
       "Training batches on cpu:   0%|          | 0.00/129 [00:00<?, ?batch/s]"
      ],
      "application/vnd.jupyter.widget-view+json": {
       "version_major": 2,
       "version_minor": 0,
       "model_id": "6ac42821b138415b9d93ca69a1f7a93c"
      }
     },
     "metadata": {},
     "output_type": "display_data",
     "jetTransient": {
      "display_id": null
     }
    },
    {
     "data": {
      "text/plain": [
       "Training batches on cpu:   0%|          | 0.00/129 [00:00<?, ?batch/s]"
      ],
      "application/vnd.jupyter.widget-view+json": {
       "version_major": 2,
       "version_minor": 0,
       "model_id": "2ede8a5aa2844a9db6dd9ae5b125cf72"
      }
     },
     "metadata": {},
     "output_type": "display_data",
     "jetTransient": {
      "display_id": null
     }
    },
    {
     "data": {
      "text/plain": [
       "Training batches on cpu:   0%|          | 0.00/129 [00:00<?, ?batch/s]"
      ],
      "application/vnd.jupyter.widget-view+json": {
       "version_major": 2,
       "version_minor": 0,
       "model_id": "0afbe06fa1fa41bf9c19661ea8cd1f15"
      }
     },
     "metadata": {},
     "output_type": "display_data",
     "jetTransient": {
      "display_id": null
     }
    },
    {
     "data": {
      "text/plain": [
       "Training batches on cpu:   0%|          | 0.00/129 [00:00<?, ?batch/s]"
      ],
      "application/vnd.jupyter.widget-view+json": {
       "version_major": 2,
       "version_minor": 0,
       "model_id": "88a6d037dc4546fea1b4be5e3840df0e"
      }
     },
     "metadata": {},
     "output_type": "display_data",
     "jetTransient": {
      "display_id": null
     }
    },
    {
     "data": {
      "text/plain": [
       "Training batches on cpu:   0%|          | 0.00/129 [00:00<?, ?batch/s]"
      ],
      "application/vnd.jupyter.widget-view+json": {
       "version_major": 2,
       "version_minor": 0,
       "model_id": "47e38650992740c292f2cca46fd98e53"
      }
     },
     "metadata": {},
     "output_type": "display_data",
     "jetTransient": {
      "display_id": null
     }
    },
    {
     "data": {
      "text/plain": [
       "Training batches on cpu:   0%|          | 0.00/129 [00:00<?, ?batch/s]"
      ],
      "application/vnd.jupyter.widget-view+json": {
       "version_major": 2,
       "version_minor": 0,
       "model_id": "1f7400df65ec44819c0751daaccd1a91"
      }
     },
     "metadata": {},
     "output_type": "display_data",
     "jetTransient": {
      "display_id": null
     }
    },
    {
     "data": {
      "text/plain": [
       "Training batches on cpu:   0%|          | 0.00/129 [00:00<?, ?batch/s]"
      ],
      "application/vnd.jupyter.widget-view+json": {
       "version_major": 2,
       "version_minor": 0,
       "model_id": "31cd433caa734bd790c5c5573fd8f13a"
      }
     },
     "metadata": {},
     "output_type": "display_data",
     "jetTransient": {
      "display_id": null
     }
    },
    {
     "data": {
      "text/plain": [
       "Training batches on cpu:   0%|          | 0.00/129 [00:00<?, ?batch/s]"
      ],
      "application/vnd.jupyter.widget-view+json": {
       "version_major": 2,
       "version_minor": 0,
       "model_id": "8f1ab92702404b40ae5a9bcc2e48769c"
      }
     },
     "metadata": {},
     "output_type": "display_data",
     "jetTransient": {
      "display_id": null
     }
    },
    {
     "data": {
      "text/plain": [
       "Training batches on cpu:   0%|          | 0.00/129 [00:00<?, ?batch/s]"
      ],
      "application/vnd.jupyter.widget-view+json": {
       "version_major": 2,
       "version_minor": 0,
       "model_id": "8feedd27ca9449ae85d8526545730eaf"
      }
     },
     "metadata": {},
     "output_type": "display_data",
     "jetTransient": {
      "display_id": null
     }
    },
    {
     "data": {
      "text/plain": [
       "Training batches on cpu:   0%|          | 0.00/129 [00:00<?, ?batch/s]"
      ],
      "application/vnd.jupyter.widget-view+json": {
       "version_major": 2,
       "version_minor": 0,
       "model_id": "d9a9234d9adb42da8ec6fcd57df7f7f6"
      }
     },
     "metadata": {},
     "output_type": "display_data",
     "jetTransient": {
      "display_id": null
     }
    },
    {
     "data": {
      "text/plain": [
       "Training batches on cpu:   0%|          | 0.00/129 [00:00<?, ?batch/s]"
      ],
      "application/vnd.jupyter.widget-view+json": {
       "version_major": 2,
       "version_minor": 0,
       "model_id": "fe294861c3b04efdad8344dd06d67421"
      }
     },
     "metadata": {},
     "output_type": "display_data",
     "jetTransient": {
      "display_id": null
     }
    },
    {
     "data": {
      "text/plain": [
       "Training batches on cpu:   0%|          | 0.00/129 [00:00<?, ?batch/s]"
      ],
      "application/vnd.jupyter.widget-view+json": {
       "version_major": 2,
       "version_minor": 0,
       "model_id": "e99e61bc979e4cc7bb30f7552c0d74f9"
      }
     },
     "metadata": {},
     "output_type": "display_data",
     "jetTransient": {
      "display_id": null
     }
    },
    {
     "data": {
      "text/plain": [
       "Training batches on cpu:   0%|          | 0.00/129 [00:00<?, ?batch/s]"
      ],
      "application/vnd.jupyter.widget-view+json": {
       "version_major": 2,
       "version_minor": 0,
       "model_id": "8436a09291364fec9c7ff3e8ba027d9c"
      }
     },
     "metadata": {},
     "output_type": "display_data",
     "jetTransient": {
      "display_id": null
     }
    },
    {
     "data": {
      "text/plain": [
       "Training batches on cpu:   0%|          | 0.00/129 [00:00<?, ?batch/s]"
      ],
      "application/vnd.jupyter.widget-view+json": {
       "version_major": 2,
       "version_minor": 0,
       "model_id": "ce1a3d6209d942c08ad2f5afae2bca61"
      }
     },
     "metadata": {},
     "output_type": "display_data",
     "jetTransient": {
      "display_id": null
     }
    },
    {
     "data": {
      "text/plain": [
       "Training batches on cpu:   0%|          | 0.00/129 [00:00<?, ?batch/s]"
      ],
      "application/vnd.jupyter.widget-view+json": {
       "version_major": 2,
       "version_minor": 0,
       "model_id": "0bc8caa3017245338a540313c6413405"
      }
     },
     "metadata": {},
     "output_type": "display_data",
     "jetTransient": {
      "display_id": null
     }
    },
    {
     "data": {
      "text/plain": [
       "Training batches on cpu:   0%|          | 0.00/129 [00:00<?, ?batch/s]"
      ],
      "application/vnd.jupyter.widget-view+json": {
       "version_major": 2,
       "version_minor": 0,
       "model_id": "98063d3f13eb4ba3a29ec463ee9e37af"
      }
     },
     "metadata": {},
     "output_type": "display_data",
     "jetTransient": {
      "display_id": null
     }
    },
    {
     "data": {
      "text/plain": [
       "Training batches on cpu:   0%|          | 0.00/129 [00:00<?, ?batch/s]"
      ],
      "application/vnd.jupyter.widget-view+json": {
       "version_major": 2,
       "version_minor": 0,
       "model_id": "e4906d7794e2491395054c662fc56838"
      }
     },
     "metadata": {},
     "output_type": "display_data",
     "jetTransient": {
      "display_id": null
     }
    },
    {
     "data": {
      "text/plain": [
       "Training batches on cpu:   0%|          | 0.00/129 [00:00<?, ?batch/s]"
      ],
      "application/vnd.jupyter.widget-view+json": {
       "version_major": 2,
       "version_minor": 0,
       "model_id": "65859406b23f4827a3b1cf93d93e4c21"
      }
     },
     "metadata": {},
     "output_type": "display_data",
     "jetTransient": {
      "display_id": null
     }
    },
    {
     "data": {
      "text/plain": [
       "Training batches on cpu:   0%|          | 0.00/129 [00:00<?, ?batch/s]"
      ],
      "application/vnd.jupyter.widget-view+json": {
       "version_major": 2,
       "version_minor": 0,
       "model_id": "71a882fa5f9b4cf1a0ec35f647597ce3"
      }
     },
     "metadata": {},
     "output_type": "display_data",
     "jetTransient": {
      "display_id": null
     }
    },
    {
     "data": {
      "text/plain": [
       "Training batches on cpu:   0%|          | 0.00/129 [00:00<?, ?batch/s]"
      ],
      "application/vnd.jupyter.widget-view+json": {
       "version_major": 2,
       "version_minor": 0,
       "model_id": "853a85a7984f42d1a83df6f0da83cbb1"
      }
     },
     "metadata": {},
     "output_type": "display_data",
     "jetTransient": {
      "display_id": null
     }
    },
    {
     "data": {
      "text/plain": [
       "Training batches on cpu:   0%|          | 0.00/129 [00:00<?, ?batch/s]"
      ],
      "application/vnd.jupyter.widget-view+json": {
       "version_major": 2,
       "version_minor": 0,
       "model_id": "17a04873fa0b43d290c9c29d58027f87"
      }
     },
     "metadata": {},
     "output_type": "display_data",
     "jetTransient": {
      "display_id": null
     }
    },
    {
     "data": {
      "text/plain": [
       "Training batches on cpu:   0%|          | 0.00/129 [00:00<?, ?batch/s]"
      ],
      "application/vnd.jupyter.widget-view+json": {
       "version_major": 2,
       "version_minor": 0,
       "model_id": "280c8ff79a504a6eb0f2f44f55f231a5"
      }
     },
     "metadata": {},
     "output_type": "display_data",
     "jetTransient": {
      "display_id": null
     }
    },
    {
     "data": {
      "text/plain": [
       "Training batches on cpu:   0%|          | 0.00/129 [00:00<?, ?batch/s]"
      ],
      "application/vnd.jupyter.widget-view+json": {
       "version_major": 2,
       "version_minor": 0,
       "model_id": "0847480431594ddf81274ef060d37e5b"
      }
     },
     "metadata": {},
     "output_type": "display_data",
     "jetTransient": {
      "display_id": null
     }
    },
    {
     "data": {
      "text/plain": [
       "Training batches on cpu:   0%|          | 0.00/129 [00:00<?, ?batch/s]"
      ],
      "application/vnd.jupyter.widget-view+json": {
       "version_major": 2,
       "version_minor": 0,
       "model_id": "af643a06b2d640b8aa302caf6583f620"
      }
     },
     "metadata": {},
     "output_type": "display_data",
     "jetTransient": {
      "display_id": null
     }
    },
    {
     "data": {
      "text/plain": [
       "Training batches on cpu:   0%|          | 0.00/129 [00:00<?, ?batch/s]"
      ],
      "application/vnd.jupyter.widget-view+json": {
       "version_major": 2,
       "version_minor": 0,
       "model_id": "1d2dd2ad303d4fc39b3dc7177efd08a5"
      }
     },
     "metadata": {},
     "output_type": "display_data",
     "jetTransient": {
      "display_id": null
     }
    },
    {
     "data": {
      "text/plain": [
       "Training batches on cpu:   0%|          | 0.00/129 [00:00<?, ?batch/s]"
      ],
      "application/vnd.jupyter.widget-view+json": {
       "version_major": 2,
       "version_minor": 0,
       "model_id": "b686bc0357e64f84a9aeb172a16bcf47"
      }
     },
     "metadata": {},
     "output_type": "display_data",
     "jetTransient": {
      "display_id": null
     }
    },
    {
     "data": {
      "text/plain": [
       "Training batches on cpu:   0%|          | 0.00/129 [00:00<?, ?batch/s]"
      ],
      "application/vnd.jupyter.widget-view+json": {
       "version_major": 2,
       "version_minor": 0,
       "model_id": "f2e8efa35559454a974b6ac4888acf5e"
      }
     },
     "metadata": {},
     "output_type": "display_data",
     "jetTransient": {
      "display_id": null
     }
    },
    {
     "data": {
      "text/plain": [
       "Training batches on cpu:   0%|          | 0.00/129 [00:00<?, ?batch/s]"
      ],
      "application/vnd.jupyter.widget-view+json": {
       "version_major": 2,
       "version_minor": 0,
       "model_id": "d651b1e4feaa41419ffa6187d3a1cf97"
      }
     },
     "metadata": {},
     "output_type": "display_data",
     "jetTransient": {
      "display_id": null
     }
    },
    {
     "data": {
      "text/plain": [
       "Training batches on cpu:   0%|          | 0.00/129 [00:00<?, ?batch/s]"
      ],
      "application/vnd.jupyter.widget-view+json": {
       "version_major": 2,
       "version_minor": 0,
       "model_id": "37b611024f79422a8759bca4f9ce2dcd"
      }
     },
     "metadata": {},
     "output_type": "display_data",
     "jetTransient": {
      "display_id": null
     }
    },
    {
     "data": {
      "text/plain": [
       "Training batches on cpu:   0%|          | 0.00/129 [00:00<?, ?batch/s]"
      ],
      "application/vnd.jupyter.widget-view+json": {
       "version_major": 2,
       "version_minor": 0,
       "model_id": "3fe81f43a0454bd68780a8e39ee3f0ac"
      }
     },
     "metadata": {},
     "output_type": "display_data",
     "jetTransient": {
      "display_id": null
     }
    },
    {
     "data": {
      "text/plain": [
       "Training batches on cpu:   0%|          | 0.00/129 [00:00<?, ?batch/s]"
      ],
      "application/vnd.jupyter.widget-view+json": {
       "version_major": 2,
       "version_minor": 0,
       "model_id": "ec4b448b94d64a3299061edbcf5975a8"
      }
     },
     "metadata": {},
     "output_type": "display_data",
     "jetTransient": {
      "display_id": null
     }
    },
    {
     "data": {
      "text/plain": [
       "Training batches on cpu:   0%|          | 0.00/129 [00:00<?, ?batch/s]"
      ],
      "application/vnd.jupyter.widget-view+json": {
       "version_major": 2,
       "version_minor": 0,
       "model_id": "934e6cb7f2124a05bb57c1bb3ebbdf77"
      }
     },
     "metadata": {},
     "output_type": "display_data",
     "jetTransient": {
      "display_id": null
     }
    },
    {
     "data": {
      "text/plain": [
       "Training batches on cpu:   0%|          | 0.00/129 [00:00<?, ?batch/s]"
      ],
      "application/vnd.jupyter.widget-view+json": {
       "version_major": 2,
       "version_minor": 0,
       "model_id": "009083f109464e069603fe64016a23ca"
      }
     },
     "metadata": {},
     "output_type": "display_data",
     "jetTransient": {
      "display_id": null
     }
    },
    {
     "data": {
      "text/plain": [
       "Training batches on cpu:   0%|          | 0.00/129 [00:00<?, ?batch/s]"
      ],
      "application/vnd.jupyter.widget-view+json": {
       "version_major": 2,
       "version_minor": 0,
       "model_id": "03313330f00044f4afbd02c270d2ef89"
      }
     },
     "metadata": {},
     "output_type": "display_data",
     "jetTransient": {
      "display_id": null
     }
    },
    {
     "data": {
      "text/plain": [
       "Training batches on cpu:   0%|          | 0.00/129 [00:00<?, ?batch/s]"
      ],
      "application/vnd.jupyter.widget-view+json": {
       "version_major": 2,
       "version_minor": 0,
       "model_id": "c4c825c7e8ee48acbebab4c37c82214d"
      }
     },
     "metadata": {},
     "output_type": "display_data",
     "jetTransient": {
      "display_id": null
     }
    },
    {
     "data": {
      "text/plain": [
       "Training batches on cpu:   0%|          | 0.00/129 [00:00<?, ?batch/s]"
      ],
      "application/vnd.jupyter.widget-view+json": {
       "version_major": 2,
       "version_minor": 0,
       "model_id": "072bcf7d4068449a9e286eb85aa31c29"
      }
     },
     "metadata": {},
     "output_type": "display_data",
     "jetTransient": {
      "display_id": null
     }
    },
    {
     "data": {
      "text/plain": [
       "Training batches on cpu:   0%|          | 0.00/129 [00:00<?, ?batch/s]"
      ],
      "application/vnd.jupyter.widget-view+json": {
       "version_major": 2,
       "version_minor": 0,
       "model_id": "34706f69d58444c88d0b2ae6efc5b6d0"
      }
     },
     "metadata": {},
     "output_type": "display_data",
     "jetTransient": {
      "display_id": null
     }
    },
    {
     "data": {
      "text/plain": [
       "Training batches on cpu:   0%|          | 0.00/129 [00:00<?, ?batch/s]"
      ],
      "application/vnd.jupyter.widget-view+json": {
       "version_major": 2,
       "version_minor": 0,
       "model_id": "801710b865b742aca80d7eb028248114"
      }
     },
     "metadata": {},
     "output_type": "display_data",
     "jetTransient": {
      "display_id": null
     }
    },
    {
     "data": {
      "text/plain": [
       "Training batches on cpu:   0%|          | 0.00/129 [00:00<?, ?batch/s]"
      ],
      "application/vnd.jupyter.widget-view+json": {
       "version_major": 2,
       "version_minor": 0,
       "model_id": "00252034d60244f091f06fe78cd2313e"
      }
     },
     "metadata": {},
     "output_type": "display_data",
     "jetTransient": {
      "display_id": null
     }
    },
    {
     "data": {
      "text/plain": [
       "Training batches on cpu:   0%|          | 0.00/129 [00:00<?, ?batch/s]"
      ],
      "application/vnd.jupyter.widget-view+json": {
       "version_major": 2,
       "version_minor": 0,
       "model_id": "33c9915e0cb848eaab4dcae41d549aaf"
      }
     },
     "metadata": {},
     "output_type": "display_data",
     "jetTransient": {
      "display_id": null
     }
    },
    {
     "data": {
      "text/plain": [
       "Training batches on cpu:   0%|          | 0.00/129 [00:00<?, ?batch/s]"
      ],
      "application/vnd.jupyter.widget-view+json": {
       "version_major": 2,
       "version_minor": 0,
       "model_id": "4363e5421e974dd1a3db457fce3280f2"
      }
     },
     "metadata": {},
     "output_type": "display_data",
     "jetTransient": {
      "display_id": null
     }
    },
    {
     "data": {
      "text/plain": [
       "Training batches on cpu:   0%|          | 0.00/129 [00:00<?, ?batch/s]"
      ],
      "application/vnd.jupyter.widget-view+json": {
       "version_major": 2,
       "version_minor": 0,
       "model_id": "9a52aa4f532848d291c04bd444b10e18"
      }
     },
     "metadata": {},
     "output_type": "display_data",
     "jetTransient": {
      "display_id": null
     }
    },
    {
     "name": "stderr",
     "output_type": "stream",
     "text": [
      "WARNING:pykeen.utils:Using automatic batch size on device.type='cpu' can cause unexplained out-of-memory crashes. Therefore, we use a conservative small batch_size=32. Performance may be improved by explicitly specifying a larger batch size.\n"
     ]
    },
    {
     "data": {
      "text/plain": [
       "Evaluating on cpu:   0%|          | 0.00/8.24k [00:00<?, ?triple/s]"
      ],
      "application/vnd.jupyter.widget-view+json": {
       "version_major": 2,
       "version_minor": 0,
       "model_id": "b1519594c5284b62ba7b2c54c5fd111c"
      }
     },
     "metadata": {},
     "output_type": "display_data",
     "jetTransient": {
      "display_id": null
     }
    },
    {
     "name": "stderr",
     "output_type": "stream",
     "text": [
      "WARNING:torch_max_mem.api:Encountered tensors on device_types={'cpu'} while only ['cuda'] are considered safe for automatic memory utilization maximization. This may lead to undocumented crashes (but can be safe, too).\n",
      "INFO:pykeen.evaluation.evaluator:Evaluation took 35.81s seconds\n"
     ]
    }
   ],
   "execution_count": 4
  },
  {
   "cell_type": "code",
   "id": "962408b0",
   "metadata": {
    "ExecuteTime": {
     "end_time": "2025-09-16T21:02:54.619427Z",
     "start_time": "2025-09-16T21:02:53.842091Z"
    }
   },
   "source": [
    "# Extract embeddings\n",
    "entity_rep = result.model.entity_representations[0]\n",
    "relation_rep = result.model.relation_representations[0]\n",
    "\n",
    "entity_embeds = entity_rep(torch.arange(tf.num_entities)).detach().cpu().numpy()\n",
    "relation_embeds = relation_rep(torch.arange(tf.num_relations)).detach().cpu().numpy()\n",
    "\n",
    "entity_df = pd.DataFrame(entity_embeds, index=tf.entity_labeling.label_to_id.keys())\n",
    "relation_df = pd.DataFrame(relation_embeds, index=tf.relation_labeling.label_to_id.keys())\n",
    "\n",
    "entity_df.to_csv(\"../data/kg/embeddings/entity_embeddings.csv\")\n",
    "relation_df.to_csv(\"../data/kg/embeddings/relation_embeddings.csv\")\n",
    "\n",
    "print(\"Entity embedding shape:\", entity_df.shape)\n",
    "print(\"Relation embedding shape:\", relation_df.shape)"
   ],
   "outputs": [
    {
     "name": "stdout",
     "output_type": "stream",
     "text": [
      "Entity embedding shape: (19835, 50)\n",
      "Relation embedding shape: (21, 50)\n"
     ]
    }
   ],
   "execution_count": 5
  },
  {
   "cell_type": "code",
   "id": "b6aa4e06",
   "metadata": {
    "ExecuteTime": {
     "end_time": "2025-09-16T21:02:54.718174Z",
     "start_time": "2025-09-16T21:02:54.666335Z"
    }
   },
   "source": [
    "# Parse ratings, likes, names from triples file for profile building\n",
    "triples_df = pd.read_csv(triples_path, sep='\\t', header=None, names=['head', 'relation', 'tail'])\n",
    "\n",
    "def parse_rating(v):\n",
    "    import re\n",
    "    m = re.match(r'personalVote_([0-9.]+)', str(v))\n",
    "    return float(m.group(1)) if m else None\n",
    "\n",
    "ratings = triples_df[triples_df['relation'] == 'schema:review']\n",
    "likes = triples_df[triples_df['relation'] == 'ex:liked']\n",
    "names = triples_df[triples_df['relation'] == 'schema:name']\n",
    "\n",
    "movie2rating = dict(zip(ratings['head'], ratings['tail'].map(parse_rating)))\n",
    "movie2liked = dict(zip(likes['head'], likes['tail'].map(lambda x: str(x).lower() == 'liked_yes')))\n",
    "id2name = dict(zip(names['head'], names['tail']))\n",
    "\n",
    "valid_ratings = [v for v in movie2rating.values() if v is not None]\n",
    "rmin, rmax = (min(valid_ratings), max(valid_ratings)) if valid_ratings else (0.0, 1.0)\n",
    "denom = (rmax - rmin) if rmax > rmin else 1.0\n",
    "\n",
    "def weight(movie, like_bonus=0.15):\n",
    "    r = movie2rating.get(movie)\n",
    "    if r is None: return 0.0\n",
    "    w = (r - rmin) / denom\n",
    "    if movie2liked.get(movie, False):\n",
    "        w += like_bonus\n",
    "    return max(0.0, w)\n",
    "\n",
    "weighted_vecs = []\n",
    "for movie in entity_df.index:\n",
    "    if movie in movie2rating and movie in entity_df.index:\n",
    "        w = weight(movie)\n",
    "        if w > 0:\n",
    "            weighted_vecs.append(w * entity_df.loc[movie].values)\n",
    "\n",
    "if not weighted_vecs:\n",
    "    raise RuntimeError(\"No weighted movies found. Check that your triples contain schema:review values.\")\n",
    "user_vec = np.mean(weighted_vecs, axis=0)\n",
    "user_vec = user_vec / (np.linalg.norm(user_vec) + 1e-12)\n",
    "print(\"User vector created. Norm:\", np.linalg.norm(user_vec))"
   ],
   "outputs": [
    {
     "name": "stdout",
     "output_type": "stream",
     "text": [
      "User vector created. Norm: 1.0\n"
     ]
    }
   ],
   "execution_count": 6
  },
  {
   "cell_type": "code",
   "id": "50999e85",
   "metadata": {
    "ExecuteTime": {
     "end_time": "2025-09-16T21:02:54.733876Z",
     "start_time": "2025-09-16T21:02:54.725396Z"
    }
   },
   "source": [
    "# Compose a new (unseen) movie embedding via TransE translations\n",
    "def translate_neighbor_to_movie(neighbor_id, relation_label):\n",
    "    if neighbor_id not in entity_df.index or relation_label not in relation_df.index:\n",
    "        return None\n",
    "    # TransE: movie + r ≈ neighbor  => movie ≈ neighbor - r\n",
    "    return entity_df.loc[neighbor_id].values - relation_df.loc[relation_label].values\n",
    "\n",
    "# Example inputs (replace with your own test)\n",
    "actors = [\"Joaqin Phoenix\", \"Charles Dance\"]\n",
    "directors = [\"James Cameron\"]\n",
    "genres = [\"Action\"]      # ensure your KG has an entity labeled 'Action'; else leave empty or adjust\n",
    "language = [\"en\"]        # ensure language token exists as an entity if you want to include it\n",
    "\n",
    "# Resolve names -> ids\n",
    "name2id = {v: k for k, v in id2name.items()}\n",
    "actor_ids = [name2id.get(n) for n in actors if name2id.get(n) in entity_df.index]\n",
    "director_ids = [name2id.get(n) for n in directors if name2id.get(n) in entity_df.index]\n",
    "genre_ids = [n for n in genres if n in entity_df.index]\n",
    "lang_ids = [n for n in language if n in entity_df.index]\n",
    "\n",
    "parts = []\n",
    "for aid in actor_ids:\n",
    "    v = translate_neighbor_to_movie(aid, \"schema:actor\")\n",
    "    if v is not None: parts.append(v)\n",
    "for did in director_ids:\n",
    "    v = translate_neighbor_to_movie(did, \"schema:director\")\n",
    "    if v is not None: parts.append(v)\n",
    "for gid in genre_ids:\n",
    "    v = translate_neighbor_to_movie(gid, \"schema:genre\")\n",
    "    if v is not None: parts.append(v)\n",
    "for lid in lang_ids:\n",
    "    v = translate_neighbor_to_movie(lid, \"ex:originalLanguage\")\n",
    "    if v is not None: parts.append(v)\n",
    "\n",
    "if not parts:\n",
    "    print(\"⚠️ No components found for the new movie. Check that the chosen names/labels exist in your KG.\")\n",
    "else:\n",
    "    new_movie_vec = np.mean(parts, axis=0)\n",
    "    new_movie_vec = new_movie_vec / (np.linalg.norm(new_movie_vec) + 1e-12)\n",
    "    cosine = float(np.dot(user_vec, new_movie_vec))\n",
    "    print(f\"New movie similarity score: {cosine:.4f}\")"
   ],
   "outputs": [
    {
     "name": "stdout",
     "output_type": "stream",
     "text": [
      "New movie similarity score: 0.8559\n"
     ]
    }
   ],
   "execution_count": 7
  },
  {
   "metadata": {
    "ExecuteTime": {
     "end_time": "2025-09-16T21:02:54.785212Z",
     "start_time": "2025-09-16T21:02:54.748138Z"
    }
   },
   "cell_type": "code",
   "source": [
    "# 🔍 Automatically extract favorites from KG using rating-weighted frequency\n",
    "\n",
    "from collections import Counter\n",
    "\n",
    "# Load full triples if not already loaded\n",
    "if 'triples_df' not in locals():\n",
    "    triples_df = pd.read_csv(triples_path, sep='\\t', header=None, names=['head', 'relation', 'tail'])\n",
    "\n",
    "# --- QUICK FIX: enrich id2name with labels from the KG (covers genres) ---\n",
    "label_preds = {\"ex:name\", \"schema:name\", \"rdfs:label\"}\n",
    "label_map = (\n",
    "    triples_df[triples_df['relation'].isin(label_preds)]\n",
    "    .dropna(subset=['head','tail'])\n",
    "    .drop_duplicates(subset=['head'])\n",
    "    .set_index('head')['tail']\n",
    "    .to_dict()\n",
    ")\n",
    "# Merge into existing id2name if present, otherwise create it\n",
    "try:\n",
    "    id2name\n",
    "    id2name = {**label_map, **id2name}  # your custom names (right) win\n",
    "except NameError:\n",
    "    id2name = label_map\n",
    "# --- end quick fix ---\n",
    "\n",
    "# Get rated/liked movies with weight > 0\n",
    "relevant_movies = {m for m in movie2rating if weight(m) > 0.0}\n",
    "\n",
    "# Helper: count tail values linked to these movies by a relation\n",
    "def top_related_entities(relation, top_k=10):\n",
    "    related = triples_df[\n",
    "        (triples_df['relation'] == relation) &\n",
    "        (triples_df['head'].isin(relevant_movies))\n",
    "        ]['tail']\n",
    "    return Counter(related).most_common(top_k)\n",
    "\n",
    "# Top actors, directors, genres, and original languages\n",
    "top_actors = top_related_entities(\"schema:actor\", top_k=10)\n",
    "top_directors = top_related_entities(\"schema:director\", top_k=10)\n",
    "top_genres = top_related_entities(\"schema:genre\", top_k=5)\n",
    "top_langs = top_related_entities(\"ex:originalLanguage\", top_k=3)\n",
    "\n",
    "# Map IDs to readable names\n",
    "def display_top(counter_list):\n",
    "    return [(id2name.get(eid, eid), count) for eid, count in counter_list]\n",
    "\n",
    "print(\"🎭 Top actors:\")\n",
    "print(display_top(top_actors))\n",
    "print(\"\\n🎬 Top directors:\")\n",
    "print(display_top(top_directors))\n",
    "print(\"\\n🏷️ Top genres:\")\n",
    "print(display_top(top_genres))\n",
    "print(\"\\n🌍 Top languages:\")\n",
    "print(display_top(top_langs))"
   ],
   "id": "c0ce55b8d1061ab0",
   "outputs": [
    {
     "name": "stdout",
     "output_type": "stream",
     "text": [
      "🎭 Top actors:\n",
      "[('Willem Dafoe', 10), ('Bill Murray', 9), ('Keanu Reeves', 7), ('Margot Robbie', 7), ('Jason Schwartzman', 7), ('J.K. Simmons', 7), ('Laurence Fishburne', 6), ('Sigourney Weaver', 6), ('Woody Harrelson', 6), ('Jeffrey Wright', 6)]\n",
      "\n",
      "🎬 Top directors:\n",
      "[('Wes Anderson', 11), ('David Lynch', 5), ('Quentin Tarantino', 5), ('Zack Snyder', 5), ('George Miller', 4), ('Hayao Miyazaki', 4), ('Gore Verbinski', 4), ('Bo Burnham', 4), ('Paul W. S. Anderson', 3), ('Dan Trachtenberg', 3)]\n",
      "\n",
      "🏷️ Top genres:\n",
      "[('Drama', 115), ('Comedy', 112), ('Adventure', 91), ('Action', 86), ('Science Fiction', 75)]\n",
      "\n",
      "🌍 Top languages:\n",
      "[('English', 270), ('Japanese', 8), ('German', 6)]\n"
     ]
    }
   ],
   "execution_count": 8
  },
  {
   "metadata": {
    "ExecuteTime": {
     "end_time": "2025-09-16T21:02:54.797783Z",
     "start_time": "2025-09-16T21:02:54.791622Z"
    }
   },
   "cell_type": "code",
   "source": [
    "'''\n",
    "The code in the previous cells is in big parts AI generated by the free and paid version of ChatGPT and was afterwards heavily adapted by me. Since it is not possible to accurately say which parts were originaly AI generated by wich promt, I have included all prompts that were used on this file here.\n",
    "These following prompts were used:\n",
    "\n",
    "\n",
    "    \"what i originally wanted to do was create new movie recommendations based on these data. can I do this, for example deriving info on liked actors/directors and applying this info to a new list on movies that is currently not in the data yet?\"\n",
    "\n",
    "\n",
    "    \"Lets start from scratch - having only my movie_kg_triples.tsv file, can you generate a script that uses PyKEEN for exactly the things your script did before? only now I want a Jupyter notebook file (.ipynb) that I can include in my project.\"\n",
    "\n",
    "    \"# 🔍 Automatically extract favorites from KG using rating-weighted frequency\n",
    "\n",
    "        from collections import Counter\n",
    "\n",
    "        # Load full triples if not already loaded\n",
    "        if 'triples_df' not in locals():\n",
    "            triples_df = pd.read_csv(triples_path, sep='\\t', header=None, names=['head', 'relation', 'tail'])\n",
    "\n",
    "        # Get rated/liked movies with weight > 0\n",
    "        relevant_movies = {m for m in movie2rating if weight(m) > 0.0}\n",
    "\n",
    "        # Helper: count tail values linked to these movies by a relation\n",
    "        def top_related_entities(relation, top_k=10):\n",
    "            related = triples_df[\n",
    "                (triples_df['relation'] == relation) &\n",
    "                (triples_df['head'].isin(relevant_movies))\n",
    "                ]['tail']\n",
    "            return Counter(related).most_common(top_k)\n",
    "\n",
    "        # Top actors, directors, genres, and original languages\n",
    "        top_actors = top_related_entities(\"schema:actor\", top_k=10)\n",
    "        top_directors = top_related_entities(\"schema:director\", top_k=10)\n",
    "        top_genres = top_related_entities(\"schema:genre\", top_k=5)\n",
    "        top_langs = top_related_entities(\"ex:originalLanguage\", top_k=3)\n",
    "\n",
    "        # Map IDs to readable names\n",
    "        def display_top(counter_list):\n",
    "            return [(id2name.get(eid, eid), count) for eid, count in counter_list]\n",
    "\n",
    "        print(\"🎭 Top actors:\")\n",
    "        print(display_top(top_actors))\n",
    "        print(\"\\n🎬 Top directors:\")\n",
    "        print(display_top(top_directors))\n",
    "        print(\"\\n🏷️ Top genres:\")\n",
    "        print(display_top(top_genres))\n",
    "        print(\"\\n🌍 Top languages:\")\n",
    "        print(display_top(top_langs))\n",
    "\n",
    "        this code works on this file: movie_kg_triples.tsv\n",
    "\n",
    "        🎭 Top actors:\n",
    "        [('Willem Dafoe', 10), ('Bill Murray', 9), ('Keanu Reeves', 7), ('Margot Robbie', 7), ('Jason Schwartzman', 7), ('J.K. Simmons', 7), ('Sigourney Weaver', 6), ('Woody Harrelson', 6), ('Jeffrey Wright', 6), ('Stanley Tucci', 6)]\n",
    "\n",
    "        🎬 Top directors:\n",
    "        [('Wes Anderson', 11), ('David Lynch', 5), ('Quentin Tarantino', 5), ('Zack Snyder', 5), ('George Miller', 4), ('Hayao Miyazaki', 4), ('Gore Verbinski', 4), ('Bo Burnham', 4), ('Paul W. S. Anderson', 3), ('Dan Trachtenberg', 3)]\n",
    "\n",
    "        🏷️ Top genres:\n",
    "        [('genre18', 115), ('genre35', 112), ('genre12', 91), ('genre28', 86), ('genre878', 74)]\n",
    "\n",
    "        🌍 Top languages:\n",
    "        [('English', 270), ('Japanese', 8), ('German', 6)]\n",
    "\n",
    "        the output like this looks good, but i want the genres also connected to their names, which can be found in the triples.\"\n",
    "\n",
    "    \"# 🔍 Automatically extract favorites from KG using rating-weighted frequency\n",
    "\n",
    "        from collections import Counter\n",
    "\n",
    "        # Load full triples if not already loaded\n",
    "        if 'triples_df' not in locals():\n",
    "            triples_df = pd.read_csv(triples_path, sep='\\t', header=None, names=['head', 'relation', 'tail'])\n",
    "\n",
    "        # Get rated/liked movies with weight > 0\n",
    "        relevant_movies = {m for m in movie2rating if weight(m) > 0.0}\n",
    "\n",
    "        # Helper: count tail values linked to these movies by a relation\n",
    "        def top_related_entities(relation, top_k=10):\n",
    "            related = triples_df[\n",
    "                (triples_df['relation'] == relation) &\n",
    "                (triples_df['head'].isin(relevant_movies))\n",
    "                ]['tail']\n",
    "            return Counter(related).most_common(top_k)\n",
    "\n",
    "        # Top actors, directors, genres, and original languages\n",
    "        top_actors = top_related_entities(\"schema:actor\", top_k=10)\n",
    "        top_directors = top_related_entities(\"schema:director\", top_k=10)\n",
    "        top_genres = top_related_entities(\"schema:genre\", top_k=5)\n",
    "        top_langs = top_related_entities(\"ex:originalLanguage\", top_k=3)\n",
    "\n",
    "        # Map IDs to readable names\n",
    "        def display_top(counter_list):\n",
    "            return [(id2name.get(eid, eid), count) for eid, count in counter_list]\n",
    "\n",
    "        print(\"🎭 Top actors:\")\n",
    "        print(display_top(top_actors))\n",
    "        print(\"\\n🎬 Top directors:\")\n",
    "        print(display_top(top_directors))\n",
    "        print(\"\\n🏷️ Top genres:\")\n",
    "        print(display_top(top_genres))\n",
    "        print(\"\\n🌍 Top languages:\")\n",
    "        print(display_top(top_langs))\n",
    "\n",
    "        can you just include your quick fix in this code please\"\n",
    "\n",
    "\n",
    "'''"
   ],
   "id": "7bab530e42d19e24",
   "outputs": [
    {
     "data": {
      "text/plain": [
       "'\\nThe code in the previous cells is in big parts AI generated by the free and paid version of ChatGPT and was afterwards heavily adapted by me. Since it is not possible to accurately say which parts were originaly AI generated by wich promt, I have included all prompts that were used on this file here.\\nThese following prompts were used:\\n\\n\\n    \"what i originally wanted to do was create new movie recommendations based on these data. can I do this, for example deriving info on liked actors/directors and applying this info to a new list on movies that is currently not in the data yet?\"\\n\\n\\n    \"Lets start from scratch - having only my movie_kg_triples.tsv file, can you generate a script that uses PyKEEN for exactly the things your script did before? only now I want a Jupyter notebook file (.ipynb) that I can include in my project.\"\\n\\n    \"# 🔍 Automatically extract favorites from KG using rating-weighted frequency\\n\\n        from collections import Counter\\n\\n        # Load full triples if not already loaded\\n        if \\'triples_df\\' not in locals():\\n            triples_df = pd.read_csv(triples_path, sep=\\'\\t\\', header=None, names=[\\'head\\', \\'relation\\', \\'tail\\'])\\n\\n        # Get rated/liked movies with weight > 0\\n        relevant_movies = {m for m in movie2rating if weight(m) > 0.0}\\n\\n        # Helper: count tail values linked to these movies by a relation\\n        def top_related_entities(relation, top_k=10):\\n            related = triples_df[\\n                (triples_df[\\'relation\\'] == relation) &\\n                (triples_df[\\'head\\'].isin(relevant_movies))\\n                ][\\'tail\\']\\n            return Counter(related).most_common(top_k)\\n\\n        # Top actors, directors, genres, and original languages\\n        top_actors = top_related_entities(\"schema:actor\", top_k=10)\\n        top_directors = top_related_entities(\"schema:director\", top_k=10)\\n        top_genres = top_related_entities(\"schema:genre\", top_k=5)\\n        top_langs = top_related_entities(\"ex:originalLanguage\", top_k=3)\\n\\n        # Map IDs to readable names\\n        def display_top(counter_list):\\n            return [(id2name.get(eid, eid), count) for eid, count in counter_list]\\n\\n        print(\"🎭 Top actors:\")\\n        print(display_top(top_actors))\\n        print(\"\\n🎬 Top directors:\")\\n        print(display_top(top_directors))\\n        print(\"\\n🏷️ Top genres:\")\\n        print(display_top(top_genres))\\n        print(\"\\n🌍 Top languages:\")\\n        print(display_top(top_langs))\\n\\n        this code works on this file: movie_kg_triples.tsv\\n\\n        🎭 Top actors:\\n        [(\\'Willem Dafoe\\', 10), (\\'Bill Murray\\', 9), (\\'Keanu Reeves\\', 7), (\\'Margot Robbie\\', 7), (\\'Jason Schwartzman\\', 7), (\\'J.K. Simmons\\', 7), (\\'Sigourney Weaver\\', 6), (\\'Woody Harrelson\\', 6), (\\'Jeffrey Wright\\', 6), (\\'Stanley Tucci\\', 6)]\\n\\n        🎬 Top directors:\\n        [(\\'Wes Anderson\\', 11), (\\'David Lynch\\', 5), (\\'Quentin Tarantino\\', 5), (\\'Zack Snyder\\', 5), (\\'George Miller\\', 4), (\\'Hayao Miyazaki\\', 4), (\\'Gore Verbinski\\', 4), (\\'Bo Burnham\\', 4), (\\'Paul W. S. Anderson\\', 3), (\\'Dan Trachtenberg\\', 3)]\\n\\n        🏷️ Top genres:\\n        [(\\'genre18\\', 115), (\\'genre35\\', 112), (\\'genre12\\', 91), (\\'genre28\\', 86), (\\'genre878\\', 74)]\\n\\n        🌍 Top languages:\\n        [(\\'English\\', 270), (\\'Japanese\\', 8), (\\'German\\', 6)]\\n\\n        the output like this looks good, but i want the genres also connected to their names, which can be found in the triples.\"\\n\\n    \"# 🔍 Automatically extract favorites from KG using rating-weighted frequency\\n\\n        from collections import Counter\\n\\n        # Load full triples if not already loaded\\n        if \\'triples_df\\' not in locals():\\n            triples_df = pd.read_csv(triples_path, sep=\\'\\t\\', header=None, names=[\\'head\\', \\'relation\\', \\'tail\\'])\\n\\n        # Get rated/liked movies with weight > 0\\n        relevant_movies = {m for m in movie2rating if weight(m) > 0.0}\\n\\n        # Helper: count tail values linked to these movies by a relation\\n        def top_related_entities(relation, top_k=10):\\n            related = triples_df[\\n                (triples_df[\\'relation\\'] == relation) &\\n                (triples_df[\\'head\\'].isin(relevant_movies))\\n                ][\\'tail\\']\\n            return Counter(related).most_common(top_k)\\n\\n        # Top actors, directors, genres, and original languages\\n        top_actors = top_related_entities(\"schema:actor\", top_k=10)\\n        top_directors = top_related_entities(\"schema:director\", top_k=10)\\n        top_genres = top_related_entities(\"schema:genre\", top_k=5)\\n        top_langs = top_related_entities(\"ex:originalLanguage\", top_k=3)\\n\\n        # Map IDs to readable names\\n        def display_top(counter_list):\\n            return [(id2name.get(eid, eid), count) for eid, count in counter_list]\\n\\n        print(\"🎭 Top actors:\")\\n        print(display_top(top_actors))\\n        print(\"\\n🎬 Top directors:\")\\n        print(display_top(top_directors))\\n        print(\"\\n🏷️ Top genres:\")\\n        print(display_top(top_genres))\\n        print(\"\\n🌍 Top languages:\")\\n        print(display_top(top_langs))\\n\\n        can you just include your quick fix in this code please\"\\n\\n\\n'"
      ]
     },
     "execution_count": 9,
     "metadata": {},
     "output_type": "execute_result"
    }
   ],
   "execution_count": 9
  }
 ],
 "metadata": {
  "kernelspec": {
   "name": "python3",
   "language": "python",
   "display_name": "Python 3 (ipykernel)"
  }
 },
 "nbformat": 4,
 "nbformat_minor": 5
}
