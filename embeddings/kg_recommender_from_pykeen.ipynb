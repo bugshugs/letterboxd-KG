{
 "cells": [
  {
   "cell_type": "markdown",
   "id": "bb77ce8d",
   "metadata": {},
   "source": [
    "# KG Recommender with PyKEEN (TransE)\n",
    "\n",
    "This notebook:\n",
    "1) Loads your triples (`movie_kg_triples.tsv`)\n",
    "2) Trains **TransE** with PyKEEN\n",
    "3) Extracts **entity** and **relation** embeddings\n",
    "4) Builds a **user vector** from your ratings/likes\n",
    "5) Composes and **scores a new movie** in embedding space\n",
    "\n",
    "> Update paths as needed for your project layout."
   ]
  },
  {
   "cell_type": "code",
   "id": "a09bfbd4",
   "metadata": {
    "ExecuteTime": {
     "end_time": "2025-09-07T23:12:51.559274Z",
     "start_time": "2025-09-07T23:12:47.164247Z"
    }
   },
   "source": [
    "import pandas as pd\n",
    "import numpy as np\n",
    "import torch\n",
    "from pykeen.pipeline import pipeline\n",
    "from pykeen.triples import TriplesFactory\n",
    "from pathlib import Path\n",
    "\n",
    "pd.set_option(\"display.max_colwidth\", 200)\n",
    "print(\"PyTorch:\", torch.__version__)"
   ],
   "outputs": [
    {
     "name": "stdout",
     "output_type": "stream",
     "text": [
      "PyTorch: 2.8.0\n"
     ]
    }
   ],
   "execution_count": 1
  },
  {
   "cell_type": "code",
   "id": "3d670be9",
   "metadata": {
    "ExecuteTime": {
     "end_time": "2025-09-07T23:12:54.233620Z",
     "start_time": "2025-09-07T23:12:54.230062Z"
    }
   },
   "source": [
    "# Path to your triples. Adjust if needed.\n",
    "# If you run this notebook right after downloading, the example here expects your project layout.\n",
    "# For quick testing in this environment, we also show a fallback to the uploaded file.\n",
    "default_path = Path('../data/kg/movie_kg_triples.tsv')\n",
    "uploaded_path = Path('/mnt/data/movie_kg_triples.tsv')\n",
    "\n",
    "triples_path = default_path if default_path.exists() else uploaded_path\n",
    "print(\"Using triples from:\", triples_path)"
   ],
   "outputs": [
    {
     "name": "stdout",
     "output_type": "stream",
     "text": [
      "Using triples from: ../data/kg/movie_kg_triples.tsv\n"
     ]
    }
   ],
   "execution_count": 2
  },
  {
   "cell_type": "code",
   "id": "ed7f07bd",
   "metadata": {
    "ExecuteTime": {
     "end_time": "2025-09-07T23:12:56.640352Z",
     "start_time": "2025-09-07T23:12:56.467903Z"
    }
   },
   "source": [
    "# Load triples into a PyKEEN TriplesFactory\n",
    "tf = TriplesFactory.from_path(str(triples_path))\n",
    "print(f\"Loaded {len(tf.triples)} triples. Entities: {tf.num_entities}, Relations: {tf.num_relations}\")"
   ],
   "outputs": [
    {
     "name": "stderr",
     "output_type": "stream",
     "text": [
      "Reconstructing all label-based triples. This is expensive and rarely needed.\n"
     ]
    },
    {
     "name": "stdout",
     "output_type": "stream",
     "text": [
      "Loaded 41139 triples. Entities: 19880, Relations: 21\n"
     ]
    }
   ],
   "execution_count": 3
  },
  {
   "cell_type": "code",
   "id": "1a419fb8",
   "metadata": {
    "ExecuteTime": {
     "end_time": "2025-09-07T23:15:12.621456Z",
     "start_time": "2025-09-07T23:13:04.160966Z"
    }
   },
   "source": [
    "# Split and train TransE\n",
    "train_tf, test_tf = tf.split([0.8, 0.2])\n",
    "result = pipeline(\n",
    "    model='TransE',\n",
    "    training=train_tf,\n",
    "    testing=test_tf,\n",
    "    training_kwargs=dict(num_epochs=100),\n",
    "    random_seed=42,\n",
    "    device='cuda' if torch.cuda.is_available() else 'cpu',\n",
    ")"
   ],
   "outputs": [
    {
     "name": "stderr",
     "output_type": "stream",
     "text": [
      "using automatically assigned random_state=1554936718\n",
      "/opt/anaconda3/lib/python3.13/site-packages/torch/utils/data/dataloader.py:684: UserWarning: 'pin_memory' argument is set as true but not supported on MPS now, then device pinned memory won't be used.\n",
      "  warnings.warn(warn_msg)\n"
     ]
    },
    {
     "data": {
      "text/plain": [
       "Training epochs on cpu:   0%|          | 0/100 [00:00<?, ?epoch/s]"
      ],
      "application/vnd.jupyter.widget-view+json": {
       "version_major": 2,
       "version_minor": 0,
       "model_id": "3a1b5db39f7946b3bd0277bfa7d6a47d"
      }
     },
     "metadata": {},
     "output_type": "display_data",
     "jetTransient": {
      "display_id": null
     }
    },
    {
     "data": {
      "text/plain": [
       "Training batches on cpu:   0%|          | 0.00/129 [00:00<?, ?batch/s]"
      ],
      "application/vnd.jupyter.widget-view+json": {
       "version_major": 2,
       "version_minor": 0,
       "model_id": "9a2919b41dcd4152b8d4618063a3105b"
      }
     },
     "metadata": {},
     "output_type": "display_data",
     "jetTransient": {
      "display_id": null
     }
    },
    {
     "data": {
      "text/plain": [
       "Training batches on cpu:   0%|          | 0.00/129 [00:00<?, ?batch/s]"
      ],
      "application/vnd.jupyter.widget-view+json": {
       "version_major": 2,
       "version_minor": 0,
       "model_id": "72e0c5c36e8c4a7ca28e79bbe05777b6"
      }
     },
     "metadata": {},
     "output_type": "display_data",
     "jetTransient": {
      "display_id": null
     }
    },
    {
     "data": {
      "text/plain": [
       "Training batches on cpu:   0%|          | 0.00/129 [00:00<?, ?batch/s]"
      ],
      "application/vnd.jupyter.widget-view+json": {
       "version_major": 2,
       "version_minor": 0,
       "model_id": "6dac58a4681846c89d03c5f7a60783e8"
      }
     },
     "metadata": {},
     "output_type": "display_data",
     "jetTransient": {
      "display_id": null
     }
    },
    {
     "data": {
      "text/plain": [
       "Training batches on cpu:   0%|          | 0.00/129 [00:00<?, ?batch/s]"
      ],
      "application/vnd.jupyter.widget-view+json": {
       "version_major": 2,
       "version_minor": 0,
       "model_id": "673a6054ada84a4eb0d8f73e0724ad65"
      }
     },
     "metadata": {},
     "output_type": "display_data",
     "jetTransient": {
      "display_id": null
     }
    },
    {
     "data": {
      "text/plain": [
       "Training batches on cpu:   0%|          | 0.00/129 [00:00<?, ?batch/s]"
      ],
      "application/vnd.jupyter.widget-view+json": {
       "version_major": 2,
       "version_minor": 0,
       "model_id": "378515226da34dc09edab25811b990b3"
      }
     },
     "metadata": {},
     "output_type": "display_data",
     "jetTransient": {
      "display_id": null
     }
    },
    {
     "data": {
      "text/plain": [
       "Training batches on cpu:   0%|          | 0.00/129 [00:00<?, ?batch/s]"
      ],
      "application/vnd.jupyter.widget-view+json": {
       "version_major": 2,
       "version_minor": 0,
       "model_id": "4106ce1db5984176bce55128f496c889"
      }
     },
     "metadata": {},
     "output_type": "display_data",
     "jetTransient": {
      "display_id": null
     }
    },
    {
     "data": {
      "text/plain": [
       "Training batches on cpu:   0%|          | 0.00/129 [00:00<?, ?batch/s]"
      ],
      "application/vnd.jupyter.widget-view+json": {
       "version_major": 2,
       "version_minor": 0,
       "model_id": "91f429f7804e4cdaad3d9875071657fd"
      }
     },
     "metadata": {},
     "output_type": "display_data",
     "jetTransient": {
      "display_id": null
     }
    },
    {
     "data": {
      "text/plain": [
       "Training batches on cpu:   0%|          | 0.00/129 [00:00<?, ?batch/s]"
      ],
      "application/vnd.jupyter.widget-view+json": {
       "version_major": 2,
       "version_minor": 0,
       "model_id": "58449f8a46954098818dac046f4fa13a"
      }
     },
     "metadata": {},
     "output_type": "display_data",
     "jetTransient": {
      "display_id": null
     }
    },
    {
     "data": {
      "text/plain": [
       "Training batches on cpu:   0%|          | 0.00/129 [00:00<?, ?batch/s]"
      ],
      "application/vnd.jupyter.widget-view+json": {
       "version_major": 2,
       "version_minor": 0,
       "model_id": "00338096dd3447099d05400ed114aaf9"
      }
     },
     "metadata": {},
     "output_type": "display_data",
     "jetTransient": {
      "display_id": null
     }
    },
    {
     "data": {
      "text/plain": [
       "Training batches on cpu:   0%|          | 0.00/129 [00:00<?, ?batch/s]"
      ],
      "application/vnd.jupyter.widget-view+json": {
       "version_major": 2,
       "version_minor": 0,
       "model_id": "1562bccd678b46829f55b697644c3239"
      }
     },
     "metadata": {},
     "output_type": "display_data",
     "jetTransient": {
      "display_id": null
     }
    },
    {
     "data": {
      "text/plain": [
       "Training batches on cpu:   0%|          | 0.00/129 [00:00<?, ?batch/s]"
      ],
      "application/vnd.jupyter.widget-view+json": {
       "version_major": 2,
       "version_minor": 0,
       "model_id": "6480e5000cd54e8f99b701f00d53dfa6"
      }
     },
     "metadata": {},
     "output_type": "display_data",
     "jetTransient": {
      "display_id": null
     }
    },
    {
     "data": {
      "text/plain": [
       "Training batches on cpu:   0%|          | 0.00/129 [00:00<?, ?batch/s]"
      ],
      "application/vnd.jupyter.widget-view+json": {
       "version_major": 2,
       "version_minor": 0,
       "model_id": "c0e5fcc3a850433ca09bf6c74872a804"
      }
     },
     "metadata": {},
     "output_type": "display_data",
     "jetTransient": {
      "display_id": null
     }
    },
    {
     "data": {
      "text/plain": [
       "Training batches on cpu:   0%|          | 0.00/129 [00:00<?, ?batch/s]"
      ],
      "application/vnd.jupyter.widget-view+json": {
       "version_major": 2,
       "version_minor": 0,
       "model_id": "80d740919b064901b81d974396ee400a"
      }
     },
     "metadata": {},
     "output_type": "display_data",
     "jetTransient": {
      "display_id": null
     }
    },
    {
     "data": {
      "text/plain": [
       "Training batches on cpu:   0%|          | 0.00/129 [00:00<?, ?batch/s]"
      ],
      "application/vnd.jupyter.widget-view+json": {
       "version_major": 2,
       "version_minor": 0,
       "model_id": "2243a8bf38ae46bf9717b739b46ae292"
      }
     },
     "metadata": {},
     "output_type": "display_data",
     "jetTransient": {
      "display_id": null
     }
    },
    {
     "data": {
      "text/plain": [
       "Training batches on cpu:   0%|          | 0.00/129 [00:00<?, ?batch/s]"
      ],
      "application/vnd.jupyter.widget-view+json": {
       "version_major": 2,
       "version_minor": 0,
       "model_id": "afc750d859e0404f8df639a1ae3db22f"
      }
     },
     "metadata": {},
     "output_type": "display_data",
     "jetTransient": {
      "display_id": null
     }
    },
    {
     "data": {
      "text/plain": [
       "Training batches on cpu:   0%|          | 0.00/129 [00:00<?, ?batch/s]"
      ],
      "application/vnd.jupyter.widget-view+json": {
       "version_major": 2,
       "version_minor": 0,
       "model_id": "4d125f350865410086577e26cc7022a1"
      }
     },
     "metadata": {},
     "output_type": "display_data",
     "jetTransient": {
      "display_id": null
     }
    },
    {
     "data": {
      "text/plain": [
       "Training batches on cpu:   0%|          | 0.00/129 [00:00<?, ?batch/s]"
      ],
      "application/vnd.jupyter.widget-view+json": {
       "version_major": 2,
       "version_minor": 0,
       "model_id": "f686620439e145a9877a1a17ff9ab4a1"
      }
     },
     "metadata": {},
     "output_type": "display_data",
     "jetTransient": {
      "display_id": null
     }
    },
    {
     "data": {
      "text/plain": [
       "Training batches on cpu:   0%|          | 0.00/129 [00:00<?, ?batch/s]"
      ],
      "application/vnd.jupyter.widget-view+json": {
       "version_major": 2,
       "version_minor": 0,
       "model_id": "15245b357e7249629529ddc8df36557e"
      }
     },
     "metadata": {},
     "output_type": "display_data",
     "jetTransient": {
      "display_id": null
     }
    },
    {
     "data": {
      "text/plain": [
       "Training batches on cpu:   0%|          | 0.00/129 [00:00<?, ?batch/s]"
      ],
      "application/vnd.jupyter.widget-view+json": {
       "version_major": 2,
       "version_minor": 0,
       "model_id": "f0b87b7395e745c89c32d4e93b6f15cd"
      }
     },
     "metadata": {},
     "output_type": "display_data",
     "jetTransient": {
      "display_id": null
     }
    },
    {
     "data": {
      "text/plain": [
       "Training batches on cpu:   0%|          | 0.00/129 [00:00<?, ?batch/s]"
      ],
      "application/vnd.jupyter.widget-view+json": {
       "version_major": 2,
       "version_minor": 0,
       "model_id": "6fa3b4b8fa094610bc37197fb1a5c10c"
      }
     },
     "metadata": {},
     "output_type": "display_data",
     "jetTransient": {
      "display_id": null
     }
    },
    {
     "data": {
      "text/plain": [
       "Training batches on cpu:   0%|          | 0.00/129 [00:00<?, ?batch/s]"
      ],
      "application/vnd.jupyter.widget-view+json": {
       "version_major": 2,
       "version_minor": 0,
       "model_id": "58b1971563fe4ee48f5d74fadab21fce"
      }
     },
     "metadata": {},
     "output_type": "display_data",
     "jetTransient": {
      "display_id": null
     }
    },
    {
     "data": {
      "text/plain": [
       "Training batches on cpu:   0%|          | 0.00/129 [00:00<?, ?batch/s]"
      ],
      "application/vnd.jupyter.widget-view+json": {
       "version_major": 2,
       "version_minor": 0,
       "model_id": "5ff1ff97521f4aaf9c2580e24f56a86d"
      }
     },
     "metadata": {},
     "output_type": "display_data",
     "jetTransient": {
      "display_id": null
     }
    },
    {
     "data": {
      "text/plain": [
       "Training batches on cpu:   0%|          | 0.00/129 [00:00<?, ?batch/s]"
      ],
      "application/vnd.jupyter.widget-view+json": {
       "version_major": 2,
       "version_minor": 0,
       "model_id": "75b86c5b2beb425aa3a23f5b18c7ef0d"
      }
     },
     "metadata": {},
     "output_type": "display_data",
     "jetTransient": {
      "display_id": null
     }
    },
    {
     "data": {
      "text/plain": [
       "Training batches on cpu:   0%|          | 0.00/129 [00:00<?, ?batch/s]"
      ],
      "application/vnd.jupyter.widget-view+json": {
       "version_major": 2,
       "version_minor": 0,
       "model_id": "d4348413aaef4b999547c7cb35e946e2"
      }
     },
     "metadata": {},
     "output_type": "display_data",
     "jetTransient": {
      "display_id": null
     }
    },
    {
     "data": {
      "text/plain": [
       "Training batches on cpu:   0%|          | 0.00/129 [00:00<?, ?batch/s]"
      ],
      "application/vnd.jupyter.widget-view+json": {
       "version_major": 2,
       "version_minor": 0,
       "model_id": "6f321a1bcd3a48bcab27a5437908d396"
      }
     },
     "metadata": {},
     "output_type": "display_data",
     "jetTransient": {
      "display_id": null
     }
    },
    {
     "data": {
      "text/plain": [
       "Training batches on cpu:   0%|          | 0.00/129 [00:00<?, ?batch/s]"
      ],
      "application/vnd.jupyter.widget-view+json": {
       "version_major": 2,
       "version_minor": 0,
       "model_id": "8ff7abef6eb3466fab0e63bed8843610"
      }
     },
     "metadata": {},
     "output_type": "display_data",
     "jetTransient": {
      "display_id": null
     }
    },
    {
     "data": {
      "text/plain": [
       "Training batches on cpu:   0%|          | 0.00/129 [00:00<?, ?batch/s]"
      ],
      "application/vnd.jupyter.widget-view+json": {
       "version_major": 2,
       "version_minor": 0,
       "model_id": "17a9c3a5d4fa4b0f81bb55400ee0adc7"
      }
     },
     "metadata": {},
     "output_type": "display_data",
     "jetTransient": {
      "display_id": null
     }
    },
    {
     "data": {
      "text/plain": [
       "Training batches on cpu:   0%|          | 0.00/129 [00:00<?, ?batch/s]"
      ],
      "application/vnd.jupyter.widget-view+json": {
       "version_major": 2,
       "version_minor": 0,
       "model_id": "1334e92fe25941cc9daff2ac13dec865"
      }
     },
     "metadata": {},
     "output_type": "display_data",
     "jetTransient": {
      "display_id": null
     }
    },
    {
     "data": {
      "text/plain": [
       "Training batches on cpu:   0%|          | 0.00/129 [00:00<?, ?batch/s]"
      ],
      "application/vnd.jupyter.widget-view+json": {
       "version_major": 2,
       "version_minor": 0,
       "model_id": "55961feb1ec244dba2214ade538c1bb4"
      }
     },
     "metadata": {},
     "output_type": "display_data",
     "jetTransient": {
      "display_id": null
     }
    },
    {
     "data": {
      "text/plain": [
       "Training batches on cpu:   0%|          | 0.00/129 [00:00<?, ?batch/s]"
      ],
      "application/vnd.jupyter.widget-view+json": {
       "version_major": 2,
       "version_minor": 0,
       "model_id": "4e706ff8b0eb4ad4bc130e4674bba344"
      }
     },
     "metadata": {},
     "output_type": "display_data",
     "jetTransient": {
      "display_id": null
     }
    },
    {
     "data": {
      "text/plain": [
       "Training batches on cpu:   0%|          | 0.00/129 [00:00<?, ?batch/s]"
      ],
      "application/vnd.jupyter.widget-view+json": {
       "version_major": 2,
       "version_minor": 0,
       "model_id": "a79e3f58c54741db8b916f76b1719aa1"
      }
     },
     "metadata": {},
     "output_type": "display_data",
     "jetTransient": {
      "display_id": null
     }
    },
    {
     "data": {
      "text/plain": [
       "Training batches on cpu:   0%|          | 0.00/129 [00:00<?, ?batch/s]"
      ],
      "application/vnd.jupyter.widget-view+json": {
       "version_major": 2,
       "version_minor": 0,
       "model_id": "cb3a9b3fd7104e88a34b3d6e5f5af899"
      }
     },
     "metadata": {},
     "output_type": "display_data",
     "jetTransient": {
      "display_id": null
     }
    },
    {
     "data": {
      "text/plain": [
       "Training batches on cpu:   0%|          | 0.00/129 [00:00<?, ?batch/s]"
      ],
      "application/vnd.jupyter.widget-view+json": {
       "version_major": 2,
       "version_minor": 0,
       "model_id": "af8a629c9a92426091b4eae876bd0772"
      }
     },
     "metadata": {},
     "output_type": "display_data",
     "jetTransient": {
      "display_id": null
     }
    },
    {
     "data": {
      "text/plain": [
       "Training batches on cpu:   0%|          | 0.00/129 [00:00<?, ?batch/s]"
      ],
      "application/vnd.jupyter.widget-view+json": {
       "version_major": 2,
       "version_minor": 0,
       "model_id": "f5025290968d4c27801847325e1e0c1d"
      }
     },
     "metadata": {},
     "output_type": "display_data",
     "jetTransient": {
      "display_id": null
     }
    },
    {
     "data": {
      "text/plain": [
       "Training batches on cpu:   0%|          | 0.00/129 [00:00<?, ?batch/s]"
      ],
      "application/vnd.jupyter.widget-view+json": {
       "version_major": 2,
       "version_minor": 0,
       "model_id": "73994e44a0cd47dcaee9926cceb58609"
      }
     },
     "metadata": {},
     "output_type": "display_data",
     "jetTransient": {
      "display_id": null
     }
    },
    {
     "data": {
      "text/plain": [
       "Training batches on cpu:   0%|          | 0.00/129 [00:00<?, ?batch/s]"
      ],
      "application/vnd.jupyter.widget-view+json": {
       "version_major": 2,
       "version_minor": 0,
       "model_id": "2c315aa2a7af40c28244fab531107487"
      }
     },
     "metadata": {},
     "output_type": "display_data",
     "jetTransient": {
      "display_id": null
     }
    },
    {
     "data": {
      "text/plain": [
       "Training batches on cpu:   0%|          | 0.00/129 [00:00<?, ?batch/s]"
      ],
      "application/vnd.jupyter.widget-view+json": {
       "version_major": 2,
       "version_minor": 0,
       "model_id": "2de29c45f70a49d1921030ac0491b338"
      }
     },
     "metadata": {},
     "output_type": "display_data",
     "jetTransient": {
      "display_id": null
     }
    },
    {
     "data": {
      "text/plain": [
       "Training batches on cpu:   0%|          | 0.00/129 [00:00<?, ?batch/s]"
      ],
      "application/vnd.jupyter.widget-view+json": {
       "version_major": 2,
       "version_minor": 0,
       "model_id": "f1b08af4c98f4468bbcb0192ab97fe16"
      }
     },
     "metadata": {},
     "output_type": "display_data",
     "jetTransient": {
      "display_id": null
     }
    },
    {
     "data": {
      "text/plain": [
       "Training batches on cpu:   0%|          | 0.00/129 [00:00<?, ?batch/s]"
      ],
      "application/vnd.jupyter.widget-view+json": {
       "version_major": 2,
       "version_minor": 0,
       "model_id": "6167e64751024211ace8b08777d1da33"
      }
     },
     "metadata": {},
     "output_type": "display_data",
     "jetTransient": {
      "display_id": null
     }
    },
    {
     "data": {
      "text/plain": [
       "Training batches on cpu:   0%|          | 0.00/129 [00:00<?, ?batch/s]"
      ],
      "application/vnd.jupyter.widget-view+json": {
       "version_major": 2,
       "version_minor": 0,
       "model_id": "458f5e8e70c84a77aed970b8a95ce4b6"
      }
     },
     "metadata": {},
     "output_type": "display_data",
     "jetTransient": {
      "display_id": null
     }
    },
    {
     "data": {
      "text/plain": [
       "Training batches on cpu:   0%|          | 0.00/129 [00:00<?, ?batch/s]"
      ],
      "application/vnd.jupyter.widget-view+json": {
       "version_major": 2,
       "version_minor": 0,
       "model_id": "eee0d190cdd446f5a7a96c373ecc6ca6"
      }
     },
     "metadata": {},
     "output_type": "display_data",
     "jetTransient": {
      "display_id": null
     }
    },
    {
     "data": {
      "text/plain": [
       "Training batches on cpu:   0%|          | 0.00/129 [00:00<?, ?batch/s]"
      ],
      "application/vnd.jupyter.widget-view+json": {
       "version_major": 2,
       "version_minor": 0,
       "model_id": "8d6515a6fa834c20993ce6d7db0758c2"
      }
     },
     "metadata": {},
     "output_type": "display_data",
     "jetTransient": {
      "display_id": null
     }
    },
    {
     "data": {
      "text/plain": [
       "Training batches on cpu:   0%|          | 0.00/129 [00:00<?, ?batch/s]"
      ],
      "application/vnd.jupyter.widget-view+json": {
       "version_major": 2,
       "version_minor": 0,
       "model_id": "dfe3d44354f24bbfb6ec72e36449015f"
      }
     },
     "metadata": {},
     "output_type": "display_data",
     "jetTransient": {
      "display_id": null
     }
    },
    {
     "data": {
      "text/plain": [
       "Training batches on cpu:   0%|          | 0.00/129 [00:00<?, ?batch/s]"
      ],
      "application/vnd.jupyter.widget-view+json": {
       "version_major": 2,
       "version_minor": 0,
       "model_id": "d175c3a6c58745868838b26c43d312ae"
      }
     },
     "metadata": {},
     "output_type": "display_data",
     "jetTransient": {
      "display_id": null
     }
    },
    {
     "data": {
      "text/plain": [
       "Training batches on cpu:   0%|          | 0.00/129 [00:00<?, ?batch/s]"
      ],
      "application/vnd.jupyter.widget-view+json": {
       "version_major": 2,
       "version_minor": 0,
       "model_id": "68ebe60b6d9c49fca25898d6bbad0daf"
      }
     },
     "metadata": {},
     "output_type": "display_data",
     "jetTransient": {
      "display_id": null
     }
    },
    {
     "data": {
      "text/plain": [
       "Training batches on cpu:   0%|          | 0.00/129 [00:00<?, ?batch/s]"
      ],
      "application/vnd.jupyter.widget-view+json": {
       "version_major": 2,
       "version_minor": 0,
       "model_id": "019aacab180b472a856d4c9ddcc51f32"
      }
     },
     "metadata": {},
     "output_type": "display_data",
     "jetTransient": {
      "display_id": null
     }
    },
    {
     "data": {
      "text/plain": [
       "Training batches on cpu:   0%|          | 0.00/129 [00:00<?, ?batch/s]"
      ],
      "application/vnd.jupyter.widget-view+json": {
       "version_major": 2,
       "version_minor": 0,
       "model_id": "cf41ee78cd6349e6822a5c7c21ae340e"
      }
     },
     "metadata": {},
     "output_type": "display_data",
     "jetTransient": {
      "display_id": null
     }
    },
    {
     "data": {
      "text/plain": [
       "Training batches on cpu:   0%|          | 0.00/129 [00:00<?, ?batch/s]"
      ],
      "application/vnd.jupyter.widget-view+json": {
       "version_major": 2,
       "version_minor": 0,
       "model_id": "17323c55ab0e43e2bf39bc6cfe1e02bf"
      }
     },
     "metadata": {},
     "output_type": "display_data",
     "jetTransient": {
      "display_id": null
     }
    },
    {
     "data": {
      "text/plain": [
       "Training batches on cpu:   0%|          | 0.00/129 [00:00<?, ?batch/s]"
      ],
      "application/vnd.jupyter.widget-view+json": {
       "version_major": 2,
       "version_minor": 0,
       "model_id": "69c848b53d33466c9f28b3f91f9e6caf"
      }
     },
     "metadata": {},
     "output_type": "display_data",
     "jetTransient": {
      "display_id": null
     }
    },
    {
     "data": {
      "text/plain": [
       "Training batches on cpu:   0%|          | 0.00/129 [00:00<?, ?batch/s]"
      ],
      "application/vnd.jupyter.widget-view+json": {
       "version_major": 2,
       "version_minor": 0,
       "model_id": "0d2fa8612ba04e35a67237b25c5dd47f"
      }
     },
     "metadata": {},
     "output_type": "display_data",
     "jetTransient": {
      "display_id": null
     }
    },
    {
     "data": {
      "text/plain": [
       "Training batches on cpu:   0%|          | 0.00/129 [00:00<?, ?batch/s]"
      ],
      "application/vnd.jupyter.widget-view+json": {
       "version_major": 2,
       "version_minor": 0,
       "model_id": "3fedc08123ca405cbd2aae2ce6963976"
      }
     },
     "metadata": {},
     "output_type": "display_data",
     "jetTransient": {
      "display_id": null
     }
    },
    {
     "data": {
      "text/plain": [
       "Training batches on cpu:   0%|          | 0.00/129 [00:00<?, ?batch/s]"
      ],
      "application/vnd.jupyter.widget-view+json": {
       "version_major": 2,
       "version_minor": 0,
       "model_id": "d3813736110e4e40a917c6dd145eb441"
      }
     },
     "metadata": {},
     "output_type": "display_data",
     "jetTransient": {
      "display_id": null
     }
    },
    {
     "data": {
      "text/plain": [
       "Training batches on cpu:   0%|          | 0.00/129 [00:00<?, ?batch/s]"
      ],
      "application/vnd.jupyter.widget-view+json": {
       "version_major": 2,
       "version_minor": 0,
       "model_id": "6522368853d14d33a28e5011b457f854"
      }
     },
     "metadata": {},
     "output_type": "display_data",
     "jetTransient": {
      "display_id": null
     }
    },
    {
     "data": {
      "text/plain": [
       "Training batches on cpu:   0%|          | 0.00/129 [00:00<?, ?batch/s]"
      ],
      "application/vnd.jupyter.widget-view+json": {
       "version_major": 2,
       "version_minor": 0,
       "model_id": "25a2e56a204e49a49b47166993e1ddf5"
      }
     },
     "metadata": {},
     "output_type": "display_data",
     "jetTransient": {
      "display_id": null
     }
    },
    {
     "data": {
      "text/plain": [
       "Training batches on cpu:   0%|          | 0.00/129 [00:00<?, ?batch/s]"
      ],
      "application/vnd.jupyter.widget-view+json": {
       "version_major": 2,
       "version_minor": 0,
       "model_id": "334f6b23e73e4efe8811f7848c3a7ffd"
      }
     },
     "metadata": {},
     "output_type": "display_data",
     "jetTransient": {
      "display_id": null
     }
    },
    {
     "data": {
      "text/plain": [
       "Training batches on cpu:   0%|          | 0.00/129 [00:00<?, ?batch/s]"
      ],
      "application/vnd.jupyter.widget-view+json": {
       "version_major": 2,
       "version_minor": 0,
       "model_id": "59d18b2702f644199852964c70d91a72"
      }
     },
     "metadata": {},
     "output_type": "display_data",
     "jetTransient": {
      "display_id": null
     }
    },
    {
     "data": {
      "text/plain": [
       "Training batches on cpu:   0%|          | 0.00/129 [00:00<?, ?batch/s]"
      ],
      "application/vnd.jupyter.widget-view+json": {
       "version_major": 2,
       "version_minor": 0,
       "model_id": "e49dd7217bdb42b3a95881c77d4d7cc5"
      }
     },
     "metadata": {},
     "output_type": "display_data",
     "jetTransient": {
      "display_id": null
     }
    },
    {
     "data": {
      "text/plain": [
       "Training batches on cpu:   0%|          | 0.00/129 [00:00<?, ?batch/s]"
      ],
      "application/vnd.jupyter.widget-view+json": {
       "version_major": 2,
       "version_minor": 0,
       "model_id": "55ad693b47ea436c9f656ec32efd6d42"
      }
     },
     "metadata": {},
     "output_type": "display_data",
     "jetTransient": {
      "display_id": null
     }
    },
    {
     "data": {
      "text/plain": [
       "Training batches on cpu:   0%|          | 0.00/129 [00:00<?, ?batch/s]"
      ],
      "application/vnd.jupyter.widget-view+json": {
       "version_major": 2,
       "version_minor": 0,
       "model_id": "bb6bb3728ea74be684ababa145496058"
      }
     },
     "metadata": {},
     "output_type": "display_data",
     "jetTransient": {
      "display_id": null
     }
    },
    {
     "data": {
      "text/plain": [
       "Training batches on cpu:   0%|          | 0.00/129 [00:00<?, ?batch/s]"
      ],
      "application/vnd.jupyter.widget-view+json": {
       "version_major": 2,
       "version_minor": 0,
       "model_id": "ec11e7e06c4445448ffee01d4b401599"
      }
     },
     "metadata": {},
     "output_type": "display_data",
     "jetTransient": {
      "display_id": null
     }
    },
    {
     "data": {
      "text/plain": [
       "Training batches on cpu:   0%|          | 0.00/129 [00:00<?, ?batch/s]"
      ],
      "application/vnd.jupyter.widget-view+json": {
       "version_major": 2,
       "version_minor": 0,
       "model_id": "502f2ce11d5d4ff0a1fdf2d77215f5eb"
      }
     },
     "metadata": {},
     "output_type": "display_data",
     "jetTransient": {
      "display_id": null
     }
    },
    {
     "data": {
      "text/plain": [
       "Training batches on cpu:   0%|          | 0.00/129 [00:00<?, ?batch/s]"
      ],
      "application/vnd.jupyter.widget-view+json": {
       "version_major": 2,
       "version_minor": 0,
       "model_id": "0126e5559565450d997fefb25c95ad90"
      }
     },
     "metadata": {},
     "output_type": "display_data",
     "jetTransient": {
      "display_id": null
     }
    },
    {
     "data": {
      "text/plain": [
       "Training batches on cpu:   0%|          | 0.00/129 [00:00<?, ?batch/s]"
      ],
      "application/vnd.jupyter.widget-view+json": {
       "version_major": 2,
       "version_minor": 0,
       "model_id": "26583506810a41c191ee394e39011373"
      }
     },
     "metadata": {},
     "output_type": "display_data",
     "jetTransient": {
      "display_id": null
     }
    },
    {
     "data": {
      "text/plain": [
       "Training batches on cpu:   0%|          | 0.00/129 [00:00<?, ?batch/s]"
      ],
      "application/vnd.jupyter.widget-view+json": {
       "version_major": 2,
       "version_minor": 0,
       "model_id": "5c26aa9c4d2b46228b64686733784181"
      }
     },
     "metadata": {},
     "output_type": "display_data",
     "jetTransient": {
      "display_id": null
     }
    },
    {
     "data": {
      "text/plain": [
       "Training batches on cpu:   0%|          | 0.00/129 [00:00<?, ?batch/s]"
      ],
      "application/vnd.jupyter.widget-view+json": {
       "version_major": 2,
       "version_minor": 0,
       "model_id": "c9b56f89af3045b0b1179b50edd40fcd"
      }
     },
     "metadata": {},
     "output_type": "display_data",
     "jetTransient": {
      "display_id": null
     }
    },
    {
     "data": {
      "text/plain": [
       "Training batches on cpu:   0%|          | 0.00/129 [00:00<?, ?batch/s]"
      ],
      "application/vnd.jupyter.widget-view+json": {
       "version_major": 2,
       "version_minor": 0,
       "model_id": "88cd32e161fa47b8a4018536e7521c63"
      }
     },
     "metadata": {},
     "output_type": "display_data",
     "jetTransient": {
      "display_id": null
     }
    },
    {
     "data": {
      "text/plain": [
       "Training batches on cpu:   0%|          | 0.00/129 [00:00<?, ?batch/s]"
      ],
      "application/vnd.jupyter.widget-view+json": {
       "version_major": 2,
       "version_minor": 0,
       "model_id": "8df63aad251048c1923c52b1edc3f706"
      }
     },
     "metadata": {},
     "output_type": "display_data",
     "jetTransient": {
      "display_id": null
     }
    },
    {
     "data": {
      "text/plain": [
       "Training batches on cpu:   0%|          | 0.00/129 [00:00<?, ?batch/s]"
      ],
      "application/vnd.jupyter.widget-view+json": {
       "version_major": 2,
       "version_minor": 0,
       "model_id": "f390dcb4ac42451d916a3ffa15623d91"
      }
     },
     "metadata": {},
     "output_type": "display_data",
     "jetTransient": {
      "display_id": null
     }
    },
    {
     "data": {
      "text/plain": [
       "Training batches on cpu:   0%|          | 0.00/129 [00:00<?, ?batch/s]"
      ],
      "application/vnd.jupyter.widget-view+json": {
       "version_major": 2,
       "version_minor": 0,
       "model_id": "a160178250254b82b197a2d9e93e27da"
      }
     },
     "metadata": {},
     "output_type": "display_data",
     "jetTransient": {
      "display_id": null
     }
    },
    {
     "data": {
      "text/plain": [
       "Training batches on cpu:   0%|          | 0.00/129 [00:00<?, ?batch/s]"
      ],
      "application/vnd.jupyter.widget-view+json": {
       "version_major": 2,
       "version_minor": 0,
       "model_id": "13238e197f254098b6d1e5c481f4cd57"
      }
     },
     "metadata": {},
     "output_type": "display_data",
     "jetTransient": {
      "display_id": null
     }
    },
    {
     "data": {
      "text/plain": [
       "Training batches on cpu:   0%|          | 0.00/129 [00:00<?, ?batch/s]"
      ],
      "application/vnd.jupyter.widget-view+json": {
       "version_major": 2,
       "version_minor": 0,
       "model_id": "00e52000de4d4af2bc1b8a9944e4c35f"
      }
     },
     "metadata": {},
     "output_type": "display_data",
     "jetTransient": {
      "display_id": null
     }
    },
    {
     "data": {
      "text/plain": [
       "Training batches on cpu:   0%|          | 0.00/129 [00:00<?, ?batch/s]"
      ],
      "application/vnd.jupyter.widget-view+json": {
       "version_major": 2,
       "version_minor": 0,
       "model_id": "8953699c4d4a42e1a5a424e290069733"
      }
     },
     "metadata": {},
     "output_type": "display_data",
     "jetTransient": {
      "display_id": null
     }
    },
    {
     "data": {
      "text/plain": [
       "Training batches on cpu:   0%|          | 0.00/129 [00:00<?, ?batch/s]"
      ],
      "application/vnd.jupyter.widget-view+json": {
       "version_major": 2,
       "version_minor": 0,
       "model_id": "809269a5ecbe4c2186cd8d308ce7012e"
      }
     },
     "metadata": {},
     "output_type": "display_data",
     "jetTransient": {
      "display_id": null
     }
    },
    {
     "data": {
      "text/plain": [
       "Training batches on cpu:   0%|          | 0.00/129 [00:00<?, ?batch/s]"
      ],
      "application/vnd.jupyter.widget-view+json": {
       "version_major": 2,
       "version_minor": 0,
       "model_id": "90eb0ea8eae547f1865b1d76968f17cb"
      }
     },
     "metadata": {},
     "output_type": "display_data",
     "jetTransient": {
      "display_id": null
     }
    },
    {
     "data": {
      "text/plain": [
       "Training batches on cpu:   0%|          | 0.00/129 [00:00<?, ?batch/s]"
      ],
      "application/vnd.jupyter.widget-view+json": {
       "version_major": 2,
       "version_minor": 0,
       "model_id": "a8dc6a3f861d4b2883f016005e8dc541"
      }
     },
     "metadata": {},
     "output_type": "display_data",
     "jetTransient": {
      "display_id": null
     }
    },
    {
     "data": {
      "text/plain": [
       "Training batches on cpu:   0%|          | 0.00/129 [00:00<?, ?batch/s]"
      ],
      "application/vnd.jupyter.widget-view+json": {
       "version_major": 2,
       "version_minor": 0,
       "model_id": "ee5ef61880f44bd0a79a161fec33cffe"
      }
     },
     "metadata": {},
     "output_type": "display_data",
     "jetTransient": {
      "display_id": null
     }
    },
    {
     "data": {
      "text/plain": [
       "Training batches on cpu:   0%|          | 0.00/129 [00:00<?, ?batch/s]"
      ],
      "application/vnd.jupyter.widget-view+json": {
       "version_major": 2,
       "version_minor": 0,
       "model_id": "02d1a7cede284e24b15def3b3767172f"
      }
     },
     "metadata": {},
     "output_type": "display_data",
     "jetTransient": {
      "display_id": null
     }
    },
    {
     "data": {
      "text/plain": [
       "Training batches on cpu:   0%|          | 0.00/129 [00:00<?, ?batch/s]"
      ],
      "application/vnd.jupyter.widget-view+json": {
       "version_major": 2,
       "version_minor": 0,
       "model_id": "22fd7e7697874e9697c42a50a34d48ae"
      }
     },
     "metadata": {},
     "output_type": "display_data",
     "jetTransient": {
      "display_id": null
     }
    },
    {
     "data": {
      "text/plain": [
       "Training batches on cpu:   0%|          | 0.00/129 [00:00<?, ?batch/s]"
      ],
      "application/vnd.jupyter.widget-view+json": {
       "version_major": 2,
       "version_minor": 0,
       "model_id": "05ea2a1ce6e14585a30807fb9dea968d"
      }
     },
     "metadata": {},
     "output_type": "display_data",
     "jetTransient": {
      "display_id": null
     }
    },
    {
     "data": {
      "text/plain": [
       "Training batches on cpu:   0%|          | 0.00/129 [00:00<?, ?batch/s]"
      ],
      "application/vnd.jupyter.widget-view+json": {
       "version_major": 2,
       "version_minor": 0,
       "model_id": "16e7a06a6c6840a68bc2f64c9a59df69"
      }
     },
     "metadata": {},
     "output_type": "display_data",
     "jetTransient": {
      "display_id": null
     }
    },
    {
     "data": {
      "text/plain": [
       "Training batches on cpu:   0%|          | 0.00/129 [00:00<?, ?batch/s]"
      ],
      "application/vnd.jupyter.widget-view+json": {
       "version_major": 2,
       "version_minor": 0,
       "model_id": "59613574d2f145c299227d21ec65f127"
      }
     },
     "metadata": {},
     "output_type": "display_data",
     "jetTransient": {
      "display_id": null
     }
    },
    {
     "data": {
      "text/plain": [
       "Training batches on cpu:   0%|          | 0.00/129 [00:00<?, ?batch/s]"
      ],
      "application/vnd.jupyter.widget-view+json": {
       "version_major": 2,
       "version_minor": 0,
       "model_id": "f96cc1e977574d97abfa445eb7f558f5"
      }
     },
     "metadata": {},
     "output_type": "display_data",
     "jetTransient": {
      "display_id": null
     }
    },
    {
     "data": {
      "text/plain": [
       "Training batches on cpu:   0%|          | 0.00/129 [00:00<?, ?batch/s]"
      ],
      "application/vnd.jupyter.widget-view+json": {
       "version_major": 2,
       "version_minor": 0,
       "model_id": "18dc7e276a8e4b719ce8ab2b3c7e4ac7"
      }
     },
     "metadata": {},
     "output_type": "display_data",
     "jetTransient": {
      "display_id": null
     }
    },
    {
     "data": {
      "text/plain": [
       "Training batches on cpu:   0%|          | 0.00/129 [00:00<?, ?batch/s]"
      ],
      "application/vnd.jupyter.widget-view+json": {
       "version_major": 2,
       "version_minor": 0,
       "model_id": "d8747626616e48d3a0a3e15038e7f413"
      }
     },
     "metadata": {},
     "output_type": "display_data",
     "jetTransient": {
      "display_id": null
     }
    },
    {
     "data": {
      "text/plain": [
       "Training batches on cpu:   0%|          | 0.00/129 [00:00<?, ?batch/s]"
      ],
      "application/vnd.jupyter.widget-view+json": {
       "version_major": 2,
       "version_minor": 0,
       "model_id": "fc3925e049ae486c9aa59a3a7ebc2c77"
      }
     },
     "metadata": {},
     "output_type": "display_data",
     "jetTransient": {
      "display_id": null
     }
    },
    {
     "data": {
      "text/plain": [
       "Training batches on cpu:   0%|          | 0.00/129 [00:00<?, ?batch/s]"
      ],
      "application/vnd.jupyter.widget-view+json": {
       "version_major": 2,
       "version_minor": 0,
       "model_id": "252a3e53b8a04d8b94d6729b0e3756e1"
      }
     },
     "metadata": {},
     "output_type": "display_data",
     "jetTransient": {
      "display_id": null
     }
    },
    {
     "data": {
      "text/plain": [
       "Training batches on cpu:   0%|          | 0.00/129 [00:00<?, ?batch/s]"
      ],
      "application/vnd.jupyter.widget-view+json": {
       "version_major": 2,
       "version_minor": 0,
       "model_id": "85cab954c4074ed9933ee5e3e497f86c"
      }
     },
     "metadata": {},
     "output_type": "display_data",
     "jetTransient": {
      "display_id": null
     }
    },
    {
     "data": {
      "text/plain": [
       "Training batches on cpu:   0%|          | 0.00/129 [00:00<?, ?batch/s]"
      ],
      "application/vnd.jupyter.widget-view+json": {
       "version_major": 2,
       "version_minor": 0,
       "model_id": "bf2c9422387248709e6b801f90adfbf7"
      }
     },
     "metadata": {},
     "output_type": "display_data",
     "jetTransient": {
      "display_id": null
     }
    },
    {
     "data": {
      "text/plain": [
       "Training batches on cpu:   0%|          | 0.00/129 [00:00<?, ?batch/s]"
      ],
      "application/vnd.jupyter.widget-view+json": {
       "version_major": 2,
       "version_minor": 0,
       "model_id": "af814e85acca4a8fa9b98790ea3250d3"
      }
     },
     "metadata": {},
     "output_type": "display_data",
     "jetTransient": {
      "display_id": null
     }
    },
    {
     "data": {
      "text/plain": [
       "Training batches on cpu:   0%|          | 0.00/129 [00:00<?, ?batch/s]"
      ],
      "application/vnd.jupyter.widget-view+json": {
       "version_major": 2,
       "version_minor": 0,
       "model_id": "8aa0a2e1b1f047ed852971bc04d5cb16"
      }
     },
     "metadata": {},
     "output_type": "display_data",
     "jetTransient": {
      "display_id": null
     }
    },
    {
     "data": {
      "text/plain": [
       "Training batches on cpu:   0%|          | 0.00/129 [00:00<?, ?batch/s]"
      ],
      "application/vnd.jupyter.widget-view+json": {
       "version_major": 2,
       "version_minor": 0,
       "model_id": "6c0728ac1a514819bbf8108921fffbbd"
      }
     },
     "metadata": {},
     "output_type": "display_data",
     "jetTransient": {
      "display_id": null
     }
    },
    {
     "data": {
      "text/plain": [
       "Training batches on cpu:   0%|          | 0.00/129 [00:00<?, ?batch/s]"
      ],
      "application/vnd.jupyter.widget-view+json": {
       "version_major": 2,
       "version_minor": 0,
       "model_id": "319ea1dc2a8e49efa8c242a6e81fa1bf"
      }
     },
     "metadata": {},
     "output_type": "display_data",
     "jetTransient": {
      "display_id": null
     }
    },
    {
     "data": {
      "text/plain": [
       "Training batches on cpu:   0%|          | 0.00/129 [00:00<?, ?batch/s]"
      ],
      "application/vnd.jupyter.widget-view+json": {
       "version_major": 2,
       "version_minor": 0,
       "model_id": "d1e29baa44cd4f05977fba6d2181e28a"
      }
     },
     "metadata": {},
     "output_type": "display_data",
     "jetTransient": {
      "display_id": null
     }
    },
    {
     "data": {
      "text/plain": [
       "Training batches on cpu:   0%|          | 0.00/129 [00:00<?, ?batch/s]"
      ],
      "application/vnd.jupyter.widget-view+json": {
       "version_major": 2,
       "version_minor": 0,
       "model_id": "7c3db889286d4a1a8ffdbace59ebef80"
      }
     },
     "metadata": {},
     "output_type": "display_data",
     "jetTransient": {
      "display_id": null
     }
    },
    {
     "data": {
      "text/plain": [
       "Training batches on cpu:   0%|          | 0.00/129 [00:00<?, ?batch/s]"
      ],
      "application/vnd.jupyter.widget-view+json": {
       "version_major": 2,
       "version_minor": 0,
       "model_id": "240278d2ef614359a371b798432fa35f"
      }
     },
     "metadata": {},
     "output_type": "display_data",
     "jetTransient": {
      "display_id": null
     }
    },
    {
     "data": {
      "text/plain": [
       "Training batches on cpu:   0%|          | 0.00/129 [00:00<?, ?batch/s]"
      ],
      "application/vnd.jupyter.widget-view+json": {
       "version_major": 2,
       "version_minor": 0,
       "model_id": "465780ebf2454ca1b62baf3975938b17"
      }
     },
     "metadata": {},
     "output_type": "display_data",
     "jetTransient": {
      "display_id": null
     }
    },
    {
     "data": {
      "text/plain": [
       "Training batches on cpu:   0%|          | 0.00/129 [00:00<?, ?batch/s]"
      ],
      "application/vnd.jupyter.widget-view+json": {
       "version_major": 2,
       "version_minor": 0,
       "model_id": "76098251b8cf411aabd97589466f25a6"
      }
     },
     "metadata": {},
     "output_type": "display_data",
     "jetTransient": {
      "display_id": null
     }
    },
    {
     "data": {
      "text/plain": [
       "Training batches on cpu:   0%|          | 0.00/129 [00:00<?, ?batch/s]"
      ],
      "application/vnd.jupyter.widget-view+json": {
       "version_major": 2,
       "version_minor": 0,
       "model_id": "74f80d74a3f846eb94b0f5898a72cf81"
      }
     },
     "metadata": {},
     "output_type": "display_data",
     "jetTransient": {
      "display_id": null
     }
    },
    {
     "data": {
      "text/plain": [
       "Training batches on cpu:   0%|          | 0.00/129 [00:00<?, ?batch/s]"
      ],
      "application/vnd.jupyter.widget-view+json": {
       "version_major": 2,
       "version_minor": 0,
       "model_id": "07da9054f345422cb32063ffe8f591ec"
      }
     },
     "metadata": {},
     "output_type": "display_data",
     "jetTransient": {
      "display_id": null
     }
    },
    {
     "data": {
      "text/plain": [
       "Training batches on cpu:   0%|          | 0.00/129 [00:00<?, ?batch/s]"
      ],
      "application/vnd.jupyter.widget-view+json": {
       "version_major": 2,
       "version_minor": 0,
       "model_id": "1ea5ba3d096f40f79221ccc87f296981"
      }
     },
     "metadata": {},
     "output_type": "display_data",
     "jetTransient": {
      "display_id": null
     }
    },
    {
     "name": "stderr",
     "output_type": "stream",
     "text": [
      "WARNING:pykeen.utils:Using automatic batch size on device.type='cpu' can cause unexplained out-of-memory crashes. Therefore, we use a conservative small batch_size=32. Performance may be improved by explicitly specifying a larger batch size.\n"
     ]
    },
    {
     "data": {
      "text/plain": [
       "Evaluating on cpu:   0%|          | 0.00/8.23k [00:00<?, ?triple/s]"
      ],
      "application/vnd.jupyter.widget-view+json": {
       "version_major": 2,
       "version_minor": 0,
       "model_id": "aa0536c5551848f9abc4eb23062c3a10"
      }
     },
     "metadata": {},
     "output_type": "display_data",
     "jetTransient": {
      "display_id": null
     }
    },
    {
     "name": "stderr",
     "output_type": "stream",
     "text": [
      "WARNING:torch_max_mem.api:Encountered tensors on device_types={'cpu'} while only ['cuda'] are considered safe for automatic memory utilization maximization. This may lead to undocumented crashes (but can be safe, too).\n",
      "INFO:pykeen.evaluation.evaluator:Evaluation took 38.40s seconds\n"
     ]
    }
   ],
   "execution_count": 4
  },
  {
   "cell_type": "code",
   "id": "962408b0",
   "metadata": {
    "ExecuteTime": {
     "end_time": "2025-09-07T23:17:27.227130Z",
     "start_time": "2025-09-07T23:17:26.438062Z"
    }
   },
   "source": [
    "# Extract embeddings\n",
    "entity_rep = result.model.entity_representations[0]\n",
    "relation_rep = result.model.relation_representations[0]\n",
    "\n",
    "entity_embeds = entity_rep(torch.arange(tf.num_entities)).detach().cpu().numpy()\n",
    "relation_embeds = relation_rep(torch.arange(tf.num_relations)).detach().cpu().numpy()\n",
    "\n",
    "entity_df = pd.DataFrame(entity_embeds, index=tf.entity_labeling.label_to_id.keys())\n",
    "relation_df = pd.DataFrame(relation_embeds, index=tf.relation_labeling.label_to_id.keys())\n",
    "\n",
    "entity_df.to_csv(\"../data/kg/embeddings/entity_embeddings.csv\")\n",
    "relation_df.to_csv(\"../data/kg/embeddings/relation_embeddings.csv\")\n",
    "\n",
    "print(\"Entity embedding shape:\", entity_df.shape)\n",
    "print(\"Relation embedding shape:\", relation_df.shape)"
   ],
   "outputs": [
    {
     "name": "stdout",
     "output_type": "stream",
     "text": [
      "Entity embedding shape: (19880, 50)\n",
      "Relation embedding shape: (21, 50)\n"
     ]
    }
   ],
   "execution_count": 5
  },
  {
   "cell_type": "code",
   "id": "b6aa4e06",
   "metadata": {
    "ExecuteTime": {
     "end_time": "2025-09-07T23:17:32.079311Z",
     "start_time": "2025-09-07T23:17:32.013721Z"
    }
   },
   "source": [
    "# Parse ratings, likes, names from triples file for profile building\n",
    "triples_df = pd.read_csv(triples_path, sep='\\t', header=None, names=['head', 'relation', 'tail'])\n",
    "\n",
    "def parse_rating(v):\n",
    "    import re\n",
    "    m = re.match(r'personalVote_([0-9.]+)', str(v))\n",
    "    return float(m.group(1)) if m else None\n",
    "\n",
    "ratings = triples_df[triples_df['relation'] == 'schema:review']\n",
    "likes = triples_df[triples_df['relation'] == 'ex:liked']\n",
    "names = triples_df[triples_df['relation'] == 'schema:name']\n",
    "\n",
    "movie2rating = dict(zip(ratings['head'], ratings['tail'].map(parse_rating)))\n",
    "movie2liked = dict(zip(likes['head'], likes['tail'].map(lambda x: str(x).lower() == 'liked_yes')))\n",
    "id2name = dict(zip(names['head'], names['tail']))\n",
    "\n",
    "valid_ratings = [v for v in movie2rating.values() if v is not None]\n",
    "rmin, rmax = (min(valid_ratings), max(valid_ratings)) if valid_ratings else (0.0, 1.0)\n",
    "denom = (rmax - rmin) if rmax > rmin else 1.0\n",
    "\n",
    "def weight(movie, like_bonus=0.15):\n",
    "    r = movie2rating.get(movie)\n",
    "    if r is None: return 0.0\n",
    "    w = (r - rmin) / denom\n",
    "    if movie2liked.get(movie, False):\n",
    "        w += like_bonus\n",
    "    return max(0.0, w)\n",
    "\n",
    "weighted_vecs = []\n",
    "for movie in entity_df.index:\n",
    "    if movie in movie2rating and movie in entity_df.index:\n",
    "        w = weight(movie)\n",
    "        if w > 0:\n",
    "            weighted_vecs.append(w * entity_df.loc[movie].values)\n",
    "\n",
    "if not weighted_vecs:\n",
    "    raise RuntimeError(\"No weighted movies found. Check that your triples contain schema:review values.\")\n",
    "user_vec = np.mean(weighted_vecs, axis=0)\n",
    "user_vec = user_vec / (np.linalg.norm(user_vec) + 1e-12)\n",
    "print(\"User vector created. Norm:\", np.linalg.norm(user_vec))"
   ],
   "outputs": [
    {
     "name": "stdout",
     "output_type": "stream",
     "text": [
      "User vector created. Norm: 1.0\n"
     ]
    }
   ],
   "execution_count": 6
  },
  {
   "cell_type": "code",
   "id": "50999e85",
   "metadata": {
    "ExecuteTime": {
     "end_time": "2025-09-02T21:06:49.499771Z",
     "start_time": "2025-09-02T21:06:49.491482Z"
    }
   },
   "source": [
    "# Compose a new (unseen) movie embedding via TransE translations\n",
    "def translate_neighbor_to_movie(neighbor_id, relation_label):\n",
    "    if neighbor_id not in entity_df.index or relation_label not in relation_df.index:\n",
    "        return None\n",
    "    # TransE: movie + r ≈ neighbor  => movie ≈ neighbor - r\n",
    "    return entity_df.loc[neighbor_id].values - relation_df.loc[relation_label].values\n",
    "\n",
    "# Example inputs (replace with your own test)\n",
    "actors = [\"Joaqin Phoenix\", \"Charles Dance\"]\n",
    "directors = [\"James Cameron\"]\n",
    "genres = [\"Action\"]      # ensure your KG has an entity labeled 'Action'; else leave empty or adjust\n",
    "language = [\"en\"]        # ensure language token exists as an entity if you want to include it\n",
    "\n",
    "# Resolve names -> ids\n",
    "name2id = {v: k for k, v in id2name.items()}\n",
    "actor_ids = [name2id.get(n) for n in actors if name2id.get(n) in entity_df.index]\n",
    "director_ids = [name2id.get(n) for n in directors if name2id.get(n) in entity_df.index]\n",
    "genre_ids = [n for n in genres if n in entity_df.index]\n",
    "lang_ids = [n for n in language if n in entity_df.index]\n",
    "\n",
    "parts = []\n",
    "for aid in actor_ids:\n",
    "    v = translate_neighbor_to_movie(aid, \"schema:actor\")\n",
    "    if v is not None: parts.append(v)\n",
    "for did in director_ids:\n",
    "    v = translate_neighbor_to_movie(did, \"schema:director\")\n",
    "    if v is not None: parts.append(v)\n",
    "for gid in genre_ids:\n",
    "    v = translate_neighbor_to_movie(gid, \"schema:genre\")\n",
    "    if v is not None: parts.append(v)\n",
    "for lid in lang_ids:\n",
    "    v = translate_neighbor_to_movie(lid, \"ex:originalLanguage\")\n",
    "    if v is not None: parts.append(v)\n",
    "\n",
    "if not parts:\n",
    "    print(\"⚠️ No components found for the new movie. Check that the chosen names/labels exist in your KG.\")\n",
    "else:\n",
    "    new_movie_vec = np.mean(parts, axis=0)\n",
    "    new_movie_vec = new_movie_vec / (np.linalg.norm(new_movie_vec) + 1e-12)\n",
    "    cosine = float(np.dot(user_vec, new_movie_vec))\n",
    "    print(f\"New movie similarity score: {cosine:.4f}\")"
   ],
   "outputs": [
    {
     "name": "stdout",
     "output_type": "stream",
     "text": [
      "New movie similarity score: 0.8937\n"
     ]
    }
   ],
   "execution_count": 14
  },
  {
   "metadata": {
    "ExecuteTime": {
     "end_time": "2025-09-07T23:17:41.091400Z",
     "start_time": "2025-09-07T23:17:41.046061Z"
    }
   },
   "cell_type": "code",
   "source": [
    "# 🔍 Automatically extract favorites from KG using rating-weighted frequency\n",
    "\n",
    "from collections import Counter\n",
    "\n",
    "# Load full triples if not already loaded\n",
    "if 'triples_df' not in locals():\n",
    "    triples_df = pd.read_csv(triples_path, sep='\\t', header=None, names=['head', 'relation', 'tail'])\n",
    "\n",
    "# --- QUICK FIX: enrich id2name with labels from the KG (covers genres) ---\n",
    "label_preds = {\"ex:name\", \"schema:name\", \"rdfs:label\"}\n",
    "label_map = (\n",
    "    triples_df[triples_df['relation'].isin(label_preds)]\n",
    "    .dropna(subset=['head','tail'])\n",
    "    .drop_duplicates(subset=['head'])\n",
    "    .set_index('head')['tail']\n",
    "    .to_dict()\n",
    ")\n",
    "# Merge into existing id2name if present, otherwise create it\n",
    "try:\n",
    "    id2name\n",
    "    id2name = {**label_map, **id2name}  # your custom names (right) win\n",
    "except NameError:\n",
    "    id2name = label_map\n",
    "# --- end quick fix ---\n",
    "\n",
    "# Get rated/liked movies with weight > 0\n",
    "relevant_movies = {m for m in movie2rating if weight(m) > 0.0}\n",
    "\n",
    "# Helper: count tail values linked to these movies by a relation\n",
    "def top_related_entities(relation, top_k=10):\n",
    "    related = triples_df[\n",
    "        (triples_df['relation'] == relation) &\n",
    "        (triples_df['head'].isin(relevant_movies))\n",
    "        ]['tail']\n",
    "    return Counter(related).most_common(top_k)\n",
    "\n",
    "# Top actors, directors, genres, and original languages\n",
    "top_actors = top_related_entities(\"schema:actor\", top_k=10)\n",
    "top_directors = top_related_entities(\"schema:director\", top_k=10)\n",
    "top_genres = top_related_entities(\"schema:genre\", top_k=5)\n",
    "top_langs = top_related_entities(\"ex:originalLanguage\", top_k=3)\n",
    "\n",
    "# Map IDs to readable names\n",
    "def display_top(counter_list):\n",
    "    return [(id2name.get(eid, eid), count) for eid, count in counter_list]\n",
    "\n",
    "print(\"🎭 Top actors:\")\n",
    "print(display_top(top_actors))\n",
    "print(\"\\n🎬 Top directors:\")\n",
    "print(display_top(top_directors))\n",
    "print(\"\\n🏷️ Top genres:\")\n",
    "print(display_top(top_genres))\n",
    "print(\"\\n🌍 Top languages:\")\n",
    "print(display_top(top_langs))"
   ],
   "id": "c0ce55b8d1061ab0",
   "outputs": [
    {
     "name": "stdout",
     "output_type": "stream",
     "text": [
      "🎭 Top actors:\n",
      "[('Willem Dafoe', 10), ('Bill Murray', 9), ('Keanu Reeves', 7), ('Margot Robbie', 7), ('Jason Schwartzman', 7), ('J.K. Simmons', 7), ('Laurence Fishburne', 6), ('Sigourney Weaver', 6), ('Woody Harrelson', 6), ('Jeffrey Wright', 6)]\n",
      "\n",
      "🎬 Top directors:\n",
      "[('Wes Anderson', 11), ('David Lynch', 5), ('Quentin Tarantino', 5), ('Zack Snyder', 5), ('George Miller', 4), ('Hayao Miyazaki', 4), ('Gore Verbinski', 4), ('Bo Burnham', 4), ('Paul W. S. Anderson', 3), ('Dan Trachtenberg', 3)]\n",
      "\n",
      "🏷️ Top genres:\n",
      "[('Drama', 115), ('Comedy', 112), ('Adventure', 91), ('Action', 86), ('Science Fiction', 74)]\n",
      "\n",
      "🌍 Top languages:\n",
      "[('English', 270), ('Japanese', 8), ('German', 6)]\n"
     ]
    }
   ],
   "execution_count": 7
  },
  {
   "metadata": {},
   "cell_type": "code",
   "outputs": [],
   "execution_count": null,
   "source": [
    "'''\n",
    "The code in the previous cells is in big parts AI generated by the free and paid version of ChatGPT and was afterwards heavily adapted by me. Since it is not possible to accurately say which parts were originaly AI generated by wich promt, I have included all prompts that were used on this file here.\n",
    "These following prompts were used:\n",
    "\n",
    "\n",
    "    \"what i originally wanted to do was create new movie recommendations based on these data. can I do this, for example deriving info on liked actors/directors and applying this info to a new list on movies that is currently not in the data yet?\"\n",
    "\n",
    "\n",
    "    \"Lets start from scratch - having only my movie_kg_triples.tsv file, can you generate a script that uses PyKEEN for exactly the things your script did before? only now I want a Jupyter notebook file (.ipynb) that I can include in my project.\"\n",
    "\n",
    "    \"# 🔍 Automatically extract favorites from KG using rating-weighted frequency\n",
    "\n",
    "        from collections import Counter\n",
    "\n",
    "        # Load full triples if not already loaded\n",
    "        if 'triples_df' not in locals():\n",
    "            triples_df = pd.read_csv(triples_path, sep='\\t', header=None, names=['head', 'relation', 'tail'])\n",
    "\n",
    "        # Get rated/liked movies with weight > 0\n",
    "        relevant_movies = {m for m in movie2rating if weight(m) > 0.0}\n",
    "\n",
    "        # Helper: count tail values linked to these movies by a relation\n",
    "        def top_related_entities(relation, top_k=10):\n",
    "            related = triples_df[\n",
    "                (triples_df['relation'] == relation) &\n",
    "                (triples_df['head'].isin(relevant_movies))\n",
    "                ]['tail']\n",
    "            return Counter(related).most_common(top_k)\n",
    "\n",
    "        # Top actors, directors, genres, and original languages\n",
    "        top_actors = top_related_entities(\"schema:actor\", top_k=10)\n",
    "        top_directors = top_related_entities(\"schema:director\", top_k=10)\n",
    "        top_genres = top_related_entities(\"schema:genre\", top_k=5)\n",
    "        top_langs = top_related_entities(\"ex:originalLanguage\", top_k=3)\n",
    "\n",
    "        # Map IDs to readable names\n",
    "        def display_top(counter_list):\n",
    "            return [(id2name.get(eid, eid), count) for eid, count in counter_list]\n",
    "\n",
    "        print(\"🎭 Top actors:\")\n",
    "        print(display_top(top_actors))\n",
    "        print(\"\\n🎬 Top directors:\")\n",
    "        print(display_top(top_directors))\n",
    "        print(\"\\n🏷️ Top genres:\")\n",
    "        print(display_top(top_genres))\n",
    "        print(\"\\n🌍 Top languages:\")\n",
    "        print(display_top(top_langs))\n",
    "\n",
    "        this code works on this file: movie_kg_triples.tsv\n",
    "\n",
    "        🎭 Top actors:\n",
    "        [('Willem Dafoe', 10), ('Bill Murray', 9), ('Keanu Reeves', 7), ('Margot Robbie', 7), ('Jason Schwartzman', 7), ('J.K. Simmons', 7), ('Sigourney Weaver', 6), ('Woody Harrelson', 6), ('Jeffrey Wright', 6), ('Stanley Tucci', 6)]\n",
    "\n",
    "        🎬 Top directors:\n",
    "        [('Wes Anderson', 11), ('David Lynch', 5), ('Quentin Tarantino', 5), ('Zack Snyder', 5), ('George Miller', 4), ('Hayao Miyazaki', 4), ('Gore Verbinski', 4), ('Bo Burnham', 4), ('Paul W. S. Anderson', 3), ('Dan Trachtenberg', 3)]\n",
    "\n",
    "        🏷️ Top genres:\n",
    "        [('genre18', 115), ('genre35', 112), ('genre12', 91), ('genre28', 86), ('genre878', 74)]\n",
    "\n",
    "        🌍 Top languages:\n",
    "        [('English', 270), ('Japanese', 8), ('German', 6)]\n",
    "\n",
    "        the output like this looks good, but i want the genres also connected to their names, which can be found in the triples.\"\n",
    "\n",
    "    \"# 🔍 Automatically extract favorites from KG using rating-weighted frequency\n",
    "\n",
    "        from collections import Counter\n",
    "\n",
    "        # Load full triples if not already loaded\n",
    "        if 'triples_df' not in locals():\n",
    "            triples_df = pd.read_csv(triples_path, sep='\\t', header=None, names=['head', 'relation', 'tail'])\n",
    "\n",
    "        # Get rated/liked movies with weight > 0\n",
    "        relevant_movies = {m for m in movie2rating if weight(m) > 0.0}\n",
    "\n",
    "        # Helper: count tail values linked to these movies by a relation\n",
    "        def top_related_entities(relation, top_k=10):\n",
    "            related = triples_df[\n",
    "                (triples_df['relation'] == relation) &\n",
    "                (triples_df['head'].isin(relevant_movies))\n",
    "                ]['tail']\n",
    "            return Counter(related).most_common(top_k)\n",
    "\n",
    "        # Top actors, directors, genres, and original languages\n",
    "        top_actors = top_related_entities(\"schema:actor\", top_k=10)\n",
    "        top_directors = top_related_entities(\"schema:director\", top_k=10)\n",
    "        top_genres = top_related_entities(\"schema:genre\", top_k=5)\n",
    "        top_langs = top_related_entities(\"ex:originalLanguage\", top_k=3)\n",
    "\n",
    "        # Map IDs to readable names\n",
    "        def display_top(counter_list):\n",
    "            return [(id2name.get(eid, eid), count) for eid, count in counter_list]\n",
    "\n",
    "        print(\"🎭 Top actors:\")\n",
    "        print(display_top(top_actors))\n",
    "        print(\"\\n🎬 Top directors:\")\n",
    "        print(display_top(top_directors))\n",
    "        print(\"\\n🏷️ Top genres:\")\n",
    "        print(display_top(top_genres))\n",
    "        print(\"\\n🌍 Top languages:\")\n",
    "        print(display_top(top_langs))\n",
    "\n",
    "        can you just include your quick fix in this code please\"\n",
    "\n",
    "\n",
    "'''"
   ],
   "id": "7bab530e42d19e24"
  }
 ],
 "metadata": {
  "kernelspec": {
   "name": "python3",
   "language": "python",
   "display_name": "Python 3 (ipykernel)"
  }
 },
 "nbformat": 4,
 "nbformat_minor": 5
}
